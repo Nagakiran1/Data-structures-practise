{
 "cells": [
  {
   "cell_type": "code",
   "execution_count": 1,
   "metadata": {},
   "outputs": [],
   "source": [
    "# Facebook Core values\n",
    "\n",
    "# 1 Be BOLD\n",
    "# 2 focus on impact\n",
    "# 3 move fast\n",
    "# 4 Be Open\n",
    "# 5 Build social value"
   ]
  },
  {
   "cell_type": "code",
   "execution_count": null,
   "metadata": {},
   "outputs": [],
   "source": [
    "# Python tricks\n",
    "\n",
    "#Dictionaries\n",
    "#Sort Dictionary\n",
    "sorted(d.items(), key=lambda x: x[1])\n",
    "points.sort(key = lambda P: P[0]**2 + P[1]**2)\n",
    "\n",
    "# MaxVal Key in dict\n",
    "Keymax = max(Tv, key=Tv.get)\n",
    "print(Keymax)\n",
    "\n",
    "\n",
    "# Minimum of Dictionary\n",
    "min(zip(od.values(), od.keys()))\n",
    "\n",
    "\n",
    "# Lists \n",
    "math.prod(list1)\n",
    "\n",
    "#Goup lists\n",
    "groups = set([i[0] for i in nodes]) \n",
    "node_list = [[i[2] for i in nodes if i[0]==grp] for grp in sorted(groups)]\n",
    "\n",
    "\n",
    "\n",
    "    \n",
    "recFun(grp)\n",
    "print(grp)\n",
    "te = recFun(grp)\n",
    "print(te, self.dict)\n",
    "te = recFun(te)\n",
    "print(te, self.dict)\n",
    "te = recFun(te)\n",
    "        \n",
    "\n",
    "# Strings \n",
    "# Replace Char in string by index\n",
    "i = 2\n",
    "te = org[:i-1]+org[i:]\n",
    "# Replace only one itre\n",
    "s.replace('Apple','',1)\n",
    "\n",
    "#Reverse String\n",
    "te[::-1]\n",
    "output = ''\n",
    "for i in s:\n",
    "    output = i + output\n",
    "\n",
    "\n",
    "# Sets\n",
    "a = set()\n",
    "# add elements to set\n",
    "a.add('naga')\n",
    "\n",
    "# Add 2 sets\n",
    "a.update(set([1,3]))\n",
    "\n",
    "\n",
    "# Remember\n",
    "# Recursion, Hashing, mapping"
   ]
  },
  {
   "cell_type": "code",
   "execution_count": null,
   "metadata": {},
   "outputs": [],
   "source": [
    "## Code Optimization techniques\n",
    "1 . Compile Time evaluation \n",
    "    a. Constant Folding:  \n",
    "        Evaluating the expression whose operands known\n",
    "        vals = val than exprssion \n",
    "        \n",
    "    b. Constant Propogations\n",
    "\n",
    "2. Common sum Expression elimination \n",
    "    a. Removing redundant expressions with functions. \n",
    "\n",
    "3. Strength reduction\n",
    "    Replace expresionns with more prioriy with less priority expressions \n",
    "    \n",
    "4. Code movement\n",
    "    move a block of code outside loop if it wont have importance\n",
    "\n",
    "5. Dead code elimination\n"
   ]
  },
  {
   "cell_type": "code",
   "execution_count": null,
   "metadata": {},
   "outputs": [],
   "source": [
    "Hash maps, heaps ,tries, graphs, Quicksort, Mergesort, Binary search, depth-first search, breadth0-first search"
   ]
  },
  {
   "cell_type": "code",
   "execution_count": null,
   "metadata": {},
   "outputs": [],
   "source": [
    "trees, lists, combinations, dynamic programming, parenthesis, tries, matrices, greedy search, parenthese (mintoadd, val==-1)"
   ]
  },
  {
   "cell_type": "code",
   "execution_count": null,
   "metadata": {},
   "outputs": [],
   "source": [
    "## Permutations, Difference Grouping, dp, Interval matching."
   ]
  },
  {
   "cell_type": "code",
   "execution_count": null,
   "metadata": {},
   "outputs": [],
   "source": [
    "Recursion - 25 -Tues - Come again\n",
    "Greedy Algorithms, - Geeks for geeks 26 \n",
    "Facebook questions  - 27\n",
    "CoderCup - Questions - 28 29\n",
    "Dynamic Programming ( longest inc path) - 30\n",
    "Revision -31, 1 ,2\n",
    "LinkedLists Practice, Trees -inOrderSuccessor"
   ]
  },
  {
   "cell_type": "code",
   "execution_count": null,
   "metadata": {},
   "outputs": [],
   "source": [
    "Dynamic Programming ,  \n",
    "    Find advantages of Dynamic programming over Recursions.\n",
    "        Less memory consumption ,fast\n",
    "Graphs \n",
    "Linked Lists\n",
    "Permutations"
   ]
  },
  {
   "cell_type": "code",
   "execution_count": null,
   "metadata": {},
   "outputs": [],
   "source": [
    "#List compression\n",
    "def recFun(grp):\n",
    "    if len(grp)==0:\n",
    "        return \n",
    "    temp = []\n",
    "    for i in range(len(grp)-1):\n",
    "        if grp[i].split(':')[1]=='start' and grp[i+1].split(':')[1]=='end':\n",
    "            dict1[grp[i].split(':')[0]] += (int(grp[i+1].split(':')[2]) - int(grp[i].split(':')[2]))\n",
    "            temp.extend(grp[i+2:])\n",
    "            #recFun(temp)\n",
    "            print(grp[i:i+2])\n",
    "        temp.append(grp[i])\n",
    "        \n",
    "        \n",
    "# Count MaxConsecutive\n",
    "sm = c[0]\n",
    "t = 0\n",
    "for i in range(len(c)):\n",
    "    if c[i]!=0:\n",
    "        t+=1\n",
    "        sm = max(t, sm)\n",
    "    else:\n",
    "        t=0"
   ]
  },
  {
   "cell_type": "code",
   "execution_count": 6,
   "metadata": {},
   "outputs": [
    {
     "name": "stdout",
     "output_type": "stream",
     "text": [
      "11000101\n",
      "10000010\n",
      "00000001\n"
     ]
    }
   ],
   "source": [
    "data = [235,140,4]\n",
    "data = [197,130,1]\n",
    "for d in data:\n",
    "    print(format(d,'#010b')[2:])"
   ]
  },
  {
   "cell_type": "code",
   "execution_count": 1,
   "metadata": {},
   "outputs": [
    {
     "data": {
      "text/plain": [
       "'00011100'"
      ]
     },
     "execution_count": 1,
     "metadata": {},
     "output_type": "execute_result"
    }
   ],
   "source": [
    "num=28\n",
    "bin_rep = format(num, '#010b')[-8:]\n",
    "bin_rep"
   ]
  },
  {
   "cell_type": "code",
   "execution_count": null,
   "metadata": {},
   "outputs": [],
   "source": [
    "## Problem- "
   ]
  },
  {
   "cell_type": "code",
   "execution_count": null,
   "metadata": {},
   "outputs": [],
   "source": [
    "class Solution:\n",
    "    def gcdOfStrings(self, str1: str, str2: str) -> str:\n",
    "\n",
    "        sml = min(str1,str2)\n",
    "        lrg = max(str1,str2)\n",
    "        substring = ''\n",
    "        for i in reversed(range(1,len(sml)+1)):\n",
    "            if len(sml)%i==0 and len(lrg)%i==0:\n",
    "                ls = set([lrg[j:j+i] for j in list(range(0,len(lrg),i))])\n",
    "                ms = set([sml[j:j+i] for j in list(range(0,len(sml),i))])\n",
    "                if len(ls)==len(ms)==1 and sml[:i] in lrg:\n",
    "                    substring=lrg[:i]\n",
    "                    break\n",
    "        return substring\n",
    "    \n",
    "    \n",
    "    \n",
    "                          \n",
    "Input: str1 = \"ABABAB\", str2 = \"ABAB\"\n",
    "Output: \"AB\"        "
   ]
  },
  {
   "cell_type": "markdown",
   "metadata": {},
   "source": [
    "\n",
    "## Remove invalied Parentheses\n",
    "https://leetcode.com/problems/remove-invalid-parentheses/\n"
   ]
  },
  {
   "cell_type": "code",
   "execution_count": null,
   "metadata": {},
   "outputs": [],
   "source": [
    "class Solution:\n",
    "    def removeInvalidParentheses(self, s: str) -> List[str]:\n",
    "        \n",
    "        \n",
    "        left = []\n",
    "        right = []\n",
    "        l = 0\n",
    "        r = 0\n",
    "        for ind, ch in enumerate(s):\n",
    "            if ch =='(':\n",
    "                left.append(ind)\n",
    "                l+=1\n",
    "            if ch==')':\n",
    "                right.append(ind)\n",
    "                if l>0:\n",
    "                    l-=1\n",
    "                else:\n",
    "                    r +=1\n",
    "        \n",
    "        excess =[]\n",
    "        while left and right and left[-1]>right[-1]:\n",
    "            excess.append(left.pop())\n",
    "            l-=1\n",
    "        while left and right and right[0]<left[0]:\n",
    "            excess.append(right.pop(0))\n",
    "            r-=1\n",
    "        \n",
    "        from itertools import combinations\n",
    "        combs = [x+y for x in combinations(left, l) for y in combinations(right,r)]\n",
    "        \n",
    "        def valid(s):\n",
    "            bal = 0\n",
    "            for i in s:\n",
    "                if i=='(':\n",
    "                    bal+=1\n",
    "                if i==')':\n",
    "                    bal-=1\n",
    "                    if bal<0:\n",
    "                        return False\n",
    "            return bal==0\n",
    "    \n",
    "        res = []\n",
    "        for c in combs:\n",
    "            s1 = [s[i] for i in range(len(s)) if i not in list(c)+excess]\n",
    "            if valid(s1) and ''.join(s1) not in res:\n",
    "                res.append(''.join(s1))\n",
    "        \n",
    "        return res"
   ]
  },
  {
   "cell_type": "code",
   "execution_count": null,
   "metadata": {},
   "outputs": [],
   "source": []
  },
  {
   "cell_type": "code",
   "execution_count": 246,
   "metadata": {},
   "outputs": [],
   "source": [
    "def delete_invalid_closing(string, open_symbol, close_symbol):\n",
    "    sb = []\n",
    "    balance = 0\n",
    "    for c in string: \n",
    "        if c == open_symbol:\n",
    "            balance += 1\n",
    "        if c == close_symbol:\n",
    "            if balance == 0:\n",
    "                continue\n",
    "            balance -= 1\n",
    "        sb.append(c)\n",
    "    return \"\".join(sb)"
   ]
  },
  {
   "cell_type": "code",
   "execution_count": 249,
   "metadata": {},
   "outputs": [
    {
     "name": "stdout",
     "output_type": "stream",
     "text": [
      "))((\n"
     ]
    },
    {
     "data": {
      "text/plain": [
       "'(('"
      ]
     },
     "execution_count": 249,
     "metadata": {},
     "output_type": "execute_result"
    }
   ],
   "source": [
    "print(s)\n",
    "# Note that s[::-1] gets the reverse of s.\n",
    "s = delete_invalid_closing(s, \"(\", \")\")\n",
    "s"
   ]
  },
  {
   "cell_type": "code",
   "execution_count": 378,
   "metadata": {},
   "outputs": [],
   "source": [
    "s = \"lee(t(c)o)de)\"\n",
    "# s = \"))((\"\n",
    "#s =  \"(a(b(c)d)\""
   ]
  },
  {
   "cell_type": "code",
   "execution_count": 379,
   "metadata": {},
   "outputs": [
    {
     "data": {
      "text/plain": [
       "'lee(t(c)o)de'"
      ]
     },
     "execution_count": 379,
     "metadata": {},
     "output_type": "execute_result"
    }
   ],
   "source": [
    "def RemoveTrailspaces(s, os, cs):\n",
    "    a = []\n",
    "    bal = 0\n",
    "    for i in s:\n",
    "        if i==os:\n",
    "            bal+=1\n",
    "        if i==cs:\n",
    "            if bal==0:\n",
    "                continue\n",
    "            bal-=1\n",
    "        a.append(i)\n",
    "    return ''.join(a)\n",
    "\n",
    "s = RemoveTrailspaces(s, '(',')')\n",
    "s = RemoveTrailspaces(s[::-1],')','(')\n",
    "s[::-1]"
   ]
  },
  {
   "cell_type": "code",
   "execution_count": 112,
   "metadata": {},
   "outputs": [],
   "source": [
    "a = [4,9,12,5,6]\n",
    "b = [4,9,12,6]\n",
    "x_sum = 0\n",
    "for i in a:\n",
    "    x_sum ^=i\n",
    "for i in b:\n",
    "    x_sum ^=i"
   ]
  },
  {
   "cell_type": "markdown",
   "metadata": {},
   "source": [
    "## Min remove Invalid parentheses\n",
    "https://leetcode.com/problems/minimum-add-to-make-parentheses-valid/submissions/"
   ]
  },
  {
   "cell_type": "code",
   "execution_count": 427,
   "metadata": {},
   "outputs": [],
   "source": [
    "class Solution:\n",
    "    def minAddToMakeValid(self, S: str) -> int:\n",
    "            \n",
    "        l=0\n",
    "        r=0\n",
    "        for ind, ch in enumerate(S):\n",
    "            if ch=='(':\n",
    "                l+=1\n",
    "            if ch==')':\n",
    "                if l>0:\n",
    "                    l-=1\n",
    "                else:\n",
    "                    r+=1\n",
    "        return r+l"
   ]
  },
  {
   "cell_type": "markdown",
   "metadata": {},
   "source": [
    "### Problem \n",
    "\n",
    "https://leetcode.com/problems/longest-valid-parentheses/submissions/"
   ]
  },
  {
   "cell_type": "code",
   "execution_count": null,
   "metadata": {},
   "outputs": [],
   "source": [
    "class Solution:\n",
    "    def longestValidParentheses(self, s: str) -> int:\n",
    "\n",
    "            \n",
    "        def RemoveStr(s, oc='(',sc=')'):\n",
    "            \n",
    "            r = 0\n",
    "            l = 0\n",
    "            mx = 0\n",
    "            for i in s:\n",
    "                if i==oc:\n",
    "                    l+=1\n",
    "                elif i==sc:\n",
    "                    r+=1\n",
    "                    \n",
    "                if l==r:\n",
    "                    mx = max(mx, l*2)\n",
    "                elif r>l:\n",
    "                    l = r = 0\n",
    "            \n",
    "            return mx\n",
    "        \n",
    "        a = RemoveStr(s, oc='(',sc=')')\n",
    "        b = RemoveStr(s[::-1], oc=')', sc='(')\n",
    "        return max(a,b)"
   ]
  },
  {
   "cell_type": "markdown",
   "metadata": {},
   "source": [
    "## Valid Parenthesis\n",
    "https://leetcode.com/problems/valid-parentheses/"
   ]
  },
  {
   "cell_type": "code",
   "execution_count": null,
   "metadata": {},
   "outputs": [],
   "source": [
    "class Solution:\n",
    "    def isValid(self, s: str) -> bool:\n",
    "        #opens = ['(','[','{']\n",
    "        char_dict = {')':'(',\n",
    "                     ']':'[',\n",
    "                     '}':'{'}\n",
    "        stack  = []\n",
    "        \n",
    "        for i in s:\n",
    "            if i in char_dict.values():\n",
    "                stack.append(i)\n",
    "            elif len(stack)>0 and stack[-1] == char_dict[i]:\n",
    "                stack.pop()\n",
    "            else:\n",
    "                return False\n",
    "        if len(stack)>0:\n",
    "            return False\n",
    "        \n",
    "        return True"
   ]
  },
  {
   "cell_type": "markdown",
   "metadata": {},
   "source": [
    "## Generate valid Parenthesis\n",
    "https://leetcode.com/problems/generate-parentheses\n"
   ]
  },
  {
   "cell_type": "code",
   "execution_count": 9,
   "metadata": {},
   "outputs": [
    {
     "data": {
      "text/plain": [
       "['()']"
      ]
     },
     "execution_count": 9,
     "metadata": {},
     "output_type": "execute_result"
    }
   ],
   "source": [
    "def valid(s):\n",
    "    val = 0\n",
    "    for i in s:\n",
    "        if i=='(':\n",
    "            val+=1\n",
    "        else:\n",
    "            val-=1\n",
    "            if val<0:\n",
    "                return False\n",
    "    return val==0\n",
    "n =1\n",
    "#a  =['(']*n+[')']*n\n",
    "a = '()'*n\n",
    "import itertools\n",
    "b = set(list(itertools.permutations(a)))\n",
    "[''.join(i) for i in b if valid(i)]"
   ]
  },
  {
   "cell_type": "markdown",
   "metadata": {},
   "source": [
    "## Valid Parenthesis String\n",
    "https://leetcode.com/problems/valid-parenthesis-string/"
   ]
  },
  {
   "cell_type": "code",
   "execution_count": 39,
   "metadata": {},
   "outputs": [],
   "source": [
    "s = \"(*))\""
   ]
  },
  {
   "cell_type": "code",
   "execution_count": 40,
   "metadata": {},
   "outputs": [
    {
     "name": "stdout",
     "output_type": "stream",
     "text": [
      "1\n",
      "0\n",
      "-1\n",
      "-1\n"
     ]
    }
   ],
   "source": [
    "# Logic \n",
    "# Come again  practice\n",
    "lo = hi = 0\n",
    "for c in s:\n",
    "    if c == \"(\":\n",
    "        lo += 1\n",
    "        hi += 1\n",
    "    elif c == \")\":\n",
    "        lo -= 1\n",
    "        hi -= 1\n",
    "    else:\n",
    "        lo -= 1\n",
    "        hi += 1\n",
    "    if hi < 0:\n",
    "        print( False)\n",
    "    print(lo)\n",
    "    lo = max(lo, 0)"
   ]
  },
  {
   "cell_type": "code",
   "execution_count": 47,
   "metadata": {},
   "outputs": [],
   "source": [
    "s =  \"(*))\""
   ]
  },
  {
   "cell_type": "code",
   "execution_count": 48,
   "metadata": {},
   "outputs": [],
   "source": [
    "lo, hi =0, 0\n",
    "for c in s:\n",
    "    if c=='(':\n",
    "        lo+=1\n",
    "        hi+=1\n",
    "    elif c==')':\n",
    "        lo-=1\n",
    "        hi-=1\n",
    "    else:\n",
    "        lo-=1\n",
    "        hi+=1\n",
    "    "
   ]
  },
  {
   "cell_type": "code",
   "execution_count": 181,
   "metadata": {},
   "outputs": [],
   "source": [
    "count = 0\n",
    "o = 0\n",
    "s = s.replace('))',']')\n",
    "for c in s:\n",
    "    if c == '(':\n",
    "        o+=1\n",
    "    else:\n",
    "        if c == ')':\n",
    "            count+=1\n",
    "        if o==0:\n",
    "            count+=1\n",
    "        else:\n",
    "            o-=1\n",
    "\n",
    "#return count+(2*o)"
   ]
  },
  {
   "cell_type": "code",
   "execution_count": null,
   "metadata": {},
   "outputs": [],
   "source": []
  },
  {
   "cell_type": "markdown",
   "metadata": {},
   "source": [
    "## Decode String\n",
    "https://leetcode.com/problems/decode-string/submissions/"
   ]
  },
  {
   "cell_type": "code",
   "execution_count": 662,
   "metadata": {},
   "outputs": [],
   "source": [
    "s = \"3[a]2[bc]\"\n",
    "s = \"100[leetcode]\"\n",
    "s1 = s.split('[')\n",
    "s1 = list(s)\n",
    "stack = []\n",
    "res = []\n",
    "i=0\n",
    "while len(s1)>0:\n",
    "    if s1[0]!=']':\n",
    "        stack.append(s1.pop(0))\n",
    "    else:\n",
    "        sub_string =[]\n",
    "        while stack[-1]!='[': \n",
    "            sub_string.append(stack.pop())\n",
    "        stack.pop()\n",
    "        num = []\n",
    "        while len(stack)>0 and stack[-1].isdigit():\n",
    "            num.append(stack.pop())\n",
    "        numeral = int(''.join(num)[::-1])\n",
    "        #numeral = stack.pop()\n",
    "        for i in range(int(numeral)):\n",
    "            stack.append(''.join(sub_string)[::-1])\n",
    "        s1.pop(0)\n",
    "    "
   ]
  },
  {
   "cell_type": "code",
   "execution_count": 75,
   "metadata": {},
   "outputs": [],
   "source": [
    "s = \"3[a]2[bc]\"\n",
    "\n",
    "s = \"3[a2[c]]\""
   ]
  },
  {
   "cell_type": "code",
   "execution_count": 105,
   "metadata": {},
   "outputs": [
    {
     "name": "stdout",
     "output_type": "stream",
     "text": [
      "['', 'a', 'c'] ['3', '2'] ]\n",
      "['', 'a'] ['3'] ]\n"
     ]
    }
   ],
   "source": [
    "# Come again\n",
    "bal = 0 \n",
    "strs= []\n",
    "digs = []\n",
    "dig = ''\n",
    "cur = ''\n",
    "res = ''\n",
    "for num in range(len(s)):\n",
    "    i = s[num]\n",
    "    if i=='[':\n",
    "        digs.append(dig)\n",
    "        dig = ''\n",
    "        cur = ''\n",
    "        bal+=1\n",
    "        continue\n",
    "    elif i==']':\n",
    "        if s[num-1]!=']':\n",
    "            strs.append(cur)\n",
    "        \n",
    "        print(strs, digs, i)\n",
    "        if digs[-1]!='':\n",
    "            prev += int(digs.pop())*strs.pop()\n",
    "        bal-=1\n",
    "    elif i.isdigit():\n",
    "        strs.append(cur)\n",
    "        dig+=i\n",
    "    else:\n",
    "        cur+=i\n",
    "    res +=prev"
   ]
  },
  {
   "cell_type": "code",
   "execution_count": 331,
   "metadata": {},
   "outputs": [],
   "source": [
    "s = \"3[a2[c]]\"\n",
    "s = \"3[a]2[bc]\""
   ]
  },
  {
   "cell_type": "code",
   "execution_count": 332,
   "metadata": {},
   "outputs": [],
   "source": []
  },
  {
   "cell_type": "code",
   "execution_count": 333,
   "metadata": {},
   "outputs": [
    {
     "data": {
      "text/plain": [
       "[0, 4, 9]"
      ]
     },
     "execution_count": 333,
     "metadata": {},
     "output_type": "execute_result"
    }
   ],
   "source": [
    "inds"
   ]
  },
  {
   "cell_type": "code",
   "execution_count": 352,
   "metadata": {},
   "outputs": [],
   "source": [
    "si = strs[0]"
   ]
  },
  {
   "cell_type": "code",
   "execution_count": 353,
   "metadata": {},
   "outputs": [],
   "source": []
  },
  {
   "cell_type": "code",
   "execution_count": 369,
   "metadata": {},
   "outputs": [],
   "source": [
    "# Come again\n",
    "def StringMul(si, v):\n",
    "    if si.count('[')==1:\n",
    "        \n",
    "        return int(v)*si\n",
    "    else:\n",
    "        inds = [0]\n",
    "        val = 0\n",
    "        for ind, i in enumerate(s):\n",
    "            if i=='[':\n",
    "                val+=1\n",
    "            if i==']':\n",
    "                val-=1\n",
    "                if val==0:\n",
    "                    inds.append(ind+1)\n",
    "        \n",
    "        if len(inds)==2:\n",
    "            v = int(si.split('[')[0])\n",
    "            si = '['+'['.join(si.split('[')[1:])\n",
    "        \n",
    "        strs = []\n",
    "        r = ''\n",
    "        print(inds, si[inds[0]:inds[1]])\n",
    "        return\n",
    "        for i in range(len(inds)-1):\n",
    "            v = int(si.split('[')[0])\n",
    "            si = '['+'['.join(si.split('[')[1:])\n",
    "            si = si[1:-1]\n",
    "            r+= StringMul(si[inds[i]: inds[i+1]], 1)\n",
    "        return r\n",
    "#             print(inds[i], inds[i+1])\n",
    "#             strs.append(s[inds[i]:inds[i+1]])"
   ]
  },
  {
   "cell_type": "code",
   "execution_count": 370,
   "metadata": {},
   "outputs": [
    {
     "name": "stdout",
     "output_type": "stream",
     "text": [
      "[0, 8] 3[a2[c]]\n"
     ]
    }
   ],
   "source": [
    "s = \"3[a]2[bc]\"\n",
    "s = \"3[a2[c]]\"\n",
    "StringMul(s)"
   ]
  },
  {
   "cell_type": "code",
   "execution_count": 357,
   "metadata": {},
   "outputs": [],
   "source": [
    "si = si[1:-1]\n"
   ]
  },
  {
   "cell_type": "code",
   "execution_count": 359,
   "metadata": {},
   "outputs": [
    {
     "data": {
      "text/plain": [
       "'aaa'"
      ]
     },
     "execution_count": 359,
     "metadata": {},
     "output_type": "execute_result"
    }
   ],
   "source": [
    "int(v)*si"
   ]
  },
  {
   "cell_type": "code",
   "execution_count": null,
   "metadata": {},
   "outputs": [],
   "source": [
    "def strMult(s, v):\n",
    "    if '[' not in s:\n",
    "        return v*s\n",
    "    "
   ]
  },
  {
   "cell_type": "code",
   "execution_count": null,
   "metadata": {},
   "outputs": [],
   "source": []
  },
  {
   "cell_type": "code",
   "execution_count": 52,
   "metadata": {},
   "outputs": [
    {
     "name": "stdout",
     "output_type": "stream",
     "text": [
      "(()() ()()\n",
      "(() ()\n"
     ]
    }
   ],
   "source": [
    "s = \"(()())(())\"\n",
    "#s = \"(()())(())(()(()))\"\n",
    "val =0\n",
    "res = []\n",
    "m = ''\n",
    "for ind,i in enumerate(s):\n",
    "    if i=='(':\n",
    "        val+=1\n",
    "    elif i==')':\n",
    "        val-=1\n",
    "        if val==0:\n",
    "            print(m,m[1:])\n",
    "            res.append(m[1:])\n",
    "            m=''\n",
    "            continue\n",
    "            \n",
    "    m+=i\n",
    "\n"
   ]
  },
  {
   "cell_type": "code",
   "execution_count": 53,
   "metadata": {},
   "outputs": [
    {
     "data": {
      "text/plain": [
       "'()()()'"
      ]
     },
     "execution_count": 53,
     "metadata": {},
     "output_type": "execute_result"
    }
   ],
   "source": [
    "''.join(res)"
   ]
  },
  {
   "cell_type": "code",
   "execution_count": 246,
   "metadata": {
    "scrolled": true
   },
   "outputs": [
    {
     "data": {
      "text/plain": [
       "['()()', '()', '()(())']"
      ]
     },
     "execution_count": 246,
     "metadata": {},
     "output_type": "execute_result"
    }
   ],
   "source": [
    "res"
   ]
  },
  {
   "cell_type": "code",
   "execution_count": 248,
   "metadata": {},
   "outputs": [],
   "source": [
    "piles = [3,6,7,11]\n",
    "h = 8"
   ]
  },
  {
   "cell_type": "code",
   "execution_count": 249,
   "metadata": {},
   "outputs": [],
   "source": [
    "k=3"
   ]
  },
  {
   "cell_type": "code",
   "execution_count": 258,
   "metadata": {},
   "outputs": [
    {
     "data": {
      "text/plain": [
       "2"
      ]
     },
     "execution_count": 258,
     "metadata": {},
     "output_type": "execute_result"
    }
   ],
   "source": [
    "6//3 + int(6%3!=0)"
   ]
  },
  {
   "cell_type": "markdown",
   "metadata": {},
   "source": [
    "https://leetcode.com/problems/koko-eating-bananas/"
   ]
  },
  {
   "cell_type": "code",
   "execution_count": null,
   "metadata": {},
   "outputs": [],
   "source": [
    "\n",
    "# Can Koko eat all bananas in H hours with eating speed K?\n",
    "def possible(K):\n",
    "    return sum((p-1) / K + 1 for p in piles) <= H\n",
    "\n",
    "lo, hi = 1, max(piles)\n",
    "while lo < hi:\n",
    "    mi = (lo + hi) / 2\n",
    "    if not possible(mi):\n",
    "        lo = mi + 1\n",
    "    else:\n",
    "        hi = mi\n"
   ]
  },
  {
   "cell_type": "markdown",
   "metadata": {},
   "source": [
    "### Maximum Value at a Given Index in a Bounded Array\n",
    "\n",
    "https://zxi.mytechroad.com/blog/algorithms/binary-search/leetcode-1802-maximum-value-at-a-given-index-in-a-bounded-array/\n"
   ]
  },
  {
   "cell_type": "code",
   "execution_count": 782,
   "metadata": {},
   "outputs": [
    {
     "name": "stdout",
     "output_type": "stream",
     "text": [
      "1\n",
      "22 1 [1]\n",
      "2\n",
      "20 3 [1, 2]\n",
      "2\n",
      "16 5 [1, 2, 3]\n",
      "2\n",
      "10 7 [1, 2, 3, 4]\n",
      "2\n",
      "2 9 [1, 2, 3, 4, 5]\n"
     ]
    }
   ],
   "source": [
    "# Approach change\n",
    "tree = max(index,n-index)\n",
    "tree1= min(index,n-index)\n",
    "ms = maxSum-n\n",
    "amt = ms\n",
    "bal = 0\n",
    "cnt=1\n",
    "b = []\n",
    "while(amt > bal):\n",
    "    \n",
    "    if cnt<tree1:\n",
    "        \n",
    "        amt = amt-(cnt + (cnt-1) +len(b) +1 -1)\n",
    "        bal = cnt + len(b)\n",
    "        \n",
    "        if cnt==1:\n",
    "            b.append(cnt)\n",
    "        else:\n",
    "            b.append(cnt)\n",
    "            b.append(cnt-1)\n",
    "        print(1)\n",
    "    else:\n",
    "        amt = amt - (cnt+len(b)-1) \n",
    "        bal = cnt + len(b)\n",
    "        b.append(cnt)\n",
    "        print(2)\n",
    "        \n",
    "    print(amt, bal, b)\n",
    "    cnt = cnt+1\n",
    "    if cnt>n:\n",
    "        break\n",
    "        \n",
    "b.append(0)\n",
    "if ms - sum(b)>n:\n",
    "    output =  (ms-sum(b))/n + max(b) + 1\n",
    "else:\n",
    "    output = max(b) +1"
   ]
  },
  {
   "cell_type": "markdown",
   "metadata": {},
   "source": [
    "## Problem - 2\n",
    "\n",
    "https://leetcode.com/problems/verifying-an-alien-dictionary/submissions/"
   ]
  },
  {
   "cell_type": "code",
   "execution_count": 947,
   "metadata": {},
   "outputs": [],
   "source": [
    "\n",
    "\n",
    "words= [\"apple\",\"app\"]\n",
    "order = \"abcdefghijklmnopqrstuvwxyz\"\n",
    "\n",
    "words =  [\"hello\",\"leetcode\"]\n",
    "order = \"hlabcdefgijkmnopqrstuvwxyz\"\n",
    "words = [\"word\",\"world\",\"row\"]\n",
    "order = \"worldabcefghijkmnpqstuvxyz\"\n",
    "od = dict(zip(order,range(len(order))))\n",
    "flag = True\n",
    "# for i in range(len(words)-1):\n",
    "#     a, b = words[i], words[i+1]\n",
    "#     for j in range(len(min(a,b))):\n",
    "#         if a[j]==b[j]:\n",
    "#             continue\n",
    "#         else:\n",
    "#             break\n",
    "\n",
    "#     if flag and len(b)<len(a) and a[:j+1]==b[:j+1]:\n",
    "#         flag=False\n",
    "#     if od[a[j]]>od[b[j]]:\n",
    "#         print('False given')\n",
    "#         flag=False\n",
    "#         break\n",
    "        \n",
    "class Solution:\n",
    "    def isAlienSorted(self, words: List[str], order: str) -> bool:\n",
    "        od = list(order)\n",
    "        \n",
    "        for i in range(len(words)-1):\n",
    "            c, n = words[i], words[i+1]\n",
    "            slc = len(min(c,n))\n",
    "            for i, j in zip(c[:slc], n[:slc]):\n",
    "                print(i,j, od.index(i), od.index(j))\n",
    "                if i==j:\n",
    "                    continue\n",
    "                elif od.index(i)<od.index(j):\n",
    "                    break\n",
    "                else:\n",
    "                    return False\n",
    "            if n[:slc]==c[:slc] and len(n)<len(c):\n",
    "                return False\n",
    "        \n",
    "        return True"
   ]
  },
  {
   "cell_type": "markdown",
   "metadata": {},
   "source": [
    "## Bold tag string\n",
    "https://leetcode.com/problems/add-bold-tag-in-string/"
   ]
  },
  {
   "cell_type": "code",
   "execution_count": 772,
   "metadata": {},
   "outputs": [],
   "source": [
    "s = \"abcxyz123\"\n",
    "d = [\"abc\",\"123\"]"
   ]
  },
  {
   "cell_type": "code",
   "execution_count": 760,
   "metadata": {},
   "outputs": [],
   "source": [
    "s = \"aaabbcc\"\n",
    "d = [\"aaa\",\"aab\",\"bc\"]"
   ]
  },
  {
   "cell_type": "code",
   "execution_count": 744,
   "metadata": {},
   "outputs": [],
   "source": [
    "s = \"abcxyz123\"\n",
    "d = [\"abc\",\"123\"]"
   ]
  },
  {
   "cell_type": "code",
   "execution_count": 773,
   "metadata": {},
   "outputs": [],
   "source": [
    "a = [len(i) for i in d]\n",
    "stack= ['']*(len(s)+1)\n",
    "stack = []\n",
    "for i in range(len(s)):\n",
    "    for j in range(min(a), max(a)+1):\n",
    "        if s[i:i+j] in d:\n",
    "            stack.append([i,i+j])\n",
    "#             stack[i]='('\n",
    "#             stack[i+j]=')'"
   ]
  },
  {
   "cell_type": "code",
   "execution_count": 58,
   "metadata": {},
   "outputs": [],
   "source": [
    "s = \"abcxyz123\"\n",
    "d = [\"abc\",\"123\"]\n",
    "stop = -1\n",
    "res = []\n",
    "for ind, c in enumerate(s):\n",
    "    if s[ind:ind+len(d[0])] in d:\n",
    "        if stop<ind:\n",
    "            res.append('<b>')\n",
    "        stop = ind+len(d[0])\n",
    "    if stop==ind:\n",
    "        res.append('</b>')\n",
    "        stop=-1\n",
    "    res.append(c)\n",
    "if stop>=len(s):\n",
    "    res.append('</b>')"
   ]
  },
  {
   "cell_type": "code",
   "execution_count": 59,
   "metadata": {},
   "outputs": [
    {
     "data": {
      "text/plain": [
       "'<b>abc</b>xyz<b>123</b>'"
      ]
     },
     "execution_count": 59,
     "metadata": {},
     "output_type": "execute_result"
    }
   ],
   "source": [
    "''.join(res)"
   ]
  },
  {
   "cell_type": "code",
   "execution_count": null,
   "metadata": {},
   "outputs": [],
   "source": [
    "# Come again\n",
    "def addBoldTag(self, s, dict):\n",
    "    res, close = [], -1\n",
    "    for i in range(len(s)):\n",
    "        for w in dict:\n",
    "            if s[i:i + len(w)] == w:\n",
    "                if close < 0: res.append(\"<b>\")\n",
    "                close = max(close, i + len(w))\n",
    "        if i == close: res.append(\"</b>\")\n",
    "        close = -1 if close == i else close \n",
    "        res.append(s[i])\n",
    "    return \"\".join(res + [\"</b>\" if len(s) == close else \"\"])"
   ]
  },
  {
   "cell_type": "code",
   "execution_count": 232,
   "metadata": {},
   "outputs": [],
   "source": [
    "switch = {0:1,1:0}\n",
    "l = [1,1,1]\n",
    "# if n==0:\n",
    "#     return 0\n",
    "if n==1:\n",
    "    sum(l)\n",
    "\n",
    "# for i in range(2,n):\n",
    "#     l[i%3] = switch[l[i%3]]"
   ]
  },
  {
   "cell_type": "markdown",
   "metadata": {},
   "source": [
    "## Letter Combinations\n",
    "https://leetcode.com/problems/letter-combinations-of-a-phone-number/"
   ]
  },
  {
   "cell_type": "code",
   "execution_count": null,
   "metadata": {},
   "outputs": [],
   "source": [
    "class Solution:\n",
    "    def letterCombinations(self, digits: str) -> List[str]:\n",
    "        di = dict(zip([str(i) for i in range(2,10)],['abc','def','ghi','jkl','mno','pqrs','tuv','wxyz']))\n",
    "        if len(digits)==0:\n",
    "            return []\n",
    "        res = ['']\n",
    "        for d in digits:\n",
    "            te =[]\n",
    "            for j in di[d]:\n",
    "                for k in res:\n",
    "                    te.append(k+j)\n",
    "            res.extend(te)\n",
    "        \n",
    "        res = [r for r in res if len(r)==len(digits)]\n",
    "        return res\n",
    "     \n",
    "        "
   ]
  },
  {
   "cell_type": "markdown",
   "metadata": {},
   "source": [
    "### List compression- Interval Merging"
   ]
  },
  {
   "cell_type": "code",
   "execution_count": 774,
   "metadata": {
    "scrolled": true
   },
   "outputs": [
    {
     "name": "stdout",
     "output_type": "stream",
     "text": [
      "[0, 3] 3 6\n",
      "[6, 9] 9 6\n"
     ]
    }
   ],
   "source": [
    "# i = 0\n",
    "# j = 1\n",
    "# cur = stack[i]\n",
    "# res = []\n",
    "# while j<len(stack) and i<len(stack):\n",
    "#     l1 = max(cur)\n",
    "#     l2 = min(stack[j])\n",
    "#     print(cur, l1, l2)\n",
    "#     if l1>=l2:\n",
    "#         cur = [min(cur), max(stack[j])]\n",
    "#         j = j+1\n",
    "#     else:\n",
    "#         res.append(cur)\n",
    "#         i +=1\n",
    "#         cur = stack[i] \n",
    "# res.append(cur)    \n",
    "\n",
    "\n",
    "res = []\n",
    "i = 1\n",
    "A = intervals[0]\n",
    "while 1:\n",
    "    if i>=len(intervals):\n",
    "        res.append([min(A[0],B[0]), max(A[1],B[1])])\n",
    "        break\n",
    "\n",
    "    B =intervals[i]\n",
    "    if A[1]>=B[0]:\n",
    "        A = [min(A[0],B[0]), max(A[1],B[1])]\n",
    "        i+=1\n",
    "    else:\n",
    "        res.append(A)\n",
    "        A = B\n",
    "        i+=1"
   ]
  },
  {
   "cell_type": "code",
   "execution_count": null,
   "metadata": {},
   "outputs": [],
   "source": [
    "## Distributes values\n",
    "def distributeSpaces(spaces, te_len):\n",
    "    sp = [spaces//te_len]*te_len\n",
    "    for i in range(spaces%te_len):\n",
    "        sp[i] +=1\n",
    "    return sp\n"
   ]
  },
  {
   "cell_type": "markdown",
   "metadata": {},
   "source": [
    "## insert interval\n",
    "https://leetcode.com/problems/insert-interval/"
   ]
  },
  {
   "cell_type": "code",
   "execution_count": 875,
   "metadata": {},
   "outputs": [
    {
     "name": "stdout",
     "output_type": "stream",
     "text": [
      "[1, 5] [2, 3]\n"
     ]
    }
   ],
   "source": [
    "class Solution:\n",
    "    def insert(self, intervals: List[List[int]], newInterval: List[int]) -> List[List[int]]:\n",
    "        if len(intervals)==0:\n",
    "            return [newInterval]\n",
    "        \n",
    "        intervals.append(newInterval)\n",
    "        intervals.sort(key= lambda x: x[0])\n",
    "        \n",
    "        res = []\n",
    "        i = 1\n",
    "        A = intervals[0]\n",
    "        while 1:\n",
    "            if i>=len(intervals):\n",
    "                res.append([min(A[0],B[0]), max(A[1],B[1])])\n",
    "                break\n",
    "                \n",
    "            B =intervals[i]\n",
    "            if A[1]>=B[0]:\n",
    "                A = [min(A[0],B[0]), max(A[1],B[1])]\n",
    "                i+=1\n",
    "            else:\n",
    "                res.append(A)\n",
    "                A = B\n",
    "                i+=1\n",
    "        return res\n",
    "            \n",
    "            "
   ]
  },
  {
   "cell_type": "code",
   "execution_count": 11,
   "metadata": {},
   "outputs": [
    {
     "name": "stdout",
     "output_type": "stream",
     "text": [
      "[[1, 2], [1, 3], [3, 4]] [2]\n"
     ]
    }
   ],
   "source": [
    "def MergeIntervals(li):\n",
    "    A = li[0]\n",
    "    i = 1\n",
    "    res = []\n",
    "    contributed = []\n",
    "    while 1:\n",
    "        B = li[i]\n",
    "\n",
    "        if A[1]>B[0]:\n",
    "            A = [min(A[0], B[0]), max(A[1], B[1])]\n",
    "            contributed.append(i)\n",
    "        else:\n",
    "            res.append(A)\n",
    "            A = B\n",
    "        i +=1\n",
    "        if i>=len(li):\n",
    "            res.append([min(A[0], B[0]), max(A[1], B[1])])\n",
    "\n",
    "            break\n",
    "\n",
    "    return res, contributed\n",
    "\n",
    "intervals = [[1,2],[2,3],[3,4],[1,3]]\n",
    "intervals.sort(key=lambda x:x[1])\n",
    "\n",
    "res, c = MergeIntervals(intervals)\n",
    "print(res, c)\n"
   ]
  },
  {
   "cell_type": "code",
   "execution_count": 10,
   "metadata": {},
   "outputs": [
    {
     "data": {
      "text/plain": [
       "[[1, 2], [2, 3], [1, 3], [3, 4]]"
      ]
     },
     "execution_count": 10,
     "metadata": {},
     "output_type": "execute_result"
    }
   ],
   "source": [
    "intervals"
   ]
  },
  {
   "cell_type": "code",
   "execution_count": 236,
   "metadata": {},
   "outputs": [
    {
     "data": {
      "text/plain": [
       "[0, 1, 0]"
      ]
     },
     "execution_count": 236,
     "metadata": {},
     "output_type": "execute_result"
    }
   ],
   "source": [
    "i=4\n",
    "l[i%3] = switch[l[i%3]]\n",
    "l"
   ]
  },
  {
   "cell_type": "markdown",
   "metadata": {},
   "source": [
    "## Merge Intervals -2\n",
    "\n",
    "https://leetcode.com/problems/employee-free-time/\n",
    "    "
   ]
  },
  {
   "cell_type": "code",
   "execution_count": 192,
   "metadata": {},
   "outputs": [],
   "source": [
    "schedule = [[[1,2],[5,6]],[[1,3]],[[4,10]]]\n",
    "\n",
    "schedule = sum(schedule, [])\n",
    "schedule.sort(key=lambda x: x[1])"
   ]
  },
  {
   "cell_type": "code",
   "execution_count": 202,
   "metadata": {},
   "outputs": [],
   "source": [
    "res = []\n",
    "\n",
    "A = schedule[0]\n",
    "i = 1\n",
    "while 1:\n",
    "    B = schedule[i]\n",
    "    \n",
    "    if A[1]>=B[0]:\n",
    "        A = [min(A[0], B[0]), max(A[1],B[1])]\n",
    "    else:\n",
    "        res.append(A)\n",
    "        A = B\n",
    "    i+=1\n",
    "    \n",
    "    if i>len(schedule)-1:\n",
    "        res.append([min(A[0],B[0]), max(A[1], B[1])])\n",
    "        break"
   ]
  },
  {
   "cell_type": "code",
   "execution_count": 204,
   "metadata": {},
   "outputs": [],
   "source": [
    "res1 = []\n",
    "for i in range(len(res)-1):\n",
    "    res1.append([res[i][1], res[i+1][0]])"
   ]
  },
  {
   "cell_type": "code",
   "execution_count": 65,
   "metadata": {},
   "outputs": [],
   "source": [
    "schedule = [[[1,2],[5,6]],[[1,3]],[[4,10]]]\n",
    "schedule = sum(schedule, [])\n",
    "schedule.sort(key=lambda x: x[0])"
   ]
  },
  {
   "cell_type": "code",
   "execution_count": 66,
   "metadata": {},
   "outputs": [],
   "source": [
    "i = 1\n",
    "A = schedule[0]\n",
    "B = schedule[1]\n",
    "res = []\n",
    "while True:\n",
    "    if A[1]>=B[0]:\n",
    "        A = [min(A[0],B[0]), max(A[1], B[1])]\n",
    "    else:\n",
    "        res.append(A)\n",
    "        A = B\n",
    "    i+=1\n",
    "    if i>=len(schedule):\n",
    "        break\n",
    "    B = schedule[i]\n",
    "res.append([min(A[0],B[0]), max(A[1], B[1])])"
   ]
  },
  {
   "cell_type": "code",
   "execution_count": 69,
   "metadata": {},
   "outputs": [
    {
     "data": {
      "text/plain": [
       "[[1, 3], [4, 10]]"
      ]
     },
     "execution_count": 69,
     "metadata": {},
     "output_type": "execute_result"
    }
   ],
   "source": [
    "res"
   ]
  },
  {
   "cell_type": "code",
   "execution_count": null,
   "metadata": {},
   "outputs": [],
   "source": []
  },
  {
   "cell_type": "markdown",
   "metadata": {},
   "source": [
    "## Problem -3\n",
    "\n",
    "https://leetcode.com/problems/k-closest-points-to-origin/"
   ]
  },
  {
   "cell_type": "code",
   "execution_count": 974,
   "metadata": {},
   "outputs": [
    {
     "name": "stdout",
     "output_type": "stream",
     "text": [
      "{0: 0, 1: 1}\n",
      "{0: 10, 1: 8}\n"
     ]
    },
    {
     "data": {
      "text/plain": [
       "[[-2, 2]]"
      ]
     },
     "execution_count": 974,
     "metadata": {},
     "output_type": "execute_result"
    }
   ],
   "source": [
    "#973. K Closest Points to Origin\n",
    "\n",
    "# \n",
    "\n",
    "points =  [[1,3],[-2,2]]\n",
    "od = dict(zip(range(len(points)),range(len(points))))\n",
    "print(od)\n",
    "for i,p in enumerate(points):\n",
    "    d = (p[0])**2 + p[1]**2\n",
    "    od[i] = d\n",
    "print(od)\n",
    "res = sorted(od.items(), key=lambda x: x[1])[:k]\n",
    "[points[i[0]] for i in res]"
   ]
  },
  {
   "cell_type": "markdown",
   "metadata": {},
   "source": [
    "\n",
    "## Problem -4\n",
    "\n",
    "https://leetcode.com/problems/valid-palindrome-ii/"
   ]
  },
  {
   "cell_type": "code",
   "execution_count": 1003,
   "metadata": {},
   "outputs": [
    {
     "name": "stdout",
     "output_type": "stream",
     "text": [
      "aca\n"
     ]
    }
   ],
   "source": [
    "#\n",
    "# 680. Valid Palindrome II\n",
    "\n",
    "s = \"abca\"\n",
    "\n",
    "# Just check by removing one by one characters\n",
    "\n",
    "for i in range(len(s)):\n",
    "    te = s[:i]+s[i+1:]\n",
    "    if te==te[::-1]:\n",
    "        break"
   ]
  },
  {
   "cell_type": "markdown",
   "metadata": {},
   "source": [
    "## Longest palindrome\n",
    "https://leetcode.com/problems/longest-palindromic-substring/\n",
    "    "
   ]
  },
  {
   "cell_type": "code",
   "execution_count": null,
   "metadata": {},
   "outputs": [],
   "source": [
    "class Solution:\n",
    "    def longestPalindrome(self, s: str) -> str:\n",
    "        mxword =''\n",
    "        for i in range(len(s)):\n",
    "            for j in reversed(range(i,len(s))):\n",
    "                print(i,j , s[i:j])\n",
    "                if len(mxword)>=j-i:\n",
    "                    break\n",
    "                if s[i:j]==s[i:j][::-1]:\n",
    "                    print(s[i:j])\n",
    "                    mxword = s[i:j]\n",
    "                    break\n",
    "        print(mx, mxword)\n",
    "        return mxword\n",
    "                        "
   ]
  },
  {
   "cell_type": "markdown",
   "metadata": {},
   "source": [
    "## Longest Unique String\n",
    "\n",
    "https://leetcode.com/problems/longest-substring-without-repeating-characters/submissions/"
   ]
  },
  {
   "cell_type": "code",
   "execution_count": null,
   "metadata": {},
   "outputs": [],
   "source": [
    "# remeber to start from last\n",
    "# come again\n",
    "class Solution:\n",
    "    def lengthOfLongestSubstring(self, s: str) -> int:\n",
    "        if len(s)==0:\n",
    "            return 0\n",
    "        \n",
    "        mw = 1\n",
    "        for i in range(len(s)):\n",
    "            for j in reversed(range(i, len(s))):\n",
    "                if j-i < mw:\n",
    "                    break\n",
    "                if len(set(list(s[i:j])))==(j-i):\n",
    "                    mw = max(mw,j-i)\n",
    "        \n",
    "\n",
    "        return mw\n",
    "    \n",
    "    "
   ]
  },
  {
   "cell_type": "code",
   "execution_count": 55,
   "metadata": {
    "scrolled": true
   },
   "outputs": [
    {
     "name": "stdout",
     "output_type": "stream",
     "text": [
      "f$axb$\n",
      "$ef$axb\n",
      "ef$axb$\n",
      "f$axb$c\n",
      "abcd$ef$\n",
      "bcd$ef$a\n",
      "d$ef$axb\n",
      "$ef$axb$\n",
      "ef$axb$c\n",
      "f$axb$c$\n",
      "abcd$ef$a\n",
      "bcd$ef$ax\n",
      "cd$ef$axb\n",
      "d$ef$axb$\n",
      "$ef$axb$c\n",
      "ef$axb$c$\n",
      "f$axb$c$\n",
      "abcd$ef$ax\n",
      "bcd$ef$axb\n",
      "cd$ef$axb$\n",
      "d$ef$axb$c\n",
      "$ef$axb$c$\n",
      "ef$axb$c$\n",
      "f$axb$c$\n",
      "abcd$ef$axb\n",
      "bcd$ef$axb$\n",
      "cd$ef$axb$c\n",
      "d$ef$axb$c$\n",
      "$ef$axb$c$\n",
      "ef$axb$c$\n",
      "f$axb$c$\n",
      "abcd$ef$axb$\n",
      "bcd$ef$axb$c\n",
      "cd$ef$axb$c$\n",
      "d$ef$axb$c$\n",
      "$ef$axb$c$\n",
      "ef$axb$c$\n",
      "f$axb$c$\n",
      "abcd$ef$axb$c\n",
      "bcd$ef$axb$c$\n",
      "cd$ef$axb$c$\n",
      "d$ef$axb$c$\n",
      "$ef$axb$c$\n",
      "ef$axb$c$\n",
      "f$axb$c$\n"
     ]
    }
   ],
   "source": [
    "s = 'abcd$ef$axb$c$'\n",
    "p = '$$abf'\n",
    "pl = len(p)\n",
    "from collections import Counter\n",
    "def condition(a, b):\n",
    "    if len(set(a) - set(b))==0:\n",
    "        a = Counter(a)\n",
    "        b = Counter(b)\n",
    "        return all([a[k]<=b[k] for k in a.keys()])\n",
    "    return False\n",
    "for j in range(pl, len(s)):\n",
    "    for i in range(len(s)-pl):\n",
    "        if condition(p, s[i:i+j]):\n",
    "            print(s[i:i+j])\n"
   ]
  },
  {
   "cell_type": "code",
   "execution_count": 57,
   "metadata": {},
   "outputs": [
    {
     "data": {
      "text/plain": [
       "True"
      ]
     },
     "execution_count": 57,
     "metadata": {},
     "output_type": "execute_result"
    }
   ],
   "source": [
    "a = \"Bste!hetsi ogEAxpelrt x \"\n",
    "b = \"AlgoExpert is the Best!\"\n",
    "len(set(a)-set(b))==0"
   ]
  },
  {
   "cell_type": "markdown",
   "metadata": {},
   "source": [
    "# Roman to Integer\n",
    "https://leetcode.com/problems/roman-to-integer/"
   ]
  },
  {
   "cell_type": "code",
   "execution_count": 812,
   "metadata": {},
   "outputs": [],
   "source": [
    "d = {'I':1,\n",
    "     'V':5,\n",
    "     'X':10,\n",
    "     'L':50,\n",
    "     'C':100,\n",
    "     'D':500,\n",
    "     'M':1000}\n",
    "\n",
    "total = d.get(s[-1])\n",
    "for i in reversed(range(len(s)-1)):\n",
    "    print(s[i], s[i+1], d[s[i+1]])\n",
    "    if d[s[i]]<d[s[i+1]]:\n",
    "        total -= d[s[i]]\n",
    "    else:\n",
    "        total += d[s[i]]"
   ]
  },
  {
   "cell_type": "markdown",
   "metadata": {},
   "source": [
    "## Problem - 5\n",
    "\n",
    "https://leetcode.com/problems/dot-product-of-two-sparse-vectors/"
   ]
  },
  {
   "cell_type": "code",
   "execution_count": 978,
   "metadata": {},
   "outputs": [
    {
     "data": {
      "text/plain": [
       "'acba'"
      ]
     },
     "execution_count": 978,
     "metadata": {},
     "output_type": "execute_result"
    }
   ],
   "source": [
    "#Clsses\n",
    "# https://leetcode.com/problems/dot-product-of-two-sparse-vectors/\n",
    "# 1570. Dot Product of Two Sparse Vectors\n",
    "class SparseVector:\n",
    "    def __init__(self, nums: List[int]):\n",
    "        self.num1 = nums\n",
    "\n",
    "    # Return the dotProduct of two sparse vectors\n",
    "    def dotProduct(self, vec: 'SparseVector') -> int:\n",
    "        res = [i*j for i,j in zip(self.num1, vec.num1)]\n",
    "        return sum(res)\n",
    "# Your SparseVector object will be instantiated and called as such:\n",
    "# v1 = SparseVector(nums1)\n",
    "# v2 = SparseVector(nums2)\n",
    "# ans = v1.dotProduct(v2)"
   ]
  },
  {
   "cell_type": "markdown",
   "metadata": {},
   "source": [
    "# Logics"
   ]
  },
  {
   "cell_type": "markdown",
   "metadata": {},
   "source": [
    "## Problem - 6\n",
    "\n",
    "https://leetcode.com/problems/product-of-array-except-self/"
   ]
  },
  {
   "cell_type": "code",
   "execution_count": 1056,
   "metadata": {},
   "outputs": [],
   "source": [
    "# Logic \n",
    "\n",
    "class Solution:\n",
    "    def productExceptSelf(self, nums: List[int]) -> List[int]:\n",
    "        length = len(nums)\n",
    "        L, R = [0]*length, [0]*length\n",
    "        L[0] = 1\n",
    "        R[-1] = 1\n",
    "        for i in range(1,length):\n",
    "            L[i] = L[i-1]*nums[i-1]\n",
    "        for i in reversed(range(length-1)):\n",
    "            R[i] = R[i+1]*nums[i+1]\n",
    "        res = [i*j for i, j in zip(L,R)]\n",
    "        return res"
   ]
  },
  {
   "cell_type": "code",
   "execution_count": 70,
   "metadata": {},
   "outputs": [],
   "source": [
    "nums = [1,2,1,3,3,1]"
   ]
  },
  {
   "cell_type": "code",
   "execution_count": 1025,
   "metadata": {},
   "outputs": [
    {
     "name": "stdout",
     "output_type": "stream",
     "text": [
      "1 1\n",
      "2 1\n",
      "1 2\n",
      "3 2\n",
      "3 6\n",
      "[1, 1, 2, 2, 6, 18]\n",
      "[18, 9, 9, 3, 1, 1]\n"
     ]
    },
    {
     "data": {
      "text/plain": [
       "[18, 9, 18, 6, 6, 18]"
      ]
     },
     "execution_count": 1025,
     "metadata": {},
     "output_type": "execute_result"
    }
   ],
   "source": [
    "nums = [1,2,1,3,3,1]\n",
    "length = len(nums)\n",
    "L, R = [0]*length, [0]*length\n",
    "productExceptSelf(a)"
   ]
  },
  {
   "cell_type": "markdown",
   "metadata": {},
   "source": [
    "## Pivot\n",
    "\n",
    "https://leetcode.com/problems/find-pivot-index/submissions/"
   ]
  },
  {
   "cell_type": "code",
   "execution_count": null,
   "metadata": {},
   "outputs": [],
   "source": [
    "class Solution:\n",
    "    def pivotIndex(self, nums: List[int]) -> int:\n",
    "        s = sum(nums)\n",
    "        left = 0\n",
    "        for i,j in enumerate(nums):\n",
    "            print(left, s, s-left)\n",
    "            if s-left-j==left:\n",
    "                return i\n",
    "            \n",
    "            left +=j\n",
    "        return -1\n",
    "            "
   ]
  },
  {
   "cell_type": "markdown",
   "metadata": {},
   "source": [
    "## num sub seq\n",
    "https://leetcode.com/problems/number-of-subsequences-that-satisfy-the-given-sum-condition/\n",
    "    "
   ]
  },
  {
   "cell_type": "code",
   "execution_count": null,
   "metadata": {},
   "outputs": [],
   "source": [
    "# Practice\n",
    "# Remember binary search again in summation as well to make it faster \n",
    "# Come again\n",
    "class Solution:\n",
    "    def numSubseq(self, nums: List[int], target: int) -> int:\n",
    "        nums.sort()\n",
    "        i, j = 0, len(nums) - 1\n",
    "        mod, result = (10 ** 9) + 7, 0\n",
    "        while i <= j:\n",
    "            if (nums[i] + nums[j]) > target:\n",
    "                j -= 1\n",
    "            else:\n",
    "                result = (result + pow(2, j - i, mod)) % mod\n",
    "                i += 1\n",
    "        return result"
   ]
  },
  {
   "cell_type": "code",
   "execution_count": 1,
   "metadata": {},
   "outputs": [],
   "source": [
    "nums = [3,5,6,7]\n",
    "target = 9\n",
    "i, j = 0, len(nums) - 1"
   ]
  },
  {
   "cell_type": "code",
   "execution_count": 157,
   "metadata": {},
   "outputs": [
    {
     "data": {
      "text/plain": [
       "4"
      ]
     },
     "execution_count": 157,
     "metadata": {},
     "output_type": "execute_result"
    }
   ],
   "source": [
    "pow(2,j-i,mod)%mod"
   ]
  },
  {
   "cell_type": "code",
   "execution_count": 21,
   "metadata": {},
   "outputs": [],
   "source": [
    "nums = [3,5,6,7]"
   ]
  },
  {
   "cell_type": "code",
   "execution_count": 36,
   "metadata": {},
   "outputs": [],
   "source": [
    "def combs(res):\n",
    "    global results\n",
    "    #print(res)\n",
    "    if len(res)==0:\n",
    "        return\n",
    "    if len(res)>0 and (min(res)+max(res))<=target:\n",
    "        results.append(res)\n",
    "        return\n",
    "    for i in range(len(res)):\n",
    "        combs(res[:i]+res[i+1:])"
   ]
  },
  {
   "cell_type": "code",
   "execution_count": 37,
   "metadata": {},
   "outputs": [],
   "source": [
    "results = []\n",
    "target = 9\n",
    "combs(nums)"
   ]
  },
  {
   "cell_type": "code",
   "execution_count": 38,
   "metadata": {},
   "outputs": [
    {
     "data": {
      "text/plain": [
       "[[3], [3, 6], [3], [3, 5], [3, 5, 6]]"
      ]
     },
     "execution_count": 38,
     "metadata": {},
     "output_type": "execute_result"
    }
   ],
   "source": [
    "results"
   ]
  },
  {
   "cell_type": "code",
   "execution_count": null,
   "metadata": {},
   "outputs": [],
   "source": []
  },
  {
   "cell_type": "code",
   "execution_count": 5,
   "metadata": {},
   "outputs": [],
   "source": [
    "V= 'CORONAVIRUS'\n"
   ]
  },
  {
   "cell_type": "code",
   "execution_count": 30,
   "metadata": {},
   "outputs": [],
   "source": [
    "\n",
    "res = []\n",
    "for B in ['abcde', 'crnas', 'onarous']:\n",
    "    b = B.upper()\n",
    "    if len(set(b)-set(V))>0:\n",
    "        res.append('NEGATIVE')\n",
    "        continue\n",
    "    a = [V.index(i) for i in b]\n",
    "    if any([a[i+1]-a[i]<0 for i in range(len(a)-1)]):\n",
    "        res.append('NEGATIVE')\n",
    "    else:\n",
    "        res.append('POSITIVE')"
   ]
  },
  {
   "cell_type": "code",
   "execution_count": 31,
   "metadata": {},
   "outputs": [
    {
     "data": {
      "text/plain": [
       "['NEGATIVE', 'POSITIVE', 'NEGATIVE']"
      ]
     },
     "execution_count": 31,
     "metadata": {},
     "output_type": "execute_result"
    }
   ],
   "source": [
    "res"
   ]
  },
  {
   "cell_type": "code",
   "execution_count": 25,
   "metadata": {},
   "outputs": [
    {
     "data": {
      "text/plain": [
       "[False, False, False, False]"
      ]
     },
     "execution_count": 25,
     "metadata": {},
     "output_type": "execute_result"
    }
   ],
   "source": []
  },
  {
   "cell_type": "markdown",
   "metadata": {},
   "source": [
    "https://leetcode.com/problems/sort-array-by-increasing-frequency/"
   ]
  },
  {
   "cell_type": "code",
   "execution_count": 144,
   "metadata": {},
   "outputs": [],
   "source": [
    "nums = [1,1,2,2,2,3]\n",
    "from collections import Counter\n",
    "d = list(map(list, Counter(nums).items()))\n",
    "for i in range(len(d)):\n",
    "    d[i].append(nums.index(d[i][0]))\n",
    "d.sort(key=lambda x: x[1:])\n",
    "sum([[i[0]]*i[1] for i in d],[])"
   ]
  },
  {
   "cell_type": "code",
   "execution_count": 161,
   "metadata": {},
   "outputs": [
    {
     "data": {
      "text/plain": [
       "7.5"
      ]
     },
     "execution_count": 161,
     "metadata": {},
     "output_type": "execute_result"
    }
   ],
   "source": [
    "90/(21-9)"
   ]
  },
  {
   "cell_type": "code",
   "execution_count": 160,
   "metadata": {},
   "outputs": [
    {
     "name": "stdout",
     "output_type": "stream",
     "text": [
      "9 0\n",
      "8 9\n",
      "7 17\n",
      "6 24\n",
      "6 30\n",
      "5 36\n",
      "5 41\n",
      "4 46\n",
      "4 50\n",
      "4 54\n"
     ]
    }
   ],
   "source": [
    "n = 100\n",
    "c =  0\n",
    "for _ in range(10):\n",
    "    v = int(0.09*n)\n",
    "    print(v, c)\n",
    "    c+=v\n",
    "    n -=v"
   ]
  },
  {
   "cell_type": "code",
   "execution_count": 147,
   "metadata": {},
   "outputs": [
    {
     "data": {
      "text/plain": [
       "[[3, 1, 5], [1, 2, 0], [2, 3, 2]]"
      ]
     },
     "execution_count": 147,
     "metadata": {},
     "output_type": "execute_result"
    }
   ],
   "source": [
    "d"
   ]
  },
  {
   "cell_type": "markdown",
   "metadata": {},
   "source": [
    "## Problem - 8\n",
    "\n",
    "https://leetcode.com/problems/add-strings/"
   ]
  },
  {
   "cell_type": "code",
   "execution_count": null,
   "metadata": {},
   "outputs": [],
   "source": [
    "\n",
    "def addStrings(self, num1: str, num2: str) -> str:\n",
    "    s = int(num1) + int(num2)\n",
    "    return str(s)"
   ]
  },
  {
   "cell_type": "code",
   "execution_count": 95,
   "metadata": {},
   "outputs": [],
   "source": [
    "num1 = \"456\"\n",
    "num2 = \"77\"\n",
    "num1 = num1[::-1]\n",
    "num2 = num2[::-1]\n",
    "\n",
    "if len(num1)>len(num2):\n",
    "    num1, num2 = num2, num1\n",
    "\n",
    "limit = min(len(num1), len(num2))\n",
    "i = 0\n",
    "res = []\n",
    "c = 0\n",
    "while i<limit or c>0:\n",
    "    # Remember\n",
    "    if i<len(num1):\n",
    "        a = num1[i]\n",
    "    else:\n",
    "        a = 0\n",
    "    b = num2[i]\n",
    "    \n",
    "    s = int(a)+int(b) + c\n",
    "    if s>10:\n",
    "        s = s%10\n",
    "        c = 1\n",
    "    else:\n",
    "        c = 0\n",
    "    res.append(str(s))\n",
    "    i +=1\n",
    "\n",
    "if c>0:\n",
    "    res.append(str(c))\n",
    "    \n",
    "''.join(res[::-1])"
   ]
  },
  {
   "cell_type": "code",
   "execution_count": null,
   "metadata": {},
   "outputs": [],
   "source": [
    "res"
   ]
  },
  {
   "cell_type": "markdown",
   "metadata": {},
   "source": [
    "## Problem - 9\n",
    "\n",
    "https://leetcode.com/problems/add-binary/"
   ]
  },
  {
   "cell_type": "code",
   "execution_count": 144,
   "metadata": {},
   "outputs": [],
   "source": [
    "# Logic\n",
    "a = \"11\"\n",
    "b = \"1\""
   ]
  },
  {
   "cell_type": "code",
   "execution_count": 42,
   "metadata": {},
   "outputs": [
    {
     "data": {
      "text/plain": [
       "'100'"
      ]
     },
     "execution_count": 42,
     "metadata": {},
     "output_type": "execute_result"
    }
   ],
   "source": [
    "\n",
    "s = bin(int(a, 2) + int(b, 2))\n",
    "s[2:]\n"
   ]
  },
  {
   "cell_type": "code",
   "execution_count": 41,
   "metadata": {},
   "outputs": [
    {
     "data": {
      "text/plain": [
       "'100'"
      ]
     },
     "execution_count": 41,
     "metadata": {},
     "output_type": "execute_result"
    }
   ],
   "source": [
    "# Approach - 1\n",
    "class Solution:\n",
    "    def addBinary(self, a, b) -> str:\n",
    "        n = max(len(a), len(b))\n",
    "        a, b = a.zfill(n), b.zfill(n)\n",
    "        \n",
    "        carry = 0\n",
    "        answer = []\n",
    "        for i in range(n - 1, -1, -1):\n",
    "            if a[i] == '1':\n",
    "                carry += 1\n",
    "            if b[i] == '1':\n",
    "                carry += 1\n",
    "                \n",
    "            if carry % 2 == 1:\n",
    "                answer.append('1')\n",
    "            else:\n",
    "                answer.append('0')\n",
    "            \n",
    "            carry //= 2\n",
    "        \n",
    "        if carry == 1:\n",
    "            answer.append('1')\n",
    "        answer.reverse()\n",
    "        \n",
    "        return ''.join(answer)"
   ]
  },
  {
   "cell_type": "markdown",
   "metadata": {},
   "source": [
    "## Missing elements\n",
    "https://leetcode.com/problems/missing-element-in-sorted-array/"
   ]
  },
  {
   "cell_type": "code",
   "execution_count": 188,
   "metadata": {},
   "outputs": [],
   "source": [
    "# Logic\n",
    "# Come again\n",
    "def missingElement(self, nums, k):\n",
    "    gap = 0\n",
    "    flag=True\n",
    "    for i in range(1, len(nums)):\n",
    "        diff = nums[i]-nums[i-1] -1\n",
    "        if gap+diff>=k:\n",
    "            flag = False\n",
    "            break\n",
    "        gap +=diff\n",
    "        print(diff, gap)\n",
    "        \n",
    "    if flag:\n",
    "        return nums[i] + k-gap\n",
    "    else:\n",
    "        return nums[i-1]+k-gap"
   ]
  },
  {
   "cell_type": "code",
   "execution_count": 107,
   "metadata": {},
   "outputs": [],
   "source": [
    "nums = [1,2,4]\n",
    "k = 3"
   ]
  },
  {
   "cell_type": "code",
   "execution_count": 1,
   "metadata": {},
   "outputs": [],
   "source": [
    "nums = [4,7,9,10]\n",
    "k = 1\n",
    "nums = [1,2,4]\n",
    "k = 3\n",
    "nums = [1,2,10]\n",
    "k = 3"
   ]
  },
  {
   "cell_type": "code",
   "execution_count": 186,
   "metadata": {},
   "outputs": [
    {
     "name": "stdout",
     "output_type": "stream",
     "text": [
      "0 0\n",
      "5\n"
     ]
    }
   ],
   "source": [
    "gap = 0\n",
    "flag=True\n",
    "for i in range(1, len(nums)):\n",
    "    diff = nums[i]-nums[i-1] -1\n",
    "    if gap+diff>=k:\n",
    "        flag = False\n",
    "        break\n",
    "    gap +=diff\n",
    "    print(diff, gap)\n",
    "    \n",
    "if flag:\n",
    "    print(nums[i] + k-gap)\n",
    "else:\n",
    "    print(nums[i-1]+k-gap)"
   ]
  },
  {
   "cell_type": "code",
   "execution_count": 97,
   "metadata": {
    "scrolled": true
   },
   "outputs": [],
   "source": [
    "# A = [0,0,1,1,0,0,1,1,1,0,1,1,0,0,0,1,1,1,1]\n",
    "# left = 0\n",
    "# K=2\n",
    "# for right in range(len(A)):\n",
    "#     if A[right]==0:\n",
    "#         K -=1\n",
    "    \n",
    "#     if K<0:\n",
    "#         if A[left]==0:\n",
    "#             K+=1\n",
    "#         left+=1"
   ]
  },
  {
   "cell_type": "code",
   "execution_count": 200,
   "metadata": {},
   "outputs": [
    {
     "data": {
      "text/plain": [
       "7"
      ]
     },
     "execution_count": 200,
     "metadata": {},
     "output_type": "execute_result"
    }
   ],
   "source": [
    "right-left+1"
   ]
  },
  {
   "cell_type": "code",
   "execution_count": 98,
   "metadata": {},
   "outputs": [],
   "source": [
    "# A = [0,0,1,1,0,0,1,1,1,0,1,1,0,0,0,1,1,1,1]\n",
    "# K = 2\n",
    "# left = 0\n",
    "\n",
    "# for right in range(len(A)):\n",
    "#     print(A[right], left, K)\n",
    "#     K -= 1 - A[right]\n",
    "    \n",
    "#     if K < 0:\n",
    "#         K += 1 - A[left]\n",
    "#         left += 1\n",
    "# #return right - left + 1\n"
   ]
  },
  {
   "cell_type": "code",
   "execution_count": 201,
   "metadata": {},
   "outputs": [
    {
     "data": {
      "text/plain": [
       "7"
      ]
     },
     "execution_count": 201,
     "metadata": {},
     "output_type": "execute_result"
    }
   ],
   "source": [
    "right-left+1"
   ]
  },
  {
   "cell_type": "markdown",
   "metadata": {},
   "source": [
    "\n",
    "## Problem - 10\n",
    "\n",
    "https://leetcode.com/problems/design-add-and-search-words-data-structure/"
   ]
  },
  {
   "cell_type": "code",
   "execution_count": null,
   "metadata": {},
   "outputs": [],
   "source": [
    "Input\n",
    "[\"WordDictionary\",\"addWord\",\"addWord\",\"addWord\",\"search\",\"search\",\"search\",\"search\"]\n",
    "[[],[\"bad\"],[\"dad\"],[\"mad\"],[\"pad\"],[\"bad\"],[\".ad\"],[\"b..\"]]\n",
    "Output\n",
    "[null,null,null,null,false,true,true,true]"
   ]
  },
  {
   "cell_type": "code",
   "execution_count": 69,
   "metadata": {
    "scrolled": true
   },
   "outputs": [
    {
     "data": {
      "text/plain": [
       "False"
      ]
     },
     "execution_count": 69,
     "metadata": {},
     "output_type": "execute_result"
    }
   ],
   "source": [
    "class WordDictionary:\n",
    "\n",
    "    def __init__(self):\n",
    "        \"\"\"\n",
    "        Initialize your data structure here.\n",
    "        \"\"\"\n",
    "        self.wordDict = {}\n",
    "\n",
    "    def addWord(self, word: str) -> None:\n",
    "        \n",
    "        if len(word) in self.wordDict.keys():\n",
    "            self.wordDict[len(word)].add(word)\n",
    "        else:\n",
    "            self.wordDict[len(word)] = {word}\n",
    "\n",
    "    def search(self, word: str) -> bool:\n",
    "        n = len(word)\n",
    "        if n not in self.wordDict.keys():\n",
    "            return False\n",
    "        for w in self.wordDict[len(word)]:\n",
    "            i = 0\n",
    "            while(i<n and (word[i]==w[i] or word[i]=='.')):\n",
    "                i+=1\n",
    "            if n==i:\n",
    "                return True\n",
    "        return False\n",
    "\n",
    "\n",
    "# Your WordDictionary object will be instantiated and called as such:\n",
    "# obj = WordDictionary()\n",
    "# obj.addWord(word)\n",
    "# param_2 = obj.search(word)"
   ]
  },
  {
   "cell_type": "code",
   "execution_count": 287,
   "metadata": {},
   "outputs": [],
   "source": [
    "words = [[\"bad\"],[\"dad\"],[\"mad\"],[\"pad\"],[\"bad\"]]\n",
    "search = [[\".ad\"],[\"b..\"]]\n",
    "words= sum(words,[])"
   ]
  },
  {
   "cell_type": "markdown",
   "metadata": {},
   "source": [
    "## Count and say\n",
    "https://leetcode.com/problems/count-and-say/"
   ]
  },
  {
   "cell_type": "code",
   "execution_count": 50,
   "metadata": {},
   "outputs": [
    {
     "name": "stdout",
     "output_type": "stream",
     "text": [
      "1 2 1\n",
      "2 1 1\n",
      "1 2 1\n",
      "2 1 3\n",
      "1 2 2\n"
     ]
    }
   ],
   "source": [
    "n=6\n",
    "\n",
    "res1= ''\n",
    "s = '1'\n",
    "for j in range(n-1):\n",
    "    ch = s[0]\n",
    "    c= 0\n",
    "    res1 = ''\n",
    "    for i in s:\n",
    "        if i!=ch:\n",
    "            print(i, ch, c)\n",
    "            res1 +=str(c)+str(ch)\n",
    "            ch = i\n",
    "            c = 1\n",
    "            \n",
    "        else:\n",
    "            c +=1\n",
    "    res1 += str(c)+ch\n",
    "    s = res1\n",
    "#     #print(s)\n",
    "#     s = str(c) + ch\n"
   ]
  },
  {
   "cell_type": "code",
   "execution_count": 1065,
   "metadata": {},
   "outputs": [
    {
     "data": {
      "text/plain": [
       "[(1, 1, 1, 1, 1),\n",
       " (1, 1, 1, 1, 0),\n",
       " (1, 1, 1, 0, 1),\n",
       " (1, 1, 1, 0, 0),\n",
       " (1, 1, 0, 1, 1),\n",
       " (1, 1, 0, 1, 0),\n",
       " (1, 1, 0, 0, 1),\n",
       " (1, 1, 0, 0, 0),\n",
       " (1, 0, 1, 1, 1),\n",
       " (1, 0, 1, 1, 0)]"
      ]
     },
     "execution_count": 1065,
     "metadata": {},
     "output_type": "execute_result"
    }
   ],
   "source": [
    "from itertools import combinations\n",
    "import itertools\n",
    "list(itertools.product([1,0], repeat=5))[:10]"
   ]
  },
  {
   "cell_type": "markdown",
   "metadata": {},
   "source": [
    "# Trees"
   ]
  },
  {
   "cell_type": "markdown",
   "metadata": {},
   "source": [
    "# Binary Trees"
   ]
  },
  {
   "cell_type": "markdown",
   "metadata": {},
   "source": [
    "## Problem \n",
    "\n",
    "https://leetcode.com/problems/sum-root-to-leaf-numbers/\n",
    "    \n",
    "    "
   ]
  },
  {
   "cell_type": "code",
   "execution_count": null,
   "metadata": {},
   "outputs": [],
   "source": [
    "class Solution:\n",
    "    def sumNumbers(self, root: TreeNode) -> int:\n",
    "        \n",
    "        def dfs(node, paths, path):\n",
    "            if node is None:\n",
    "                return paths\n",
    "        \n",
    "            path +=str(node.val)\n",
    "            print(node.val)\n",
    "            if node.left is None and node.right is None:\n",
    "                paths.append(path)\n",
    "                return paths\n",
    "            paths = dfs(node.left, paths, path)\n",
    "            paths = dfs(node.right, paths, path)\n",
    "            \n",
    "            return paths\n",
    "        \n",
    "        paths = dfs(root, [], '')\n",
    "        print(paths)\n",
    "        return sum([int(path) for path in paths])"
   ]
  },
  {
   "cell_type": "markdown",
   "metadata": {},
   "source": [
    "https://leetcode.com/problems/maximum-average-subtree/"
   ]
  },
  {
   "cell_type": "code",
   "execution_count": 784,
   "metadata": {
    "scrolled": true
   },
   "outputs": [
    {
     "data": {
      "text/plain": [
       "2"
      ]
     },
     "execution_count": 784,
     "metadata": {},
     "output_type": "execute_result"
    }
   ],
   "source": [
    "def maximumAverageSubtree(self, root: TreeNode) -> float:\n",
    "\n",
    "    def dfs(node, ma):\n",
    "        if node is None:\n",
    "            return\n",
    "\n",
    "        te = [node.val]\n",
    "        if node.left:\n",
    "            te.append(node.left.val)\n",
    "        if node.right:\n",
    "            te.append(node.right.val)\n",
    "        self.ma = max(self.ma, sum(te)/len(te))\n",
    "\n",
    "        dfs(node.left, ma)\n",
    "        dfs(node.right, ma)\n",
    "        return \n",
    "    self.ma = 0\n",
    "    dfs(root, 0)\n",
    "    print(self.ma)\n",
    "    return self.ma"
   ]
  },
  {
   "cell_type": "markdown",
   "metadata": {},
   "source": [
    "## Problem 11\n",
    "\n",
    "https://leetcode.com/problems/binary-tree-maximum-path-sum/"
   ]
  },
  {
   "cell_type": "code",
   "execution_count": 159,
   "metadata": {},
   "outputs": [],
   "source": [
    "# Logic\n",
    "# def maxPathSum(root) -> int:\n",
    "#     \"\"\"\n",
    "#     :type root: TreeNode\n",
    "#     :rtype: int\n",
    "#     \"\"\"\n",
    "def max_gain(node):\n",
    "    global max_sum\n",
    "    if not nodee:\n",
    "        return 0\n",
    "\n",
    "    # max sum on the left and right sub-trees of node\n",
    "    left_gain = max(max_gain(node.left), 0)\n",
    "    right_gain = max(max_gain(node.right), 0)\n",
    "\n",
    "    # the price to start a new path where `node` is a highest node\n",
    "    price_newpath = node.val + left_gain + right_gain\n",
    "\n",
    "    # update max_sum if it's better to start a new path\n",
    "    max_sum = max(max_sum, price_newpath)\n",
    "\n",
    "    # for recursion :\n",
    "    # return the max gain if continue the same path\n",
    "    return node.val + max(left_gain, right_gain)\n",
    "\n",
    "max_sum = float('-inf')\n",
    "max_gain(root)"
   ]
  },
  {
   "cell_type": "markdown",
   "metadata": {},
   "source": [
    "### Problem - \n",
    "\n",
    "https://leetcode.com/problems/binary-tree-inorder-traversal/submissions/"
   ]
  },
  {
   "cell_type": "code",
   "execution_count": null,
   "metadata": {},
   "outputs": [],
   "source": [
    "# inrder traversal\n",
    "# Logic\n",
    "class Solution:\n",
    "    def inorderTraversal(self, root: TreeNode) -> List[int]:\n",
    "        \n",
    "        def dfs(node):\n",
    "            if node is None:\n",
    "                return\n",
    "            dfs(node.left)\n",
    "            self.stack.append(node.val)\n",
    "            dfs(node.right)\n",
    "            \n",
    "        self.res = []\n",
    "        self.stack = []\n",
    "        \n",
    "        dfs(root)\n",
    "        print(self.stack)\n",
    "        return self.stack\n"
   ]
  },
  {
   "cell_type": "markdown",
   "metadata": {},
   "source": [
    "## Construct from Inorder and preorder lists\n",
    "https://leetcode.com/problems/construct-binary-tree-from-preorder-and-inorder-traversal/"
   ]
  },
  {
   "cell_type": "code",
   "execution_count": null,
   "metadata": {},
   "outputs": [],
   "source": [
    " # Come again\n",
    "class Solution:\n",
    "    def buildTree(self, preorder: List[int], inorder: List[int]) -> TreeNode:\n",
    "        \n",
    "        \n",
    "        def dfs(po, io):\n",
    "            if len(io)==0 or po[0] not in io:\n",
    "                return None\n",
    "            nval = po.pop(0)\n",
    "            slc = io.index(nval)\n",
    "            l, r = io[:slc], io[slc+1:]\n",
    "            node = TreeNode(nval)\n",
    "            node.left = dfs(po, l)\n",
    "            node.right = dfs(po, r)\n",
    "            return node\n",
    "        node = dfs(preorder, inorder)\n",
    "            \n",
    "        return node\n",
    "        "
   ]
  },
  {
   "cell_type": "markdown",
   "metadata": {},
   "source": [
    "## Inorder Successor\n",
    "https://leetcode.com/problems/inorder-successor-in-bst/submissions/"
   ]
  },
  {
   "cell_type": "code",
   "execution_count": null,
   "metadata": {},
   "outputs": [],
   "source": [
    "# Come again\n",
    "class Solution:\n",
    "    def inorderSuccessor(self, root: 'TreeNode', p: 'TreeNode') -> 'TreeNode':\n",
    "        \n",
    "        def dfs(node):\n",
    "            if node is None:\n",
    "                return \n",
    "            \n",
    "            if node.val>p.val:\n",
    "                if self.successor is None or self.successor.val>p.val:\n",
    "                    self.successor=node\n",
    "                dfs(node.left)\n",
    "            else:\n",
    "                dfs(node.right)\n",
    "        \n",
    "        self.successor=None\n",
    "        self.flag=False\n",
    "        dfs(root)\n",
    "        return self.successor\n"
   ]
  },
  {
   "cell_type": "markdown",
   "metadata": {},
   "source": [
    "## Print Inorder from Preorder\n",
    "https://www.careercup.com/question?id=5663945672097792"
   ]
  },
  {
   "cell_type": "code",
   "execution_count": 10,
   "metadata": {
    "scrolled": true
   },
   "outputs": [
    {
     "data": {
      "text/plain": [
       "[1, [2, [5]], [3, [6, [8], [10]]]]"
      ]
     },
     "execution_count": 10,
     "metadata": {},
     "output_type": "execute_result"
    }
   ],
   "source": [
    "# Come again\n",
    "class TreeNode:\n",
    "    def __init__(self, val=0, left=None, right=None):\n",
    "        self.val = val\n",
    "        self.left = left\n",
    "        self.right = right\n",
    "        \n",
    "def dfs(li):\n",
    "    if len(li)==0:\n",
    "        return None\n",
    "    mid = li.index(min(li))\n",
    "    l, r = li[:mid], li[mid+1:]\n",
    "    \n",
    "    node = TreeNode(li[mid])\n",
    "    node.left = dfs(l)\n",
    "    node.right = dfs(r)\n",
    "    return node\n",
    "\n",
    "def traverse(node):\n",
    "    if node is None: \n",
    "        return None\n",
    "    global vals\n",
    "    #vals.append(node.val)\n",
    "    l = traverse(node.left)\n",
    "    r = traverse(node.right)\n",
    "    res = [node.val]\n",
    "    if l:\n",
    "        res.append(l)\n",
    "    if r:\n",
    "        res.append(r)\n",
    "    return res\n",
    "\n",
    "nums=[5, 2, 1, 3, 8, 6, 10]\n",
    "tree = dfs(nums)\n",
    "vals = []\n",
    "traverse(tree)"
   ]
  },
  {
   "cell_type": "code",
   "execution_count": 21,
   "metadata": {},
   "outputs": [],
   "source": [
    "def traverse(node):\n",
    "    if node is None:\n",
    "        return\n",
    "    l = traverse(node.left)\n",
    "    r = traverse(node.right)\n",
    "    res = [node.val]\n",
    "    if l:\n",
    "        res.append(l)\n",
    "    if r:\n",
    "        res.append(r)\n",
    "    return res"
   ]
  },
  {
   "cell_type": "code",
   "execution_count": 22,
   "metadata": {},
   "outputs": [
    {
     "data": {
      "text/plain": [
       "[1, [2, [5]], [3, [6, [8], [10]]]]"
      ]
     },
     "execution_count": 22,
     "metadata": {},
     "output_type": "execute_result"
    }
   ],
   "source": [
    "traverse(node)"
   ]
  },
  {
   "cell_type": "code",
   "execution_count": 23,
   "metadata": {},
   "outputs": [],
   "source": [
    "        \n",
    "def dfs(li):\n",
    "    if len(li)==0:\n",
    "        return None\n",
    "    global res\n",
    "    mid = li.index(min(li))\n",
    "    l, r = li[:mid], li[mid+1:]\n",
    "    res.append(li[mid])\n",
    "    node = TreeNode(li[mid])\n",
    "    node.left = dfs(l)\n",
    "    node.right = dfs(r)\n",
    "    return node\n"
   ]
  },
  {
   "cell_type": "code",
   "execution_count": 24,
   "metadata": {},
   "outputs": [],
   "source": [
    "res = []\n",
    "nums=[5, 2, 1, 3, 8, 6, 10]\n",
    "node = dfs(nums)"
   ]
  },
  {
   "cell_type": "code",
   "execution_count": 25,
   "metadata": {},
   "outputs": [
    {
     "data": {
      "text/plain": [
       "[1, 2, 5, 3, 6, 8, 10]"
      ]
     },
     "execution_count": 25,
     "metadata": {},
     "output_type": "execute_result"
    }
   ],
   "source": [
    "# Preorder traversl\n",
    "res"
   ]
  },
  {
   "cell_type": "code",
   "execution_count": 97,
   "metadata": {},
   "outputs": [
    {
     "name": "stdout",
     "output_type": "stream",
     "text": [
      "[1]\n",
      "[1, 2, [3]]\n",
      "[6]\n",
      "[1, 2, [3], 5, [6, 8, [10]]]\n"
     ]
    }
   ],
   "source": [
    "def printInorderFromPreorder(nums, start, end):\n",
    "    if start == end:\n",
    "        list = [nums[start]]\n",
    "        return list\n",
    "    if start > end:\n",
    "        return []\n",
    "    root = nums[start]\n",
    "    breakPoint = 0\n",
    "    for i in range(start + 1, end + 1):\n",
    "        if nums[i] > root:\n",
    "            breakPoint = i\n",
    "            break\n",
    "    #print(i, nums[i], nums)\n",
    "    left = printInorderFromPreorder(nums, start + 1, breakPoint - 1)\n",
    "    print(left)\n",
    "    left.append(root)\n",
    "    right = printInorderFromPreorder(nums, breakPoint, end)\n",
    "    left.append(right)\n",
    "    return left\n",
    "\n",
    "nums=[5, 2, 1, 3, 8, 6, 10]\n",
    "print(printInorderFromPreorder(nums, 0, len(nums)-1))"
   ]
  },
  {
   "cell_type": "code",
   "execution_count": 52,
   "metadata": {},
   "outputs": [],
   "source": [
    "a = 4/333"
   ]
  },
  {
   "cell_type": "code",
   "execution_count": 72,
   "metadata": {},
   "outputs": [
    {
     "name": "stdout",
     "output_type": "stream",
     "text": [
      "exists 3\n",
      "0.(012)\n"
     ]
    }
   ],
   "source": [
    "if len(str(a))>3:\n",
    "    b = str(a).split('.')[1]\n",
    "    for i in range(len(b)//2):\n",
    "        if len(b.replace(b[:i],''))==0:\n",
    "            print('exists',i)\n",
    "            print(str(a).split('.')[0]+'.'+'('+b[:i]+')')\n",
    "            break\n",
    "else:\n",
    "    return str(a)\n",
    "            "
   ]
  },
  {
   "cell_type": "code",
   "execution_count": 70,
   "metadata": {},
   "outputs": [
    {
     "data": {
      "text/plain": [
       "'0'"
      ]
     },
     "execution_count": 70,
     "metadata": {},
     "output_type": "execute_result"
    }
   ],
   "source": []
  },
  {
   "cell_type": "code",
   "execution_count": null,
   "metadata": {},
   "outputs": [],
   "source": [
    "# Definition for a binary tree node.\n",
    "# Logic\n",
    "class TreeNode:\n",
    "    def __init__(self, val=0, left=None, right=None, end=False):\n",
    "        self.val = val\n",
    "        self.left = left\n",
    "        self.right = right\n",
    "        self.end = end\n",
    "class Solution:\n",
    "    def maxPathSum(self, root: TreeNode) -> int:\n",
    "        \"\"\"\n",
    "        :type root: TreeNode\n",
    "        :rtype: int\n",
    "        \"\"\"\n",
    "        def max_gain(node):\n",
    "            global max_sum\n",
    "            if not node:\n",
    "                return 0\n",
    "\n",
    "            # max sum on the left and right sub-trees of node\n",
    "            left_gain = max(max_gain(node.left), 0)\n",
    "            right_gain = max(max_gain(node.right), 0)\n",
    "            print(left_gain)\n",
    "            print(right_gain)\n",
    "            # the price to start a new path where `node` is a highest node\n",
    "            price_newpath = node.val + left_gain + right_gain\n",
    "\n",
    "            # update max_sum if it's better to start a new path\n",
    "            max_sum = max(max_sum, price_newpath)\n",
    "\n",
    "            # for recursion :\n",
    "            # return the max gain if continue the same path\n",
    "            return node.val + max(left_gain, right_gain)\n",
    "\n",
    "        max_sum = float('-inf')\n",
    "        max_gain(root)\n",
    "        \n",
    "def getBSTFromSortedList(self, values: List[int]) -> TreeNode:\n",
    "    if not values:\n",
    "        return None\n",
    "    mid = values[len(values)//2]\n",
    "    root = TreeNode(mid)\n",
    "    root.left = self.getBSTFromSortedList(values[:len(values)//2])\n",
    "    root.right = self.getBSTFromSortedList(values[len(values)//2 +1 :])\n",
    "    return root\n",
    "\n",
    "        #print(isinstance(root,<class 'precompiled.treenode.TreeNode'> ))\n",
    "#         def maxgain(node):\n",
    "#             if node is None:\n",
    "#                 return 0\n",
    "            \n",
    "#             left_sum = max(maxgain(node.left),0)\n",
    "#             right_sum = max(maxgain(node.right),0)\n",
    "#             print(left_sum)\n",
    "#             print(right_sum)\n",
    "#         maxSum(root)\n",
    "            "
   ]
  },
  {
   "cell_type": "markdown",
   "metadata": {},
   "source": [
    "## Problem - 30\n",
    "\n",
    "https://leetcode.com/problems/diameter-of-binary-tree/solution/"
   ]
  },
  {
   "cell_type": "code",
   "execution_count": 1099,
   "metadata": {},
   "outputs": [
    {
     "data": {
      "text/plain": [
       "51"
      ]
     },
     "execution_count": 1099,
     "metadata": {},
     "output_type": "execute_result"
    }
   ],
   "source": [
    "# Definition for a binary tree node.\n",
    "# class TreeNode:\n",
    "#     def __init__(self, val=0, left=None, right=None):\n",
    "#         self.val = val\n",
    "#         self.left = left\n",
    "#         self.right = right\n",
    "class Solution:\n",
    "    def diameterOfBinaryTree(self, root: TreeNode) -> int:\n",
    "        diameter = 0\n",
    "        def dfs(node):\n",
    "            nonlocal diameter\n",
    "            if node is None:\n",
    "                return 0\n",
    "            left_path = dfs(node.left)\n",
    "            right_path = dfs(node.right)\n",
    "            \n",
    "            diameter = max(diameter, left_path+right_path)\n",
    "            return max(left_path, right_path) +1\n",
    "        \n",
    "        dfs(root)\n",
    "        return diameter"
   ]
  },
  {
   "cell_type": "markdown",
   "metadata": {},
   "source": [
    "## Diameter of Trie\n",
    "https://leetcode.com/problems/diameter-of-n-ary-tree/submissions/"
   ]
  },
  {
   "cell_type": "code",
   "execution_count": null,
   "metadata": {},
   "outputs": [],
   "source": [
    "\n",
    "class Solution:\n",
    "    def diameter(self, root: 'Node') -> int:\n",
    "       \n",
    "        def dfs(node):\n",
    "            if node is None:\n",
    "                return 0\n",
    "            nonlocal maxpath\n",
    "            \n",
    "            nodevals = []\n",
    "            for n in node.children:\n",
    "                nodevals.append(dfs(n))\n",
    "            print(nodevals)\n",
    "\n",
    "            if nodevals:\n",
    "                newpath = sum(sorted(nodevals)[::-1][:2])\n",
    "                maxpath = max(maxpath, newpath)\n",
    "            else:\n",
    "                nodevals=[0]\n",
    "                newpath=0\n",
    "            return max(nodevals)+1\n",
    "        \n",
    "        maxpath = 0\n",
    "        dfs(root)\n",
    "        return maxpath\n",
    "    "
   ]
  },
  {
   "cell_type": "markdown",
   "metadata": {},
   "source": [
    "## Problem - 12\n",
    "\n",
    "https://leetcode.com/problems/alien-dictionary/"
   ]
  },
  {
   "cell_type": "code",
   "execution_count": null,
   "metadata": {},
   "outputs": [],
   "source": []
  },
  {
   "cell_type": "markdown",
   "metadata": {},
   "source": [
    "## Problem -14\n",
    "\n",
    "https://leetcode.com/problems/range-sum-of-bst/"
   ]
  },
  {
   "cell_type": "code",
   "execution_count": null,
   "metadata": {},
   "outputs": [],
   "source": [
    "# Definition for a binary tree node.\n",
    "# class TreeNode:\n",
    "#     def __init__(self, val=0, left=None, right=None):\n",
    "#         self.val = val\n",
    "#         self.left = left\n",
    "#         self.right = right\n",
    "class Solution:\n",
    "    def rangeSumBST(self, root: TreeNode, low: int, high: int) -> int:\n",
    "        def RecursiveFun(node):\n",
    "            if node:\n",
    "                \n",
    "                if node.val>=low and node.val<=high:\n",
    "                    self.ans = self.ans + node.val\n",
    "                if node.val>low:\n",
    "                    RecursiveFun(node.left)\n",
    "                if node.val<high:\n",
    "                    RecursiveFun(node.right)\n",
    "                print(node.val)\n",
    "        self.ans = 0\n",
    "        RecursiveFun(root)\n",
    "        return self.ans\n"
   ]
  },
  {
   "cell_type": "code",
   "execution_count": null,
   "metadata": {},
   "outputs": [],
   "source": []
  },
  {
   "cell_type": "markdown",
   "metadata": {},
   "source": [
    "## Problem - 16\n",
    "\n",
    "https://leetcode.com/problems/binary-tree-right-side-view/solution/"
   ]
  },
  {
   "cell_type": "code",
   "execution_count": 2,
   "metadata": {},
   "outputs": [
    {
     "ename": "NameError",
     "evalue": "name 'deque' is not defined",
     "output_type": "error",
     "traceback": [
      "\u001b[1;31m---------------------------------------------------------------------------\u001b[0m",
      "\u001b[1;31mNameError\u001b[0m                                 Traceback (most recent call last)",
      "\u001b[1;32m<ipython-input-2-6498b57c5c28>\u001b[0m in \u001b[0;36m<module>\u001b[1;34m\u001b[0m\n\u001b[1;32m----> 1\u001b[1;33m \u001b[0mdeque\u001b[0m\u001b[1;33m\u001b[0m\u001b[1;33m\u001b[0m\u001b[0m\n\u001b[0m",
      "\u001b[1;31mNameError\u001b[0m: name 'deque' is not defined"
     ]
    }
   ],
   "source": [
    "# Definition for a binary tree node.\n",
    "# class TreeNode:\n",
    "#     def __init__(self, val=0, left=None, right=None):\n",
    "#         self.val = val\n",
    "#         self.left = left\n",
    "#         self.right = right\n",
    "class Solution:\n",
    "    def rightSideView(self, root: TreeNode) -> List[int]:\n",
    "        \n",
    "        def RecursiveFun(node, depth):\n",
    "            if node is None:\n",
    "                return \n",
    "            if len(self.elems)==depth:\n",
    "                self.elems.append(node.val)\n",
    "            RecursiveFun(node.right, depth+1)\n",
    "            RecursiveFun(node.left, depth+1)\n",
    "            return\n",
    "        self.elems = []\n",
    "        RecursiveFun(root,0)\n",
    "        return self.elems"
   ]
  },
  {
   "cell_type": "markdown",
   "metadata": {},
   "source": [
    "## Smallest sub tree\n",
    "https://leetcode.com/problems/smallest-subtree-with-all-the-deepest-nodes/submissions/"
   ]
  },
  {
   "cell_type": "code",
   "execution_count": null,
   "metadata": {},
   "outputs": [],
   "source": [
    "# Practice\n",
    "# Logic\n",
    "def subtreeWithAllDeepest(self, root: TreeNode) -> TreeNode:\n",
    "\n",
    "    def getHeight(root, d):\n",
    "        if root:\n",
    "            return max(getHeight(root.left, d + 1), getHeight(root.right, d + 1))\n",
    "        return d\n",
    "\n",
    "    def dfs(root, d):\n",
    "        if root:\n",
    "\n",
    "            l = getHeight(root.left, d + 1)\n",
    "            r = getHeight(root.right, d + 1)\n",
    "            if l == r:\n",
    "                return root\n",
    "            elif l > r:\n",
    "                return dfs(root.left,d + 1)\n",
    "            else:\n",
    "                return dfs(root.right, d + 1)\n",
    "\n",
    "    return dfs(root,0)  \n",
    "\n"
   ]
  },
  {
   "cell_type": "markdown",
   "metadata": {},
   "source": [
    "## Isa mirror of tree\n",
    "https://leetcode.com/problems/symmetric-tree/submissions/"
   ]
  },
  {
   "cell_type": "code",
   "execution_count": 640,
   "metadata": {},
   "outputs": [],
   "source": [
    "class Solution:\n",
    "    \n",
    "    def isSymmetric(self, root: TreeNode) -> bool:\n",
    "        return self.isMirror(root, root)\n",
    "    \n",
    "    \n",
    "    def isMirror(self, t1, t2):\n",
    "        if not t1 and not t2: return True\n",
    "        if not t1 or not t2: return False\n",
    "        return t1.val == t2.val and self.isMirror(t1.right, t2.left) and self.isMirror(t1.left, t2.right)\n",
    "    \n",
    "#         def isSymmetric(self, root: TreeNode) -> bool:\n",
    "#         def dfs(node, row, col, root):\n",
    "#             if node is None:\n",
    "#                 return\n",
    "#             self.nodes.append((node.val, row, abs(col), root))\n",
    "                \n",
    "#             if node.val==root:\n",
    "#                 dfs(node.left, row+1, col-1, 'l')\n",
    "#                 dfs(node.right, row+1, col+1, 'r')\n",
    "#             else:\n",
    "#                 dfs(node.left, row+1, col-1, root)\n",
    "#                 dfs(node.right, row+1, col+1, root)\n",
    "                \n",
    "#         self.nodes =[]\n",
    "#         dfs(root, 0,0, root.val)\n",
    "#         print(self.nodes)\n",
    "\n",
    "#         l_nodes = sorted([i[:-1] for i in self.nodes if i[-1]=='l'])\n",
    "#         r_nodes = sorted([i[:-1] for i in self.nodes if i[-1]=='r'])\n",
    "#         print('\\n', l_nodes)\n",
    "#         print('\\n', r_nodes)\n",
    "#         return l_nodes ==r_nodes \n",
    "#         #return root.left==root.right\n",
    "            \n",
    "                "
   ]
  },
  {
   "cell_type": "markdown",
   "metadata": {},
   "source": [
    "## Merging Trees\n",
    "https://leetcode.com/problems/merge-two-binary-trees/"
   ]
  },
  {
   "cell_type": "code",
   "execution_count": null,
   "metadata": {},
   "outputs": [],
   "source": [
    "    def mergeTrees(self, root1: TreeNode, root2: TreeNode) -> TreeNode:\n",
    "        \n",
    "        def dfs(node1, node2):\n",
    "            if node1 is None and node2 is None:\n",
    "                return None\n",
    "            if node1 is None:\n",
    "                return node2\n",
    "            \n",
    "            if node2 is None:\n",
    "                return node1\n",
    "            \n",
    "            if node1 and node2:\n",
    "                node1.val = node1.val+node2.val\n",
    "                node1.left = dfs(node1.left, node2.left)\n",
    "                node1.right = dfs(node1.right, node2.right)\n",
    "                return node1\n",
    "        node = dfs(root1, root2)\n",
    "        return node\n",
    "        "
   ]
  },
  {
   "cell_type": "markdown",
   "metadata": {},
   "source": [
    "## Invert Trees\n",
    "https://leetcode.com/problems/invert-binary-tree/"
   ]
  },
  {
   "cell_type": "code",
   "execution_count": null,
   "metadata": {},
   "outputs": [],
   "source": [
    "def invertTree(self, root: TreeNode) -> TreeNode:\n",
    "    if root is None:\n",
    "        return \n",
    "\n",
    "    def dfs(node):\n",
    "        if node is None:\n",
    "            return \n",
    "\n",
    "        node.left, node.right = node.right, node.left\n",
    "        dfs(node.right)\n",
    "        dfs(node.left)\n",
    "        return node\n",
    "\n",
    "    return dfs(root)\n",
    "\n",
    "        \n",
    "#         def dfs(node1, node2):\n",
    "#             if node1 is None and node2 is None:\n",
    "#                 return None, None\n",
    "            \n",
    "#             node1.val, node2.val = node2.val, node1.val\n",
    "            \n",
    "#             dfs(node1.left, node2.right)\n",
    "#             dfs(node1.right, node2.left)\n",
    "            \n",
    "#             return node1, node2\n",
    "        \n",
    "#         root.left, root.right = dfs(root.left, root.right)\n",
    "#         return root"
   ]
  },
  {
   "cell_type": "code",
   "execution_count": null,
   "metadata": {},
   "outputs": [],
   "source": [
    "def correct(root):\n",
    "    if not root:\n",
    "        return 0\n",
    "    if not root.left and not root.right:\n",
    "        return root.val\n",
    "    root.val = int(correct(root.left) & correct(root.right))\n",
    "    return root.val"
   ]
  },
  {
   "cell_type": "markdown",
   "metadata": {},
   "source": [
    "## Problem - 17\n",
    "\n",
    "https://leetcode.com/problems/vertical-order-traversal-of-a-binary-tree/submissions/"
   ]
  },
  {
   "cell_type": "code",
   "execution_count": null,
   "metadata": {},
   "outputs": [],
   "source": [
    "# Definition for a binary tree node.\n",
    "# class TreeNode:\n",
    "#     def __init__(self, val=0, left=None, right=None):\n",
    "#         self.val = val\n",
    "#         self.left = left\n",
    "#         self.right = right\n",
    "class Solution:\n",
    "    def verticalTraversal(self, root: TreeNode) -> List[List[int]]:\n",
    "        nodes = []\n",
    "        def dfs(node, row, col):\n",
    "            if node is None:\n",
    "                return \n",
    "            nodes.append((col, row, node.val))\n",
    "            dfs(node.left, row+1, col-1)\n",
    "            dfs(node.right, row+1, col+1)\n",
    "        dfs(root, 0, 0)\n",
    "        nodes.sort()\n",
    "        \n",
    "        groups = set([i[0] for i in nodes]) \n",
    "        node_list = [[i[2] for i in nodes if i[0]==grp] for grp in sorted(groups)]\n",
    "        return node_list\n",
    "        \n"
   ]
  },
  {
   "cell_type": "markdown",
   "metadata": {},
   "source": [
    "https://leetcode.com/problems/check-completeness-of-a-binary-tree/"
   ]
  },
  {
   "cell_type": "code",
   "execution_count": null,
   "metadata": {},
   "outputs": [],
   "source": [
    "# Definition for a binary tree node.\n",
    "# class TreeNode:\n",
    "#     def __init__(self, val=0, left=None, right=None):\n",
    "#         self.val = val\n",
    "#         self.left = left\n",
    "#         self.right = right\n",
    "class Solution:\n",
    "    def isCompleteTree(self, root: TreeNode) -> bool:\n",
    "        \n",
    "        self.nodes = []\n",
    "        def dfs(node, depth):\n",
    "            if node is None:\n",
    "                return \n",
    "            self.nodes.append((node.val, depth))\n",
    "            dfs(node.left, depth*2)\n",
    "            dfs(node.right, depth*2+1)\n",
    "        \n",
    "        dfs(root, 1)\n",
    "        self.nodes.sort(key=lambda x: x[0])\n",
    "        return self.nodes[-1][1] == len(self.nodes)\n",
    "                "
   ]
  },
  {
   "cell_type": "markdown",
   "metadata": {},
   "source": [
    "## Tree paths\n",
    "\n",
    "https://leetcode.com/problems/binary-tree-paths/submissions/\n",
    "    "
   ]
  },
  {
   "cell_type": "code",
   "execution_count": null,
   "metadata": {},
   "outputs": [],
   "source": [
    "    \n",
    "\n",
    "# Definition for a binary tree node.\n",
    "# class TreeNode:\n",
    "#     def __init__(self, val=0, left=None, right=None):\n",
    "#         self.val = val\n",
    "#         self.left = left\n",
    "#         self.right = right\n",
    "class Solution:\n",
    "    def binaryTreePaths(self, root: TreeNode) -> List[str]:\n",
    "        self.text = ''\n",
    "        \n",
    "        self. paths = []\n",
    "        def dfs(node, path):\n",
    "            if node is None:\n",
    "                return \n",
    "            \n",
    "            path += str(node.val)\n",
    "            if node.left is None and node.right is None:\n",
    "                self.paths.append(path)\n",
    "            else:\n",
    "                path +='->'\n",
    "                dfs(node.left, path)\n",
    "                dfs(node.right, path)\n",
    "                \n",
    "            return path\n",
    "        \n",
    "        dfs(root, '')\n",
    "        return self.paths"
   ]
  },
  {
   "cell_type": "markdown",
   "metadata": {},
   "source": [
    "\n",
    "## Path Sum\n",
    "https://leetcode.com/problems/path-sum-ii/\n",
    "\n",
    "https://leetcode.com/problems/path-sum/"
   ]
  },
  {
   "cell_type": "code",
   "execution_count": null,
   "metadata": {},
   "outputs": [],
   "source": [
    "\n",
    "    \n",
    "    \n",
    "class Solution:\n",
    "    def hasPathSum(self, root: TreeNode, targetSum: int) -> bool:\n",
    "        \n",
    "        def dfs(node, targetSum):\n",
    "            if node is None:\n",
    "                return\n",
    "            \n",
    "            if targetSum-node.val==0 and node.left is None and node.right is None:\n",
    "                self.flag=True\n",
    "            dfs(node.left, targetSum-node.val)\n",
    "            dfs(node.right, targetSum-node.val)\n",
    "        \n",
    "        self.flag=False\n",
    "        \n",
    "        dfs(root, targetSum)\n",
    "        \n",
    "        return self.flag\n",
    "    \n",
    "\n",
    "    \n",
    "class Solution:\n",
    "    def pathSum(self, root: TreeNode, targetSum: int) -> List[List[int]]:\n",
    "        \n",
    "        def dfs(node, targetSum, pathsum):\n",
    "            if node is None:\n",
    "                return 0\n",
    "            \n",
    "            #pathsum +=str(node.val)\n",
    "            if targetSum-node.val==0 and node.left is None and node.right is None:\n",
    "                pathsum  = pathsum+[node.val]\n",
    "                self.paths.append(pathsum)\n",
    "            else:\n",
    "                #pathsum +='->'\n",
    "                dfs(node.left, targetSum-node.val, pathsum+[node.val])\n",
    "                dfs(node.right, targetSum-node.val, pathsum+[node.val])\n",
    "            \n",
    "            return []\n",
    "        self.paths = []\n",
    "        dfs(root, targetSum, [])\n",
    "        print(self.paths)\n",
    "        return self.paths"
   ]
  },
  {
   "cell_type": "markdown",
   "metadata": {},
   "source": [
    "## Path Sum - 4\n",
    "https://leetcode.com/problems/path-sum-iv/"
   ]
  },
  {
   "cell_type": "code",
   "execution_count": 82,
   "metadata": {},
   "outputs": [],
   "source": [
    "# come again\n",
    "class Node(object):\n",
    "    def __init__(self, val):\n",
    "        self.val = val\n",
    "        self.left = self.right = None\n",
    "\n",
    "class Solution(object):\n",
    "    def pathSum(self, nums):\n",
    "        self.ans = 0\n",
    "        root = Node(nums[0] % 10)\n",
    "\n",
    "        for x in nums[1:]:\n",
    "            depth, pos, val = x/100, x/10 % 10, x % 10\n",
    "            pos -= 1\n",
    "            cur = root\n",
    "            for d in xrange(depth - 2, -1, -1):\n",
    "                if pos < 2**d:\n",
    "                    cur.left = cur = cur.left or Node(val)\n",
    "                else:\n",
    "                    cur.right = cur = cur.right or Node(val)\n",
    "\n",
    "                pos %= 2**d\n",
    "\n",
    "        def dfs(node, running_sum = 0):\n",
    "            if not node: return\n",
    "            running_sum += node.val\n",
    "            if not node.left and not node.right:\n",
    "                self.ans += running_sum\n",
    "            else:\n",
    "                dfs(node.left, running_sum)\n",
    "                dfs(node.right, running_sum)\n",
    "\n",
    "        dfs(root)\n",
    "        return self.ans"
   ]
  },
  {
   "cell_type": "code",
   "execution_count": null,
   "metadata": {},
   "outputs": [],
   "source": []
  },
  {
   "cell_type": "code",
   "execution_count": 85,
   "metadata": {},
   "outputs": [],
   "source": [
    "nums = [113,215,221]\n",
    "ans = 0\n",
    "root = Node(nums[0] % 10)"
   ]
  },
  {
   "cell_type": "code",
   "execution_count": 86,
   "metadata": {},
   "outputs": [],
   "source": [
    "x = nums[1]"
   ]
  },
  {
   "cell_type": "code",
   "execution_count": 100,
   "metadata": {},
   "outputs": [],
   "source": [
    "depth, pos, val = x/100, x/10 % 10, x % 10"
   ]
  },
  {
   "cell_type": "code",
   "execution_count": 101,
   "metadata": {},
   "outputs": [],
   "source": [
    "cur = root"
   ]
  },
  {
   "cell_type": "code",
   "execution_count": null,
   "metadata": {},
   "outputs": [],
   "source": [
    "for d in range(depth-2)"
   ]
  },
  {
   "cell_type": "code",
   "execution_count": 105,
   "metadata": {},
   "outputs": [
    {
     "name": "stdout",
     "output_type": "stream",
     "text": [
      "2.15 0.5\n",
      "2.21 1.1000000000000014\n"
     ]
    }
   ],
   "source": [
    "\n",
    "\n",
    "for x in nums[1:]:\n",
    "    depth, pos, val = x/100, x/10 % 10, x % 10\n",
    "    pos -= 1\n",
    "    cur = root\n",
    "    print(depth, pos)\n",
    "#     for d in xrange(depth - 2, -1, -1):\n",
    "#         if pos < 2**d:\n",
    "#             cur.left = cur = cur.left or Node(val)\n",
    "#         else:\n",
    "#             cur.right = cur = cur.right or Node(val)\n",
    "\n",
    "#         pos %= 2**d"
   ]
  },
  {
   "cell_type": "markdown",
   "metadata": {},
   "source": [
    "## lowest Common ancestor \n",
    "https://leetcode.com/problems/lowest-common-ancestor-of-a-binary-search-tree/submissions/\n",
    "\n",
    "https://leetcode.com/problems/lowest-common-ancestor-of-a-binary-tree-iv/"
   ]
  },
  {
   "cell_type": "code",
   "execution_count": null,
   "metadata": {},
   "outputs": [],
   "source": [
    "## Logic\n",
    "# Practice\n",
    "\n",
    "def lowestCommonAncestor(self, root: 'TreeNode', nodes: 'List[TreeNode]') -> 'TreeNode':\n",
    "    def dfs(node):\n",
    "        if node is None:\n",
    "            return 0\n",
    "\n",
    "        left = dfs(node.left)\n",
    "        right = dfs(node.right)\n",
    "\n",
    "        carry =0 \n",
    "        if node in set(nodes):\n",
    "            carry+=1\n",
    "\n",
    "        if left+right+carry>=len(nodes) and self.ans is None:\n",
    "            self.ans=node\n",
    "            \n",
    "        return left+right+carry\n",
    "    \n",
    "    self.ans=None\n",
    "    dfs(root)\n",
    "    return self.ans\n",
    "\n"
   ]
  },
  {
   "cell_type": "code",
   "execution_count": null,
   "metadata": {},
   "outputs": [],
   "source": [
    "# Logic\n",
    "class Solution:\n",
    "    def lowestCommonAncestor(self, root: 'TreeNode', p: 'TreeNode', q: 'TreeNode') -> 'TreeNode':\n",
    "        def dfs(node):\n",
    "            if node is None:\n",
    "                return \n",
    "            \n",
    "            anc = [node]\n",
    "            if node.val<p.val and node.val<q.val:\n",
    "                dfs(node.right)\n",
    "            elif node.val>p.val and node.val>q.val:\n",
    "                dfs(node.left)\n",
    "            else:\n",
    "                self.result = node\n",
    "                return\n",
    "            \n",
    "        self.result = None\n",
    "        dfs(root)\n",
    "        return self.result"
   ]
  },
  {
   "cell_type": "markdown",
   "metadata": {},
   "source": [
    "## Lowest Common Ancestor  - 3\n",
    "https://leetcode.com/problems/lowest-common-ancestor-of-a-binary-tree-iii/"
   ]
  },
  {
   "cell_type": "code",
   "execution_count": 783,
   "metadata": {},
   "outputs": [],
   "source": [
    "\"\"\"\n",
    "# Definition for a Node.\n",
    "class Node:\n",
    "    def __init__(self, val):\n",
    "        self.val = val\n",
    "        self.left = None\n",
    "        self.right = None\n",
    "        self.parent = None\n",
    "\"\"\"\n",
    "\n",
    "class Solution:\n",
    "    def lowestCommonAncestor(self, p: 'Node', q: 'Node') -> 'Node':\n",
    "        pA, qA = p, q\n",
    "        s = set()\n",
    "        while pA != None:\n",
    "            if pA.val == q.val:\n",
    "                return pA\n",
    "            s.add(pA.val)\n",
    "            pA = pA.parent\n",
    "        while qA != None:\n",
    "            if qA.val in s:\n",
    "                return qA\n",
    "            qA = qA.parent\n",
    "        return qA"
   ]
  },
  {
   "cell_type": "markdown",
   "metadata": {},
   "source": [
    "## Delete nodes return Forest\n",
    "https://leetcode.com/problems/delete-nodes-and-return-forest/"
   ]
  },
  {
   "cell_type": "code",
   "execution_count": null,
   "metadata": {},
   "outputs": [],
   "source": [
    "# Definition for a binary tree node.\n",
    "# class TreeNode:\n",
    "#     def __init__(self, val=0, left=None, right=None):\n",
    "#         self.val = val\n",
    "#         self.left = left\n",
    "#         self.right = right\n",
    "class Solution:\n",
    "    def delNodes(self, root: TreeNode, to_delete: List[int]) -> List[TreeNode]:\n",
    "        \n",
    "        forest = []\n",
    "        def dfs(node, parent):\n",
    "            if node is None:\n",
    "                return \n",
    "            \n",
    "            if node.val in to_delete:\n",
    "                if parent.left == node:\n",
    "                    parent.left=None\n",
    "                if parent.right==node:\n",
    "                    parent.right=None\n",
    "                if node.left and node.left.val not in to_delete:\n",
    "                    forest.append(node.left)\n",
    "                if node.right and node.right.val not in to_delete:\n",
    "                    forest.append(node.right)\n",
    "            dfs(node.left, node)\n",
    "            dfs(node.right, node)\n",
    "        \n",
    "        if root.val not in to_delete:\n",
    "            forest.append(root)\n",
    "        dfs(root, TreeNode(-1))\n",
    "        return forest"
   ]
  },
  {
   "cell_type": "markdown",
   "metadata": {},
   "source": [
    "## ALl nodes distance K\n",
    "https://leetcode.com/problems/all-nodes-distance-k-in-binary-tree/submissions/"
   ]
  },
  {
   "cell_type": "code",
   "execution_count": null,
   "metadata": {},
   "outputs": [],
   "source": [
    "# Come again\n",
    "# Check l, r nodes condition\n",
    "class Solution:\n",
    "    def distanceK(self, root: TreeNode, target: TreeNode, K: int) -> List[int]:\n",
    "        \n",
    "        ans = []\n",
    "        def dfs(node):\n",
    "            if node is None:\n",
    "                return -1\n",
    "            if node is target:\n",
    "                get_lower_nodes(node, 0)\n",
    "                return 1\n",
    "            l = dfs(node.left)\n",
    "            r = dfs(node.right)\n",
    "            if r==K or l==K:\n",
    "                ans.append(node.val)\n",
    "            if l!=-1:\n",
    "                get_lower_nodes(node.right, l+1)\n",
    "                return l+1\n",
    "            if r!=-1:\n",
    "                get_lower_nodes(node.left, r+1)\n",
    "                return r+1\n",
    "            return -1\n",
    "        \n",
    "        def get_lower_nodes(node, d):\n",
    "            if node is None:\n",
    "                return d\n",
    "            if d==K:\n",
    "                ans.append(node.val)\n",
    "            get_lower_nodes(node.left, d+1)\n",
    "            get_lower_nodes(node.right, d+1)\n",
    "        \n",
    "        dfs(root)\n",
    "        return ans\n",
    "        print(ans)\n",
    "                "
   ]
  },
  {
   "cell_type": "markdown",
   "metadata": {},
   "source": [
    "## Problem - 18\n",
    "\n",
    "https://leetcode.com/problems/integer-to-english-words/solution/"
   ]
  },
  {
   "cell_type": "code",
   "execution_count": null,
   "metadata": {},
   "outputs": [],
   "source": [
    "class Solution:\n",
    "    def numberToWords(self, num: int) -> str:\n",
    "        NumText = ['One','Two','Three','Four','Five','Six','Seven', 'Eight',\n",
    "                'Nine', 'Ten', 'Eleven', 'Twelve', 'Thirteen', 'Fouteen',\n",
    "                'Fifteen', 'Sixteen', 'Seventeen', 'Eighteen', 'Nineteen']\n",
    "        tens = ['Ten', 'Twenty', 'Thirty', 'Fourty', 'Fifty', 'Sixty',\n",
    "                'Seventy', 'Eighty', 'Ninety']\n",
    "        plurals = ['Hundred', 'Thousand', 'Million', 'Billion']\n",
    "        \n",
    "        num_dict = dict(zip(list(range(1,20))+list(range(10,100, 10)), NumText+tens))\n",
    "        num_dict = dict([(str(i),v) for i,v in num_dict.items()])\n",
    "        plurals = ['100', '1000']\n",
    "        print(num_dict)\n",
    "        string = ''\n",
    "        nm = str(num)\n",
    "        num_dict[nm[-2]+'0'] + num_dict[nm[-1]]\n",
    "        \n",
    "        \n",
    "#         huns = nm[-3:]\n",
    "        \n",
    "        \n",
    "        \n",
    "#         if num/1000000000>1:\n",
    "#             print('check billions')\n",
    "#         elif num/1000000>1:\n",
    "#             print('check millions')\n",
    "#         elif num/10000>1:\n",
    "#             print('check thousands')\n",
    "#         else:\n",
    "            "
   ]
  },
  {
   "cell_type": "markdown",
   "metadata": {},
   "source": [
    "## Text justification\n",
    "https://leetcode.com/problems/text-justification/"
   ]
  },
  {
   "cell_type": "code",
   "execution_count": 907,
   "metadata": {},
   "outputs": [],
   "source": [
    "words = [\"This\", \"is\", \"an\", \"example\", \"of\", \"text\", \"justification.\"]\n",
    "words = [\"What\",\"must\",\"be\",\"acknowledgment\",\"shall\",\"be\"]\n",
    "maxWidth = 16"
   ]
  },
  {
   "cell_type": "code",
   "execution_count": 908,
   "metadata": {},
   "outputs": [
    {
     "name": "stdout",
     "output_type": "stream",
     "text": [
      "gone in\n",
      "['What', 'must', 'be'] 10 What   must    [3, 3]\n",
      "modeified  ['acknowledgment', 'shall', 'be']\n",
      "gone in\n",
      "gone in\n",
      "['shall', 'be'] 7 shall          [9]\n",
      "modeified  []\n",
      "['What   must   be', 'acknowledgment  ', 'shall         be']\n"
     ]
    }
   ],
   "source": [
    "\n",
    "words1 = words\n",
    "## Distributes values\n",
    "def distributeSpaces(spaces, te_len):\n",
    "    sp = [spaces//te_len]*te_len\n",
    "    for i in range(spaces%te_len):\n",
    "        sp[i] +=1\n",
    "    return sp\n",
    "\n",
    "res = []\n",
    "i = 1\n",
    "while len(words1)>0:\n",
    "    te = words1[:i]\n",
    "    if (len(te)-1 + sum([len(j) for j in te])<maxWidth) and i<=len(words1):\n",
    "        \n",
    "        i+=1\n",
    "    else:\n",
    "        print('gone in')\n",
    "        i = i-1\n",
    "        te = words1[:i] \n",
    "        te_len = sum([len(j) for j in te])\n",
    "        spaces = maxWidth-te_len\n",
    "        if len(te)==1:\n",
    "            res.append(te[0]+' '*spaces)\n",
    "            words1 = words1[i:]\n",
    "            i=1\n",
    "            continue\n",
    "        sp = distributeSpaces(spaces, len(te)-1)\n",
    "            \n",
    "        sent = ''\n",
    "        for w, s in zip(te[:-1], sp):\n",
    "            sent+=w+' '*s\n",
    "        print(te, te_len, sent, sp)\n",
    "        sent +=te[-1]\n",
    "\n",
    "        res.append(sent)\n",
    "        words1 = words1[i:]\n",
    "        print('modeified ',words1)\n",
    "        i=1 \n",
    "print(res)\n"
   ]
  },
  {
   "cell_type": "code",
   "execution_count": 909,
   "metadata": {},
   "outputs": [
    {
     "data": {
      "text/plain": [
       "['What   must   be', 'acknowledgment  ', 'shall         be']"
      ]
     },
     "execution_count": 909,
     "metadata": {},
     "output_type": "execute_result"
    }
   ],
   "source": [
    "res"
   ]
  },
  {
   "cell_type": "code",
   "execution_count": 882,
   "metadata": {},
   "outputs": [
    {
     "data": {
      "text/plain": [
       "[8, 3, 2]"
      ]
     },
     "execution_count": 882,
     "metadata": {},
     "output_type": "execute_result"
    }
   ],
   "source": [
    "[i.count(' ') for i in a]"
   ]
  },
  {
   "cell_type": "markdown",
   "metadata": {},
   "source": [
    "# Combinations"
   ]
  },
  {
   "cell_type": "markdown",
   "metadata": {},
   "source": [
    "## Problem \n",
    "https://leetcode.com/problems/combination-sum/"
   ]
  },
  {
   "cell_type": "code",
   "execution_count": null,
   "metadata": {},
   "outputs": [],
   "source": [
    "# Logic\n",
    "\n",
    "class Solution:\n",
    "    def combinationSum(self, candidates: List[int], target: int) -> List[List[int]]:\n",
    "        \n",
    "        # c = sorted([i for i in candidates if i<target])\n",
    "        # co = []\n",
    "        \n",
    "        self.results = []\n",
    "        def dfs(c, tg, res):\n",
    "            if tg==0:\n",
    "                self.results.append(res)\n",
    "            for i in range(len(c)):\n",
    "                if c[i]<=tg:\n",
    "                    dfs(c[i:], tg-c[i], [c[i]]+res)\n",
    "            \n",
    "        dfs(candidates, target, [])\n",
    "        return self.results"
   ]
  },
  {
   "cell_type": "code",
   "execution_count": 26,
   "metadata": {},
   "outputs": [],
   "source": [
    "selfresults = []\n",
    "def dfs(c, tg, res):\n",
    "    if tg==0:\n",
    "        selfresults.append(res)\n",
    "        \n",
    "    for i in range(len(c)):\n",
    "        if c[i]<=tg:\n",
    "            dfs(c[i:], tg-c[i], [c[i]]+res)"
   ]
  },
  {
   "cell_type": "code",
   "execution_count": 27,
   "metadata": {
    "scrolled": true
   },
   "outputs": [
    {
     "data": {
      "text/plain": [
       "[[3, 2, 2], [7]]"
      ]
     },
     "execution_count": 27,
     "metadata": {},
     "output_type": "execute_result"
    }
   ],
   "source": [
    "candidates = [2,3,6,7]\n",
    "target = 7\n",
    "dfs(candidates, target, [])\n",
    "selfresults"
   ]
  },
  {
   "cell_type": "code",
   "execution_count": 168,
   "metadata": {},
   "outputs": [
    {
     "data": {
      "text/plain": [
       "[[1, 1, 1, 1, 1, 1, 1, 1, 1, 1, 1],\n",
       " [2, 1, 1, 1, 1, 1, 1, 1, 1, 1],\n",
       " [2, 2, 1, 1, 1, 1, 1, 1, 1],\n",
       " [5, 1, 1, 1, 1, 1, 1],\n",
       " [2, 2, 2, 1, 1, 1, 1, 1],\n",
       " [5, 2, 1, 1, 1, 1],\n",
       " [2, 2, 2, 2, 1, 1, 1],\n",
       " [5, 2, 2, 1, 1],\n",
       " [2, 2, 2, 2, 2, 1],\n",
       " [5, 5, 1],\n",
       " [5, 2, 2, 2]]"
      ]
     },
     "execution_count": 168,
     "metadata": {},
     "output_type": "execute_result"
    }
   ],
   "source": [
    "\n",
    "selfresults = []\n",
    "coins = [1,2,5]\n",
    "amount = 11\n",
    "dfs(coins, amount, [])\n",
    "selfresults"
   ]
  },
  {
   "cell_type": "code",
   "execution_count": 29,
   "metadata": {},
   "outputs": [
    {
     "data": {
      "text/plain": [
       "[[2, 2, 3], [7]]"
      ]
     },
     "execution_count": 29,
     "metadata": {},
     "output_type": "execute_result"
    }
   ],
   "source": [
    "answer"
   ]
  },
  {
   "cell_type": "code",
   "execution_count": 30,
   "metadata": {},
   "outputs": [],
   "source": [
    "candidates = [2,3,6,7]\n",
    "target = 7"
   ]
  },
  {
   "cell_type": "code",
   "execution_count": 51,
   "metadata": {},
   "outputs": [],
   "source": [
    "results = []\n",
    "temp = [([], 0)]\n",
    "for i in candidates:\n",
    "    for l1, t in temp:\n",
    "        if t==target:\n",
    "            results.append(l1)\n",
    "        elif t+i<=target:\n",
    "            temp.append((l1+[i], t+i))\n",
    "            "
   ]
  },
  {
   "cell_type": "code",
   "execution_count": 1,
   "metadata": {},
   "outputs": [],
   "source": [
    "# Come again\n",
    "answer = []\n",
    "candidates = [2,3,6,7]\n",
    "target = 7\n",
    "universe = [([], 0)]\n",
    "for n in candidates:\n",
    "    for (ls, v) in universe:\n",
    "        if v + n == target:\n",
    "            answer.append(ls + [n])\n",
    "        elif v + n < target:\n",
    "            universe.append((ls + [n], v + n))"
   ]
  },
  {
   "cell_type": "code",
   "execution_count": 3,
   "metadata": {},
   "outputs": [
    {
     "data": {
      "text/plain": [
       "[[2, 2, 3], [7]]"
      ]
     },
     "execution_count": 3,
     "metadata": {},
     "output_type": "execute_result"
    }
   ],
   "source": [
    "answer"
   ]
  },
  {
   "cell_type": "code",
   "execution_count": 2,
   "metadata": {},
   "outputs": [
    {
     "data": {
      "text/plain": [
       "[([], 0),\n",
       " ([2], 2),\n",
       " ([2, 2], 4),\n",
       " ([2, 2, 2], 6),\n",
       " ([3], 3),\n",
       " ([2, 3], 5),\n",
       " ([3, 3], 6),\n",
       " ([6], 6)]"
      ]
     },
     "execution_count": 2,
     "metadata": {},
     "output_type": "execute_result"
    }
   ],
   "source": [
    "universe"
   ]
  },
  {
   "cell_type": "markdown",
   "metadata": {},
   "source": [
    "## Any Combs\n",
    "https://leetcode.com/problems/subarray-sums-divisible-by-k/"
   ]
  },
  {
   "cell_type": "code",
   "execution_count": null,
   "metadata": {},
   "outputs": [],
   "source": [
    "def combs(li, res):\n",
    "    if sum(li)%k==0 and li not in res and len(li)>0:\n",
    "        res.append(li)\n",
    "    if len(li)==0:\n",
    "        return\n",
    "    \n",
    "    for i in range(len(li)):\n",
    "        combs(li[:i]+li[i+1:], res)\n",
    "    return res"
   ]
  },
  {
   "cell_type": "code",
   "execution_count": 1,
   "metadata": {},
   "outputs": [],
   "source": [
    "\n",
    "nums = [0,-1,2,-3,1]"
   ]
  },
  {
   "cell_type": "code",
   "execution_count": 9,
   "metadata": {},
   "outputs": [],
   "source": [
    "def combs(li):\n",
    "    global c \n",
    "    if c>100:\n",
    "        return\n",
    "    c+=1\n",
    "    \n",
    "    if len(li)==3 and sum(li)==0:\n",
    "        results.append(li)\n",
    "        return\n",
    "    if len(li)<3:\n",
    "        return\n",
    "    for i in range(len(li)):\n",
    "        combs(li[:i]+li[i+1:])"
   ]
  },
  {
   "cell_type": "code",
   "execution_count": 10,
   "metadata": {},
   "outputs": [],
   "source": [
    "c =0"
   ]
  },
  {
   "cell_type": "code",
   "execution_count": 11,
   "metadata": {},
   "outputs": [],
   "source": [
    "results = []\n",
    "combs(nums)"
   ]
  },
  {
   "cell_type": "code",
   "execution_count": 12,
   "metadata": {},
   "outputs": [
    {
     "data": {
      "text/plain": [
       "[[2, -3, 1], [2, -3, 1], [0, -1, 1], [0, -1, 1]]"
      ]
     },
     "execution_count": 12,
     "metadata": {},
     "output_type": "execute_result"
    }
   ],
   "source": [
    "results"
   ]
  },
  {
   "cell_type": "code",
   "execution_count": 10,
   "metadata": {},
   "outputs": [],
   "source": [
    "def combs(li, res):\n",
    "    if len(res)==3 and sum(res)==0:\n",
    "        results.append(res)\n",
    "        return\n",
    "    if len(li)<3:\n",
    "        return\n",
    "    for i in range(len(li)):\n",
    "        combs(li[i:], res+[li[i]])"
   ]
  },
  {
   "cell_type": "code",
   "execution_count": 11,
   "metadata": {},
   "outputs": [],
   "source": [
    "results = []"
   ]
  },
  {
   "cell_type": "code",
   "execution_count": null,
   "metadata": {},
   "outputs": [],
   "source": [
    "results"
   ]
  },
  {
   "cell_type": "markdown",
   "metadata": {},
   "source": [
    "## Text Combinations\n",
    "https://leetcode.com/problems/palindromic-substrings/"
   ]
  },
  {
   "cell_type": "code",
   "execution_count": 155,
   "metadata": {},
   "outputs": [],
   "source": [
    "class Solution:\n",
    "    def countSubstrings(self, s: str) -> int:\n",
    "        \n",
    "        cnt = 0\n",
    "        for i in range(len(s)):\n",
    "            for j in range(i+1, len(s)+1):\n",
    "                if s[i:j] == s[i:j][::-1]:\n",
    "                    cnt += 1\n",
    "        \n",
    "        return cnt"
   ]
  },
  {
   "cell_type": "code",
   "execution_count": null,
   "metadata": {},
   "outputs": [],
   "source": []
  },
  {
   "cell_type": "code",
   "execution_count": 185,
   "metadata": {},
   "outputs": [],
   "source": [
    "points = [[1,1],[1,3],[3,1],[3,3],[2,2]]\n",
    "points = [[1,1],[1,3],[3,1],[3,3],[4,1],[4,3]]\n",
    "\n",
    "points.sort(key=lambda x: x[0])\n",
    "p = points[0]\n",
    "a = [(i-p[0], j-p[1]) for i,j in points[:]]"
   ]
  },
  {
   "cell_type": "code",
   "execution_count": 186,
   "metadata": {},
   "outputs": [
    {
     "data": {
      "text/plain": [
       "[(0, 0), (0, 2), (2, 0), (2, 2), (3, 0), (3, 2)]"
      ]
     },
     "execution_count": 186,
     "metadata": {},
     "output_type": "execute_result"
    }
   ],
   "source": [
    "a"
   ]
  },
  {
   "cell_type": "code",
   "execution_count": 187,
   "metadata": {},
   "outputs": [
    {
     "data": {
      "text/plain": [
       "4"
      ]
     },
     "execution_count": 187,
     "metadata": {},
     "output_type": "execute_result"
    }
   ],
   "source": [
    "corner = max([min(i) for i in a])\n",
    "origin = min([min(i) for i in a])\n",
    "(corner-origin)**2"
   ]
  },
  {
   "cell_type": "markdown",
   "metadata": {},
   "source": [
    "## fibonacci Series"
   ]
  },
  {
   "cell_type": "code",
   "execution_count": 30,
   "metadata": {},
   "outputs": [],
   "source": [
    "f = [0, 1, 1, 2, 3, 5, 8, 13, 21, 34, 55, 89, 144]\n",
    "def fibonac(l):\n",
    "    if len(l)==n:\n",
    "        return l\n",
    "    l.append(sum(l[-2:]))\n",
    "    l = fibonac(l)\n",
    "    return l"
   ]
  },
  {
   "cell_type": "code",
   "execution_count": 34,
   "metadata": {},
   "outputs": [],
   "source": [
    "n = 12"
   ]
  },
  {
   "cell_type": "code",
   "execution_count": 35,
   "metadata": {},
   "outputs": [
    {
     "data": {
      "text/plain": [
       "[0, 1, 1, 2, 3, 5, 8, 13, 21, 34, 55, 89]"
      ]
     },
     "execution_count": 35,
     "metadata": {},
     "output_type": "execute_result"
    }
   ],
   "source": [
    "fibonac([0,1])"
   ]
  },
  {
   "cell_type": "markdown",
   "metadata": {},
   "source": []
  },
  {
   "cell_type": "code",
   "execution_count": null,
   "metadata": {},
   "outputs": [],
   "source": []
  },
  {
   "cell_type": "markdown",
   "metadata": {},
   "source": [
    "## N-Queens\n",
    "\n",
    "https://leetcode.com/problems/n-queens/discuss/1171382/Python-easy-to-Understand"
   ]
  },
  {
   "cell_type": "code",
   "execution_count": 4,
   "metadata": {
    "scrolled": true
   },
   "outputs": [],
   "source": [
    "# Come again\n",
    "# Logic\n",
    "\n",
    "def recur(c,asf,queens):\n",
    "    if c==n:\n",
    "        ans.append(asf.copy())\n",
    "        return\n",
    "    \n",
    "    s='.'*n\n",
    "    for i in range(0,n):\n",
    "        flag=True\n",
    "        print(queens)\n",
    "    \n",
    "        for j in queens:\n",
    "#             from IPython.core.debugger import set_trace\n",
    "#             set_trace()\n",
    "            # verticle\n",
    "            if i==j[1]:\n",
    "                flag=False\n",
    "                break\n",
    "\n",
    "            # right diagonal\n",
    "            if j[0]+j[1]==i+c:\n",
    "                flag=False\n",
    "                break\n",
    "\n",
    "            # left diagonal\n",
    "            if j[0]-j[1]==c-i:\n",
    "                flag=False\n",
    "                break\n",
    "                \n",
    "        if flag:\n",
    "            \n",
    "            queens.append([c,i])\n",
    "            asf.append(s[:i]+'Q'+s[i+1:])\n",
    "            recur(c+1,asf,queens)\n",
    "            asf.pop()\n",
    "            queens.pop()\n",
    "        #print(asf)\n",
    "\n",
    "ans=[]\n",
    "n = 4\n",
    "recur(0,[],[])\n",
    "ans"
   ]
  },
  {
   "cell_type": "code",
   "execution_count": null,
   "metadata": {},
   "outputs": [],
   "source": [
    "def recurs(c, rows, queens):\n",
    "    if c==n:\n",
    "        res.append(rows)\n",
    "        \n",
    "    for r in range(n):\n",
    "        flag = True\n",
    "        for i in range(queens):\n",
    "            "
   ]
  },
  {
   "cell_type": "code",
   "execution_count": 284,
   "metadata": {
    "scrolled": true
   },
   "outputs": [
    {
     "name": "stdout",
     "output_type": "stream",
     "text": [
      ".Q..\n",
      "...Q\n",
      "Q...\n",
      "..Q.\n"
     ]
    }
   ],
   "source": [
    "print('\\n'.join(ans[0]))"
   ]
  },
  {
   "cell_type": "code",
   "execution_count": 129,
   "metadata": {},
   "outputs": [],
   "source": [
    "\n",
    "def solveNQueens(n):\n",
    "    res=[]\n",
    "    def backtrack(queens):\n",
    "        #print(queens)\n",
    "        l = len(queens)\n",
    "#        print(res)\n",
    "        if l == n:\n",
    "            #print('gone in')\n",
    "            res.append(['.'*i+'Q'+'.'*(n-1-i) for i in queens])\n",
    "            return\n",
    "        for i in range(n):\n",
    "            if i in queens:\n",
    "                continue\n",
    "            for r,c in enumerate(queens):\n",
    "                if (i-l == c-r) or (i+l == r+c):\n",
    "                    break\n",
    "            else:\n",
    "                queens.append(i)\n",
    "                #print(queens)\n",
    "                backtrack(queens)\n",
    "                queens.pop()\n",
    "    backtrack([])\n",
    "    return res"
   ]
  },
  {
   "cell_type": "code",
   "execution_count": 140,
   "metadata": {},
   "outputs": [],
   "source": [
    "a = solveNQueens(4)"
   ]
  },
  {
   "cell_type": "code",
   "execution_count": 141,
   "metadata": {
    "scrolled": true
   },
   "outputs": [
    {
     "data": {
      "text/plain": [
       "[['.Q..', '...Q', 'Q...', '..Q.'], ['..Q.', 'Q...', '...Q', '.Q..']]"
      ]
     },
     "execution_count": 141,
     "metadata": {},
     "output_type": "execute_result"
    }
   ],
   "source": [
    "a"
   ]
  },
  {
   "cell_type": "code",
   "execution_count": 107,
   "metadata": {},
   "outputs": [
    {
     "data": {
      "text/plain": [
       "['.Q....', '...Q..', '.....Q', 'Q.....', '..Q...', '....Q.']"
      ]
     },
     "execution_count": 107,
     "metadata": {},
     "output_type": "execute_result"
    }
   ],
   "source": [
    "['.Q....', \n",
    " '...Q..', \n",
    " '.....Q', \n",
    " 'Q.....', \n",
    " '..Q...', \n",
    " '....Q.']"
   ]
  },
  {
   "cell_type": "code",
   "execution_count": 40,
   "metadata": {},
   "outputs": [],
   "source": [
    "# come again\n",
    "def recur(queens):\n",
    "    r2 = len(queens)\n",
    "    if r2==n:\n",
    "        results.append(queens)\n",
    "    for c2 in range(n):\n",
    "        flag=True\n",
    "        if c2 in queens:\n",
    "            continue\n",
    "        for r1, c1 in enumerate(queens):\n",
    "            if r1-c1==r2-c2 or r1+c1==r2+c2:\n",
    "                flag=False\n",
    "                break\n",
    "        if flag:\n",
    "            recur(queens+[c2])"
   ]
  },
  {
   "cell_type": "code",
   "execution_count": 41,
   "metadata": {},
   "outputs": [
    {
     "data": {
      "text/plain": [
       "[[1, 3, 0, 2], [2, 0, 3, 1]]"
      ]
     },
     "execution_count": 41,
     "metadata": {},
     "output_type": "execute_result"
    }
   ],
   "source": [
    "n=4\n",
    "results = []\n",
    "recur([])\n",
    "results "
   ]
  },
  {
   "cell_type": "code",
   "execution_count": 43,
   "metadata": {},
   "outputs": [
    {
     "data": {
      "text/plain": [
       "[[1, 3, 0, 2], [2, 0, 3, 1]]"
      ]
     },
     "execution_count": 43,
     "metadata": {},
     "output_type": "execute_result"
    }
   ],
   "source": [
    "def recur(queens, n):\n",
    "    if len(queens)==n:\n",
    "        ans.append(queens)\n",
    "    r1 = len(queens)\n",
    "    for c1 in range(n):\n",
    "        flag=True\n",
    "        if c1 in queens:\n",
    "            continue\n",
    "        for r, c in enumerate(queens):\n",
    "            if r-c==r1-c1 or r+c==r1+c1:\n",
    "                flag=False\n",
    "                break\n",
    "        if flag:\n",
    "            recur(queens+[c1], n)\n",
    "ans = []\n",
    "recur([], 4)\n",
    "ans"
   ]
  },
  {
   "cell_type": "code",
   "execution_count": 147,
   "metadata": {},
   "outputs": [],
   "source": [
    "n = 4"
   ]
  },
  {
   "cell_type": "code",
   "execution_count": 115,
   "metadata": {},
   "outputs": [
    {
     "name": "stdout",
     "output_type": "stream",
     "text": [
      "5 0 4 4 False [[0, 1], [1, 3], [2, 0], [3, 2], [4, 4]]\n",
      "5 1 4 4 False [[0, 1], [1, 3], [2, 0], [3, 2], [4, 4]]\n",
      "5 2 4 4 False [[0, 1], [1, 3], [2, 0], [3, 2], [4, 4]]\n",
      "5 3 4 4 False [[0, 1], [1, 3], [2, 0], [3, 2], [4, 4]]\n",
      "5 4 4 4 False [[0, 1], [1, 3], [2, 0], [3, 2], [4, 4]]\n",
      "5 5 4 4 False [[0, 1], [1, 3], [2, 0], [3, 2], [4, 4]]\n",
      "[[0, 1], [1, 3], [2, 0], [3, 2], [4, 4]] 1\n"
     ]
    }
   ],
   "source": [
    "# for i in range(0, n):\n",
    "i = 1\n",
    "queens = [[0,i]]\n",
    "\n",
    "\n",
    "for r in range(1, n):\n",
    "    for c in range(n):\n",
    "        flag = True\n",
    "        for r1, c1 in queens:\n",
    "            if c1==c:\n",
    "                flag=False\n",
    "                continue\n",
    "            if r1-c1==r-c or r+c ==r1+c1:\n",
    "                flag=False\n",
    "                continue\n",
    "        if r==5:\n",
    "            print(r,c, r1,c1, flag, queens)\n",
    "        if flag:\n",
    "            queens.append([r,c])\n",
    "            break\n",
    "            \n",
    "print(queens, i )\n",
    "if len(queens)==n:\n",
    "    print(queens)"
   ]
  },
  {
   "cell_type": "code",
   "execution_count": 216,
   "metadata": {},
   "outputs": [],
   "source": [
    "a = [['.']*n for i in range(n)]"
   ]
  },
  {
   "cell_type": "code",
   "execution_count": 218,
   "metadata": {},
   "outputs": [],
   "source": [
    "for p in [[0, 5], (1, 0), (2, 2), (3, 4), (4, 6), (5, 1), (6, 3)]:#[[0, 2], (1, 0), (2, 3), (3, 1)]:#[[0, 1], (1, 3), (2, 0), (3, 2)]:\n",
    "    a[p[0]][p[1]]='Q'"
   ]
  },
  {
   "cell_type": "code",
   "execution_count": 219,
   "metadata": {},
   "outputs": [
    {
     "data": {
      "text/plain": [
       "[['.', '.', '.', '.', '.', 'Q', '.'],\n",
       " ['Q', '.', '.', '.', '.', '.', '.'],\n",
       " ['.', '.', 'Q', '.', '.', '.', '.'],\n",
       " ['.', '.', '.', '.', 'Q', '.', '.'],\n",
       " ['.', '.', '.', '.', '.', '.', 'Q'],\n",
       " ['.', 'Q', '.', '.', '.', '.', '.'],\n",
       " ['.', '.', '.', 'Q', '.', '.', '.']]"
      ]
     },
     "execution_count": 219,
     "metadata": {},
     "output_type": "execute_result"
    }
   ],
   "source": [
    "a"
   ]
  },
  {
   "cell_type": "code",
   "execution_count": 225,
   "metadata": {},
   "outputs": [
    {
     "data": {
      "text/plain": [
       "[['.', '.', '.', 'Q', '.'],\n",
       " ['Q', '.', '.', '.', '.'],\n",
       " ['.', '.', 'Q', '.', '.'],\n",
       " ['.', '.', '.', '.', 'Q'],\n",
       " ['.', 'Q', '.', '.', '.']]"
      ]
     },
     "execution_count": 225,
     "metadata": {},
     "output_type": "execute_result"
    }
   ],
   "source": [
    "a"
   ]
  },
  {
   "cell_type": "markdown",
   "metadata": {},
   "source": [
    "## Problem - 19\n",
    "\n",
    "https://leetcode.com/problems/exclusive-time-of-functions/"
   ]
  },
  {
   "cell_type": "code",
   "execution_count": 162,
   "metadata": {},
   "outputs": [],
   "source": [
    "stack = ['0','1']"
   ]
  },
  {
   "cell_type": "code",
   "execution_count": 28,
   "metadata": {},
   "outputs": [],
   "source": [
    "n =[\"0:start:0\",\"0:start:2\",\"0:end:5\",\"1:start:6\",\"1:end:6\",\"0:end:7\"]"
   ]
  },
  {
   "cell_type": "code",
   "execution_count": 61,
   "metadata": {},
   "outputs": [],
   "source": [
    "c = \"0:start:2\"\n",
    "n =  [\"0:start:0\",\"1:start:2\",\"1:end:5\",\"0:end:6\"]"
   ]
  },
  {
   "cell_type": "code",
   "execution_count": 568,
   "metadata": {},
   "outputs": [],
   "source": [
    "grp = ['0:start:0', '1:start:2', '1:end:5', '2:start:6', '2:end:9', '0:end:12']\n",
    "grp = [\"0:start:0\",\"0:start:2\",\"0:end:5\",\"0:start:6\",\"0:end:6\",\"0:end:7\"]"
   ]
  },
  {
   "cell_type": "code",
   "execution_count": 587,
   "metadata": {},
   "outputs": [],
   "source": [
    "stack = ['0']\n",
    "dict1 = {'0':0, '1':0, '2':0}\n",
    "i = 5"
   ]
  },
  {
   "cell_type": "code",
   "execution_count": 603,
   "metadata": {},
   "outputs": [],
   "source": [
    "# Logic \n",
    "\n",
    "# Practice\n",
    "\n",
    "# class Solution:\n",
    "def exclusiveTime( n, logs):\n",
    "    \"\"\"\n",
    "    :type n: int\n",
    "    :type logs: List[str]\n",
    "    :rtype: List[int]\n",
    "    \"\"\"\n",
    "    total = [0 for i in range(n)]\n",
    "    s = []\n",
    "    i = 0\n",
    "    curTime = 0\n",
    "    from IPython.core.debugger import set_trace\n",
    "    #set_trace()\n",
    "    while( i < len(logs)):\n",
    "    \n",
    "        curLog = logs[i].split(\":\")\n",
    "        curId = int(curLog[0])\n",
    "        status = curLog[1]\n",
    "        nextTime = int(curLog[2])\n",
    "        if (status ==  \"start\"):\n",
    "            if (s):\n",
    "                total[s[-1]]+= nextTime - curTime\n",
    "            s.append(curId)\n",
    "            curTime = nextTime\n",
    "        else:\n",
    "            total[s[-1]]+= nextTime - curTime + 1\n",
    "            s.pop()\n",
    "            curTime = nextTime + 1\n",
    "        i+=1\n",
    "    return total"
   ]
  },
  {
   "cell_type": "code",
   "execution_count": 108,
   "metadata": {},
   "outputs": [],
   "source": [
    "grp = [\"0:start:0\",\"0:start:2\",\"0:end:5\",\"0:start:6\",\"0:end:6\",\"0:end:7\"]"
   ]
  },
  {
   "cell_type": "code",
   "execution_count": 115,
   "metadata": {},
   "outputs": [],
   "source": [
    "n = 2\n",
    "logs = [\"0:start:0\",\"0:start:2\",\"0:end:5\",\"1:start:7\",\"1:end:7\",\"0:end:8\"]\n"
   ]
  },
  {
   "cell_type": "code",
   "execution_count": 167,
   "metadata": {},
   "outputs": [
    {
     "name": "stdout",
     "output_type": "stream",
     "text": [
      "[]\n",
      "[0]\n",
      "[0, 0]\n",
      "[0]\n",
      "[0, 1]\n",
      "[0]\n"
     ]
    }
   ],
   "source": [
    "n = 2\n",
    "logs = [\"0:start:0\",\"0:start:2\",\"0:end:5\",\"1:start:7\",\"1:end:7\",\"0:end:8\"]\n",
    "\n",
    "i = 0\n",
    "s = []\n",
    "Id = []\n",
    "total = [0]*n\n",
    "\n",
    "while i<len(logs):\n",
    "    print(s)\n",
    "    cur = logs[i]\n",
    "    curID, curStatus, nextTime = cur.split(':')\n",
    "    nextTime = int(nextTime)\n",
    "    if curStatus =='start':\n",
    "        if s:\n",
    "            total[s[-1]] += nextTime - curTime\n",
    "        s.append(int(curID))\n",
    "        curTime = nextTime \n",
    "    else:\n",
    "        total[s[-1]] += nextTime - curTime +1\n",
    "        s.pop()\n",
    "        curTime = nextTime+1\n",
    "    i+=1"
   ]
  },
  {
   "cell_type": "code",
   "execution_count": 168,
   "metadata": {},
   "outputs": [
    {
     "data": {
      "text/plain": [
       "[8, 1]"
      ]
     },
     "execution_count": 168,
     "metadata": {},
     "output_type": "execute_result"
    }
   ],
   "source": [
    "total"
   ]
  },
  {
   "cell_type": "markdown",
   "metadata": {},
   "source": [
    "## Problem - 20\n",
    "https://leetcode.com/problems/binary-search-tree-iterator/submissions/"
   ]
  },
  {
   "cell_type": "code",
   "execution_count": null,
   "metadata": {},
   "outputs": [],
   "source": [
    "\n",
    "\n",
    "class BSTIterator:\n",
    "\n",
    "    def __init__(self, root: TreeNode):\n",
    "        self.root = root\n",
    "        self.flag = False\n",
    "        self.nodes = []\n",
    "\n",
    "        self.dfs(root)\n",
    "        print(self.nodes)\n",
    "    \n",
    "    def dfs(self, node):\n",
    "        if node is None:\n",
    "            return \n",
    "        \n",
    "        self.dfs(node.left)\n",
    "        self.nodes.append(node.val)\n",
    "        self.dfs(node.right)\n",
    "\n",
    "\n",
    "    def next(self) -> int:\n",
    "        node = self.nodes.pop(0)\n",
    "        return node\n",
    "        \n",
    "\n",
    "    def hasNext(self) -> bool:\n",
    "        return len(self.nodes)>0\n",
    "        \n",
    "   "
   ]
  },
  {
   "cell_type": "markdown",
   "metadata": {},
   "source": [
    "## Islands -21\n",
    "\n",
    "https://leetcode.com/problems/making-a-large-island/"
   ]
  },
  {
   "cell_type": "code",
   "execution_count": 606,
   "metadata": {},
   "outputs": [],
   "source": [
    "x = [-1,-1,-1, 0,0,0, 1,1,1]\n",
    "y = [-1,0,1, -1,0,1, -1,0,1]"
   ]
  },
  {
   "cell_type": "code",
   "execution_count": 607,
   "metadata": {},
   "outputs": [],
   "source": [
    "\n",
    "def check(r, c):\n",
    "    seen = {(r, c)}\n",
    "    stack = [(r, c)]\n",
    "    while stack:\n",
    "        r, c = stack.pop()\n",
    "        for nr, nc in ((r-1, c), (r, c-1), (r+1, c), (r, c+1)):\n",
    "            if (nr, nc) not in seen and 0 <= nr < N and 0 <= nc < N and grid[nr][nc]:\n",
    "                stack.append((nr, nc))\n",
    "                seen.add((nr, nc))\n",
    "    return len(seen)"
   ]
  },
  {
   "cell_type": "code",
   "execution_count": 613,
   "metadata": {},
   "outputs": [],
   "source": [
    "grid = [[1, 1, 0, 0, 0],\n",
    "        [1, 1, 0, 0, 1],\n",
    "        [1, 0, 0, 1, 1],\n",
    "        [0, 0, 0, 0, 0],\n",
    "        [1, 0, 1, 0, 1]]\n"
   ]
  },
  {
   "cell_type": "code",
   "execution_count": 614,
   "metadata": {},
   "outputs": [],
   "source": [
    "N = len(grid)"
   ]
  },
  {
   "cell_type": "code",
   "execution_count": 615,
   "metadata": {},
   "outputs": [
    {
     "data": {
      "text/plain": [
       "5"
      ]
     },
     "execution_count": 615,
     "metadata": {},
     "output_type": "execute_result"
    }
   ],
   "source": [
    "check(1, 1)"
   ]
  },
  {
   "cell_type": "code",
   "execution_count": null,
   "metadata": {},
   "outputs": [],
   "source": [
    "# Logic\n",
    "class Solution(object):\n",
    "    def largestIsland(self, grid):\n",
    "        N = len(grid)\n",
    "\n",
    "        def check(r, c):\n",
    "            seen = {(r, c)}\n",
    "            stack = [(r, c)]\n",
    "            while stack:\n",
    "                r, c = stack.pop()\n",
    "                for nr, nc in ((r-1, c), (r, c-1), (r+1, c), (r, c+1)):\n",
    "                    if (nr, nc) not in seen and 0 <= nr < N and 0 <= nc < N and grid[nr][nc]:\n",
    "                        stack.append((nr, nc))\n",
    "                        seen.add((nr, nc))\n",
    "            return len(seen)\n",
    "\n",
    "        ans = 0\n",
    "        has_zero = False\n",
    "        for r, row in enumerate(grid):\n",
    "            for c, val in enumerate(row):\n",
    "                if val == 0:\n",
    "                    has_zero = True\n",
    "                    grid[r][c] = 1\n",
    "                    ans = max(ans, check(r, c))\n",
    "                    grid[r][c] = 0\n",
    "\n",
    "        return ans if has_zero else N*N"
   ]
  },
  {
   "cell_type": "code",
   "execution_count": null,
   "metadata": {},
   "outputs": [],
   "source": [
    "\n",
    "graph = [[1, 1, 0, 0, 0],\n",
    "        [0, 1, 0, 0, 1],\n",
    "        [1, 0, 0, 1, 1],\n",
    "        [0, 0, 0, 0, 0],\n",
    "        [1, 0, 1, 0, 1]]\n",
    "\n",
    "\n",
    "row = len(graph)\n",
    "col = len(graph[0])\n",
    "\n",
    "g = Graph(row, col, graph)\n",
    "\n",
    "print \"Number of islands is:\"\n",
    "print g.countIslands()\n",
    "\n",
    "\n"
   ]
  },
  {
   "cell_type": "code",
   "execution_count": 655,
   "metadata": {},
   "outputs": [],
   "source": [
    "def check(x,y):\n",
    "    seen = {(x,y)}\n",
    "    stack = [(x,y)]\n",
    "    N = len(grid)\n",
    "    while len(stack)>0:\n",
    "        x,y = stack.pop()\n",
    "        seen.add((x,y))\n",
    "        for nx, ny in ((x, y-1), (x, y+1), (x-1, y), (x+1,y)):\n",
    "            if 0<=nx<N and 0<=ny<N and (nx,ny) not in seen and grid[nx][ny]:\n",
    "                stack.append((nx, ny))\n",
    "    return len(seen)\n",
    "\n",
    "\n",
    "ans = 0\n",
    "for x in range(N):\n",
    "    for y in range(N):\n",
    "        if grid[x][y]==0:\n",
    "            m = check(x,y)\n",
    "            ans = max(m, ans)\n",
    "        "
   ]
  },
  {
   "cell_type": "markdown",
   "metadata": {},
   "source": [
    "## island Perimeter\n",
    "https://leetcode.com/problems/island-perimeter/"
   ]
  },
  {
   "cell_type": "code",
   "execution_count": null,
   "metadata": {},
   "outputs": [],
   "source": [
    "class Solution:\n",
    "    def islandPerimeter(self, grid: List[List[int]]) -> int:\n",
    "        #grid = [[0,1,0,0],[1,1,1,0],[0,1,0,0],[1,1,0,0]]\n",
    "        res = 0\n",
    "        for i in range(len(grid)):`\n",
    "            for j in range(len(grid[0])):\n",
    "                if grid[i][j]==1:\n",
    "                    res +=4\n",
    "                    if i>0 and grid[i-1][j]==1:\n",
    "                        res-=2\n",
    "                    if j>0 and grid[i][j-1]==1:\n",
    "                        res-=2\n",
    "        return res"
   ]
  },
  {
   "cell_type": "markdown",
   "metadata": {},
   "source": [
    "## Shortest distance from buildings - 81\n",
    "https://leetcode.com/problems/shortest-distance-from-all-buildings/submissions/"
   ]
  },
  {
   "cell_type": "code",
   "execution_count": null,
   "metadata": {},
   "outputs": [],
   "source": [
    "class Solution:\n",
    "    def shortestDistance(self, grid: List[List[int]]) -> int:\n",
    "        if not grid:\n",
    "            return -1\n",
    "        # create a list of buildings and a set of empty lands for easy search later\n",
    "        build, land = [], set()\n",
    "        for x,y in itertools.product(range(len(grid)), range(len(grid[0]))):\n",
    "            if grid[x][y] == 0:\n",
    "                land.add((x,y))\n",
    "            elif grid[x][y] == 1:\n",
    "                build.append((x,y))\n",
    "        # if there is no empty land available, we can't proceed further\n",
    "        if not land:\n",
    "            return -1\n",
    "        \n",
    "        # create a dictionary where each land's position tuple is a key and its value\n",
    "        # is a list of length equal to the number of buildings we found above. \n",
    "        # This list is populated with Inf, to start with, that will be updated by the\n",
    "        # shortest distance between the land and building pair, found by BFS routine below.\n",
    "        d = {x: [float('inf')]*len(build) for x in land}\n",
    "        \n",
    "        # BFS for a given building's location\n",
    "        def BFS(loc):\n",
    "            x, y = build[loc]\n",
    "            # (x,y) is building's location on the grid and 0 is the starting distance\n",
    "            q = collections.deque([(x,y,0)]) \n",
    "            while q:\n",
    "                x, y, dist = q.popleft()\n",
    "                for i, j in [(x-1, y), (x+1, y), (x, y-1), (x, y+1)]:\n",
    "                    # we are interested in only traversing lands whose recorded distance from\n",
    "                    # current building is more than dist+1. We update their distance and include\n",
    "                    # these lands in our queue for the next layer, if that's the case\n",
    "                    if (i,j) in land and d[(i,j)][loc] > dist + 1:\n",
    "                        d[(i,j)][loc] = dist + 1\n",
    "                        q.append((i,j,dist+1))\n",
    "        \n",
    "        # run BFS routine for all buildings\n",
    "        for loc in range(len(build)):\n",
    "            BFS(loc)\n",
    "            \n",
    "        # compute the shortest distance to all buildings for each empty land\n",
    "        min_dist = min(sum(d[x]) for x in land)\n",
    "        return -1 if min_dist == float('inf') else min_dist"
   ]
  },
  {
   "cell_type": "code",
   "execution_count": null,
   "metadata": {},
   "outputs": [],
   "source": []
  },
  {
   "cell_type": "code",
   "execution_count": 142,
   "metadata": {},
   "outputs": [],
   "source": [
    "grid = [[1,0,2,0,1],[0,0,0,0,0],[0,0,1,0,0]]\n",
    "\n",
    "build = [(i,j) for i in range(len(grid)) for j in range(len(grid[0])) if grid[i][j]==1]\n",
    "land = set([(i,j) for i in range(len(grid)) for j in range(len(grid[0])) if grid[i][j]==0])\n",
    "dist = {x: [float('inf')]*len(build) for x in land}\n",
    "\n",
    "def check(loc):\n",
    "    x,y = build[loc]\n",
    "    stack = [(x,y,0)]\n",
    "    \n",
    "    while len(stack)>0:\n",
    "        i,j,d = stack.pop(0)\n",
    "        for x,y in [(i-1,j), (i+1,j), (i,j-1), (i,j+1)]:\n",
    "            if (x,y) in land and dist[(x,y)][loc]>d+1:\n",
    "                dist[(x,y)][loc]=d+1\n",
    "                stack.append((x,y, d+1))\n",
    "                "
   ]
  },
  {
   "cell_type": "code",
   "execution_count": 143,
   "metadata": {},
   "outputs": [
    {
     "data": {
      "text/plain": [
       "[None, None, None]"
      ]
     },
     "execution_count": 143,
     "metadata": {},
     "output_type": "execute_result"
    }
   ],
   "source": [
    "[check(i) for i in range(len(build))]"
   ]
  },
  {
   "cell_type": "code",
   "execution_count": 136,
   "metadata": {},
   "outputs": [
    {
     "data": {
      "text/plain": [
       "7"
      ]
     },
     "execution_count": 136,
     "metadata": {},
     "output_type": "execute_result"
    }
   ],
   "source": [
    "min([sum(i) for i in dist.values()])"
   ]
  },
  {
   "cell_type": "code",
   "execution_count": 3,
   "metadata": {},
   "outputs": [],
   "source": [
    "grid = [[1,0,2,0,1],[0,0,0,0,0],[0,0,1,0,0]]"
   ]
  },
  {
   "cell_type": "markdown",
   "metadata": {},
   "source": [
    "## Problem - 61\n",
    "\n",
    "\n",
    "https://leetcode.com/problems/spiral-matrix/\n",
    "    \n",
    "    "
   ]
  },
  {
   "cell_type": "code",
   "execution_count": null,
   "metadata": {},
   "outputs": [],
   "source": [
    "class Solution:\n",
    "    def spiralOrder(self, matrix: List[List[int]]) -> List[int]:\n",
    "        import math\n",
    "        r, m = len(matrix[0]), len(matrix)\n",
    "        \n",
    "        mt = [[0]*r for i in range(m)]\n",
    "        for i in range(m):\n",
    "            for j in range(r):\n",
    "                mt[i][j]=(i,j)\n",
    "        \n",
    "        \n",
    "        if len(matrix)==1:\n",
    "            return matrix[0]\n",
    "        values = []\n",
    "        m = m+1 if m==1  else m\n",
    "        for i in range(round(max(r,m)/2)+1):\n",
    "            if i>=m or len(values)>=m*r:\n",
    "                continue\n",
    "            for j in mt[i]:\n",
    "                if j not in values:\n",
    "                    values.append(j)\n",
    "            for j in [k[r-i-1] for k in mt]:\n",
    "                if j not in values:\n",
    "                    values.append(j) \n",
    "            for j in mt[m-i-1][::-1]:\n",
    "                if j  not in values:\n",
    "                    values.append(j)\n",
    "            if i>=r:\n",
    "                continue\n",
    "            for j in [k[i] for k in mt][::-1]:\n",
    "                if j not in values:\n",
    "                    values.append(j)\n",
    "        res = [matrix[i][j] for i,j in values]\n",
    "        print(res)\n",
    "        return res  "
   ]
  },
  {
   "cell_type": "markdown",
   "metadata": {},
   "source": [
    "## Min Area Rectangle - 80\n",
    "\n",
    "https://leetcode.com/problems/minimum-area-rectangle/submissions/"
   ]
  },
  {
   "cell_type": "code",
   "execution_count": 88,
   "metadata": {},
   "outputs": [
    {
     "name": "stdout",
     "output_type": "stream",
     "text": [
      "[3, 1] [3, 3]\n",
      "2 1 3\n",
      "[4, 1] [4, 3]\n",
      "1 1 3\n"
     ]
    }
   ],
   "source": [
    "points =  [[1,1],[1,3],[3,1],[3,3],[4,1],[4,3]]\n",
    "\n",
    "\n",
    "from collections import def\n",
    "\n",
    "#Logic\n",
    "# come ag\n",
    "\n",
    "class Solution:\n",
    "    def minAreaRect(self, points: List[List[int]]) -> int:\n",
    "        \n",
    "        area = float('inf')\n",
    "        dic = {tuple(p) : True for p in points}\n",
    "        for idx, (x1, y1) in enumerate(points):\n",
    "            for (x2, y2) in (points[idx+1:]):\n",
    "                if (x2 - x1) * (y2 - y1) > 0:\n",
    "                    if (x1, y2) in dic and (x2, y1) in dic:\n",
    "                        area = min(area, (x2 - x1) * (y2 - y1))\n",
    "                    \n",
    "        return area"
   ]
  },
  {
   "cell_type": "code",
   "execution_count": 14,
   "metadata": {},
   "outputs": [
    {
     "data": {
      "text/plain": [
       "4"
      ]
     },
     "execution_count": 14,
     "metadata": {},
     "output_type": "execute_result"
    }
   ],
   "source": [
    "points = [[1,1],[1,3],[3,1],[3,3],[2,2]]\n",
    "area = float('inf')\n",
    "#dic = {tuple(p) : True for p in points}\n",
    "for idx, (x1, y1) in enumerate(points):\n",
    "    for (x2, y2) in (points[idx+1:]):\n",
    "        if (x2 - x1) * (y2 - y1) > 0:\n",
    "            if [x1, y2] in points and [x2, y1] in points:\n",
    "                area = min(area, (x2 - x1) * (y2 - y1))\n",
    "area"
   ]
  },
  {
   "cell_type": "code",
   "execution_count": 11,
   "metadata": {},
   "outputs": [
    {
     "data": {
      "text/plain": [
       "True"
      ]
     },
     "execution_count": 11,
     "metadata": {},
     "output_type": "execute_result"
    }
   ],
   "source": [
    "[x1,y2] in points"
   ]
  },
  {
   "cell_type": "markdown",
   "metadata": {},
   "source": [
    "## Count battleships\n",
    "https://leetcode.com/problems/battleships-in-a-board/submissions/"
   ]
  },
  {
   "cell_type": "code",
   "execution_count": null,
   "metadata": {},
   "outputs": [],
   "source": [
    "class Solution:\n",
    "    def countBattleships(self, board: List[List[str]]) -> int:\n",
    "        \n",
    "        def check(point, cat):\n",
    "            stack= [point]\n",
    "            values = [point]\n",
    "            while len(stack)>0:\n",
    "                i,j = stack.pop(0)\n",
    "                for x,y in [(i-1,j), (i+1,j), (i,j-1), (i,j+1)]:\n",
    "                    if 0<=x<m and 0<=y<n and visited[x][y]==False and (x,y) not in values and board[x][y]=='X':\n",
    "                        stack.append((x,y))\n",
    "                        values.append((x,y))\n",
    "                        visited[x][y]=cat\n",
    "            return values, visited\n",
    "        \n",
    "        \n",
    "        m, n = len(board), len(board[0])\n",
    "        visited = [[False]*n for i in range(m)]\n",
    "        \n",
    "        assign = []\n",
    "        cat = 1\n",
    "        for i in range(m):\n",
    "            for j in range(n):\n",
    "                if board[i][j]=='X' and visited[i][j]==False:\n",
    "                    seen, visited = check((i,j), cat)\n",
    "                    assign.append(seen)\n",
    "                    visited[i][j]=cat\n",
    "                    cat+=1\n",
    "                    \n",
    "        return cat-1\n",
    "                "
   ]
  },
  {
   "cell_type": "markdown",
   "metadata": {},
   "source": [
    "## Longest Increasing path\n",
    "https://leetcode.com/problems/longest-increasing-path-in-a-matrix/"
   ]
  },
  {
   "cell_type": "code",
   "execution_count": 297,
   "metadata": {},
   "outputs": [],
   "source": [
    "# IMP\n",
    "# Practice\n",
    "# come again  - matrix[x][y]>matrix[i][j] update only cache[i][j] and return cache[i][j]\n",
    "class Solution:\n",
    "    def longestIncreasingPath(self, matrix: List[List[int]]) -> int:\n",
    "        m = len(matrix)\n",
    "        n = len(matrix[0])\n",
    "        cache = [[0]*n for _ in range(m)]\n",
    "        dirs = [(-1,0),(1,0),(0,-1),(0,1)]\n",
    "        def helper(i,j):\n",
    "            if cache[i][j] != 0: return cache[i][j]\n",
    "            cur = matrix[i][j]\n",
    "            for x,y in [(-1,0),(1,0),(0,-1),(0,1)]:\n",
    "                p,q = i+x,j+y\n",
    "                if 0 <= p < m and 0 <= q < n and cur < matrix[p][q]:\n",
    "                    cache[i][j] = max(helper(p,q),cache[i][j])\n",
    "            cache[i][j] += 1\n",
    "            return  cache[i][j]\n",
    "        return max(helper(i,j) for i in range(m) for j in range(n))"
   ]
  },
  {
   "cell_type": "code",
   "execution_count": 99,
   "metadata": {
    "scrolled": true
   },
   "outputs": [],
   "source": [
    "matrix = [[9,9,4],[6,6,8],[2,1,1]]\n",
    "\n",
    "m,n = len(matrix), len(matrix[0])\n",
    "visited = [[0]*n for _ in range(m)]\n",
    "def dfs(i,j):\n",
    "    if visited[i][j]!=0:\n",
    "        return visited[i][j]\n",
    "    cur = matrix[i][j]\n",
    "    for x,y in [(i-1,j), (i+1,j), (i,j-1), (i,j+1)]:\n",
    "        if 0<=x<m and 0<=y<n and matrix[x][y]>cur:\n",
    "            visited[i][j] = max(visited[i][j], dfs(x,y))\n",
    "    visited[i][j] +=1\n",
    "    return visited[i][j]\n",
    "a = [dfs(i,j) for j in range(n) for i in range(m)]"
   ]
  },
  {
   "cell_type": "code",
   "execution_count": 100,
   "metadata": {},
   "outputs": [
    {
     "data": {
      "text/plain": [
       "[[1, 1, 2], [2, 2, 1], [3, 4, 2]]"
      ]
     },
     "execution_count": 100,
     "metadata": {},
     "output_type": "execute_result"
    }
   ],
   "source": [
    "visited"
   ]
  },
  {
   "cell_type": "markdown",
   "metadata": {},
   "source": [
    "## Shortest path\n",
    "https://leetcode.com/problems/shortest-path-in-binary-matrix/"
   ]
  },
  {
   "cell_type": "code",
   "execution_count": 186,
   "metadata": {},
   "outputs": [],
   "source": [
    "grid = [[0,0,0],[1,1,0],[1,1,0]]"
   ]
  },
  {
   "cell_type": "code",
   "execution_count": 187,
   "metadata": {},
   "outputs": [],
   "source": [
    "m, n =  len(grid), len(grid[0])"
   ]
  },
  {
   "cell_type": "code",
   "execution_count": 203,
   "metadata": {},
   "outputs": [],
   "source": [
    "dists = []\n",
    "def check(i,j,d, values):\n",
    "    #print(i,j,d)\n",
    "    if [i,j] == [m-1,n-1]:\n",
    "        dists.append(d)\n",
    "    \n",
    "    for x,y in [[0,1], [0,-1], [1,0],[-1,0], [1,1], [-1,1], [1,-1], [-1,-1]]:\n",
    "        x,y = i+x,j+y\n",
    "\n",
    "        if 0<=x<m and 0<=y<n and grid[x][y]==0 and [x,y] not in values:\n",
    "            print(i,j, d)\n",
    "            values.append([x,y])\n",
    "            check(x,y,d+1,values.copy())"
   ]
  },
  {
   "cell_type": "code",
   "execution_count": 204,
   "metadata": {},
   "outputs": [
    {
     "name": "stdout",
     "output_type": "stream",
     "text": [
      "0 0 1\n",
      "0 1 2\n",
      "0 2 3\n",
      "1 2 4\n",
      "0 1 2\n",
      "0 1 2\n",
      "1 2 3\n"
     ]
    }
   ],
   "source": [
    "# visited= [[False]*n for _ in range(m)]\n",
    "# visited[0][0] = True\n",
    "values = []\n",
    "check(0,0,1, values)"
   ]
  },
  {
   "cell_type": "markdown",
   "metadata": {},
   "source": [
    "## Word Search\n",
    "https://leetcode.com/problems/word-search/"
   ]
  },
  {
   "cell_type": "code",
   "execution_count": 146,
   "metadata": {
    "scrolled": true
   },
   "outputs": [
    {
     "name": "stdout",
     "output_type": "stream",
     "text": [
      "1 B\n",
      "2 C\n",
      "3 C\n",
      "4 E\n",
      "5 D\n",
      "False\n"
     ]
    }
   ],
   "source": [
    "board = [[\"A\",\"B\",\"C\",\"E\"],[\"S\",\"F\",\"C\",\"S\"],[\"A\",\"D\",\"E\",\"E\"]]\n",
    "word = \"ABCCED\"\n",
    "\n",
    "m, n = len(board), len(board[0])\n",
    "visited = [[0]*n for _ in range(m)]\n",
    "selfflag = False\n",
    "\n",
    "def maxDfs(i,j, d):\n",
    "    if d==len(word):\n",
    "        return True\n",
    "    flag = False\n",
    "    for x,y in [(i-1,j), (i+1,j), (i,j-1), (i,j+1)]:\n",
    "        if 0<=x<m and 0<=y<n and board[x][y]==word[d] and visited[x][y]!=1:\n",
    "            print(d, word[d])\n",
    "            visited[x][y]=1\n",
    "            flag = maxDfs(x,y,d+1)\n",
    "    return flag\n",
    "f_points = []\n",
    "for i in range(m):\n",
    "    for j in range(n):\n",
    "        if board[i][j]==word[0]:\n",
    "            f_points.append((i,j))\n",
    "            \n",
    "a = [maxDfs(i,j,1) for i,j in f_points]\n",
    "print(selfflag)"
   ]
  },
  {
   "cell_type": "code",
   "execution_count": 139,
   "metadata": {},
   "outputs": [
    {
     "data": {
      "text/plain": [
       "6"
      ]
     },
     "execution_count": 139,
     "metadata": {},
     "output_type": "execute_result"
    }
   ],
   "source": [
    "len(word)"
   ]
  },
  {
   "cell_type": "markdown",
   "metadata": {},
   "source": [
    "##  Set zeros to matrix\n",
    "https://leetcode.com/problems/set-matrix-zeroes/"
   ]
  },
  {
   "cell_type": "code",
   "execution_count": null,
   "metadata": {},
   "outputs": [],
   "source": [
    "class Solution:\n",
    "    def setZeroes(self, matrix: List[List[int]]) -> None:\n",
    "        \"\"\"\n",
    "        Do not return anything, modify matrix in-place instead.\n",
    "        \"\"\"\n",
    "        m,n = len(matrix), len(matrix[0])\n",
    "        zeros = []\n",
    "        for i in range(m):\n",
    "            for j in range(n):\n",
    "                if matrix[i][j]==0 and (i,j) not in zeros:\n",
    "                    zeros.append((i,j))\n",
    "        \n",
    "        for x,y in zeros:\n",
    "            for i in range(n):\n",
    "                matrix[x][i]=0\n",
    "            for i in range(m):\n",
    "                matrix[i][y]=0\n",
    "        return matrix\n",
    "        "
   ]
  },
  {
   "cell_type": "markdown",
   "metadata": {},
   "source": [
    "## Quandrant move\n",
    "\n",
    "https://leetcode.com/problems/minimum-knight-moves/"
   ]
  },
  {
   "cell_type": "code",
   "execution_count": null,
   "metadata": {},
   "outputs": [],
   "source": [
    "# Quadrant based approach\n",
    "x = 1\n",
    "y = 0\n",
    "\n",
    "#mx = max(x,y)\n",
    "diff = min(x,y)\n",
    "\n",
    "if x>=0 and y>=0:\n",
    "    quad = 0\n",
    "    k,l = 1,1\n",
    "elif x<=0 and y>=0:\n",
    "    quad=1\n",
    "    k,l = -1,1\n",
    "elif x<=0 and y<=0:\n",
    "    quad=2\n",
    "    k,l = -1,-1\n",
    "elif x>=0 and y<=0:\n",
    "    quad=3\n",
    "    k,l = 1,-1\n",
    "\n",
    "i, j = 0, 0\n",
    "x1, y1= x,y\n",
    "count = 0\n",
    "# while i!=x and j!=y:\n",
    "while i!=x or j!=y:\n",
    "    count+=1\n",
    "    if diff>0:\n",
    "        i = i+k\n",
    "        j = j+l\n",
    "        diff -=1\n",
    "    else:\n",
    "        if i==x:\n",
    "            j = j+l\n",
    "        else:\n",
    "            i = i+k\n",
    "    print(i,j)\n",
    "    print(x,y)\n",
    "    print(diff)\n",
    "    "
   ]
  },
  {
   "cell_type": "markdown",
   "metadata": {},
   "source": [
    "## Matrix Multiplication\n",
    "https://leetcode.com/problems/sparse-matrix-multiplication/submissions/"
   ]
  },
  {
   "cell_type": "code",
   "execution_count": null,
   "metadata": {},
   "outputs": [],
   "source": [
    "class Solution:\n",
    "    def multiply(self, mat1: List[List[int]], mat2: List[List[int]]) -> List[List[int]]:\n",
    "        \n",
    "        res = [[0]*len(mat2[0])  for _ in range(len(mat1))]\n",
    "        \n",
    "        for i in range(len(res)):\n",
    "            for j in range(len(res[0])):\n",
    "                res[i][j] = sum([x*y for x,y in zip(mat1[i], [row[j] for row in mat2])])\n",
    "        return res"
   ]
  },
  {
   "cell_type": "markdown",
   "metadata": {},
   "source": [
    "## Rotate Matrix\n",
    "https://leetcode.com/problems/rotate-image/"
   ]
  },
  {
   "cell_type": "code",
   "execution_count": null,
   "metadata": {},
   "outputs": [],
   "source": [
    "class Solution:\n",
    "    def rotate(self, matrix: List[List[int]]) -> None:\n",
    "        \"\"\"\n",
    "        Do not return anything, modify matrix in-place instead.\n",
    "        \"\"\"\n",
    "\n",
    "        \n",
    "        n = len(matrix)\n",
    "        for i in range(n//2+ n%2):\n",
    "            for j in range(n//2):\n",
    "                temp  = matrix[n-1-j][i]\n",
    "                \n",
    "                matrix[n-1-j][i] = matrix[n-1-i][n-1-j]\n",
    "                matrix[n-1-i][n-1-j] = matrix[j][n-1-i]\n",
    "                matrix[j][n-1-i] = matrix[i][j]\n",
    "                matrix[i][j] = temp\n",
    "                \n",
    "        return matrix"
   ]
  },
  {
   "cell_type": "markdown",
   "metadata": {},
   "source": [
    "## Path with Maxium Minimunm\n",
    "https://leetcode.com/problems/path-with-maximum-minimum-value/"
   ]
  },
  {
   "cell_type": "code",
   "execution_count": 106,
   "metadata": {},
   "outputs": [],
   "source": [
    "A = [[3,4,6,3,4],[0,2,1,1,7],[8,8,3,2,7],[3,2,4,9,8],[4,1,2,0,0],[4,6,5,4,3]]\n",
    "\n",
    "A = [[5,4,5],[1,2,6],[7,4,6]]\n",
    "\n",
    "A = [[2,0,2,3,1],\n",
    "     [0,2,2,3,3],\n",
    "     [2,3,0,2,3],\n",
    "     [1,1,2,3,1],\n",
    "     [2,2,0,0,1]]\n",
    "\n",
    "\n",
    "m, n = len(A), len(A[0])\n",
    "visited  = [[False]*n for _ in range(m)]\n",
    "\n",
    "def dfs(point):\n",
    "    global minVal\n",
    "    if point==(m-1,n-1):\n",
    "        minVal = min(minVal,A[m-1][n-1])\n",
    "        return\n",
    "\n",
    "    i,j =  point\n",
    "    cur = A[i][j]\n",
    "    print(cur)\n",
    "    mx = 0\n",
    "    for x,y in [(i,j-1), (i,j+1), (i-1,j),(i+1,j)]:\n",
    "        if 0<=x<m and 0<=y<n and visited[x][y]==False and A[x][y]>=mx:\n",
    "            print('check', A[x][y], x,y)\n",
    "            p = (x,y)\n",
    "            mx = max(mx, A[x][y])\n",
    "            visited[x][y]=True\n",
    "            \n",
    "            minVal = min(minVal, A[p[0]][p[1]])\n",
    "            dfs(p)\n",
    "minVal = float('inf')\n",
    "visited[0][0] = True\n",
    "dfs((0,0))"
   ]
  },
  {
   "cell_type": "code",
   "execution_count": 79,
   "metadata": {},
   "outputs": [
    {
     "data": {
      "text/plain": [
       "4"
      ]
     },
     "execution_count": 79,
     "metadata": {},
     "output_type": "execute_result"
    }
   ],
   "source": [
    "minVal"
   ]
  },
  {
   "cell_type": "code",
   "execution_count": 195,
   "metadata": {},
   "outputs": [],
   "source": [
    "rooms = [[2147483647,-1,0,2147483647],[2147483647,2147483647,2147483647,-1],[2147483647,-1,2147483647,-1],[0,-1,2147483647,2147483647]]\n"
   ]
  },
  {
   "cell_type": "code",
   "execution_count": 196,
   "metadata": {},
   "outputs": [],
   "source": [
    "m,n = len(rooms), len(rooms[0])\n",
    "spaces = []\n",
    "builds = []\n",
    "walls = []\n",
    "for i in range(m):\n",
    "    for j in range(n):\n",
    "        if rooms[i][j]==0:\n",
    "            builds.append((i,j))\n",
    "        if rooms[i][j]==-1:\n",
    "            walls.append((i,j))\n",
    "        else:\n",
    "            spaces.append((i,j))\n",
    "            \n",
    "#dist = dict(zip(spaces, [[float('inf')]*len(builds)]*len(spaces)))\n",
    "\n",
    "dist = {x: [float('inf')]*len(builds) for x in spaces}"
   ]
  },
  {
   "cell_type": "code",
   "execution_count": 197,
   "metadata": {},
   "outputs": [],
   "source": [
    "def check(p):\n",
    "    i,j = builds[p]\n",
    "    stack  = [(i,j,0)]\n",
    "    seen = [(i,j)]\n",
    "    \n",
    "    while stack:\n",
    "        i,j,d = stack.pop(0)\n",
    "        \n",
    "        for x,y in [(i-1,j), (i+1,j), (i,j-1), (i,j+1)]:\n",
    "            if (x,y) in spaces and (x,y) not in seen:\n",
    "                dist[(x,y)][p] = d+1\n",
    "                seen.append((x,y))\n",
    "                stack.append((x,y, d+1))\n",
    "                \n",
    "[check(i) for i in range(len(builds))]\n",
    "\n",
    "for i in dist.keys():\n",
    "    if rooms[i[0]][i[1]]!=0:\n",
    "        rooms[i[0]][i[1]]= min(dist[i])"
   ]
  },
  {
   "cell_type": "markdown",
   "metadata": {},
   "source": [
    "## ToeplitzMatrix\n",
    "\n",
    "https://leetcode.com/problems/toeplitz-matrix/"
   ]
  },
  {
   "cell_type": "code",
   "execution_count": 3,
   "metadata": {},
   "outputs": [],
   "source": [
    "matrix = [[1,2,3,4],[5,1,2,3],[9,5,1,2]]"
   ]
  },
  {
   "cell_type": "code",
   "execution_count": 22,
   "metadata": {},
   "outputs": [
    {
     "name": "stdout",
     "output_type": "stream",
     "text": [
      "[4]\n"
     ]
    }
   ],
   "source": [
    "m, n = len(matrix), len(matrix[0])\n",
    "res = []\n",
    "mx = max(m,n)\n",
    "for j in range(mx):\n",
    "    res1 = []\n",
    "    res2 = []\n",
    "    for i in range(mx):\n",
    "        if 0<=i-j<m and 0<=j<n:\n",
    "            res1.append(matrix[i-j][i])\n",
    "        if 0<=i<m and 0<=i-j<n:\n",
    "            res2.append(matrix[i][i-j])\n",
    "    if len(set(res1))>1 or len(set(res2))>1:\n",
    "        return False\n",
    "return True"
   ]
  },
  {
   "cell_type": "markdown",
   "metadata": {},
   "source": [
    "## Diagonal Traverse\n",
    "https://leetcode.com/problems/diagonal-traverse/"
   ]
  },
  {
   "cell_type": "code",
   "execution_count": null,
   "metadata": {},
   "outputs": [],
   "source": [
    "class Solution:\n",
    "    def findDiagonalOrder(self, mat: List[List[int]]) -> List[int]:\n",
    "        \n",
    "        \n",
    "        mat = [i[::-1] for i in mat]\n",
    "        te1 = []\n",
    "        m = max(len(mat), len(mat[0]))\n",
    "        for j in range(m-1,-m,-1):\n",
    "            te= []\n",
    "            for i in range(len(mat)):\n",
    "                if 0<=i-j<len(mat[0]) and 0<=i-j<=m-1 and 0<=i<len(mat):\n",
    "                    te.append(mat[i][i-j])\n",
    "            print(j, te)\n",
    "            if j%2==len(mat[0])%2:\n",
    "                te1.extend(te[::-1])\n",
    "            else:\n",
    "                te1.extend(te)\n",
    "        return te1[::-1]\n",
    "    \n",
    "    \n",
    "    "
   ]
  },
  {
   "cell_type": "code",
   "execution_count": 27,
   "metadata": {},
   "outputs": [
    {
     "name": "stdout",
     "output_type": "stream",
     "text": [
      "3 []\n",
      "2 [9]\n",
      "1 [5, 5]\n",
      "0 [1, 1, 1]\n",
      "-1 [2, 2, 2]\n",
      "-2 [3, 3]\n",
      "-3 [4]\n"
     ]
    }
   ],
   "source": [
    "# Logic \n",
    "mat = [[1,2,3],[4,5,6],[7,8,9]]\n",
    "mat = [[1,2,3,4],[5,1,2,3],[9,5,1,2]]\n",
    "#mat = [i[::-1] for i in mat]\n",
    "te1 = []\n",
    "m = max(len(mat), len(mat[0]))\n",
    "for j in range(m-1,-m,-1):\n",
    "    te= []\n",
    "    for i in range(len(mat)):\n",
    "        if 0<=i<len(mat) and 0<=i-j<=m-1:\n",
    "            te.append(mat[i][i-j])\n",
    "    print(j, te)\n",
    "    if j%2==len(mat[0])%2:\n",
    "        te1.extend(te[::-1])\n",
    "    else:\n",
    "        te1.extend(te)"
   ]
  },
  {
   "cell_type": "code",
   "execution_count": 9,
   "metadata": {},
   "outputs": [],
   "source": [
    "mat = [[1,2,3,4],\n",
    "       [5,1,2,3],\n",
    "       [9,5,1,2]]"
   ]
  },
  {
   "cell_type": "code",
   "execution_count": 10,
   "metadata": {},
   "outputs": [],
   "source": [
    "m,n = len(mat), len(mat[0])\n",
    "mat= [i[::-1] for i in mat]"
   ]
  },
  {
   "cell_type": "code",
   "execution_count": 11,
   "metadata": {},
   "outputs": [],
   "source": [
    "from collections import defaultdict\n",
    "d = defaultdict(list)\n",
    "for i in range(m):\n",
    "    for j in range(n):\n",
    "        d[i+j].append(mat[i][j])"
   ]
  },
  {
   "cell_type": "code",
   "execution_count": 12,
   "metadata": {},
   "outputs": [
    {
     "data": {
      "text/plain": [
       "defaultdict(list,\n",
       "            {0: [4], 1: [3, 3], 2: [2, 2, 2], 3: [1, 1, 1], 4: [5, 5], 5: [9]})"
      ]
     },
     "execution_count": 12,
     "metadata": {},
     "output_type": "execute_result"
    }
   ],
   "source": [
    "d"
   ]
  },
  {
   "cell_type": "code",
   "execution_count": 51,
   "metadata": {},
   "outputs": [
    {
     "name": "stdout",
     "output_type": "stream",
     "text": [
      "[1, 1, 1]\n",
      "[5, 5]\n",
      "[9]\n",
      "[]\n",
      "[2, 2, 2]\n",
      "[3, 3]\n",
      "[4]\n"
     ]
    }
   ],
   "source": [
    "# Come again\n",
    "for i in range(n):\n",
    "    te =[]\n",
    "    for j in range(m):\n",
    "        if 0<=i+j<m and 0<=j<n:\n",
    "            te.append(mat[i+j][j])\n",
    "    print(te)\n",
    "\n",
    "for i in range(1,n):\n",
    "    te =[]\n",
    "    for j in range(m+1):\n",
    "        if 0<=j<m and 0<=j+i<n:\n",
    "            te.append(mat[j][j+i])\n",
    "    print(te)\n"
   ]
  },
  {
   "cell_type": "code",
   "execution_count": 17,
   "metadata": {},
   "outputs": [],
   "source": [
    "mat = [[1,2,3],[4,5,6],[7,8,9]]\n",
    "m, n = len(mat), len(mat[0])\n",
    "mx = max(m,n)\n",
    "res  =[]\n",
    "for i in range(mx-1, -mx, -1):\n",
    "    res1 = []\n",
    "    res2 = []\n",
    "    for j in range(mx):\n",
    "        if 0<=i<m and 0<=i-j<mx-1 and 0<=i<m:\n",
    "            res1.append(mat[i][i-j])\n",
    "\n",
    "    res.append(res2)"
   ]
  },
  {
   "cell_type": "code",
   "execution_count": 261,
   "metadata": {
    "scrolled": true
   },
   "outputs": [
    {
     "data": {
      "text/plain": [
       "[[1], [2, 4], [3, 5, 7], [6, 8], [9]]"
      ]
     },
     "execution_count": 261,
     "metadata": {},
     "output_type": "execute_result"
    }
   ],
   "source": [
    "# Come again\n",
    "nums = [[1,2,3],[4,5,6],[7,8,9]]\n",
    "k=[[] for _ in range(5)]\n",
    "\n",
    "for i,r in enumerate(nums):\n",
    "    for j,val in enumerate(r):\n",
    "        k[i+j].append(val)\n",
    "\n",
    "ans=[]\n",
    "\n",
    "for r in k:\n",
    "    a=r[::-1]\n",
    "    ans.extend(a)\n",
    "k"
   ]
  },
  {
   "cell_type": "code",
   "execution_count": 257,
   "metadata": {},
   "outputs": [],
   "source": [
    "a = [[0]*len(nums[0]) for _ in range(len(nums))]\n",
    "for i in range(len(nums)):\n",
    "    for j in range(len(nums[0])):\n",
    "        a[i][j]=i+j"
   ]
  },
  {
   "cell_type": "code",
   "execution_count": 258,
   "metadata": {},
   "outputs": [
    {
     "data": {
      "text/plain": [
       "[[0, 1, 2], [1, 2, 3], [2, 3, 4]]"
      ]
     },
     "execution_count": 258,
     "metadata": {},
     "output_type": "execute_result"
    }
   ],
   "source": [
    "[[0, 1, 2], \n",
    " [1, 2, 3], \n",
    " [2, 3, 4]]"
   ]
  },
  {
   "cell_type": "markdown",
   "metadata": {},
   "source": [
    "## Unique Paths\n",
    "https://leetcode.com/problems/unique-paths/"
   ]
  },
  {
   "cell_type": "code",
   "execution_count": null,
   "metadata": {},
   "outputs": [],
   "source": [
    "class Solution:\n",
    "    def uniquePaths(self, m: int, n: int) -> int:\n",
    "        d = [[1] * n for _ in range(m)]\n",
    "\n",
    "        for col in range(1, m):\n",
    "            for row in range(1, n):\n",
    "                d[col][row] = d[col - 1][row] + d[col][row - 1]\n",
    "\n",
    "        return d[m - 1][n - 1]"
   ]
  },
  {
   "cell_type": "markdown",
   "metadata": {},
   "source": [
    "## unique paths\n",
    "\n",
    "https://leetcode.com/problems/unique-paths-ii/"
   ]
  },
  {
   "cell_type": "code",
   "execution_count": 118,
   "metadata": {},
   "outputs": [],
   "source": [
    "# Come again\n",
    "class Solution:\n",
    "    def uniquePathsWithObstacles(self, g: List[List[int]]) -> int:\n",
    "        \n",
    "        m,n  = len(g), len(g[0])\n",
    "        if g[0][0] == 1:\n",
    "            return 0\n",
    "\n",
    "        g[0][0] =1\n",
    "        \n",
    "        for i in range(1,m):\n",
    "            g[i][0] = int((g[i-1][0]==1) and (g[i][0]==0))\n",
    "        for j in range(1,n):\n",
    "            g[0][j] = int((g[0][j-1]==1) and (g[0][j]==0))\n",
    "            \n",
    "        for i in range(1,m):\n",
    "            for j in  range(1,n):\n",
    "                if g[i][j]==1:\n",
    "                    g[i][j]=0\n",
    "                else:\n",
    "                    g[i][j] = g[i-1][j]+g[i][j-1]\n",
    "            \n",
    "        return g[m-1][n-1]"
   ]
  },
  {
   "cell_type": "code",
   "execution_count": null,
   "metadata": {},
   "outputs": [],
   "source": [
    "m, n = 3,7\n",
    "g = [[1]*n for _ in range(m)]\n",
    "for i in range(1,m):\n",
    "    for j in range(1,n):\n",
    "        \n",
    "        g[i][j] = g[i-1][j]+g[i][j-1]"
   ]
  },
  {
   "cell_type": "code",
   "execution_count": 107,
   "metadata": {},
   "outputs": [],
   "source": [
    "obstacleGrid = [[0,0,0],[0,1,0],[0,0,0]]\n",
    "#obstacleGrid = [[0,1],[0,0]]\n",
    "m,n = len(obstacleGrid), len(obstacleGrid[0])\n",
    "g = obstacleGrid.copy()"
   ]
  },
  {
   "cell_type": "code",
   "execution_count": 110,
   "metadata": {},
   "outputs": [],
   "source": [
    "for i in range(1,m):\n",
    "    g[i][0] = int((g[i-1][0]==1) and (g[i][0]==0))"
   ]
  },
  {
   "cell_type": "code",
   "execution_count": 112,
   "metadata": {},
   "outputs": [],
   "source": [
    "for i in range(1,n):\n",
    "    g[0][i] = int((g[0][i-1]==1) and (g[0][i]==0))\n",
    "\n",
    "for i in range(1,m):\n",
    "    for j in range(1,n):\n",
    "        if g[i][j]==1:\n",
    "            g[i][j]=0\n",
    "        else:\n",
    "            g[i][j] = g[i-1][j]+g[i][j-1]"
   ]
  },
  {
   "cell_type": "code",
   "execution_count": 115,
   "metadata": {},
   "outputs": [],
   "source": []
  },
  {
   "cell_type": "code",
   "execution_count": null,
   "metadata": {},
   "outputs": [],
   "source": []
  },
  {
   "cell_type": "code",
   "execution_count": null,
   "metadata": {},
   "outputs": [],
   "source": []
  },
  {
   "cell_type": "markdown",
   "metadata": {},
   "source": [
    "## Problem - 22\n",
    "\n",
    "https://leetcode.com/problems/accounts-merge/submissions/"
   ]
  },
  {
   "cell_type": "code",
   "execution_count": 96,
   "metadata": {},
   "outputs": [],
   "source": [
    "accounts = [[\"Gabe\",\"Gabe0@m.co\",\"Gabe3@m.co\",\"Gabe1@m.co\"],\n",
    "            [\"Kevin\",\"Kevin3@m.co\",\"Kevin5@m.co\",\"Kevin0@m.co\"],\n",
    "            [\"Ethan\",\"Ethan5@m.co\",\"Ethan4@m.co\",\"Ethan0@m.co\"],\n",
    "            [\"Hanzo\",\"Hanzo3@m.co\",\"Hanzo1@m.co\",\"Hanzo0@m.co\"],\n",
    "            [\"Fern\",\"Fern5@m.co\",\"Fern1@m.co\",\"Fern0@m.co\"]]"
   ]
  },
  {
   "cell_type": "code",
   "execution_count": 97,
   "metadata": {},
   "outputs": [],
   "source": [
    "acc_dict = dict([(ac[0]+'_{}'.format(str(i)), ac[1:]) for i, ac in enumerate(accounts)])"
   ]
  },
  {
   "cell_type": "code",
   "execution_count": 98,
   "metadata": {},
   "outputs": [
    {
     "data": {
      "text/plain": [
       "{'Gabe_0': ['Gabe0@m.co', 'Gabe3@m.co', 'Gabe1@m.co'],\n",
       " 'Kevin_1': ['Kevin3@m.co', 'Kevin5@m.co', 'Kevin0@m.co'],\n",
       " 'Ethan_2': ['Ethan5@m.co', 'Ethan4@m.co', 'Ethan0@m.co'],\n",
       " 'Hanzo_3': ['Hanzo3@m.co', 'Hanzo1@m.co', 'Hanzo0@m.co'],\n",
       " 'Fern_4': ['Fern5@m.co', 'Fern1@m.co', 'Fern0@m.co']}"
      ]
     },
     "execution_count": 98,
     "metadata": {},
     "output_type": "execute_result"
    }
   ],
   "source": [
    "acc_dict"
   ]
  },
  {
   "cell_type": "code",
   "execution_count": 663,
   "metadata": {},
   "outputs": [],
   "source": [
    "acc_dict = dict([(ac[0]+'_{}'.format(str(i)), ac[1:]) for i, ac in enumerate(accounts)])\n",
    "        \n",
    "for key in acc_dict.keys():\n",
    "    for key1 in acc_dict.keys():\n",
    "        if key!=key1 and len(set(acc_dict[key]).intersection(acc_dict[key1]))>0:\n",
    "            acc_dict[key] = sorted(list(set(acc_dict[key1] + acc_dict[key])))\n",
    "            acc_dict[key1] = []\n",
    "#print(acc_dict)\n",
    "acc = [[key.split('_')[0]] + acc_dict[key] for key in acc_dict.keys() if acc_dict[key]!=[]]"
   ]
  },
  {
   "cell_type": "code",
   "execution_count": null,
   "metadata": {},
   "outputs": [],
   "source": []
  },
  {
   "cell_type": "code",
   "execution_count": null,
   "metadata": {},
   "outputs": [],
   "source": [
    "# Modified to get ouptut\n",
    "class Solution:\n",
    "    def accountsMerge(self, accounts: List[List[str]]) -> List[List[str]]:\n",
    "        \n",
    "        def CompressData(acc_dict):\n",
    "            for key in acc_dict.keys():\n",
    "                for key1 in acc_dict.keys():\n",
    "                    if key!=key1 and len(set(acc_dict[key]).intersection(acc_dict[key1]))>0:\n",
    "                        acc_dict[key] = list(set(acc_dict[key1] + acc_dict[key]))\n",
    "                        acc_dict[key1] = []\n",
    "            \n",
    "            keys = [key for key in acc_dict.keys() if acc_dict[key]==[]]\n",
    "            [acc_dict.pop(key) for key in keys]\n",
    "\n",
    "            return acc_dict\n",
    "        acc_dict = dict([(ac[0]+'_{}'.format(str(i)), ac[1:]) for i, ac in enumerate(accounts)])\n",
    "        for i in range(len(acc_dict.keys())):\n",
    "            acc_dict = CompressData(acc_dict)\n",
    "        return [[key.split('_')[0]] + sorted(list(set(acc_dict[key]))) for key in acc_dict.keys() if acc_dict[key]!=[]]\n",
    "                    "
   ]
  },
  {
   "cell_type": "code",
   "execution_count": 669,
   "metadata": {},
   "outputs": [
    {
     "data": {
      "text/plain": [
       "[['David',\n",
       "  'David0@m.co',\n",
       "  'David1@m.co',\n",
       "  'David2@m.co',\n",
       "  'David3@m.co',\n",
       "  'David4@m.co',\n",
       "  'David5@m.co']]"
      ]
     },
     "execution_count": 669,
     "metadata": {},
     "output_type": "execute_result"
    }
   ],
   "source": [
    "acc1 = [[\"David\",\"David0@m.co\",\"David1@m.co\",\"David2@m.co\",\"David3@m.co\",\"David4@m.co\",\"David5@m.co\"]]\n",
    "acc1"
   ]
  },
  {
   "cell_type": "code",
   "execution_count": 680,
   "metadata": {},
   "outputs": [
    {
     "name": "stdout",
     "output_type": "stream",
     "text": [
      "first 50\n",
      "50 25\n",
      "25 12\n",
      "37 6\n",
      "31 3\n",
      "34 1\n",
      "35 0\n"
     ]
    }
   ],
   "source": [
    "bad = 37\n",
    "def isBadVersion(val):\n",
    "    return val>=bad\n",
    "\n",
    "\n",
    "n = 50\n",
    "a = True\n",
    "val = n\n",
    "step = n\n",
    "print('first', val)\n",
    "while step>=1:\n",
    "\n",
    "    step = int(step/2)\n",
    "    print(val, step)\n",
    "    if isBadVersion(val):\n",
    "        val -= step\n",
    "    else: \n",
    "        val += step\n"
   ]
  },
  {
   "cell_type": "code",
   "execution_count": 681,
   "metadata": {},
   "outputs": [
    {
     "data": {
      "text/plain": [
       "0"
      ]
     },
     "execution_count": 681,
     "metadata": {},
     "output_type": "execute_result"
    }
   ],
   "source": [
    "step"
   ]
  },
  {
   "cell_type": "markdown",
   "metadata": {},
   "source": [
    "## Problem - 23\n",
    "\n",
    "https://leetcode.com/problems/first-bad-version/submissions/"
   ]
  },
  {
   "cell_type": "code",
   "execution_count": null,
   "metadata": {},
   "outputs": [],
   "source": [
    "# Range COmpresssion then value Compression"
   ]
  },
  {
   "cell_type": "code",
   "execution_count": 685,
   "metadata": {},
   "outputs": [
    {
     "name": "stdout",
     "output_type": "stream",
     "text": [
      "1 50\n",
      "26 50\n",
      "26 38\n",
      "33 38\n",
      "36 38\n",
      "36 37\n"
     ]
    }
   ],
   "source": [
    "# Logic\n",
    "left = 1;\n",
    "right = n;\n",
    "while (left < right):\n",
    "    mid = left +int((right - left) / 2);\n",
    "    print(left, right)\n",
    "    if isBadVersion(mid):\n",
    "        right = mid\n",
    "    else:\n",
    "        left = mid + 1\n",
    "    "
   ]
  },
  {
   "cell_type": "code",
   "execution_count": 24,
   "metadata": {},
   "outputs": [],
   "source": [
    "nums = [-1,0,3,5,9,12]\n",
    "target = 9\n"
   ]
  },
  {
   "cell_type": "code",
   "execution_count": 31,
   "metadata": {},
   "outputs": [
    {
     "name": "stdout",
     "output_type": "stream",
     "text": [
      "gone in -1\n",
      "gone in 3\n",
      "4\n",
      "gone in 9\n"
     ]
    }
   ],
   "source": [
    "left = 0\n",
    "right = len(nums)-1\n",
    "while left<=right:\n",
    "    print('gone in', nums[mid])\n",
    "    mid = (right+left)//2\n",
    "\n",
    "    if nums[mid]==target:\n",
    "        print(mid)# mid\n",
    "\n",
    "    if nums[mid]<target:\n",
    "        left = mid+1\n",
    "    else:\n",
    "        right = mid-1\n",
    "\n"
   ]
  },
  {
   "cell_type": "markdown",
   "metadata": {},
   "source": [
    "## Koko binary search\n",
    "https://leetcode.com/problems/koko-eating-bananas/"
   ]
  },
  {
   "cell_type": "code",
   "execution_count": 50,
   "metadata": {},
   "outputs": [],
   "source": [
    "piles = [3,6,7,11]"
   ]
  },
  {
   "cell_type": "code",
   "execution_count": 52,
   "metadata": {},
   "outputs": [],
   "source": [
    "k=4"
   ]
  },
  {
   "cell_type": "code",
   "execution_count": 53,
   "metadata": {},
   "outputs": [
    {
     "name": "stdout",
     "output_type": "stream",
     "text": [
      "1\n",
      "2\n",
      "2\n",
      "3\n"
     ]
    }
   ],
   "source": [
    "for i in piles:\n",
    "    print(i//k+int(i%k!=0))"
   ]
  },
  {
   "cell_type": "code",
   "execution_count": null,
   "metadata": {},
   "outputs": [],
   "source": [
    "k=4\n",
    "def Possibility(k):\n",
    "    return sum([i//k+int(i%k!=0) for i in piles])<=h\n",
    "\n",
    "lo, hi = 1,max(piles)\n",
    "while lo<hi:\n",
    "    mid = (lo+hi)//2\n",
    "    if Possibility(mid):\n",
    "        hi=mid\n",
    "    else:\n",
    "        lo=mid+1"
   ]
  },
  {
   "cell_type": "markdown",
   "metadata": {},
   "source": [
    "https://www.algoexpert.io/questions/Binary%20Search"
   ]
  },
  {
   "cell_type": "code",
   "execution_count": null,
   "metadata": {},
   "outputs": [],
   "source": [
    "def binarySearch(a, t):\n",
    "    # Write your code here.\n",
    "    lo = 0\n",
    "    hi = len(a)\n",
    "    while lo<hi:\n",
    "        md = (lo+hi)//2\n",
    "        if a[md]==t:\n",
    "            return md\n",
    "        if a[md]>t:\n",
    "            hi = md\n",
    "        elif a[md]<t:\n",
    "            lo = md+1\n",
    "    return -1"
   ]
  },
  {
   "cell_type": "markdown",
   "metadata": {},
   "source": [
    "## Problem -24\n",
    "https://leetcode.com/problems/serialize-and-deserialize-binary-tree/submissions/"
   ]
  },
  {
   "cell_type": "code",
   "execution_count": null,
   "metadata": {},
   "outputs": [],
   "source": [
    "# Construct Tree\n",
    "# Definition for a binary tree node.\n",
    "class TreeNode(object):\n",
    "    def __init__(self, x):\n",
    "        self.val = x\n",
    "        self.left = None\n",
    "        self.right = None\n",
    "\n",
    "class Codec:\n",
    "\n",
    "    def serialize(self, root):\n",
    "        \"\"\"Encodes a tree to a single string.\n",
    "        \n",
    "        :type root: TreeNode\n",
    "        :rtype: str\n",
    "        \"\"\"\n",
    "        self.nodes = []\n",
    "        def dfs(node):\n",
    "            if node:\n",
    "                self.nodes.append(str(node.val))\n",
    "                dfs(node.left)\n",
    "                dfs(node.right)\n",
    "            else:\n",
    "                self.nodes.append('None')\n",
    "                \n",
    "        dfs(root)\n",
    "        return ','.join(self.nodes)\n",
    "\n",
    "    def deserialize(self, data):\n",
    "        \"\"\"Decodes your encoded data to tree.\n",
    "        \n",
    "        :type data: str\n",
    "        :rtype: TreeNode\n",
    "        \"\"\"\n",
    "        print('Deserialization data ', data)\n",
    "        #data = [int(i) if i!='None' else None for i in data.split(',')]\n",
    "        print(data)\n",
    "        data = data.split(',')\n",
    "        \n",
    "        def dfs1(data):\n",
    "            if data[0] =='None':\n",
    "                data.pop(0)\n",
    "                return None\n",
    "            root = TreeNode(data[0])\n",
    "            data.pop(0)\n",
    "            root.left = dfs1(data)\n",
    "            root.right = dfs1(data)\n",
    "            return root\n",
    "        print(data)\n",
    "        root = dfs1(data)\n",
    "        print('root of node', root)\n",
    "        return root\n",
    "# Your Codec object will be instantiated and called as such:\n",
    "# ser = Codec()\n",
    "# deser = Codec()\n",
    "# ans = deser.deserialize(ser.serialize(root))"
   ]
  },
  {
   "cell_type": "code",
   "execution_count": null,
   "metadata": {},
   "outputs": [],
   "source": []
  },
  {
   "cell_type": "code",
   "execution_count": null,
   "metadata": {},
   "outputs": [],
   "source": []
  },
  {
   "cell_type": "markdown",
   "metadata": {},
   "source": [
    "## Problem - 25\n",
    "\n",
    "https://leetcode.com/problems/interval-list-intersections/solution/"
   ]
  },
  {
   "cell_type": "code",
   "execution_count": 826,
   "metadata": {},
   "outputs": [],
   "source": [
    "# Logic\n",
    "# Check end\n",
    "\n",
    "firstList = [[0,2],[5,10],[13,23],[24,25]]\n",
    "secondList = [[1,5],[8,12],[15,24],[25,26]]\n",
    "\n",
    "\n",
    "class Solution:\n",
    "    def intervalIntersection(self, A: List[List[int]], B: List[List[int]]) -> List[List[int]]:\n",
    "        ans = []\n",
    "        i = j = 0\n",
    "\n",
    "        while i < len(A) and j < len(B):\n",
    "\n",
    "            lo = max(A[i][0], B[j][0])\n",
    "            hi = min(A[i][1], B[j][1])\n",
    "            if lo <= hi:\n",
    "                ans.append([lo, hi])\n",
    "\n",
    "            # Remove the interval with the smallest endpoint\n",
    "            if A[i][1] < B[j][1]:\n",
    "                i += 1\n",
    "            else:\n",
    "                j += 1\n",
    "\n",
    "        return ans"
   ]
  },
  {
   "cell_type": "code",
   "execution_count": 65,
   "metadata": {},
   "outputs": [
    {
     "name": "stdout",
     "output_type": "stream",
     "text": [
      "0 0\n",
      "1 0\n",
      "1 1\n",
      "2 1\n",
      "2 2\n",
      "3 2\n",
      "3 3\n"
     ]
    }
   ],
   "source": [
    "A = [[0,2],[5,10],[13,23],[24,25]]\n",
    "B = [[1,5],[8,12],[15,24],[25,26]]\n",
    "res = []\n",
    "i,j = 0,0\n",
    "while i<len(A) and j<len(B):\n",
    "    print(i,j)\n",
    "    lo = max(A[i][0], B[j][0])\n",
    "    hi = min(A[i][1], B[j][1])\n",
    "    if hi>=lo:\n",
    "        res.append([lo,hi])\n",
    "    if A[i][1]<B[j][1]:\n",
    "        i+=1\n",
    "    else:\n",
    "        j+=1\n",
    "        "
   ]
  },
  {
   "cell_type": "markdown",
   "metadata": {},
   "source": [
    "## Problem - 26\n",
    "\n",
    "https://leetcode.com/problems/construct-binary-tree-from-string/"
   ]
  },
  {
   "cell_type": "code",
   "execution_count": 239,
   "metadata": {},
   "outputs": [],
   "source": [
    "class TreeNode:\n",
    "    def __init__(self, val=0, left=None, right=None):\n",
    "        self.val = val\n",
    "        self.left = left\n",
    "        self.right = right\n",
    "def deserialize(s):\n",
    "    elems = [s[:2]]\n",
    "    s = s[2:]\n",
    "    val = 0\n",
    "    for i, j in enumerate(s):\n",
    "        if j=='(':\n",
    "            val+=1\n",
    "        elif j==')':\n",
    "            val-=1\n",
    "        if val==-1:\n",
    "            return ''.join(elems)[1:], s[i+2:-1]\n",
    "        elems.append(j)\n",
    "    \n",
    "    return ''.join(elems)\n",
    "\n",
    "def recFun(s):\n",
    "    if s=='':\n",
    "        return None\n",
    "    if '(' not in s:\n",
    "        return TreeNode(int(s))\n",
    "    \n",
    "    n= a.split('(')[0]\n",
    "    pr = '('+'('.join(a.split('(')[1:])\n",
    "    \n",
    "    node = TreeNode(int(n))\n",
    "    a,b = deserialize(pr)\n",
    "    node.left = recFun(a)\n",
    "    node.right = recFun(b)\n",
    "    return node\n",
    "\n",
    "s = \"4(2(3)(1))(6(5))\""
   ]
  },
  {
   "cell_type": "code",
   "execution_count": 243,
   "metadata": {},
   "outputs": [
    {
     "data": {
      "text/plain": [
       "'4'"
      ]
     },
     "execution_count": 243,
     "metadata": {},
     "output_type": "execute_result"
    }
   ],
   "source": [
    "s.split('(')[0]"
   ]
  },
  {
   "cell_type": "code",
   "execution_count": 281,
   "metadata": {},
   "outputs": [
    {
     "name": "stdout",
     "output_type": "stream",
     "text": [
      "(3)(1) -- 6(5))\n",
      "(3)(1))(6(5) -- \n"
     ]
    }
   ],
   "source": [
    "val = 0\n",
    "for j,i in enumerate(s):\n",
    "    if i=='(':\n",
    "        val+=1\n",
    "    elif i==')':\n",
    "        val-=1\n",
    "    if val==-1:\n",
    "        print(s[:j],'--', s[j+2:])"
   ]
  },
  {
   "cell_type": "code",
   "execution_count": 266,
   "metadata": {},
   "outputs": [
    {
     "data": {
      "text/plain": [
       "['(2']"
      ]
     },
     "execution_count": 266,
     "metadata": {},
     "output_type": "execute_result"
    }
   ],
   "source": [
    "elems"
   ]
  },
  {
   "cell_type": "code",
   "execution_count": 283,
   "metadata": {},
   "outputs": [],
   "source": [
    "elems = [s[:2]]\n",
    "s = s[2:]\n",
    "val = 0\n",
    "for i, j in enumerate(s):\n",
    "    if j=='(':\n",
    "        val+=1\n",
    "    elif j==')':\n",
    "        val-=1\n",
    "    if val==-1:\n",
    "        return ''.join(elems)[1:], s[i+2:-1]\n",
    "    elems.append(j)\n",
    "\n",
    "# return ''.join(elems)"
   ]
  },
  {
   "cell_type": "markdown",
   "metadata": {},
   "source": [
    "## Continuous Arrays"
   ]
  },
  {
   "cell_type": "markdown",
   "metadata": {},
   "source": [
    "## Problem - 7\n",
    "\n",
    "https://leetcode.com/problems/subarray-sum-equals-k/\n",
    "    "
   ]
  },
  {
   "cell_type": "code",
   "execution_count": null,
   "metadata": {},
   "outputs": [],
   "source": [
    "nums = [1,2,3]\n",
    "k = 3\n",
    "nums = [1,1,1]\n",
    "k = 2\n",
    "length = len(nums)\n",
    "\n",
    "\n",
    "count = 0\n",
    "for i in range(0,len(nums)):\n",
    "    te = 0\n",
    "    for j in range(i, len(nums)):\n",
    "        te += nums[j]\n",
    "        if te==k:\n",
    "            count+=1"
   ]
  },
  {
   "cell_type": "markdown",
   "metadata": {},
   "source": [
    "## Problem  - 27\n",
    "\n",
    "https://leetcode.com/problems/continuous-subarray-sum/"
   ]
  },
  {
   "cell_type": "code",
   "execution_count": null,
   "metadata": {},
   "outputs": [],
   "source": [
    "# Come again\n",
    "# Practice\n",
    "class Solution:\n",
    "    def checkSubarraySum(self, nums: List[int], k: int) -> bool:\n",
    "        cumsum = 0\n",
    "        seen = {0: -1}\n",
    "\n",
    "        for i in range(len(nums)):\n",
    "            cumsum += nums[i] \n",
    "            mod = cumsum % k\n",
    "\n",
    "            if mod in seen:\n",
    "                if i - seen[mod] > 1:\n",
    "                    return True\n",
    "            else:\n",
    "                seen[mod] = i\n",
    "        return False\n"
   ]
  },
  {
   "cell_type": "code",
   "execution_count": 79,
   "metadata": {},
   "outputs": [
    {
     "name": "stdout",
     "output_type": "stream",
     "text": [
      "2 23 0 {0: -1}\n",
      "4 25 1 {0: -1, 2: 0}\n",
      "1 29 2 {0: -1, 2: 0, 4: 1}\n",
      "0 35 3 {0: -1, 2: 0, 4: 1, 1: 2}\n",
      "True\n",
      "6 41 4 {0: -1, 2: 0, 4: 1, 1: 2}\n"
     ]
    }
   ],
   "source": [
    "# Checking and trakcing all modulas values with indexer, to check if modulus appear prior\n",
    "# come again\n",
    "nums = [23,2,4,6,6]\n",
    "k = 7\n",
    "\n",
    "cumsum = 0\n",
    "seen = {0: -1}\n",
    "\n",
    "for i in range(len(nums)):\n",
    "    cumsum += nums[i] \n",
    "    mod = cumsum % k\n",
    "    print(mod, cumsum, i, seen)\n",
    "    if mod in seen:\n",
    "        #print(nums[i], cumsum)\n",
    "        if i - seen[mod] > 1:\n",
    "            print( True)\n",
    "    else:\n",
    "        seen[mod] = i\n"
   ]
  },
  {
   "cell_type": "code",
   "execution_count": 69,
   "metadata": {},
   "outputs": [
    {
     "data": {
      "text/plain": [
       "{0: -1, 2: 0, 4: 1, 1: 2, 6: 4}"
      ]
     },
     "execution_count": 69,
     "metadata": {},
     "output_type": "execute_result"
    }
   ],
   "source": [
    "seen"
   ]
  },
  {
   "cell_type": "markdown",
   "metadata": {},
   "source": [
    "## Contiguous Array\n",
    "https://leetcode.com/problems/contiguous-array/"
   ]
  },
  {
   "cell_type": "code",
   "execution_count": 82,
   "metadata": {},
   "outputs": [
    {
     "name": "stdout",
     "output_type": "stream",
     "text": [
      "0 0 {0: -1}\n",
      "0 1 {0: -1}\n",
      "1 1 {0: -1, 1: 1}\n",
      "1 1 {0: -1, 1: 1}\n",
      "1 2 {0: -1, 1: 1}\n",
      "2 2 {0: -1, 1: 1, 2: 4}\n",
      "3 2 {0: -1, 1: 1, 2: 4, 3: 5}\n"
     ]
    }
   ],
   "source": [
    "# come again\n",
    "# Checklast\n",
    "\n",
    "nums = [0,1, 0,0,1,1,0]\n",
    "dic={}\n",
    "dic[0]=-1\n",
    "sums =0\n",
    "max_l = 0\n",
    "for i in range(len(nums)):\n",
    "    print(sums, max_l, dic)\n",
    "    sums=sums+nums[i]\n",
    "    if sums in dic.keys():\n",
    "        max_l = max(max_l, i-dic[sums])\n",
    "    else:\n",
    "        dic[sums] = i"
   ]
  },
  {
   "cell_type": "markdown",
   "metadata": {},
   "source": [
    "https://leetcode.com/problems/next-greater-element-ii/"
   ]
  },
  {
   "cell_type": "code",
   "execution_count": null,
   "metadata": {},
   "outputs": [],
   "source": [
    "# come again\n",
    "class Solution:\n",
    "    def nextGreaterElements(self, nums: List[int]) -> List[int]:\n",
    "        \n",
    "        nums1 = nums\n",
    "        d = {}\n",
    "        j = 0\n",
    "        for i in range(len(nums)):\n",
    "            d[i] = -1\n",
    "            for j in range(1, len(nums)):\n",
    "                k = (i+j)%len(nums)\n",
    "                if nums[k]>nums[i]:\n",
    "                    d[i] = nums[k]\n",
    "                    break\n",
    "        return [d[i] for i in range(len(nums))]"
   ]
  },
  {
   "cell_type": "markdown",
   "metadata": {},
   "source": [
    "## Problem - 60\n",
    "\n",
    "https://leetcode.com/problems/partition-equal-subset-sum/submissions/\n",
    "    "
   ]
  },
  {
   "cell_type": "code",
   "execution_count": null,
   "metadata": {},
   "outputs": [],
   "source": [
    "    \n",
    "# Come again\n",
    "# Checklast -  Recursion - Dynamic - Iterative -  Binary Search\n",
    "class Solution:\n",
    "    def canPartition(self, nums: List[int]) -> bool:\n",
    "        A = [3,6, 3,4,4]\n",
    "        t = sum(A)/2\n",
    "        P = set([A[0]])\n",
    "        for x in A[1:]:\n",
    "            print(P)\n",
    "            for y in list(P):\n",
    "                P.add(x+y)\n",
    "                if t in P:\n",
    "                    print('in')\n",
    "                    break\n",
    "\n",
    "\n",
    "        \n",
    "        import itertools\n",
    "        \n",
    "        # def dfs(s, i):\n",
    "        #     if sum(s[i:])==sum(s[:i]):\n",
    "        #         self.flag=True\n",
    "        #         print(s[i:], s[:i], i)\n",
    "        #         return\n",
    "        s = nums\n",
    "        flag =False\n",
    "        for s in itertools.permutations(s, len(s)):\n",
    "            if flag:\n",
    "                continue\n",
    "            for i in range(1,len(s)):\n",
    "                #i = 3\n",
    "                #print(s[:i], s[i:])\n",
    "                if sum(s[:i])==sum(s[i:]):\n",
    "                    flag=True\n",
    "                    break\n",
    "                \n",
    " \n",
    "        print(flag)\n",
    "        return flag\n",
    "        #dfs(nums,1)\n",
    "        #print(self.flag)\n",
    "        #return self.flag\n",
    "      "
   ]
  },
  {
   "cell_type": "code",
   "execution_count": 148,
   "metadata": {},
   "outputs": [],
   "source": [
    "A = [3,6, 3,4,4]"
   ]
  },
  {
   "cell_type": "code",
   "execution_count": 153,
   "metadata": {},
   "outputs": [
    {
     "name": "stdout",
     "output_type": "stream",
     "text": [
      "possible\n",
      "possible\n",
      "possible\n"
     ]
    }
   ],
   "source": [
    "t = sum(A)/2\n",
    "A.sort()\n",
    "s = set([A[0]])\n",
    "for i in A[1:]:\n",
    "    for j in list(s):\n",
    "        s.add(i+j)\n",
    "        if t in s:\n",
    "            print('possible')\n",
    "            break"
   ]
  },
  {
   "cell_type": "markdown",
   "metadata": {},
   "source": [
    "          \n",
    "## Problem - 74\n",
    "https://leetcode.com/problems/contiguous-array/submissions/"
   ]
  },
  {
   "cell_type": "code",
   "execution_count": null,
   "metadata": {},
   "outputs": [],
   "source": [
    "# Come again\n",
    "# Checklast\n",
    "class Solution:\n",
    "    def findMaxLength(self, nums: List[int]) -> int:       \n",
    "        hmap = collections.defaultdict(lambda:int)\n",
    "        hmap[0]=-1\n",
    "        count = 0\n",
    "        maxl = 0\n",
    "        for i in range(len(nums)):\n",
    "            count += nums[i] if nums[i]==1 else -1\n",
    "            if count in hmap:\n",
    "                maxl=max(maxl,i-hmap[count])\n",
    "            else:\n",
    "                hmap[count]=i\n",
    "        return maxl"
   ]
  },
  {
   "cell_type": "markdown",
   "metadata": {},
   "source": [
    "## Problem - 74 \n",
    "\n",
    "https://leetcode.com/problems/max-consecutive-ones-iii/solution/\n",
    "    "
   ]
  },
  {
   "cell_type": "code",
   "execution_count": null,
   "metadata": {},
   "outputs": [],
   "source": [
    "    \n",
    "# Come again\n",
    "# Logic\n",
    "A = [0,0,1,1,0,0,1,1,1,0,1,1,0,0,0,1,1,1,1]\n",
    "K = 2\n",
    "left = 0\n",
    "for right in range(len(A)):\n",
    "    # If we included a zero in the window we reduce the value of K.\n",
    "    # Since K is the maximum zeros allowed in a window.\n",
    "    K -= 1 - A[right]\n",
    "    # A negative K denotes we have consumed all allowed flips and window has\n",
    "    # more than allowed zeros, thus increment left pointer by 1 to keep the window size same.\n",
    "    if K < 0:\n",
    "        # If the left element to be thrown out is zero we increase K.\n",
    "        K += 1 - A[left]\n",
    "        left += 1\n",
    "#return right - left + 1\n",
    "\n",
    "\n",
    "class Solution:\n",
    "    def longestOnes(self, A: List[int], K: int) -> int:\n",
    "        left = 0\n",
    "        for right in range(len(A)):\n",
    "            # If we included a zero in the window we reduce the value of K.\n",
    "            # Since K is the maximum zeros allowed in a window.\n",
    "            K -= 1 - A[right]\n",
    "            # A negative K denotes we have consumed all allowed flips and window has\n",
    "            # more than allowed zeros, thus increment left pointer by 1 to keep the window size same.\n",
    "            if K < 0:\n",
    "                # If the left element to be thrown out is zero we increase K.\n",
    "                K += 1 - A[left]\n",
    "                left += 1\n",
    "        return right - left + 1\n",
    "\n",
    "\n",
    "\n",
    "\n",
    "class Solution:\n",
    "    def longestOnes(self, nums: List[int], k: int) -> int:\n",
    "\n",
    "        def CountCons(a):\n",
    "            mx = 0\n",
    "            c = 0\n",
    "            for i in range(len(a)):\n",
    "                if a[i] ==1:\n",
    "                    c+=1\n",
    "                    mx = max(mx, c)\n",
    "                else:\n",
    "                    c = 0\n",
    "            return mx\n",
    "\n",
    "        zeros = [i for i,j in enumerate(nums) if j==0]\n",
    "        mx = 0\n",
    "\n",
    "        for i in range(len(zeros)-1):\n",
    "            num = nums.copy()\n",
    "            for j in zeros[i:i+k]:\n",
    "                num[j] =1\n",
    "            mx = max(mx,CountCons(num))\n",
    "\n",
    "        return mx"
   ]
  },
  {
   "cell_type": "markdown",
   "metadata": {},
   "source": [
    "## Problem - 28\n",
    "\n",
    "https://leetcode.com/problems/divide-two-integers/submissions/"
   ]
  },
  {
   "cell_type": "code",
   "execution_count": null,
   "metadata": {},
   "outputs": [],
   "source": [
    "class Solution:\n",
    "    def divide(self, dividend: int, divisor: int) -> int:\n",
    "        if dividend == -2**31 and divisor == -1: return 2**31 - 1\n",
    "        if dividend < 0: return -self.divide(-dividend, divisor)\n",
    "        if divisor < 0: return -self.divide(dividend, -divisor)\n",
    "        ans, shift = 0, 0\n",
    "        while dividend >= divisor:\n",
    "            divisor <<= 1\n",
    "            shift += 1\n",
    "        for _ in range(shift):\n",
    "            ans <<= 1\n",
    "            divisor >>= 1\n",
    "            if dividend >= divisor:\n",
    "                ans += 1\n",
    "                dividend -= divisor\n",
    "        return ans"
   ]
  },
  {
   "cell_type": "code",
   "execution_count": 58,
   "metadata": {},
   "outputs": [
    {
     "data": {
      "text/plain": [
       "{0: -1, -1: 0, -2: 3}"
      ]
     },
     "execution_count": 58,
     "metadata": {},
     "output_type": "execute_result"
    }
   ],
   "source": [
    "dic"
   ]
  },
  {
   "cell_type": "code",
   "execution_count": 57,
   "metadata": {},
   "outputs": [
    {
     "name": "stdout",
     "output_type": "stream",
     "text": [
      "0 -1\n",
      "1 0\n",
      "2 -1\n",
      "3 -2\n",
      "4 -1\n",
      "5 0\n",
      "6 -1\n"
     ]
    },
    {
     "data": {
      "text/plain": [
       "6"
      ]
     },
     "execution_count": 57,
     "metadata": {},
     "output_type": "execute_result"
    }
   ],
   "source": [
    "nums = [0,1, 0,0,1,1,0]\n",
    "dic = {0:-1}\n",
    "#nums = [0,1,0]\n",
    "count = 0\n",
    "maxlen = 0\n",
    "for i in range(len(nums)):\n",
    "    count += (1 if nums[i] == 1 else -1)\n",
    "    print(i, count)\n",
    "    if count not in dic:\n",
    "        dic[count] = i\n",
    "    else:\n",
    "        maxlen = max(maxlen, i - dic[count])\n",
    "maxlen "
   ]
  },
  {
   "cell_type": "markdown",
   "metadata": {},
   "source": [
    "## Problem - 29\n",
    "https://leetcode.com/problems/buildings-with-an-ocean-view/\n"
   ]
  },
  {
   "cell_type": "code",
   "execution_count": 93,
   "metadata": {},
   "outputs": [],
   "source": [
    "heights = [4,2,3,1]"
   ]
  },
  {
   "cell_type": "code",
   "execution_count": 94,
   "metadata": {},
   "outputs": [
    {
     "name": "stdout",
     "output_type": "stream",
     "text": [
      "1 0\n",
      "3 1\n",
      "2 3\n",
      "4 3\n"
     ]
    }
   ],
   "source": [
    "mx = 0\n",
    "vis = []\n",
    "for ind, j in enumerate(heights[::-1]):\n",
    "    print(j,mx)\n",
    "    if j>mx:\n",
    "        vis.append(len(heights)-ind-1)\n",
    "        mx = max(mx, j)\n",
    "            "
   ]
  },
  {
   "cell_type": "markdown",
   "metadata": {},
   "source": [
    "\n",
    "\n",
    "# Greedy"
   ]
  },
  {
   "cell_type": "markdown",
   "metadata": {},
   "source": [
    "## Problem - 31\n",
    "\n",
    "https://leetcode.com/problems/task-scheduler/solution/"
   ]
  },
  {
   "cell_type": "code",
   "execution_count": 1186,
   "metadata": {},
   "outputs": [],
   "source": [
    "tasks = [\"A\",\"A\",\"A\",\"A\",\"A\",\"A\",\"B\",\"C\",\"D\",\"E\",\"F\",\"G\"]\n",
    "n = 2\n"
   ]
  },
  {
   "cell_type": "code",
   "execution_count": 407,
   "metadata": {},
   "outputs": [
    {
     "data": {
      "text/plain": [
       "8"
      ]
     },
     "execution_count": 407,
     "metadata": {},
     "output_type": "execute_result"
    }
   ],
   "source": [
    "# Come Again \n",
    "# Last\n",
    "# Logic\n",
    "# checklast\n",
    "tasks = [\"A\",\"A\",\"A\",\"B\",\"B\",\"B\"]\n",
    "n = 2\n",
    "# frequencies of the tasks\n",
    "frequencies = [0] * 26\n",
    "for t in tasks:\n",
    "    frequencies[ord(t) - ord('A')] += 1\n",
    "\n",
    "# max frequency\n",
    "f_max = max(frequencies)\n",
    "# count the most frequent tasks\n",
    "n_max = frequencies.count(f_max)\n",
    "\n",
    "max(len(tasks), (f_max - 1) * (n + 1) + n_max)"
   ]
  },
  {
   "cell_type": "code",
   "execution_count": 179,
   "metadata": {},
   "outputs": [],
   "source": [
    "tasks = [\"A\",\"A\",\"A\",\"A\",\"A\",\"A\",\"B\",\"C\",\"D\",\"E\",\"F\",\"G\"]\n",
    "tasks = [\"A\",\"A\",\"A\",\"B\",\"B\",\"B\"]\n",
    "n=2"
   ]
  },
  {
   "cell_type": "code",
   "execution_count": 180,
   "metadata": {},
   "outputs": [
    {
     "data": {
      "text/plain": [
       "8"
      ]
     },
     "execution_count": 180,
     "metadata": {},
     "output_type": "execute_result"
    }
   ],
   "source": [
    "from collections import Counter\n",
    "d = list(Counter(tasks).values())\n",
    "n_max = max(d)\n",
    "f_max = d.count(n_max)\n",
    "max(len(tasks), (n_max-1)*(n+1)+f_max)"
   ]
  },
  {
   "cell_type": "code",
   "execution_count": 43,
   "metadata": {},
   "outputs": [],
   "source": []
  },
  {
   "cell_type": "code",
   "execution_count": 191,
   "metadata": {},
   "outputs": [],
   "source": [
    "s = 'AAABC'\n",
    "K = 2"
   ]
  },
  {
   "cell_type": "code",
   "execution_count": 195,
   "metadata": {},
   "outputs": [
    {
     "data": {
      "text/plain": [
       "7"
      ]
     },
     "execution_count": 195,
     "metadata": {},
     "output_type": "execute_result"
    }
   ],
   "source": [
    "from collections import Counter\n",
    "l = list(Counter(s).values())\n",
    "n_max = max(l)\n",
    "f_max = l.count(n_max)\n",
    "max(len(s), (n_max-1)*(K+1)+f_max)"
   ]
  },
  {
   "cell_type": "markdown",
   "metadata": {},
   "source": [
    "## Stock sell\n",
    "https://leetcode.com/problems/best-time-to-buy-and-sell-stock-with-transaction-fee/\n"
   ]
  },
  {
   "cell_type": "code",
   "execution_count": null,
   "metadata": {},
   "outputs": [],
   "source": [
    "class Solution:\n",
    "    def maxProfit(self, prices: List[int], fee: int) -> int:\n",
    "        prof = 0\n",
    "        buy = prices[0]\n",
    "        \n",
    "        for i in range(1, len(prices)):\n",
    "            if prices[i]<buy:\n",
    "                buy=prices[i]\n",
    "            elif prices[i]>(buy+fee):\n",
    "                prof += prices[i]-fee-buy\n",
    "                buy = prices[i]-fee\n",
    "        return prof"
   ]
  },
  {
   "cell_type": "code",
   "execution_count": 55,
   "metadata": {},
   "outputs": [],
   "source": [
    "prices = [1,3,2,8,4,9]\n",
    "fee = 2\n",
    "n = len(prices)\n",
    "\n"
   ]
  },
  {
   "cell_type": "code",
   "execution_count": 57,
   "metadata": {},
   "outputs": [
    {
     "name": "stdout",
     "output_type": "stream",
     "text": [
      "1 0\n",
      "1 0\n",
      "1 0\n",
      "6 5\n",
      "4 5\n"
     ]
    }
   ],
   "source": [
    "buy = prices[0]\n",
    "prof = 0\n",
    "for i in range(1,len(prices)):\n",
    "    print(buy, prof)\n",
    "    if prices[i]<buy:\n",
    "        buy = prices[i]\n",
    "    elif prices[i]>(buy+fee):\n",
    "        prof += prices[i] - buy -fee\n",
    "        buy = prices[i]-fee"
   ]
  },
  {
   "cell_type": "markdown",
   "metadata": {},
   "source": [
    "## Heights with greed\n",
    "https://leetcode.com/problems/queue-reconstruction-by-height/"
   ]
  },
  {
   "cell_type": "code",
   "execution_count": 26,
   "metadata": {},
   "outputs": [],
   "source": [
    "# Logic\n",
    "# Come again\n",
    "people = [[7,0],[4,4],[7,1],[5,0],[6,1],[5,2]]\n",
    "\n",
    "people.sort(key = lambda x: (-x[0], x[1]))\n",
    "output = []\n",
    "for p in people:\n",
    "    output.insert(p[1], p)"
   ]
  },
  {
   "cell_type": "code",
   "execution_count": 29,
   "metadata": {},
   "outputs": [],
   "source": [
    "people.sort(key=lambda x: (-x[0], x[1]))"
   ]
  },
  {
   "cell_type": "code",
   "execution_count": 30,
   "metadata": {},
   "outputs": [
    {
     "data": {
      "text/plain": [
       "[[7, 0], [7, 1], [6, 1], [5, 0], [5, 2], [4, 4]]"
      ]
     },
     "execution_count": 30,
     "metadata": {},
     "output_type": "execute_result"
    }
   ],
   "source": [
    "people"
   ]
  },
  {
   "cell_type": "code",
   "execution_count": 31,
   "metadata": {},
   "outputs": [],
   "source": [
    "output = []\n",
    "for p in people:\n",
    "    output.insert(p[1], p)"
   ]
  },
  {
   "cell_type": "code",
   "execution_count": 32,
   "metadata": {},
   "outputs": [
    {
     "data": {
      "text/plain": [
       "[[5, 0], [7, 0], [5, 2], [6, 1], [4, 4], [7, 1]]"
      ]
     },
     "execution_count": 32,
     "metadata": {},
     "output_type": "execute_result"
    }
   ],
   "source": [
    "output"
   ]
  },
  {
   "cell_type": "markdown",
   "metadata": {},
   "source": [
    "## Flower bed\n",
    "https://leetcode.com/problems/contiguous-array/solution/"
   ]
  },
  {
   "cell_type": "code",
   "execution_count": 1194,
   "metadata": {},
   "outputs": [
    {
     "data": {
      "text/plain": [
       "12"
      ]
     },
     "execution_count": 1194,
     "metadata": {},
     "output_type": "execute_result"
    }
   ],
   "source": [
    "# Come again\n",
    "class Solution:\n",
    "    def canPlaceFlowers(self, flowerbed, n):\n",
    "        \"\"\"\n",
    "        :type flowerbed: List[int]\n",
    "        :type n: int\n",
    "        :rtype: bool\n",
    "        \"\"\"\n",
    "        count = 0\n",
    "        i = 0\n",
    "        while i < len(flowerbed):\n",
    "            is_flower = flowerbed[i]\n",
    "            if not is_flower:     # If flowerbed is empty\n",
    "                cond = is_flower\n",
    "                if i > 0: # Boundary condition\n",
    "                    cond = cond or flowerbed[i-1] \n",
    "                if i < len(flowerbed) -1 : #Boundary condition\n",
    "                    cond = cond or flowerbed[i+1]\n",
    "                if not cond: # if the beds before and after will be 0, then x or x-1 or x+1 will be 0\n",
    "                    count +=1\n",
    "                    i +=2 # increment by two spots to avoid double counting the next flowerbed\n",
    "                else:\n",
    "                    i +=1\n",
    "            else:\n",
    "                i +=1\n",
    "                \n",
    "        return count >= n"
   ]
  },
  {
   "cell_type": "markdown",
   "metadata": {},
   "source": [
    "\n",
    "## Problem \n",
    "https://leetcode.com/problems/can-place-flowers/submissions/"
   ]
  },
  {
   "cell_type": "code",
   "execution_count": 262,
   "metadata": {},
   "outputs": [
    {
     "name": "stdout",
     "output_type": "stream",
     "text": [
      "0 2\n",
      "1 1\n"
     ]
    }
   ],
   "source": [
    "## Greedy\n",
    "\n",
    "# flowerbed = [1,0,0,0,1]\n",
    "# n = 1\n",
    "flowerbed = [0,0,0]\n",
    "n = 1\n",
    "\n",
    "places = [i for i,j in enumerate(flowerbed) if j==0]\n",
    "ones = [i for i,j in enumerate(flowerbed) if j==1]\n",
    "if len(ones)==0:\n",
    "    ones.append(places.pop())\n",
    "    n-=1\n",
    "for p in sorted(places):\n",
    "    print(p, min([abs(i-p) for i in ones]))\n",
    "    if min([abs(i-p) for i in ones])>=2:\n",
    "        n-=1\n",
    "        ones.append(p)\n",
    "        if n==0:\n",
    "            break\n",
    "if n<=0:\n",
    "    return True\n",
    "else:\n",
    "    return False"
   ]
  },
  {
   "cell_type": "markdown",
   "metadata": {},
   "source": [
    "## Problem - 32\n",
    "https://leetcode.com/problems/trapping-rain-water/"
   ]
  },
  {
   "cell_type": "code",
   "execution_count": 1197,
   "metadata": {},
   "outputs": [],
   "source": [
    "height = [1,0,2,1,0,1,3,2,1,2,1]\n"
   ]
  },
  {
   "cell_type": "code",
   "execution_count": null,
   "metadata": {},
   "outputs": [],
   "source": [
    "# Logic\n",
    "res = 0;\n",
    "for i in range(1, n - 1) :\n",
    "    left = arr[i]\n",
    "    for j in range(i) :\n",
    "        left = max(left, arr[j])\n",
    "\n",
    "    right = arr[i];\n",
    "    for j in range(i + 1 , n) :\n",
    "        right = max(right, arr[j])\n",
    "    \n",
    "    res = res + (min(left, right) - arr[i])\n",
    "\n",
    "return res;\n"
   ]
  },
  {
   "cell_type": "code",
   "execution_count": null,
   "metadata": {},
   "outputs": [],
   "source": [
    "res = 0\n",
    "for i in range(1,len(height)-1):\n",
    "    l = max(height[:i+1])\n",
    "    r = max(height[i:])\n",
    "    res += min(l,r) - height[i]\n",
    "return res"
   ]
  },
  {
   "cell_type": "markdown",
   "metadata": {},
   "source": [
    "## Maxarea Water\n",
    "https://leetcode.com/problems/container-with-most-water/"
   ]
  },
  {
   "cell_type": "code",
   "execution_count": null,
   "metadata": {},
   "outputs": [],
   "source": [
    "for i in range(len(height)):\n",
    "    for j in range(i, len(height)):\n",
    "        maxarea = max(maxarea, min(hight[i], height[j])*(j-i))\n",
    "        \n",
    "        \n",
    "class Solution:\n",
    "    def maxArea(self, height: List[int]) -> int:\n",
    "        \n",
    "        res =0\n",
    "        maxarea= 0\n",
    "        for i in range(1, len(height)-1):\n",
    "            left = max(height[:i])\n",
    "            l = height[:i].index(left)\n",
    "            \n",
    "            right = max(height[i:])\n",
    "            r = height[i:].index(right)+i\n",
    "            \n",
    "            maxarea = max(maxarea, min(left,right)*(r-l))\n",
    "        return maxarea"
   ]
  },
  {
   "cell_type": "markdown",
   "metadata": {},
   "source": [
    "## Maximum Product\n",
    "https://www.geeksforgeeks.org/minimum-product-subset-array/"
   ]
  },
  {
   "cell_type": "code",
   "execution_count": null,
   "metadata": {},
   "outputs": [],
   "source": [
    "a = [-1, -1, -2, 4, 3]\n",
    "prod = 1\n",
    "count_neg = 0\n",
    "count_zero = 0\n",
    "for i in a:\n",
    "    if i==0: \n",
    "        count_zero+=1\n",
    "        continue\n",
    "    prod *=i\n",
    "    if i<0:\n",
    "        count_neg+=1\n",
    "min_neg = min(a)\n",
    "min_pos"
   ]
  },
  {
   "cell_type": "code",
   "execution_count": 23,
   "metadata": {},
   "outputs": [],
   "source": [
    "a = [-1, -1, -2, 4, 3]\n",
    "#a = sorted(a)"
   ]
  },
  {
   "cell_type": "code",
   "execution_count": 20,
   "metadata": {},
   "outputs": [
    {
     "name": "stdout",
     "output_type": "stream",
     "text": [
      "-24\n",
      "-1 3 3 0 -24\n"
     ]
    }
   ],
   "source": [
    "# Logic\n",
    "# Come again\n",
    "\n",
    "''' Get minimum number to  mulitply if it wont fit Odd negatives else least number'''\n",
    "\n",
    "# Driver code\n",
    "a = [-1, -1, -2, 4, 3]\n",
    "n = len(a)\n",
    "\n",
    "max_neg = float('-inf')\n",
    "min_pos = float('inf')\n",
    "count_neg = 0\n",
    "count_zero = 0\n",
    "prod = 1\n",
    "for i in range(0, n):\n",
    "    if (a[i] == 0):\n",
    "        count_zero = count_zero + 1\n",
    "        continue\n",
    "    if (a[i] < 0):\n",
    "        count_neg = count_neg + 1\n",
    "        max_neg = max(max_neg, a[i])\n",
    "\n",
    "    if (a[i] > 0):\n",
    "        min_pos = min(min_pos, a[i])\n",
    "\n",
    "    prod = prod * a[i]\n",
    "    \n",
    "# if (count_zero == n or (count_neg == 0\n",
    "#                         and count_zero > 0)):\n",
    "#     return 0\n",
    "\n",
    "# # If there are all positive\n",
    "# if (count_neg == 0):\n",
    "#     return min_pos\n",
    "print(prod)\n",
    "if ((count_neg & 1) == 0 and\n",
    "        count_neg != 0):\n",
    "\n",
    "    # Otherwise result is product of\n",
    "    # all non-zeros divided by\n",
    "    # maximum valued negative.\n",
    "    prod = int(prod / max_neg)\n",
    "\n",
    "\n",
    "print(max_neg, min_pos, count_neg, count_zero, prod)\n"
   ]
  },
  {
   "cell_type": "code",
   "execution_count": 22,
   "metadata": {},
   "outputs": [
    {
     "data": {
      "text/plain": [
       "-24"
      ]
     },
     "execution_count": 22,
     "metadata": {},
     "output_type": "execute_result"
    }
   ],
   "source": [
    "prod"
   ]
  },
  {
   "cell_type": "code",
   "execution_count": 149,
   "metadata": {},
   "outputs": [
    {
     "data": {
      "text/plain": [
       "-1"
      ]
     },
     "execution_count": 149,
     "metadata": {},
     "output_type": "execute_result"
    }
   ],
   "source": [
    "def max_subarray_with_k(v, k):\n",
    "    running = 0\n",
    "    current = sum(v[:k])\n",
    "    max_sum = current\n",
    "    \n",
    "    for x in range(k, len(v)):\n",
    "        current += v[x]\n",
    "        running += v[x-k]\n",
    "        \n",
    "        if running < 0:\n",
    "            current -= running\n",
    "            running = 0\n",
    "        if current > max_sum:\n",
    "            max_sum = current\n",
    "            \n",
    "    return max_sum\n",
    "a = [-4, -2, 1, -3]\n",
    "max_subarray_with_k(a, 2)"
   ]
  },
  {
   "cell_type": "markdown",
   "metadata": {},
   "source": [
    "## Waiting time by list\n"
   ]
  },
  {
   "cell_type": "code",
   "execution_count": 58,
   "metadata": {},
   "outputs": [],
   "source": [
    "a = [3, 2, 1, 2, 6]\n",
    "a.sort()\n",
    "w = []\n",
    "for i in range(1, len(a)):\n",
    "    w.append(sum(a[:i]))\n",
    "sum(w)"
   ]
  },
  {
   "cell_type": "markdown",
   "metadata": {},
   "source": [
    "https://www.algoexpert.io/questions/Task%20Assignment"
   ]
  },
  {
   "cell_type": "code",
   "execution_count": 13,
   "metadata": {},
   "outputs": [
    {
     "data": {
      "text/plain": [
       "[[0, 2], [4, 5], [1, 3]]"
      ]
     },
     "execution_count": 13,
     "metadata": {},
     "output_type": "execute_result"
    }
   ],
   "source": [
    "# Come again - keep index as extra column when you need index order\n",
    "tasks = [1, 3, 5, 3, 1, 4]\n",
    "k = 3\n",
    "tasks =[[idx, v] for idx, v in enumerate(tasks)]\n",
    "tasks.sort(key=lambda x: x[1])\n",
    "res = []\n",
    "for i in range(k):\n",
    "    res.append([tasks[i][0], tasks[len(tasks)-1-i][0]])\n",
    "res"
   ]
  },
  {
   "cell_type": "code",
   "execution_count": 15,
   "metadata": {},
   "outputs": [
    {
     "data": {
      "text/plain": [
       "[[0, 1], [4, 1], [1, 3], [3, 3], [5, 4], [2, 5]]"
      ]
     },
     "execution_count": 15,
     "metadata": {},
     "output_type": "execute_result"
    }
   ],
   "source": [
    "tasks"
   ]
  },
  {
   "cell_type": "code",
   "execution_count": 71,
   "metadata": {
    "scrolled": true
   },
   "outputs": [
    {
     "data": {
      "text/plain": [
       "[0, 4, 1]"
      ]
     },
     "execution_count": 71,
     "metadata": {},
     "output_type": "execute_result"
    }
   ],
   "source": [
    "res"
   ]
  },
  {
   "cell_type": "code",
   "execution_count": 86,
   "metadata": {},
   "outputs": [],
   "source": [
    "a = [1,3,4]"
   ]
  },
  {
   "cell_type": "code",
   "execution_count": 85,
   "metadata": {},
   "outputs": [
    {
     "name": "stdout",
     "output_type": "stream",
     "text": [
      "[5, 30, 45, 55, 70]\n",
      "[10, 30, 40, 40, 70]\n",
      "0 [5, 0, -5, -15, 0]\n",
      "[25, 40, 50, 65, 70]\n",
      "[20, 30, 30, 60, 70]\n",
      "1 [-5, -10, -20, -5, 0]\n",
      "[15, 25, 40, 45, 70]\n",
      "[10, 10, 40, 50, 70]\n",
      "2 [-5, -15, 0, 5, 0]\n",
      "[10, 25, 30, 55, 70]\n",
      "[0, 30, 40, 60, 70]\n",
      "3 [-10, 5, 10, 5, 0]\n",
      "[15, 20, 45, 60, 70]\n",
      "[30, 40, 60, 70, 70]\n",
      "4 [15, 20, 15, 10, 0]\n",
      "[5, 30, 45, 55, 70]\n",
      "[10, 30, 40, 40, 70]\n",
      "5 [5, 0, -5, -15, 0]\n"
     ]
    }
   ],
   "source": [
    "d = [5, 25, 15, 10, 15]\n",
    "fuel = [1, 2, 1, 0, 3]\n",
    "mpg = 10\n",
    "\n",
    "for ind in range( len(d)+1):\n",
    "    r = d[ind:] + d[:ind]\n",
    "    flag=True\n",
    "    f = [i*mpg for i in fuel[ind:]+fuel[:ind]]\n",
    "    flag = True\n",
    "    ml = []\n",
    "    for i in range(1,len(r)):\n",
    "        r[i]= r[i]+r[i-1]\n",
    "        f[i] = f[i]+f[i-1]\n",
    "        \n",
    "    for i in range(len(r)):    \n",
    "        if f[i]-r[i]<0:\n",
    "            flag=False\n",
    "    if flag:\n",
    "        return ind"
   ]
  },
  {
   "cell_type": "code",
   "execution_count": 89,
   "metadata": {},
   "outputs": [],
   "source": []
  },
  {
   "cell_type": "code",
   "execution_count": 96,
   "metadata": {},
   "outputs": [
    {
     "name": "stdout",
     "output_type": "stream",
     "text": [
      "[3]\n",
      "[1, 4]\n"
     ]
    }
   ],
   "source": []
  },
  {
   "cell_type": "code",
   "execution_count": 98,
   "metadata": {},
   "outputs": [
    {
     "data": {
      "text/plain": [
       "[1, 4]"
      ]
     },
     "execution_count": 98,
     "metadata": {},
     "output_type": "execute_result"
    }
   ],
   "source": [
    "rmkeys"
   ]
  },
  {
   "cell_type": "code",
   "execution_count": 100,
   "metadata": {},
   "outputs": [],
   "source": [
    "te  =[]\n",
    "for i in indep+ rmkeys:\n",
    "    if i not in te:\n",
    "        te.append(i)"
   ]
  },
  {
   "cell_type": "code",
   "execution_count": 101,
   "metadata": {},
   "outputs": [
    {
     "data": {
      "text/plain": [
       "[2, 3, 1, 4]"
      ]
     },
     "execution_count": 101,
     "metadata": {},
     "output_type": "execute_result"
    }
   ],
   "source": [
    "te"
   ]
  },
  {
   "cell_type": "markdown",
   "metadata": {},
   "source": [
    "## Maximize Array sum\n",
    "https://www.geeksforgeeks.org/maximize-array-sun-after-k-negation-operations/"
   ]
  },
  {
   "cell_type": "code",
   "execution_count": 20,
   "metadata": {},
   "outputs": [],
   "source": [
    "a = [-2, 0, 5, -1, 2]\n",
    "# a = [9, 8, 8, 5]\n",
    "# a = sorted(a)\n",
    "k =5\n",
    "\n",
    "# Just array summation maximization convert all negatives to positive if stil left apply to lowest valu"
   ]
  },
  {
   "cell_type": "code",
   "execution_count": 21,
   "metadata": {},
   "outputs": [],
   "source": [
    "maxNeg = 0\n",
    "a.sort()\n",
    "NegInds = []\n",
    "for i, v in enumerate(a):\n",
    "    if v>=0:\n",
    "        break\n",
    "    maxNeg = v\n",
    "    NegInds.append(i)\n",
    "for i in NegInds:\n",
    "    if k>0:\n",
    "        a[i] = -a[i]\n",
    "        k-=1\n",
    "if k>0 and k%2==1:\n",
    "    s = sum(a)-maxNeg"
   ]
  },
  {
   "cell_type": "code",
   "execution_count": 23,
   "metadata": {},
   "outputs": [],
   "source": []
  },
  {
   "cell_type": "code",
   "execution_count": null,
   "metadata": {},
   "outputs": [],
   "source": []
  },
  {
   "cell_type": "code",
   "execution_count": 24,
   "metadata": {},
   "outputs": [],
   "source": [
    "neg_inds = [i for i, j in enumerate(a) if j<=0]\n",
    "\n",
    "if neg_inds:\n",
    "    for i in neg_inds:\n",
    "        a[i] = -a[i]\n",
    "        k-=1\n",
    "else:\n",
    "    neg_inds.append(a.index(min(a)))\n",
    "if k>0:\n",
    "    a[neg_inds[-1]] = -a[neg_inds[-1]]"
   ]
  },
  {
   "cell_type": "code",
   "execution_count": 25,
   "metadata": {},
   "outputs": [
    {
     "data": {
      "text/plain": [
       "[-5, 8, 8, 9]"
      ]
     },
     "execution_count": 25,
     "metadata": {},
     "output_type": "execute_result"
    }
   ],
   "source": [
    "a"
   ]
  },
  {
   "cell_type": "markdown",
   "metadata": {},
   "source": [
    "## MaxSum of sequence inc\n",
    "https://www.geeksforgeeks.org/maximum-sum-increasing-order-elements-n-arrays/"
   ]
  },
  {
   "cell_type": "code",
   "execution_count": 47,
   "metadata": {},
   "outputs": [
    {
     "name": "stdout",
     "output_type": "stream",
     "text": [
      "9 1 -1000000000\n",
      "9 1 1\n",
      "9 1 5\n",
      "9 1 5\n",
      "5 0 -1000000000\n",
      "5 0 4\n",
      "5 0 4\n",
      "5 0 4\n",
      "18\n"
     ]
    }
   ],
   "source": [
    "'''idea is to start picking from the last array. We pick the maximum element from the last array,\n",
    "then we move to the second last array. In the second last array, we find the largest element which \n",
    "is smaller than the maximum element picked from the last array. We repeat this process until we reach the first array.'''\n",
    "M = 4\n",
    "\n",
    "# To calculate maximum sum by\n",
    "# selecting element from each array\n",
    "def maximumSum(a, n):\n",
    "\n",
    "    # Store maximum element of last array\n",
    "    prev = max(max(a))\n",
    "    \n",
    "    # Selecting maximum element from\n",
    "    # previoulsy selected element\n",
    "    Sum = prev\n",
    "    for i in range(n - 2, -1, -1):\n",
    "        \n",
    "        max_smaller = -10**9\n",
    "        for j in range(M - 1, -1, -1):\n",
    "            print(prev,i, max_smaller)\n",
    "            if (a[i][j] < prev and\n",
    "                a[i][j] > max_smaller):\n",
    "                max_smaller = a[i][j]\n",
    "\n",
    "    # max_smaller equals to INT_MIN means\n",
    "    # no element is found in a[i] so\n",
    "    # return 0\n",
    "        if (max_smaller == -10**9):\n",
    "            return 0\n",
    "\n",
    "        prev = max_smaller\n",
    "        Sum += max_smaller\n",
    "\n",
    "    return Sum\n",
    "\n",
    "# Driver Code\n",
    "arr = [[1, 7, 3, 4],\n",
    "        [4, 2, 5, 1],\n",
    "        [9, 5, 1, 8]]\n",
    "n = len(arr)\n",
    "print(maximumSum(arr, n))\n",
    "\n",
    "# This code is contributed by mohit kumar\n"
   ]
  },
  {
   "cell_type": "markdown",
   "metadata": {},
   "source": [
    "## Max sum of Consecutive array\n",
    "https://www.geeksforgeeks.org/maximize-sum-consecutive-differences-circular-array/"
   ]
  },
  {
   "cell_type": "code",
   "execution_count": 48,
   "metadata": {},
   "outputs": [],
   "source": [
    "a = [4, 2, 1, 8 ]"
   ]
  },
  {
   "cell_type": "code",
   "execution_count": 49,
   "metadata": {},
   "outputs": [],
   "source": [
    "b = sorted(a)"
   ]
  },
  {
   "cell_type": "code",
   "execution_count": 50,
   "metadata": {},
   "outputs": [
    {
     "data": {
      "text/plain": [
       "([1, 2], [4, 8])"
      ]
     },
     "execution_count": 50,
     "metadata": {},
     "output_type": "execute_result"
    }
   ],
   "source": [
    "b[:len(b)//2] , b[len(b)//2:]"
   ]
  },
  {
   "cell_type": "markdown",
   "metadata": {},
   "source": [
    "## Min Product of Two array\n",
    "https://www.geeksforgeeks.org/minimum-sum-product-two-arrays/\n",
    "    "
   ]
  },
  {
   "cell_type": "code",
   "execution_count": 51,
   "metadata": {},
   "outputs": [],
   "source": [
    "a = [ 2, 3, 4, 5, 4 ]\n",
    "b = [ 3, 4, 2, 3, 2 ]\n",
    "\n",
    "c = [i*j for i ,j in zip(a,b)]"
   ]
  },
  {
   "cell_type": "code",
   "execution_count": 54,
   "metadata": {},
   "outputs": [],
   "source": [
    "ind = c.index(max(c))"
   ]
  },
  {
   "cell_type": "code",
   "execution_count": 55,
   "metadata": {},
   "outputs": [
    {
     "data": {
      "text/plain": [
       "(5, 3)"
      ]
     },
     "execution_count": 55,
     "metadata": {},
     "output_type": "execute_result"
    }
   ],
   "source": [
    "a[ind], b[ind]"
   ]
  },
  {
   "cell_type": "code",
   "execution_count": 16,
   "metadata": {},
   "outputs": [
    {
     "data": {
      "text/plain": [
       "25"
      ]
     },
     "execution_count": 16,
     "metadata": {},
     "output_type": "execute_result"
    }
   ],
   "source": [
    "\n",
    "# Come again\n",
    "'''\n",
    "Find the minimum sum of Products of two arrays of the same size, given that k modifications are allowed on the first array.\n",
    "In each modification, one array element of the first array can either be increased or decreased by 2.\n",
    "'''\n",
    "\n",
    "# Driver function\n",
    "a = [ 2, -3, 4, 5, 4 ]\n",
    "b = [ 3, 4, -2, 3, 2 ]\n",
    "n = 5\n",
    "k = 3\n",
    "\n",
    "# print(minproduct(a, b, n, k))\n",
    "\n",
    "# This code is contributed\n",
    "# by Azkia Anam.\n",
    "\n",
    "\n",
    "\n",
    "diff = 0\n",
    "res = 0\n",
    "for i in range(n):\n",
    "    pro = a[i] * b[i]\n",
    "    res = res + pro\n",
    "\n",
    "\n",
    "        # Find product of current\n",
    "        # elements and update result.\n",
    "        pro = a[i] * b[i]\n",
    "        res = res + pro\n",
    " \n",
    "        # If both product and\n",
    "        # b[i] are negative,\n",
    "        # we must increase value\n",
    "        # of a[i] to minimize result.\n",
    "        if (pro < 0 and b[i] < 0):\n",
    "            temp = (a[i] + 2 * k) * b[i]\n",
    " \n",
    "        # If both product and\n",
    "        # a[i] are negative,\n",
    "        # we must decrease value\n",
    "        # of a[i] to minimize result.\n",
    "        elif (pro < 0 and a[i] < 0):\n",
    "            temp = (a[i] - 2 * k) * b[i]\n",
    " \n",
    "        # Similar to above two cases\n",
    "        # for positive product.\n",
    "        elif (pro > 0 and a[i] < 0):\n",
    "            temp = (a[i] + 2 * k) * b[i]\n",
    "        elif (pro > 0 and a[i] > 0):\n",
    "            temp = (a[i] - 2 * k) * b[i]\n",
    " \n",
    "\n",
    "        # Check if current difference\n",
    "#     if (pro < 0 and b[i] < 0):\n",
    "#         temp = (a[i] + 2 * k) * b[i]\n",
    "#     elif (pro < 0 and a[i] < 0):\n",
    "#         temp = (a[i] - 2 * k) * b[i]\n",
    "#     elif (pro > 0 and a[i] < 0):\n",
    "#         temp = (a[i] + 2 * k) * b[i]\n",
    "#     elif (pro > 0 and a[i] > 0):\n",
    "#         temp = (a[i] - 2 * k) * b[i]\n",
    "\n",
    "    d = abs(pro - temp)\n",
    "\n",
    "    if (d > diff):\n",
    "        diff = d\t\n",
    "res-diff"
   ]
  },
  {
   "cell_type": "code",
   "execution_count": 17,
   "metadata": {},
   "outputs": [
    {
     "data": {
      "text/plain": [
       "49"
      ]
     },
     "execution_count": 17,
     "metadata": {},
     "output_type": "execute_result"
    }
   ],
   "source": [
    "res"
   ]
  },
  {
   "cell_type": "code",
   "execution_count": 21,
   "metadata": {},
   "outputs": [],
   "source": [
    "a = [ 2, 3, 4, 5, 4 ]\n",
    "b = [ 3, 4, 2, 3, 2 ]\n",
    "a.sort()\n",
    "b.sort()\n",
    "#b = b[::-1]"
   ]
  },
  {
   "cell_type": "code",
   "execution_count": 22,
   "metadata": {},
   "outputs": [
    {
     "data": {
      "text/plain": [
       "54"
      ]
     },
     "execution_count": 22,
     "metadata": {},
     "output_type": "execute_result"
    }
   ],
   "source": [
    "sum([i*j for i,j in zip(a,b)])"
   ]
  },
  {
   "cell_type": "markdown",
   "metadata": {},
   "source": [
    "## Max Height of Pyramid\n",
    "https://www.geeksforgeeks.org/find-maximum-height-pyramid-from-the-given-array-of-objects/"
   ]
  },
  {
   "cell_type": "code",
   "execution_count": 12,
   "metadata": {},
   "outputs": [],
   "source": [
    "\n",
    "boxes= [10, 20, 30, 50, 60, 70]\n",
    "m = len(boxes)"
   ]
  },
  {
   "cell_type": "code",
   "execution_count": 13,
   "metadata": {},
   "outputs": [
    {
     "name": "stdout",
     "output_type": "stream",
     "text": [
      "[70]\n",
      "[60, 50]\n"
     ]
    }
   ],
   "source": [
    "i = 1\n",
    "while i<len(boxes):\n",
    "    print([boxes.pop() for j in range(i)])\n",
    "    i+=1"
   ]
  },
  {
   "cell_type": "code",
   "execution_count": 14,
   "metadata": {},
   "outputs": [
    {
     "data": {
      "text/plain": [
       "3"
      ]
     },
     "execution_count": 14,
     "metadata": {},
     "output_type": "execute_result"
    }
   ],
   "source": [
    "i"
   ]
  },
  {
   "cell_type": "code",
   "execution_count": 69,
   "metadata": {},
   "outputs": [],
   "source": [
    "\n",
    "\n",
    "boxes= [10, 20, 30, 50, 60, 70]\n",
    "n = len(boxes)\n",
    "\n",
    "\n",
    "boxes.sort()\n",
    "ans = 1\n",
    "prev_width = boxes[0]\n",
    "prev_count = 1\n",
    "\n",
    "curr_count = 0\n",
    "curr_width = 0\n",
    "for i in range(1, n):\n",
    "\n",
    "    curr_width += boxes[i]\n",
    "    curr_count += 1\n",
    "    if (curr_width > prev_width and\n",
    "        curr_count > prev_count):\n",
    "\n",
    "        prev_width = curr_width\n",
    "        prev_count = curr_count\n",
    "\n",
    "        curr_count = 0\n",
    "        curr_width = 0\n",
    "\n",
    "        # Increment number of level.\n",
    "        ans += 1\n",
    "    "
   ]
  },
  {
   "cell_type": "code",
   "execution_count": null,
   "metadata": {},
   "outputs": [],
   "source": []
  },
  {
   "cell_type": "markdown",
   "metadata": {},
   "source": [
    "\n",
    "# Linked Lists\n",
    "\n",
    "\n",
    "https://www.youtube.com/watch?v=OFr16YdsBEQ"
   ]
  },
  {
   "cell_type": "markdown",
   "metadata": {},
   "source": [
    "## Problem - 33\n",
    "https://leetcode.com/problems/insert-into-a-sorted-circular-linked-list/solution/"
   ]
  },
  {
   "cell_type": "code",
   "execution_count": null,
   "metadata": {},
   "outputs": [],
   "source": [
    "# Definition for a Node.\n",
    "class Node:\n",
    "    def __init__(self, val=None, next=None):\n",
    "        self.val = val\n",
    "        self.next = next\n",
    "\n",
    "\n",
    "class Solution:\n",
    "    def insert(self, head: 'Node', insertVal: int) -> 'Node':\n",
    "        \n",
    "        iv = Node(insertVal)\n",
    "        if head is None:\n",
    "            iv.next = iv\n",
    "            return iv\n",
    "        \n",
    "        prev, cur = head, head.next\n",
    "        while True:\n",
    "            if prev.val <= insertVal <= cur.val:\n",
    "                prev.next = Node(insertVal, cur)\n",
    "                return head\n",
    "            elif prev.val>cur.val:\n",
    "                if insertVal>prev.val or insertVal<cur.val:\n",
    "                    prev.next = Node(insertVal, cur)\n",
    "                    return head\n",
    "            prev, cur = cur, cur.next\n",
    "            if prev==head:\n",
    "                break\n",
    "        prev.next = Node(insertVal, cur)\n",
    "        return head"
   ]
  },
  {
   "cell_type": "markdown",
   "metadata": {},
   "source": [
    "## Remove element from Linked list"
   ]
  },
  {
   "cell_type": "code",
   "execution_count": 354,
   "metadata": {},
   "outputs": [],
   "source": [
    "class Solution:\n",
    "    def removeElements(self, head: ListNode, val: int) -> ListNode:\n",
    "        \n",
    "        res = ListNode(0)\n",
    "        res.next = head\n",
    "    \n",
    "        prev, cur = res, head\n",
    "        while cur:\n",
    "            if cur.val == val:\n",
    "                prev.next = cur.next\n",
    "                cur = cur.next\n",
    "            else:\n",
    "                prev = cur\n",
    "                cur = cur.next\n",
    "        \n",
    "        return res.next"
   ]
  },
  {
   "cell_type": "markdown",
   "metadata": {},
   "source": [
    "## Problem - Reverse \n",
    "\n",
    "https://leetcode.com/problems/reverse-linked-list/submissions/"
   ]
  },
  {
   "cell_type": "code",
   "execution_count": null,
   "metadata": {},
   "outputs": [],
   "source": [
    "# Logic\n",
    "# Practice\n",
    "# Byheart\n",
    "class Solution:\n",
    "    def reverseList(self, head: ListNode) -> ListNode:\n",
    "        cur = head\n",
    "        prev = None\n",
    "        while cur:\n",
    "            nextnode = cur.next\n",
    "            cur.next = prev\n",
    "            prev = cur\n",
    "            cur = nextnode\n",
    "        \n",
    "        return prev\n",
    "            "
   ]
  },
  {
   "cell_type": "markdown",
   "metadata": {},
   "source": [
    "## Reverse Group nodes\n",
    "https://leetcode.com/problems/reverse-linked-list-ii/"
   ]
  },
  {
   "cell_type": "code",
   "execution_count": null,
   "metadata": {},
   "outputs": [],
   "source": [
    "# come again\n",
    "# Checklast\n",
    "    def reverseBetween(self, head: ListNode, left: int, right: int) -> ListNode:\n",
    "        \n",
    "        start = ListNode(0)\n",
    "        start.next= head\n",
    "            \n",
    "        h1 = start\n",
    "        for _ in range(left - 1): \n",
    "            h1 = h1.next \n",
    "        \n",
    "        h2 = h1\n",
    "        for _ in range(right - left + 2): \n",
    "            h2 = h2.next \n",
    "            \n",
    "        re = h2\n",
    "        \n",
    "        prev = h1.next \n",
    "        nn = prev.next \n",
    "        \n",
    "        while nn != re: \n",
    "            h1.next = nn\n",
    "            prev.next =  h2\n",
    "            h2 = prev\n",
    "            prev = nn \n",
    "            nn = nn.next\n",
    "\n",
    "        prev.next = h2\n",
    "        \n",
    "        \n",
    "            \n",
    "        print('h1')\n",
    "        te =  start\n",
    "        while te:\n",
    "            print(te.val)\n",
    "            te = te.next\n",
    "        "
   ]
  },
  {
   "cell_type": "code",
   "execution_count": null,
   "metadata": {},
   "outputs": [],
   "source": [
    "start = TreeNode(0)\n",
    "start.next = head\n",
    "\n",
    "h1 = head\n",
    "for i in range(l):\n",
    "    h1 = h1.next\n",
    "    \n",
    "    \n",
    "h2 = h1\n",
    "for i in range(r-l+1):\n",
    "    h2  = h2.next\n",
    "\n",
    "re = h2\n",
    "prev = h1.next\n",
    "nn = prev.next\n",
    "while nn!=re:\n",
    "    h1.next = nn\n",
    "    prev.next = h2\n",
    "    h2 = prev\n",
    "    prev = nn\n",
    "    nn = nn.next"
   ]
  },
  {
   "cell_type": "code",
   "execution_count": null,
   "metadata": {},
   "outputs": [],
   "source": []
  },
  {
   "cell_type": "markdown",
   "metadata": {},
   "source": [
    "## Reverse Few \n",
    "https://leetcode.com/problems/reverse-linked-list-ii/"
   ]
  },
  {
   "cell_type": "code",
   "execution_count": null,
   "metadata": {},
   "outputs": [],
   "source": [
    "# Definition for singly-linked list.\n",
    "# class ListNode:\n",
    "#     def __init__(self, val=0, next=None):\n",
    "#         self.val = val\n",
    "#         self.next = next\n",
    "class Solution:\n",
    "    def reverseBetween(self, head: ListNode, left: int, right: int) -> ListNode:\n",
    "    \n",
    "        \n",
    "        firstpart=head\n",
    "        cur = firstpart            \n",
    "        while cur:\n",
    "            secondpart = cur.next\n",
    "            if cur.next.val==left:\n",
    "                cur.next=None\n",
    "                break\n",
    "            cur = cur.next\n",
    "        \n",
    "        thirdpart = secondpart\n",
    "        cur = thirdpart\n",
    "        while cur:\n",
    "            thirdpart = cur.next\n",
    "            if cur.val==right:\n",
    "                cur.next = None\n",
    "                break\n",
    "            cur = cur.next\n",
    "        \n",
    "        \n",
    "        cur = secondpart\n",
    "        prev =  None\n",
    "        while cur:\n",
    "            nextnode = cur.next\n",
    "            cur.next = prev\n",
    "            prev = cur\n",
    "            cur = nextnode\n",
    "            \n",
    "        p, c = prev, prev.next\n",
    "        while c:\n",
    "            p = c\n",
    "            c = c.next\n",
    "        \n",
    "        \n",
    "        firstpart.next = prev\n",
    "        p.next = thirdpart\n",
    "        return firstpart\n",
    "        \n",
    "        \n",
    "        \n",
    "#  Working\n",
    "class Solution:\n",
    "    def reverseBetween(self, head: ListNode, left: int, right: int) -> ListNode:\n",
    "        \n",
    "        # Initialize \"start\" node that points to head\n",
    "        start = ListNode(0)\n",
    "        start.next = head \n",
    "        \n",
    "        # Obtain node to the left of the lefth-th node \n",
    "        # (bh stands for \"break here\")\n",
    "        bh = start\n",
    "        for _ in range(left - 1): \n",
    "            bh = bh.next \n",
    "        \n",
    "        # Obtain node to the right of the right-th node\n",
    "        # (ch -> \"continue here\")\n",
    "        ch = bh\n",
    "        for _ in range(right - left + 2): \n",
    "            ch = ch.next \n",
    "        \n",
    "        # Iteratively reverse the center \n",
    "        # (rs -> \"reverse start\", nn -> \"next node\", re = \"reverse end\")\n",
    "        rs = bh.next \n",
    "        nn = rs.next \n",
    "        re = ch\n",
    "        \n",
    "        while nn != re: \n",
    "            bh.next = nn\n",
    "            rs.next =  ch\n",
    "            ch = rs\n",
    "            rs = nn\n",
    "            nn = nn.next\n",
    "\n",
    "        rs.next = ch\n",
    "        \n",
    "        return start.next \n",
    "            \n",
    "            "
   ]
  },
  {
   "cell_type": "code",
   "execution_count": 198,
   "metadata": {},
   "outputs": [
    {
     "data": {
      "text/plain": [
       "4"
      ]
     },
     "execution_count": 198,
     "metadata": {},
     "output_type": "execute_result"
    }
   ],
   "source": [
    "4-2+2"
   ]
  },
  {
   "cell_type": "markdown",
   "metadata": {},
   "source": [
    "## Sorted Linked List\n",
    "https://leetcode.com/problems/sort-list/submissions/"
   ]
  },
  {
   "cell_type": "code",
   "execution_count": null,
   "metadata": {},
   "outputs": [],
   "source": [
    "# Definition for singly-linked list.\n",
    "class ListNode:\n",
    "    def __init__(self, val=0, next=None):\n",
    "        self.val = val\n",
    "        self.next = next\n",
    "class Solution:\n",
    "    def sortList(self, head: ListNode) -> ListNode:\n",
    "        \n",
    "        li = []\n",
    "        cur = head\n",
    "        while cur:\n",
    "            li.append(cur.val)\n",
    "            cur = cur.next\n",
    "        li.sort()\n",
    "        \n",
    "        \n",
    "        res1 = ListNode(None)\n",
    "        res = res1\n",
    "        for i in li:\n",
    "            print(i)\n",
    "            res.next = ListNode(i)\n",
    "            res = res.next\n",
    "    \n",
    "        return res1.next\n",
    "    \n",
    "    \n",
    "# Bubble sort  \n",
    "class Solution:\n",
    "    def sortList(self, head: ListNode) -> ListNode:\n",
    "        count = 0\n",
    "        cur = head\n",
    "        while cur:\n",
    "            count +=1\n",
    "            print(cur.val)\n",
    "            cur =  cur.next\n",
    "            \n",
    "        for i in range(count):\n",
    "            prev = head\n",
    "            cur = head.next\n",
    "            while cur:\n",
    "                if prev.val>cur.val:\n",
    "                    prev.val, cur.val = cur.val, prev.val\n",
    "                prev = cur\n",
    "                cur = cur.next\n",
    "        return head\n"
   ]
  },
  {
   "cell_type": "markdown",
   "metadata": {},
   "source": [
    "## Merge 2 sorted Linked lists\n",
    "\n",
    "https://leetcode.com/problems/merge-two-sorted-lists/submissions/"
   ]
  },
  {
   "cell_type": "code",
   "execution_count": null,
   "metadata": {},
   "outputs": [],
   "source": [
    "# Definition for singly-linked list.\n",
    "class ListNode:\n",
    "    def __init__(self, val=0, next=None):\n",
    "        self.val = val\n",
    "        self.next = next\n",
    "class Solution:\n",
    "    def mergeTwoLists(self, l1: ListNode, l2: ListNode) -> ListNode:\n",
    " \n",
    "        if l1 is None:\n",
    "            return l2\n",
    "        if l2 is None:\n",
    "            return l1\n",
    "        main = ListNode(0)\n",
    "        cur = main\n",
    "        while l1 and l1:\n",
    "            if l1.val<l2.val:\n",
    "                cur.next = l1\n",
    "                l1 = l1.next\n",
    "            else:\n",
    "                cur.next = l2\n",
    "                l2 = l2.next\n",
    "            cur = cur.next\n",
    "            if l1 is None or l2 is None:\n",
    "                break\n",
    "        \n",
    "        if l1 is None:\n",
    "            cur.next=l2\n",
    "        else:\n",
    "            cur.next=l1\n",
    "        \n",
    "        cur = main\n",
    "        while cur:\n",
    "            print(cur.val)\n",
    "            cur= cur.next\n",
    "        return main.next"
   ]
  },
  {
   "cell_type": "markdown",
   "metadata": {},
   "source": [
    "## Problem - 63\n",
    "https://leetcode.com/problems/intersection-of-two-linked-lists/submissions/"
   ]
  },
  {
   "cell_type": "code",
   "execution_count": null,
   "metadata": {},
   "outputs": [],
   "source": [
    "class Solution:\n",
    "    def getIntersectionNode(self, headA: ListNode, headB: ListNode) -> ListNode:\n",
    "        nodes_in_B = set()\n",
    "\n",
    "        while headB is not None:\n",
    "            nodes_in_B.add(headB)\n",
    "            headB = headB.next\n",
    "\n",
    "        while headA is not None:\n",
    "            # if we find the node pointed to by headA,\n",
    "            # in our set containing nodes of B, then return the node\n",
    "            if headA in nodes_in_B:\n",
    "                return headA\n",
    "            headA = headA.next\n",
    "\n",
    "        return None\n",
    "    "
   ]
  },
  {
   "cell_type": "code",
   "execution_count": null,
   "metadata": {},
   "outputs": [],
   "source": [
    "\n",
    "firstpart  = cur\n",
    "while firstpart:\n",
    "    print('first part',firstpart.val)\n",
    "    firspart = firstpart.next"
   ]
  },
  {
   "cell_type": "markdown",
   "metadata": {},
   "source": [
    "## AddSum in lists\n",
    "https://leetcode.com/problems/add-two-numbers/"
   ]
  },
  {
   "cell_type": "code",
   "execution_count": null,
   "metadata": {},
   "outputs": [],
   "source": [
    "class Solution:\n",
    "    def addTwoNumbers(self, l1: ListNode, l2: ListNode) -> ListNode:\n",
    "        \n",
    "        l11 = []\n",
    "        cur = l1\n",
    "        while cur:\n",
    "            l11.append(cur.val)\n",
    "            cur = cur.next\n",
    "        \n",
    "        l22 = []\n",
    "        cur = l2\n",
    "        while cur:\n",
    "            l22.append(cur.val)\n",
    "            cur = cur.next\n",
    "        \n",
    "        \n",
    "        n1 = sum([j*(10**i) for i,j in enumerate(l11)])\n",
    "        n2 = sum([j*(10**i) for i,j in enumerate(l22)])\n",
    "        \n",
    "        res  = n1+n2\n",
    "        res1 = []\n",
    "        \n",
    "        while res>0:\n",
    "            carry = res%10\n",
    "            res1.append(carry)\n",
    "            res -=carry\n",
    "            res /=10\n",
    "            \n",
    "        print('processed - ',res1)\n",
    "        res1_node = ListNode()\n",
    "        cur = res1_node\n",
    "        for i in res1:\n",
    "            cur.next = ListNode(int(i))\n",
    "            cur = cur.next\n",
    "        \n",
    "        return res1_node.next\n",
    "        \n",
    "        "
   ]
  },
  {
   "cell_type": "markdown",
   "metadata": {},
   "source": [
    "## remove N-1 element\n",
    "https://leetcode.com/problems/remove-nth-node-from-end-of-list/"
   ]
  },
  {
   "cell_type": "code",
   "execution_count": null,
   "metadata": {},
   "outputs": [],
   "source": [
    "class Solution:\n",
    "    def removeNthFromEnd(self, head: ListNode, n: int) -> ListNode:\n",
    "        \n",
    "        # Get lenth of list\n",
    "        cur = head\n",
    "        length =0\n",
    "        while cur:\n",
    "            length +=1\n",
    "            cur = cur.next\n",
    "            \n",
    "        n1 = length -n \n",
    "        if n1==0:\n",
    "            return head.next\n",
    "        \n",
    "        i = 0\n",
    "        res= head\n",
    "        cur = res\n",
    "        while cur:\n",
    "            i+=1\n",
    "            if i==n1:\n",
    "                print('gone in')\n",
    "                cur.next = cur.next.next\n",
    "            cur = cur.next\n",
    "            \n",
    "        return res\n",
    "    "
   ]
  },
  {
   "cell_type": "markdown",
   "metadata": {},
   "source": [
    "## Multilevel Flatten lists\n",
    "https://leetcode.com/problems/flatten-a-multilevel-doubly-linked-list/"
   ]
  },
  {
   "cell_type": "code",
   "execution_count": null,
   "metadata": {},
   "outputs": [],
   "source": [
    "    \n",
    "# Definition for a Node.\n",
    "class Node:\n",
    "    def __init__(self, val, prev, next, child):\n",
    "        self.val = val\n",
    "        self.prev = prev\n",
    "        self.next = next\n",
    "\n",
    "\n",
    "class Solution:\n",
    "    def flatten(self, head: 'Node') -> 'Node':\n",
    "        def dfs(node):\n",
    "            if node is None:\n",
    "                return\n",
    "            res.append(node)\n",
    "            dfs(node.child)\n",
    "            dfs(node.next)\n",
    "            \n",
    "        res = []\n",
    "        if head is None:\n",
    "            return None\n",
    "        dfs(head)\n",
    "        res[0].prev = None\n",
    "        res[-1].next = None\n",
    "        res[-1].child = None\n",
    "        for i in range(len(res)-1):\n",
    "            res[i].next= res[i+1]\n",
    "            res[i].child = None\n",
    "            res[i+1].prev = res[i]\n",
    "        return head\n",
    "            \n",
    "            "
   ]
  },
  {
   "cell_type": "markdown",
   "metadata": {},
   "source": [
    "## Odd Even LInked Lists\n",
    "https://leetcode.com/problems/odd-even-linked-list/"
   ]
  },
  {
   "cell_type": "code",
   "execution_count": null,
   "metadata": {},
   "outputs": [],
   "source": [
    "# Definition for singly-linked list.\n",
    "# class ListNode:\n",
    "#     def __init__(self, val=0, next=None):\n",
    "#         self.val = val\n",
    "#         self.next = next\n",
    "class Solution:\n",
    "    def oddEvenList(self, head: ListNode) -> ListNode:\n",
    "        if not head:\n",
    "            return head\n",
    "        ret = ListNode(-1)\n",
    "        d  = ret\n",
    "        \n",
    "        h = head\n",
    "        \n",
    "        while h and h.next:\n",
    "            d.next = h.next\n",
    "            d= d.next\n",
    "            if h.next.next:\n",
    "                h.next = h.next.next\n",
    "                h = h.next\n",
    "                \n",
    "            else:\n",
    "                h.next = None\n",
    "        d.next = None\n",
    "        h.next = ret.next\n",
    "        return head"
   ]
  },
  {
   "cell_type": "code",
   "execution_count": null,
   "metadata": {},
   "outputs": [],
   "source": []
  },
  {
   "cell_type": "markdown",
   "metadata": {},
   "source": [
    "# Copy random pointer lists\n",
    "\n",
    "https://leetcode.com/problems/copy-list-with-random-pointer/solution/"
   ]
  },
  {
   "cell_type": "code",
   "execution_count": null,
   "metadata": {},
   "outputs": [],
   "source": [
    "# Delete\n",
    "class Solution:\n",
    "    def __init__(self):\n",
    "        self.dict = {}\n",
    "        \n",
    "    def copyRandomList(self, head: 'Node') -> 'Node':\n",
    "\n",
    "        if head is None:\n",
    "            return None\n",
    "\n",
    "        if head in self.dict:\n",
    "            return self.dict[head]\n",
    "\n",
    "        node = Node(head.val, None, None)\n",
    "        self.dict[head] = node\n",
    "        node.next = self.copyRandomList(head.next)\n",
    "        node.random = self.copyRandomList(head.random)\n",
    "        return node\n",
    "\n",
    "        return node"
   ]
  },
  {
   "cell_type": "markdown",
   "metadata": {},
   "source": [
    "## Count Consec\n",
    "https://leetcode.com/problems/longest-consecutive-sequence/"
   ]
  },
  {
   "cell_type": "code",
   "execution_count": null,
   "metadata": {},
   "outputs": [],
   "source": [
    "class Solution:\n",
    "    def longestConsecutive(self, nums):\n",
    "        if not nums:\n",
    "            return 0\n",
    "        nums.sort()\n",
    "        maxy,c=1,1\n",
    "        for i in range(1,len(nums)):\n",
    "            diff=nums[i]-nums[i-1]\n",
    "            if diff==1:\n",
    "                c+=1\n",
    "            elif diff>1:\n",
    "                c=1\n",
    "            maxy=max(maxy,c)\n",
    "        return maxy"
   ]
  },
  {
   "cell_type": "markdown",
   "metadata": {},
   "source": [
    "## Permutations \n",
    "https://leetcode.com/problems/permutations/"
   ]
  },
  {
   "cell_type": "code",
   "execution_count": 196,
   "metadata": {},
   "outputs": [],
   "source": [
    "#Logic \n",
    "# Practice\n",
    "# Come again\n",
    "def dfs(nums, first=0):\n",
    "    if first==n:\n",
    "        output.append(nums.copy())\n",
    "    for i in range(first, n):\n",
    "        nums[first], nums[i] = nums[i], nums[first]\n",
    "        dfs(nums, first+1)\n",
    "        nums[first], nums[i] = nums[i], nums[first]\n",
    "output= []\n",
    "nums = [1,2,4]\n",
    "n =  len(nums)\n",
    "dfs(nums)"
   ]
  },
  {
   "cell_type": "code",
   "execution_count": 197,
   "metadata": {},
   "outputs": [
    {
     "data": {
      "text/plain": [
       "[[1, 2, 4], [1, 4, 2], [2, 1, 4], [2, 4, 1], [4, 2, 1], [4, 1, 2]]"
      ]
     },
     "execution_count": 197,
     "metadata": {},
     "output_type": "execute_result"
    }
   ],
   "source": [
    "output"
   ]
  },
  {
   "cell_type": "code",
   "execution_count": 1,
   "metadata": {
    "scrolled": true
   },
   "outputs": [],
   "source": [
    "def call_counter(func):\n",
    "    def helper(*args):\n",
    "        helper.calls += 1\n",
    "        return func(*args)\n",
    "    helper.calls = 0\n",
    "    return helper\n",
    "\n",
    "@call_counter\n",
    "def fill_i(l, n, i):\n",
    "    #print(l)\n",
    "    for ind in range(0, 2*n-(i+1)):\n",
    "        if l[ind] == 0 and l[ind+i+1] == 0:\n",
    "            l[ind] = i\n",
    "            l[ind+i+1] = i\n",
    "            if i == 1:\n",
    "                print('found:', l)\n",
    "            else:\n",
    "                fill_i(l, n, i-1)\n",
    "            l[ind] = 0\n",
    "            l[ind+i+1] = 0\n",
    "\n",
    "\n",
    "def permu(n):\n",
    "    l = [0] * 2 * n\n",
    "    fill_i(l, n, n)\n",
    "\n",
    "\n",
    "if __name__ == '__main__':\n",
    "    permu(7)\n",
    "    print('total attempts:', fill_i.calls)"
   ]
  },
  {
   "cell_type": "code",
   "execution_count": 214,
   "metadata": {},
   "outputs": [
    {
     "data": {
      "text/plain": [
       "[0, 0, 0, 0, 0, 0, 0, 0]"
      ]
     },
     "execution_count": 214,
     "metadata": {},
     "output_type": "execute_result"
    }
   ],
   "source": [
    "[0] * 2 * 4"
   ]
  },
  {
   "cell_type": "code",
   "execution_count": null,
   "metadata": {},
   "outputs": [],
   "source": [
    "Outputs:\n",
    "found: [4, 1, 3, 1, 2, 4, 3, 2]\n",
    "found: [2, 3, 4, 2, 1, 3, 1, 4]\n",
    "total attempts: 18"
   ]
  },
  {
   "cell_type": "markdown",
   "metadata": {},
   "source": [
    "## Knight Moves\n",
    "\n",
    "https://leetcode.com/problems/knight-dialer/"
   ]
  },
  {
   "cell_type": "code",
   "execution_count": null,
   "metadata": {},
   "outputs": [],
   "source": [
    "# Practice\n",
    "# come again\n",
    "class Solution:\n",
    "    def knightDialer(self, n: int) -> int:\n",
    "        if n == 1:\n",
    "            return 10\n",
    "        graph = {0:[4, 6], 1:[6, 8], 2:[7, 9], 3:[4, 8], 4:[0, 3, 9], 6:[0, 1, 7], 7:[2, 6], 8:[1, 3], 9:[2, 4]}\n",
    "        cnt = {0:1, 1:1, 2:1, 3:1, 4:1, 6:1, 7:1, 8:1, 9:1}\n",
    "        for i in range(n - 1):\n",
    "            tmp = {0:0, 1:0, 2:0, 3:0, 4:0, 6:0, 7:0, 8:0, 9:0}\n",
    "            for k in cnt:\n",
    "                for v in graph[k]:\n",
    "                    tmp[v] += cnt[k]\n",
    "            cnt = tmp\n",
    "        return sum(cnt.values()) % (10 **9 + 7)"
   ]
  },
  {
   "cell_type": "code",
   "execution_count": 193,
   "metadata": {},
   "outputs": [],
   "source": [
    "n=5\n",
    "graph = {0:[4, 6], 1:[6, 8], 2:[7, 9], 3:[4, 8], 4:[0, 3, 9], 6:[0, 1, 7], 7:[2, 6], 8:[1, 3], 9:[2, 4]}\n",
    "cnt = {0:1, 1:1, 2:1, 3:1, 4:1, 6:1, 7:1, 8:1, 9:1}\n",
    "for i in range(n - 1):\n",
    "    tmp = {0:0, 1:0, 2:0, 3:0, 4:0, 6:0, 7:0, 8:0, 9:0}\n",
    "    for k in cnt:\n",
    "        for v in graph[k]:\n",
    "            tmp[v] += cnt[k]\n",
    "        cnt=tmp"
   ]
  },
  {
   "cell_type": "code",
   "execution_count": 194,
   "metadata": {},
   "outputs": [
    {
     "data": {
      "text/plain": [
       "96"
      ]
     },
     "execution_count": 194,
     "metadata": {},
     "output_type": "execute_result"
    }
   ],
   "source": [
    "sum(cnt.values()) #% (10 **9 + 7)"
   ]
  },
  {
   "cell_type": "markdown",
   "metadata": {},
   "source": [
    "## Minimum Knight moves\n",
    "https://leetcode.com/problems/minimum-knight-moves/"
   ]
  },
  {
   "cell_type": "code",
   "execution_count": null,
   "metadata": {},
   "outputs": [],
   "source": [
    "class Solution:\n",
    "    def minKnightMoves(self, tx, ty):\n",
    "        VALID_MOVES = [(1, 2), (2, 1), (-1, 2), (-2, 1), \\\n",
    "                           (-1, -2), (-2, -1), (1, -2), (2, -1)]\n",
    "        \n",
    "        que = collections.deque([[0, 0, 0]])\n",
    "        vis = {(0, 0): True}\n",
    "        while que:\n",
    "            x, y, d = que.popleft()\n",
    "            if x == tx and y == ty:\n",
    "                return d\n",
    "            for dx, dy in VALID_MOVES:\n",
    "                nx, ny = x + dx, y + dy\n",
    "                if not vis.get((nx, ny), False):\n",
    "                    vis[(nx, ny)] = True\n",
    "                    que.append([nx, ny, d + 1])"
   ]
  },
  {
   "cell_type": "markdown",
   "metadata": {},
   "source": [
    "## Partition Labels\n",
    "https://leetcode.com/problems/partition-labels"
   ]
  },
  {
   "cell_type": "code",
   "execution_count": null,
   "metadata": {},
   "outputs": [],
   "source": [
    "s = \"ababcbacadefegdehijhklij\"\n",
    "s = \"caedbdedda\"\n",
    "s = \"qiejxqfnqceocmy\"\n",
    "\n",
    "# Each letter with associated last occurance\n",
    "\n",
    "\n",
    "def Converge(s, ind1, ind2):\n",
    "    subpart = s[ind1:ind2]\n",
    "    for i in subpart:\n",
    "        ind2 = max(ind2, len(s)-s[::-1].index(i))\n",
    "    return ind2\n",
    "\n",
    "ind1 = 0\n",
    "ind2 = 1\n",
    "res = []\n",
    "subpart = s[:1]\n",
    "while ind2<len(s):\n",
    "    subpart = s[ind1:ind2+1]\n",
    "    ind2 = len(s)-s[::-1].index(subpart[0])\n",
    "\n",
    "    ind2 = Converge(s, ind1, ind2)\n",
    "\n",
    "    ans = ind2-ind1 if ind1!=0 else ind2\n",
    "    print(ind1, ind2)\n",
    "    res.append(ans)\n",
    "    ind1 = ind2"
   ]
  },
  {
   "cell_type": "code",
   "execution_count": 48,
   "metadata": {},
   "outputs": [
    {
     "name": "stdout",
     "output_type": "stream",
     "text": [
      "0 c 12 12\n",
      "13 m 13 13\n",
      "14 y 14 14\n"
     ]
    }
   ],
   "source": [
    "S = \"qiejxqfnqceocmy\"\n",
    "last = {c: i for i, c in enumerate(S)}\n",
    "j = anchor = 0\n",
    "ans = []\n",
    "for i, c in enumerate(S):\n",
    "    j = max(j, last[c])\n",
    "    \n",
    "    if i == j:\n",
    "        print(anchor, c, j,i)\n",
    "        ans.append(i - anchor + 1)\n",
    "        anchor = i + 1"
   ]
  },
  {
   "cell_type": "code",
   "execution_count": 10,
   "metadata": {},
   "outputs": [],
   "source": [
    "s = \"ababcbacadefegdehijhklij\"\n",
    "d = {}\n",
    "for i in range(len(s)):\n",
    "    d[s[i]]=i"
   ]
  },
  {
   "cell_type": "code",
   "execution_count": 13,
   "metadata": {},
   "outputs": [
    {
     "data": {
      "text/plain": [
       "[8, 15]"
      ]
     },
     "execution_count": 13,
     "metadata": {},
     "output_type": "execute_result"
    }
   ],
   "source": [
    "res = []\n",
    "p = d[s[0]]\n",
    "for i in range(1, len(s)-1):\n",
    "    if i==p:\n",
    "        res.append(i)\n",
    "        p = d[s[i+1]]\n",
    "    else:\n",
    "        p = max(p, d[s[i]])\n",
    "res"
   ]
  },
  {
   "cell_type": "code",
   "execution_count": null,
   "metadata": {},
   "outputs": [],
   "source": []
  },
  {
   "cell_type": "markdown",
   "metadata": {},
   "source": [
    "## Validate IP\n",
    "https://leetcode.com/problems/validate-ip-address/"
   ]
  },
  {
   "cell_type": "code",
   "execution_count": 64,
   "metadata": {},
   "outputs": [],
   "source": [
    "file = lambda x: all(i in '1234' for i in x) and all(i)"
   ]
  },
  {
   "cell_type": "code",
   "execution_count": 69,
   "metadata": {},
   "outputs": [
    {
     "data": {
      "text/plain": [
       "[True]"
      ]
     },
     "execution_count": 69,
     "metadata": {},
     "output_type": "execute_result"
    }
   ],
   "source": [
    "list(map(file, ['122133']))"
   ]
  },
  {
   "cell_type": "code",
   "execution_count": null,
   "metadata": {},
   "outputs": [],
   "source": [
    "class Solution:\n",
    "    def validIPAddress(self, IP: str) -> str:\n",
    "        \n",
    "        split = IP.split('.')\n",
    "        if len(split)==4 and all([i.isdigit() for i in split]) and all([ not i.startswith('0') and int(i)<=255 or i=='0' for i in split]):\n",
    "            return 'IPv4'\n",
    "        \n",
    "        split = IP.lower().split(':')\n",
    "        s = '0123456789abcdef'\n",
    "        if len(split)==8 and all(1<=len(i)<=4 and all([j in s for j in i]) for i in split):\n",
    "            return 'IPv6'\n",
    "        \n",
    "        return 'Neither'\n",
    "            "
   ]
  },
  {
   "cell_type": "markdown",
   "metadata": {},
   "source": [
    "## Word Ladder\n",
    "https://leetcode.com/problems/word-ladder/"
   ]
  },
  {
   "cell_type": "code",
   "execution_count": 459,
   "metadata": {},
   "outputs": [],
   "source": [
    "beginWord = \"hit\"\n",
    "endWord = \"cog\"\n",
    "wordList = [\"hot\",\"dot\",\"dog\",\"lot\",\"log\",\"cog\"]\n"
   ]
  },
  {
   "cell_type": "code",
   "execution_count": 510,
   "metadata": {},
   "outputs": [
    {
     "name": "stdout",
     "output_type": "stream",
     "text": [
      "0 hit []\n",
      "1 hit [['hot', 2]]\n",
      "2 hit [['hot', 2]]\n",
      "0 hot [['dot', 3], ['lot', 3]]\n",
      "1 hot [['dot', 3], ['lot', 3]]\n",
      "2 hot [['dot', 3], ['lot', 3]]\n",
      "0 dot [['lot', 3]]\n",
      "1 dot [['lot', 3]]\n",
      "2 dot [['lot', 3], ['dog', 4]]\n",
      "0 lot [['dog', 4]]\n",
      "1 lot [['dog', 4]]\n",
      "2 lot [['dog', 4], ['log', 4]]\n",
      "0 dog [['log', 4], ['cog', 5]]\n",
      "1 dog [['log', 4], ['cog', 5]]\n",
      "2 dog [['log', 4], ['cog', 5]]\n",
      "0 log [['cog', 5]]\n",
      "1 log [['cog', 5]]\n",
      "2 log [['cog', 5]]\n",
      "stopped  -  5\n"
     ]
    }
   ],
   "source": [
    "# Logic\n",
    "# Practice\n",
    "\n",
    "wordList = set(wordList)\n",
    "queue = [[beginWord, 1]]\n",
    "visited = {beginWord}\n",
    "while queue:\n",
    "    cur, cnt = queue.pop(0)\n",
    "    if cur == endWord:\n",
    "        print('stopped  - ',cnt)\n",
    "        break\n",
    "    for i in range(len(beginWord)):\n",
    "        temp = cur \n",
    "        for k in range(26):\n",
    "            temp = cur[: i] + chr(ord('a') + k) + cur[i + 1:]\n",
    "            #temp[i] = chr(ord('a')+k)\n",
    "            if temp not in visited and temp in wordList:\n",
    "                visited.add(temp)\n",
    "                queue.append([temp, cnt + 1])\n",
    "        print(i, cur,  queue)\n"
   ]
  },
  {
   "cell_type": "code",
   "execution_count": 14,
   "metadata": {},
   "outputs": [],
   "source": [
    "beginWord = \"hit\"\n",
    "endWord = \"cog\"\n",
    "wordList = [\"hot\",\"dot\",\"dog\",\"lot\",\"log\",\"cog\"]\n"
   ]
  },
  {
   "cell_type": "code",
   "execution_count": null,
   "metadata": {},
   "outputs": [],
   "source": []
  },
  {
   "cell_type": "code",
   "execution_count": null,
   "metadata": {},
   "outputs": [],
   "source": [
    "\n",
    "(temp not in sum(values1,[]) or temp==endWord)"
   ]
  },
  {
   "cell_type": "code",
   "execution_count": 181,
   "metadata": {},
   "outputs": [
    {
     "name": "stdout",
     "output_type": "stream",
     "text": [
      "hit\n",
      "[('hot', 1)]\n",
      "hot\n",
      "[('dot', 2), ('lot', 2)]\n",
      "dot\n",
      "[('lot', 2), ('dog', 3)]\n",
      "lot\n",
      "[('dog', 3), ('log', 3)]\n",
      "dog\n",
      "[('log', 3), ('cog', 4)]\n",
      "log\n",
      "[('cog', 4)]\n",
      "cog\n",
      "[]\n"
     ]
    }
   ],
   "source": [
    "stack = [(beginWord, 0)]\n",
    "values1 = []\n",
    "values2 = []\n",
    "values = []\n",
    "while stack:\n",
    "    te, d = stack.pop(0)\n",
    "    print(te)\n",
    "    for i in range(len(beginWord)):\n",
    "        for v in range(97, 97+26):\n",
    "            w =  te[:i]+chr(v)+te[i+1:]\n",
    "            if  w in wordList and w not in values1: \n",
    "                values1.append(w)\n",
    "                values2.append(te)\n",
    "                values.append([te,w])\n",
    "                stack.append((w, d+1))\n",
    "    print(stack)"
   ]
  },
  {
   "cell_type": "code",
   "execution_count": 161,
   "metadata": {},
   "outputs": [],
   "source": [
    "from collections import defaultdict\n",
    "d= defaultdict(list)\n",
    "for i in range(len(values1)):\n",
    "    d[values2[i]].append(values1[i])"
   ]
  },
  {
   "cell_type": "code",
   "execution_count": 163,
   "metadata": {},
   "outputs": [],
   "source": [
    "def Recur(k, li):\n",
    "    if k==endWord:\n",
    "        results.append(li)\n",
    "        return \n",
    "    if k in d.keys():\n",
    "        for v in d[k]:\n",
    "            Recur(v, li+[v])"
   ]
  },
  {
   "cell_type": "code",
   "execution_count": 164,
   "metadata": {},
   "outputs": [
    {
     "data": {
      "text/plain": [
       "[['hit', 'hot', 'dot', 'dog', 'cog']]"
      ]
     },
     "execution_count": 164,
     "metadata": {},
     "output_type": "execute_result"
    }
   ],
   "source": [
    "results = []\n",
    "Recur(beginWord, [beginWord])\n",
    "results"
   ]
  },
  {
   "cell_type": "code",
   "execution_count": 20,
   "metadata": {},
   "outputs": [
    {
     "name": "stdout",
     "output_type": "stream",
     "text": [
      "[('hit', 1)]\n",
      "[('hot', 2)]\n",
      "[('dot', 3), ('lot', 3)]\n",
      "[('lot', 3), ('dog', 4)]\n",
      "[('dog', 4), ('log', 4)]\n",
      "[('log', 4), ('cog', 5)]\n",
      "[('cog', 5), ('cog', 5)]\n",
      "end [('cog', 5)]\n"
     ]
    }
   ],
   "source": [
    "res = []\n",
    "stack = [(beginWord, 1)]\n",
    "values1 = []\n",
    "while stack:\n",
    "    print(stack)\n",
    "    cur, cnt = stack.pop(0)\n",
    "    if cur == endWord:\n",
    "        print('end', stack)\n",
    "        break\n",
    "    for i in range(len(beginWord)):\n",
    "        for k in range(97, 97+26):\n",
    "            temp = cur[:i]+ chr(k)+cur[i+1:]\n",
    "            if temp in wordList and (temp not in sum(values1,[]) or temp==endWord):\n",
    "                stack.append((temp, cnt+1))\n",
    "                values1.append([cur, temp])\n"
   ]
  },
  {
   "cell_type": "code",
   "execution_count": 16,
   "metadata": {},
   "outputs": [
    {
     "data": {
      "text/plain": [
       "[['hit', 'hot'],\n",
       " ['hot', 'dot'],\n",
       " ['hot', 'lot'],\n",
       " ['dot', 'dog'],\n",
       " ['lot', 'log'],\n",
       " ['dog', 'cog'],\n",
       " ['log', 'cog']]"
      ]
     },
     "execution_count": 16,
     "metadata": {},
     "output_type": "execute_result"
    }
   ],
   "source": [
    "values1"
   ]
  },
  {
   "cell_type": "code",
   "execution_count": 1041,
   "metadata": {},
   "outputs": [
    {
     "data": {
      "text/plain": [
       "['hit,hot,dot,dog,cog', 'hit,hot,lot,log,cog']"
      ]
     },
     "execution_count": 1041,
     "metadata": {},
     "output_type": "execute_result"
    }
   ],
   "source": [
    "# Logic \n",
    "# Come again\n",
    "beginWord = \"hit\"\n",
    "endWord = \"cog\"\n",
    "wordList = [\"hot\",\"dot\",\"dog\",\"lot\",\"log\",\"cog\"]\n",
    "class Solution:\n",
    "    def findLadders(self, beginWord: str, endWord: str, wordList: List[str]) -> List[List[str]]:\n",
    "        res = []\n",
    "        stack = [(beginWord, 1)]\n",
    "        values1 = []\n",
    "        while stack:\n",
    "            print(stack)\n",
    "            cur, cnt = stack.pop(0)\n",
    "            if cur == endWord:\n",
    "                break\n",
    "            for i in range(len(beginWord)):\n",
    "                for k in range(97, 97+26):\n",
    "                    temp = cur[:i]+ chr(k)+cur[i+1:]\n",
    "                    if temp in wordList and (temp not in sum(values1,[]) or temp==endWord):\n",
    "                        stack.append((temp, cnt+1))\n",
    "                        values1.append([cur, temp])\n",
    "\n",
    "        def dfs(li, w, s):\n",
    "            nonlocal res\n",
    "            if w==endWord:\n",
    "                res.append(s.split(','))\n",
    "                return \n",
    "            for i,j in enumerate(values1):\n",
    "                if j[0] ==w:\n",
    "                    dfs(li, j[1], s+','+j[1])\n",
    "\n",
    "        \n",
    "        dfs(values1, beginWord, beginWord)\n",
    "        return res"
   ]
  },
  {
   "cell_type": "code",
   "execution_count": null,
   "metadata": {},
   "outputs": [],
   "source": [
    "class Solution:\n",
    "    def ladderLength(self, beginWord: str, endWord: str, wordList: List[str]) -> int:\n",
    "        if endWord not in wordList: return 0\n",
    "        wordList = set(wordList)\n",
    "        queue = [[beginWord, 1]]\n",
    "        visited = {beginWord}\n",
    "        while queue:\n",
    "            cur, cnt = queue.pop(0)\n",
    "            if cur == endWord: return cnt\n",
    "            for i in range(len(beginWord)):\n",
    "                temp = cur \n",
    "                for k in range(26):\n",
    "                    temp = cur[: i] + chr(ord('a') + k) + cur[i + 1:]\n",
    "                    if temp not in visited and temp in wordList:\n",
    "                        visited.add(temp)\n",
    "                        queue.append([temp, cnt + 1])\n",
    "                        \n",
    "        return 0"
   ]
  },
  {
   "cell_type": "markdown",
   "metadata": {},
   "source": [
    "\n",
    "# Dynamic Programming\n",
    "\n",
    "\n",
    "\n",
    "https://www.youtube.com/watch?v=pQldnua_hZ4"
   ]
  },
  {
   "cell_type": "markdown",
   "metadata": {},
   "source": [
    "## StairCase with step"
   ]
  },
  {
   "cell_type": "code",
   "execution_count": 40,
   "metadata": {},
   "outputs": [],
   "source": [
    "res = 0\n",
    "def recur(val):\n",
    "    global res\n",
    "    if val==target:\n",
    "        res+=1\n",
    "        return\n",
    "    if val>target:\n",
    "        return\n",
    "    recur(val+1)\n",
    "    recur(val+2)\n",
    "    \n",
    "target = 5\n",
    "\n",
    "res = 0\n",
    "recur(0)"
   ]
  },
  {
   "cell_type": "code",
   "execution_count": 41,
   "metadata": {},
   "outputs": [
    {
     "data": {
      "text/plain": [
       "[1, 2, 3, 5, 8]"
      ]
     },
     "execution_count": 41,
     "metadata": {},
     "output_type": "execute_result"
    }
   ],
   "source": [
    "[1,1,1,1,1]\n",
    "[1,2,3,5,8]"
   ]
  },
  {
   "cell_type": "markdown",
   "metadata": {},
   "source": [
    "## Problem - 60\n",
    "\n",
    "https://leetcode.com/problems/coin-change/solution/"
   ]
  },
  {
   "cell_type": "code",
   "execution_count": 64,
   "metadata": {
    "scrolled": true
   },
   "outputs": [],
   "source": [
    "# Come again\n",
    "# Type -1 \n",
    "dp = [float('inf')]*(amount+1)\n",
    "dp[0] = 0\n",
    "for i in range(1, amount+1):\n",
    "    for c in coins:\n",
    "        if i-c>=0:\n",
    "            dp[i] = min(dp[i-c]+1, dp[i])"
   ]
  },
  {
   "cell_type": "code",
   "execution_count": 126,
   "metadata": {},
   "outputs": [],
   "source": [
    "# from itertools import combinations, permutations\n",
    "# candidates = [10,1,2,7,6,1,5]\n",
    "# target = 8\n",
    "# combs = []\n",
    "# for i in range(len(candidates)):\n",
    "#     for l in list(combinations(candidates,i)):\n",
    "#         if sum(l)==target and sorted(l) not in combs:\n",
    "#             combs.append(sorted(l))\n",
    "# print(combs)"
   ]
  },
  {
   "cell_type": "markdown",
   "metadata": {},
   "source": [
    "## Problem - 59\n",
    "\n",
    "https://leetcode.com/problems/minimum-cost-for-tickets/solution/"
   ]
  },
  {
   "cell_type": "code",
   "execution_count": 123,
   "metadata": {},
   "outputs": [
    {
     "data": {
      "text/plain": [
       "[0, 2, 2, 2, 4, 4, 6, 7, 9, 9, 9, 9, 9, 9, 9, 9, 9, 9, 9, 9, 11]"
      ]
     },
     "execution_count": 123,
     "metadata": {},
     "output_type": "execute_result"
    }
   ],
   "source": [
    "# Logic\n",
    "# Type -2\n",
    "# Come again\n",
    "days = [1,4,6,7,8,20]\n",
    "costs = [2,7,15]\n",
    "dp = [0]*(days[-1]+1)\n",
    "days = set(days)     \n",
    "for i in range(1,len(dp)):        \n",
    "    if i in days:\n",
    "        dp[i] = min(dp[max(i-1,0)]+costs[0],dp[max(i-7,0)]+costs[1],dp[max(i-30,0)]+costs[2])\n",
    "    else:\n",
    "        dp[i]=dp[i-1]\n",
    "#return dp[-1]\n",
    "dp"
   ]
  },
  {
   "cell_type": "markdown",
   "metadata": {},
   "source": [
    "## Coin Change combinations\n",
    "https://leetcode.com/problems/coin-change-2/solution/"
   ]
  },
  {
   "cell_type": "code",
   "execution_count": 54,
   "metadata": {},
   "outputs": [],
   "source": [
    "# Type -3\n",
    "class Solution:\n",
    "    def change(self, amount: int, coins: List[int]) -> int:\n",
    "        dp = [0] * (amount + 1)\n",
    "        dp[0] = 1\n",
    "        \n",
    "        for coin in coins:\n",
    "            for x in range(coin, amount + 1):\n",
    "                dp[x] += dp[x - coin]\n",
    "        return dp[amount]"
   ]
  },
  {
   "cell_type": "code",
   "execution_count": 125,
   "metadata": {},
   "outputs": [
    {
     "data": {
      "text/plain": [
       "[1, 1, 2, 2, 3, 4]"
      ]
     },
     "execution_count": 125,
     "metadata": {},
     "output_type": "execute_result"
    }
   ],
   "source": [
    "\n",
    "amount = 5\n",
    "coins = [1,2,5]\n",
    "dp = [0]*(amount+1)\n",
    "dp[0] =1\n",
    "for coin in coins:\n",
    "    for i in range(coin, amount+1):\n",
    "        dp[i] += dp[i-coin]\n",
    "dp"
   ]
  },
  {
   "cell_type": "markdown",
   "metadata": {},
   "source": [
    "https://www.algoexpert.io/questions/Non-Constructible%20Change"
   ]
  },
  {
   "cell_type": "code",
   "execution_count": 16,
   "metadata": {},
   "outputs": [
    {
     "name": "stdout",
     "output_type": "stream",
     "text": [
      "1 1\n",
      "1 2\n",
      "1 3\n",
      "1 4\n",
      "5 5\n",
      "10 10\n",
      "15 20\n",
      "20 35\n",
      "100 55\n",
      "possbile 55\n"
     ]
    }
   ],
   "source": [
    "# Logic \n",
    "# Come again\n",
    "coins = [1, 5, 1, 1, 1, 10, 15, 20, 100]\n",
    "coins.sort()\n",
    "cr = 0\n",
    "for c in coins:\n",
    "    print(c,cr+1)\n",
    "    if c>cr+1:\n",
    "        print('possbile',cr+1)\n",
    "    cr +=c\n",
    "    "
   ]
  },
  {
   "cell_type": "markdown",
   "metadata": {},
   "source": [
    "## Min Jumps\n",
    "https://www.algoexpert.io/questions/Min%20Number%20Of%20Jumps"
   ]
  },
  {
   "cell_type": "code",
   "execution_count": null,
   "metadata": {},
   "outputs": [],
   "source": [
    "def minNumberOfJumps(array):\n",
    "    # Write your code here.\n",
    "    dp = [float('inf') for _ in range(len(array))]\n",
    "    dp[0] = 0\n",
    "    for i in range(1, len(dp)):\n",
    "        for j in range(i):\n",
    "            if array[j]>=i-j:\n",
    "                dp[i] = min(dp[j]+1, dp[i])\n",
    "    return dp[-1]"
   ]
  },
  {
   "cell_type": "markdown",
   "metadata": {},
   "source": [
    "## Problem - 34\n",
    "\n",
    "https://leetcode.com/problems/word-break-ii/"
   ]
  },
  {
   "cell_type": "code",
   "execution_count": 127,
   "metadata": {},
   "outputs": [],
   "source": [
    "s = \"catsanddog\"\n",
    "wordDict = [\"cat\",\"cats\",\"and\",\"sand\",\"dog\"]\n",
    "# s = \"pineapplepenapple\"\n",
    "# wordDict = [\"apple\",\"pen\",\"applepen\",\"pine\",\"pineapple\"]"
   ]
  },
  {
   "cell_type": "code",
   "execution_count": 63,
   "metadata": {},
   "outputs": [],
   "source": [
    "dp = [[]]*(len(s)+1)\n",
    "dp[0] = ['']\n",
    "for end in range(1, len(s)+1):\n",
    "    sublist = []\n",
    "    for start in range(end):\n",
    "        te = s[start:end]\n",
    "        if te in wordDict:\n",
    "            for i in dp[start]:\n",
    "                sublist.append(i+ ' '+ te)\n",
    "    dp[end] = sublist"
   ]
  },
  {
   "cell_type": "code",
   "execution_count": 1320,
   "metadata": {},
   "outputs": [],
   "source": [
    "# Logic\n",
    "# Come again\n",
    "# Practice please\n",
    "class Solution:\n",
    "    def wordBreak(self, s: str, wordDict: List[str]) -> List[str]:\n",
    "        dp = [[]]*(len(s)+1)\n",
    "        dp[0] = ['']\n",
    "        for end in range(1,len(s)+1):\n",
    "            \n",
    "            sublist =[]\n",
    "            for start in range(0, end):\n",
    "                sub = s[start:end]\n",
    "                if sub in set(wordDict):\n",
    "                    for w in dp[start]:\n",
    "                        sublist.append((w+' '+sub).strip())\n",
    "            dp[end] = sublist\n",
    "        return dp[-1]"
   ]
  },
  {
   "cell_type": "code",
   "execution_count": null,
   "metadata": {},
   "outputs": [],
   "source": [
    "for end in range(1, len(s)):\n",
    "    sublist=[]\n",
    "    for start in  range(end):\n",
    "        te = s[i:j]\n",
    "        if te in wordlist:\n",
    "            for i in dp[start]:"
   ]
  },
  {
   "cell_type": "code",
   "execution_count": null,
   "metadata": {},
   "outputs": [],
   "source": [
    "class Solution:\n",
    "    def wordBreak(self, s: str, wordDict: List[str]) -> bool:\n",
    "        \n",
    "        dp = [[]]*(len(s)+1)\n",
    "        dp[0] = [True]\n",
    "        for end in range(1, len(s)+1):\n",
    "            for start in range(0, end):\n",
    "                if dp[start] and s[start:end] in wordDict:\n",
    "                    dp[end] = True\n",
    "                    break\n",
    "                    \n",
    "        return dp[-1]\n",
    "                "
   ]
  },
  {
   "cell_type": "code",
   "execution_count": 208,
   "metadata": {},
   "outputs": [],
   "source": [
    "s = \"catsanddog\"\n",
    "wordDict = [\"cat\",\"cats\",\"and\",\"sand\",\"dog\"]\n",
    "dp = [[]]*(len(s)+1)\n",
    "dp[0] = ['']\n",
    "for end in range(1,len(s)+1):\n",
    "\n",
    "    sublist =[]\n",
    "    for start in range(0, end):\n",
    "        sub = s[start:end]\n",
    "        if sub in set(wordDict):\n",
    "            for w in dp[start]:\n",
    "                sublist.append((w+' '+sub).strip())\n",
    "    dp[end] = sublist"
   ]
  },
  {
   "cell_type": "code",
   "execution_count": 209,
   "metadata": {},
   "outputs": [
    {
     "data": {
      "text/plain": [
       "[[''],\n",
       " [],\n",
       " [],\n",
       " ['cat'],\n",
       " ['cats'],\n",
       " [],\n",
       " [],\n",
       " ['cat sand', 'cats and'],\n",
       " [],\n",
       " [],\n",
       " ['cat sand dog', 'cats and dog']]"
      ]
     },
     "execution_count": 209,
     "metadata": {},
     "output_type": "execute_result"
    }
   ],
   "source": [
    "dp"
   ]
  },
  {
   "cell_type": "markdown",
   "metadata": {},
   "source": [
    "## Problem - 49\n",
    "https://leetcode.com/problems/valid-palindrome-iii/submissions/"
   ]
  },
  {
   "cell_type": "code",
   "execution_count": 271,
   "metadata": {},
   "outputs": [],
   "source": [
    "# Logic \n",
    "# Practice\n",
    "# https://youtu.be/rytTTvPdmLw\n",
    "# Check\n",
    "# Dynamic Programming\n",
    "def isValidPalindrome( s, k):\n",
    "    dp = [[0] * len(s) for _ in s]  # dp[i][j] is the minimum deletion to make s[i:j+1] a palindrome\n",
    "    for i in range(len(dp)-1,-1,-1):\n",
    "        for j in range(i,len(dp[0])):\n",
    "            if i == j:\n",
    "                dp[i][j] = 0 # string of length 1 is a palindrome\n",
    "            else:\n",
    "                if s[i] == s[j]:\n",
    "                    dp[i][j] = dp[i+1][j-1] # if s[i] == s[j], only need to check s[i+1:j]\n",
    "                else:\n",
    "                    dp[i][j] = min(dp[i+1][j],dp[i][j-1]) + 1 # if s[i] != s[j], delete s[i] or s[j]\n",
    "    return dp#[0][-1] <= k "
   ]
  },
  {
   "cell_type": "code",
   "execution_count": 29,
   "metadata": {},
   "outputs": [],
   "source": [
    "s = \"abcdeca\"\n",
    "k = 2\n",
    "# a = isValidPalindrome(s,k)"
   ]
  },
  {
   "cell_type": "code",
   "execution_count": 30,
   "metadata": {},
   "outputs": [
    {
     "data": {
      "text/plain": [
       "'abcdeca'"
      ]
     },
     "execution_count": 30,
     "metadata": {},
     "output_type": "execute_result"
    }
   ],
   "source": [
    "s"
   ]
  },
  {
   "cell_type": "code",
   "execution_count": 34,
   "metadata": {},
   "outputs": [],
   "source": [
    "dp= [[0]*len(s) for _ in range(len(s))]\n",
    "for i in range(len(s)-1, -1, -1):\n",
    "    for j in range(i, len(s)):\n",
    "        if i==j:\n",
    "            dp[i][j]=0\n",
    "        else:\n",
    "            if s[i]==s[j]:\n",
    "                dp[i][j] = dp[i+1][j-1]\n",
    "            else:\n",
    "                dp[i][j] = min(dp[i+1][j], dp[i][j-1])+1\n",
    "    #print(dp)"
   ]
  },
  {
   "cell_type": "code",
   "execution_count": 35,
   "metadata": {},
   "outputs": [
    {
     "data": {
      "text/plain": [
       "[[0, 1, 2, 3, 4, 3, 2],\n",
       " [0, 0, 1, 2, 3, 2, 3],\n",
       " [0, 0, 0, 1, 2, 1, 2],\n",
       " [0, 0, 0, 0, 1, 2, 3],\n",
       " [0, 0, 0, 0, 0, 1, 2],\n",
       " [0, 0, 0, 0, 0, 0, 1],\n",
       " [0, 0, 0, 0, 0, 0, 0]]"
      ]
     },
     "execution_count": 35,
     "metadata": {},
     "output_type": "execute_result"
    }
   ],
   "source": [
    "dp"
   ]
  },
  {
   "cell_type": "code",
   "execution_count": null,
   "metadata": {},
   "outputs": [],
   "source": [
    "dp = [[0 for i in range(len(s))] for j in range(len(s))]\n",
    "\n"
   ]
  },
  {
   "cell_type": "markdown",
   "metadata": {},
   "source": [
    "## Longest palindrome\n",
    "https://leetcode.com/problems/longest-palindromic-substring/\n",
    "    "
   ]
  },
  {
   "cell_type": "code",
   "execution_count": null,
   "metadata": {},
   "outputs": [],
   "source": [
    "class Solution:\n",
    "    def longestPalindrome(self, s: str) -> str:\n",
    "        mxword =''\n",
    "        for i in range(len(s)):\n",
    "            for j in reversed(range(i,len(s))):\n",
    "                print(i,j , s[i:j])\n",
    "                if len(mxword)>=j-i:\n",
    "                    break\n",
    "                if s[i:j]==s[i:j][::-1]:\n",
    "                    print(s[i:j])\n",
    "                    mxword = s[i:j]\n",
    "                    break\n",
    "        print(mx, mxword)\n",
    "        return mxword\n",
    "                        "
   ]
  },
  {
   "cell_type": "code",
   "execution_count": 129,
   "metadata": {},
   "outputs": [],
   "source": [
    "class Solution:\n",
    "    def isValidPalindrome(self, s: str, k: int) -> bool:\n",
    "        \n",
    "        def dfs(s, k):\n",
    "            if k==-1 or self.flag:\n",
    "                return \n",
    "            if s==s[::-1]:\n",
    "                self.flag = True\n",
    "                return\n",
    "            \n",
    "            for i in range(len(s)):\n",
    "                dfs(s[:i] + s[i+1:], k-1)\n",
    "            return\n",
    "        \n",
    "        self.flag = False\n",
    "        # s = list(s)\n",
    "        dfs(s,k)\n",
    "        return self.flag\n",
    "        "
   ]
  },
  {
   "cell_type": "code",
   "execution_count": 38,
   "metadata": {},
   "outputs": [
    {
     "data": {
      "text/plain": [
       "True"
      ]
     },
     "execution_count": 38,
     "metadata": {},
     "output_type": "execute_result"
    }
   ],
   "source": [
    "''.join(['a', 'b','c']) in ''.join(sorted(set('abbcdw')))"
   ]
  },
  {
   "cell_type": "code",
   "execution_count": 39,
   "metadata": {},
   "outputs": [],
   "source": [
    "s1 = \"abcdebdde\"\n",
    "s2 = \"bde\""
   ]
  },
  {
   "cell_type": "code",
   "execution_count": 45,
   "metadata": {},
   "outputs": [
    {
     "name": "stdout",
     "output_type": "stream",
     "text": [
      "bde\n",
      "bde bde\n",
      "6 3\n",
      "[3, 3]\n"
     ]
    }
   ],
   "source": [
    "s2 = ''.join(sorted(set(s2)))\n",
    "print(s2)\n",
    "res = [0, float('inf')]\n",
    "for i in range(len(s1)-len(s2)):\n",
    "    for j in range(len(s2), len(s1)):\n",
    "        if s2 in ''.join(sorted(set(s1[i:j]))) and j-i<res[1]:\n",
    "            print(s2, ''.join(sorted(set(s1[i:j]))))\n",
    "            print(j,i)\n",
    "            res = [i, j-i]\n",
    "\n",
    "print(res)"
   ]
  },
  {
   "cell_type": "code",
   "execution_count": 30,
   "metadata": {},
   "outputs": [
    {
     "data": {
      "text/plain": [
       "False"
      ]
     },
     "execution_count": 30,
     "metadata": {},
     "output_type": "execute_result"
    }
   ],
   "source": [
    "['a', 'b','c'] in list('abcde')"
   ]
  },
  {
   "cell_type": "markdown",
   "metadata": {},
   "source": []
  },
  {
   "cell_type": "code",
   "execution_count": null,
   "metadata": {},
   "outputs": [],
   "source": []
  },
  {
   "cell_type": "markdown",
   "metadata": {},
   "source": [
    "## Longest Increasing Subsequence\n",
    "https://leetcode.com/problems/longest-increasing-subsequence/"
   ]
  },
  {
   "cell_type": "code",
   "execution_count": 318,
   "metadata": {},
   "outputs": [],
   "source": [
    "# Logic \n",
    "# Come again\n",
    "nums = [10,9,2,5,3,7,101,2,18]\n",
    "n = len(nums)\n",
    "dp = [[0,0] for _ in range(n+1)]\n",
    "\n",
    "dp[0][0] = -99999999\n",
    "dp[0][1] = 0\n",
    "\n",
    "\n",
    "for i in range(n):\n",
    "#     print('\\n\\n')\n",
    "    for j in range(i,-1,-1):\n",
    "        #print(i,j , nums[i], dp[j][0], dp[j][1]+1, dp[i+1][1])\n",
    "        if nums[i]>dp[j][0] and dp[j][1]+1>dp[i+1][1]:\n",
    "            dp[i+1][0] = nums[i]\n",
    "            dp[i+1][1] = dp[j][1]+1\n",
    "    "
   ]
  },
  {
   "cell_type": "code",
   "execution_count": 319,
   "metadata": {},
   "outputs": [
    {
     "data": {
      "text/plain": [
       "[[-99999999, 0],\n",
       " [10, 1],\n",
       " [9, 1],\n",
       " [2, 1],\n",
       " [5, 2],\n",
       " [3, 2],\n",
       " [7, 3],\n",
       " [101, 4],\n",
       " [2, 1],\n",
       " [18, 4]]"
      ]
     },
     "execution_count": 319,
     "metadata": {},
     "output_type": "execute_result"
    }
   ],
   "source": [
    "dp"
   ]
  },
  {
   "cell_type": "code",
   "execution_count": 325,
   "metadata": {},
   "outputs": [],
   "source": [
    "nums = [10,9,2,5,3,7,101,2,18]"
   ]
  },
  {
   "cell_type": "code",
   "execution_count": 326,
   "metadata": {},
   "outputs": [],
   "source": [
    "dp = [[0,0] for _ in range(len(nums)+1)]\n",
    "dp[0][0] = float('-inf')\n",
    "\n",
    "for i in range(len(dp)-1):\n",
    "    for j in reversed(range(i+1)):\n",
    "        if nums[i]>dp[j][0] and dp[j][1]+1>dp[i+1][1]:\n",
    "            dp[i+1][0] = nums[i]\n",
    "            dp[i+1][1] = dp[j][1]+1"
   ]
  },
  {
   "cell_type": "code",
   "execution_count": 327,
   "metadata": {},
   "outputs": [
    {
     "data": {
      "text/plain": [
       "[[-inf, 0],\n",
       " [10, 1],\n",
       " [9, 1],\n",
       " [2, 1],\n",
       " [5, 2],\n",
       " [3, 2],\n",
       " [7, 3],\n",
       " [101, 4],\n",
       " [2, 1],\n",
       " [18, 4]]"
      ]
     },
     "execution_count": 327,
     "metadata": {},
     "output_type": "execute_result"
    }
   ],
   "source": [
    "dp"
   ]
  },
  {
   "cell_type": "code",
   "execution_count": 51,
   "metadata": {},
   "outputs": [],
   "source": [
    "a = list('abcde')\n",
    "b = list('acee')"
   ]
  },
  {
   "cell_type": "markdown",
   "metadata": {},
   "source": [
    "https://www.algoexpert.io/questions/Max%20Subset%20Sum%20No%20Adjacent"
   ]
  },
  {
   "cell_type": "code",
   "execution_count": 201,
   "metadata": {},
   "outputs": [],
   "source": [
    "# Come again\n",
    "nums = [75, 105, 120, 75, 90, 135]\n",
    "if not nums:\n",
    "    0\n",
    "elif len(nums)==1:\n",
    "    nums[0]\n",
    "    \n",
    "dp = nums[:]\n",
    "dp[1] = max(nums[0], nums[1])\n",
    "for i in range(2, len(dp)):\n",
    "    dp[i] = max(dp[i-1], dp[i-2]+nums[i])"
   ]
  },
  {
   "cell_type": "code",
   "execution_count": 204,
   "metadata": {},
   "outputs": [
    {
     "data": {
      "text/plain": [
       "[75, 105, 195, 195, 285, 330]"
      ]
     },
     "execution_count": 204,
     "metadata": {},
     "output_type": "execute_result"
    }
   ],
   "source": [
    "dp"
   ]
  },
  {
   "cell_type": "code",
   "execution_count": 21,
   "metadata": {},
   "outputs": [],
   "source": [
    "nums = [75, 105, 120, 75, 90, 135]"
   ]
  },
  {
   "cell_type": "code",
   "execution_count": 22,
   "metadata": {},
   "outputs": [],
   "source": [
    "a = nums.copy()\n",
    "a[1] = max(a[0], a[1])\n",
    "for i in range(2, len(a)):\n",
    "    a[i] = max(a[i-2]+a[i], a[i-1])"
   ]
  },
  {
   "cell_type": "code",
   "execution_count": 23,
   "metadata": {},
   "outputs": [
    {
     "data": {
      "text/plain": [
       "[75, 105, 195, 195, 285, 330]"
      ]
     },
     "execution_count": 23,
     "metadata": {},
     "output_type": "execute_result"
    }
   ],
   "source": [
    "a"
   ]
  },
  {
   "cell_type": "markdown",
   "metadata": {},
   "source": [
    "## MaxProduct\n",
    "https://leetcode.com/problems/maximum-product-subarray/"
   ]
  },
  {
   "cell_type": "code",
   "execution_count": 23,
   "metadata": {},
   "outputs": [
    {
     "name": "stdout",
     "output_type": "stream",
     "text": [
      "3\n",
      "-3\n",
      "-12\n",
      "-1\n",
      "-4\n",
      "4\n"
     ]
    }
   ],
   "source": [
    "class Solution:\n",
    "    def maxProduct(self, nums: List[int]) -> int:\n",
    "        mx= 0\n",
    "        for i in range(len(nums)):\n",
    "            a = 1\n",
    "            for j in range(i,len(nums)):\n",
    "                a*=nums[j]\n",
    "                mx = max(mx, a)\n",
    "        if mx ==0:\n",
    "            return max(nums)\n",
    "        return mx"
   ]
  },
  {
   "cell_type": "code",
   "execution_count": 210,
   "metadata": {},
   "outputs": [
    {
     "data": {
      "text/plain": [
       "2"
      ]
     },
     "execution_count": 210,
     "metadata": {},
     "output_type": "execute_result"
    }
   ],
   "source": [
    "# Check later\n",
    "# Come again\n",
    "nums = [2,3,-2,4]\n",
    "nums = [0,2]\n",
    "dp = [[0,0] for i in range(len(nums))]\n",
    "dp[0][0] = nums[0]\n",
    "dp[0][1] = nums[0] if nums[0]>0 else 1\n",
    "\n",
    "#print(dp)\n",
    "for i in range(1, len(nums)):\n",
    "    dp[i][0] = nums[i]\n",
    "    if dp[i-1][1]*nums[i]>0:\n",
    "        dp[i][1] = dp[i-1][1]*nums[i]\n",
    "    else:\n",
    "        dp[i][1] = 1\n",
    "max([i[1] for i in dp])"
   ]
  },
  {
   "cell_type": "code",
   "execution_count": 332,
   "metadata": {},
   "outputs": [
    {
     "name": "stdout",
     "output_type": "stream",
     "text": [
      "6 6 3 3\n",
      "6 -2 -2 -12\n",
      "6 4 4 -48\n"
     ]
    }
   ],
   "source": [
    "# Check last\n",
    "nums = [2,3,-2,4]\n",
    "max_so_far = nums[0]\n",
    "min_so_far = nums[0]\n",
    "result = max_so_far\n",
    "\n",
    "for i in range(1, len(nums)):\n",
    "    curr = nums[i]\n",
    "    temp_max = max(curr, max_so_far * curr, min_so_far * curr)\n",
    "    min_so_far = min(curr, max_so_far * curr, min_so_far * curr)\n",
    "\n",
    "    max_so_far = temp_max\n",
    "\n",
    "    result = max(max_so_far, result)\n",
    "    print(result, max_so_far, curr, min_so_far)"
   ]
  },
  {
   "cell_type": "markdown",
   "metadata": {},
   "source": [
    "## Reverse Number \n",
    "https://leetcode.com/problems/reverse-integer/submissions/"
   ]
  },
  {
   "cell_type": "code",
   "execution_count": null,
   "metadata": {},
   "outputs": [],
   "source": [
    "class Solution:\n",
    "    def reverse(self, x: int) -> int:\n",
    "        if x >= 2**31-1 or x <= -2**31: return 0\n",
    "        # if x>2**31 or x<-2**31-1:\n",
    "        #     return 0\n",
    "        if x<0:\n",
    "            x = abs(x)\n",
    "            flag=True\n",
    "        else:\n",
    "            flag=False\n",
    "        \n",
    "        s = 0\n",
    "        while x>0:\n",
    "            carry= x%10\n",
    "            x = (x-carry)/10\n",
    "            s = s*10 + carry\n",
    "        \n",
    "        if flag:\n",
    "            return -int(s)\n",
    "        return int(s)"
   ]
  },
  {
   "cell_type": "code",
   "execution_count": 217,
   "metadata": {},
   "outputs": [],
   "source": [
    "a =  120"
   ]
  },
  {
   "cell_type": "code",
   "execution_count": 218,
   "metadata": {},
   "outputs": [],
   "source": [
    "t = 0\n",
    "while a>0:\n",
    "    carry = a%10\n",
    "    a -=carry\n",
    "    a /=10\n",
    "    t = t*10 + carry\n",
    "    "
   ]
  },
  {
   "cell_type": "code",
   "execution_count": 219,
   "metadata": {},
   "outputs": [
    {
     "data": {
      "text/plain": [
       "21.0"
      ]
     },
     "execution_count": 219,
     "metadata": {},
     "output_type": "execute_result"
    }
   ],
   "source": [
    "t"
   ]
  },
  {
   "cell_type": "markdown",
   "metadata": {},
   "source": [
    "## Longest Arithmatic Sequence\n",
    "https://leetcode.com/problems/longest-arithmetic-subsequence/"
   ]
  },
  {
   "cell_type": "code",
   "execution_count": 354,
   "metadata": {},
   "outputs": [
    {
     "data": {
      "text/plain": [
       "3"
      ]
     },
     "execution_count": 354,
     "metadata": {},
     "output_type": "execute_result"
    }
   ],
   "source": [
    "# Logic\n",
    "# Come again\n",
    "\n",
    "# Difference groups and test all\n",
    "nums = [9,4,7,2,10]\n",
    "nums.sort()\n",
    "import collections\n",
    "A = nums\n",
    "n = len(A)\n",
    "res = 1\n",
    "dp = [collections.defaultdict(int) for _ in range(n)]\n",
    "for i in range(1, n):\n",
    "    for j in reversed(range(i+1)):#range(i-1, -1, -1):\n",
    "        diff = A[i] - A[j]\n",
    "        #print(diff)\n",
    "        dp[i][diff] = max(dp[i][diff], 1 + dp[j][diff])\n",
    "        res = max(res, dp[i][diff])\n",
    "res + 1"
   ]
  },
  {
   "cell_type": "code",
   "execution_count": 355,
   "metadata": {},
   "outputs": [
    {
     "data": {
      "text/plain": [
       "[defaultdict(int, {2: 0, 5: 0, 7: 0, 8: 0}),\n",
       " defaultdict(int, {0: 1, 2: 1, 3: 0, 5: 0, 6: 0}),\n",
       " defaultdict(int, {0: 1, 3: 1, 5: 1, 2: 0}),\n",
       " defaultdict(int, {0: 1, 2: 1, 5: 1, 7: 1, 1: 0}),\n",
       " defaultdict(int, {0: 1, 1: 1, 3: 2, 6: 1, 8: 1})]"
      ]
     },
     "execution_count": 355,
     "metadata": {},
     "output_type": "execute_result"
    }
   ],
   "source": [
    "\n",
    "dp"
   ]
  },
  {
   "cell_type": "code",
   "execution_count": 8,
   "metadata": {},
   "outputs": [],
   "source": [
    "nums = [3,6,9,12]\n",
    "# nums = [9,4,7,2,10]"
   ]
  },
  {
   "cell_type": "code",
   "execution_count": 9,
   "metadata": {},
   "outputs": [],
   "source": [
    "from collections import defaultdict\n",
    "d = [defaultdict(int) for _ in range(len(nums))]\n",
    "res = 0\n",
    "for i in range(1, len(nums)):\n",
    "    for j in range(i-1,-1,-1):\n",
    "        diff = nums[j]-nums[i]\n",
    "        d[i][diff] = max(d[i][diff], d[j][diff]+1)\n",
    "        res = max(res, d[i][diff])"
   ]
  },
  {
   "cell_type": "code",
   "execution_count": 10,
   "metadata": {},
   "outputs": [
    {
     "data": {
      "text/plain": [
       "3"
      ]
     },
     "execution_count": 10,
     "metadata": {},
     "output_type": "execute_result"
    }
   ],
   "source": [
    "res"
   ]
  },
  {
   "cell_type": "code",
   "execution_count": 353,
   "metadata": {},
   "outputs": [
    {
     "data": {
      "text/plain": [
       "1"
      ]
     },
     "execution_count": 353,
     "metadata": {},
     "output_type": "execute_result"
    }
   ],
   "source": [
    "res"
   ]
  },
  {
   "cell_type": "markdown",
   "metadata": {},
   "source": [
    "## Basic Calculator\n",
    "https://leetcode.com/problems/basic-calculator-ii/"
   ]
  },
  {
   "cell_type": "code",
   "execution_count": null,
   "metadata": {},
   "outputs": [],
   "source": [
    "class Solution:\n",
    "    def calculate(self, s: str) -> int:\n",
    "        \n",
    "        stack =[]\n",
    "        currentNum = ''\n",
    "        currentOperation = '+'\n",
    "        for i in s:\n",
    "            print(stack ,i, currentOperation)\n",
    "            if i not in '-/*+':\n",
    "                currentNum +=i\n",
    "            else:\n",
    "                print('gone to opeat', currentOperation)\n",
    "                if currentOperation=='+':\n",
    "                    stack.append(int(currentNum))\n",
    "                    currentNum = ''\n",
    "                elif currentOperation=='-':\n",
    "                    stack.append(-int(currentNum))\n",
    "                elif currentOperation=='*':\n",
    "                    print('Opeation Triggered')\n",
    "                    stack.append(stack.pop()*int(currentNum))\n",
    "                    currentNum = ''\n",
    "                elif currentOperation=='/':\n",
    "                    temp = stack.pop()\n",
    "                    if temp<0:\n",
    "                        res = -(-temp//int(currentNum))\n",
    "                    else:\n",
    "                        res = temp//int(currentNum)\n",
    "                    stack.append(res)\n",
    "                    currentNum=''\n",
    "                currentOperation = i\n",
    "                \n",
    "        print(stack)\n"
   ]
  },
  {
   "cell_type": "code",
   "execution_count": 25,
   "metadata": {},
   "outputs": [],
   "source": [
    "d = {'a':1,\n",
    "     'b':2,\n",
    "     'c':2}\n",
    "s = 'axb+axc+ bxc'\n",
    "s = 'axc-b/c+cxc'\n",
    "curOperation = '+'\n",
    "stack =[]\n",
    "j=0\n",
    "def Operate(curOperation, stack, v):\n",
    "    if curOperation=='-':\n",
    "        stack.append(-v)\n",
    "    elif curOperation=='+':\n",
    "        stack.append(v)\n",
    "    elif curOperation=='x':\n",
    "\n",
    "        stack.append(stack.pop()*v)\n",
    "    else:\n",
    "        stack.append(stack.pop()/v)\n",
    "    return stack\n",
    "\n",
    "while j<=len(s)-1:\n",
    "    i = s[j]\n",
    "    if i not in ' -+x/':\n",
    "        v = d[i]\n",
    "    elif i==' ':\n",
    "        pass\n",
    "    else:\n",
    "        stack = Operate(curOperation, stack, v)\n",
    "        curOperation = i\n",
    "    j+=1\n",
    "stack = Operate(curOperation, stack, v)"
   ]
  },
  {
   "cell_type": "code",
   "execution_count": 390,
   "metadata": {},
   "outputs": [],
   "source": [
    "import re"
   ]
  },
  {
   "cell_type": "code",
   "execution_count": 391,
   "metadata": {},
   "outputs": [],
   "source": [
    "s = \"3+2*2\""
   ]
  },
  {
   "cell_type": "code",
   "execution_count": 386,
   "metadata": {
    "scrolled": true
   },
   "outputs": [],
   "source": [
    "li = re.findall(r'(\\d+)', s)\n",
    "op = [i for i in s if i in '*-+/']"
   ]
  },
  {
   "cell_type": "code",
   "execution_count": null,
   "metadata": {},
   "outputs": [],
   "source": []
  },
  {
   "cell_type": "code",
   "execution_count": 13,
   "metadata": {},
   "outputs": [
    {
     "data": {
      "text/plain": [
       "6"
      ]
     },
     "execution_count": 13,
     "metadata": {},
     "output_type": "execute_result"
    }
   ],
   "source": [
    "sum(stack)"
   ]
  },
  {
   "cell_type": "code",
   "execution_count": null,
   "metadata": {},
   "outputs": [],
   "source": [
    "def calculate(self, s: str) -> int:\n",
    "        num = 0\n",
    "        res = 0\n",
    "        pre_op = '+'\n",
    "        s+='+'\n",
    "        stack = []\n",
    "        for c in s:\n",
    "            if c.isdigit():\n",
    "                num = num*10 + int(c)\n",
    "            elif c == ' ':\n",
    "                    pass\n",
    "            else:\n",
    "                if pre_op == '+':\n",
    "                    stack.append(num)\n",
    "                elif pre_op == '-':\n",
    "                    stack.append(-num)\n",
    "                elif pre_op == '*':\n",
    "                    operant = stack.pop()\n",
    "                    stack.append((operant*num))\n",
    "                elif pre_op == '/':\n",
    "                    operant = stack.pop()\n",
    "                    stack.append(math.trunc(operant/num))\n",
    "                num = 0\n",
    "                pre_op = c\n",
    "        return sum(stack)"
   ]
  },
  {
   "cell_type": "markdown",
   "metadata": {},
   "source": [
    "## Add Operators\n",
    "https://leetcode.com/problems/expression-add-operators/"
   ]
  },
  {
   "cell_type": "code",
   "execution_count": 101,
   "metadata": {},
   "outputs": [
    {
     "data": {
      "text/plain": [
       "[]"
      ]
     },
     "execution_count": 101,
     "metadata": {},
     "output_type": "execute_result"
    }
   ],
   "source": [
    "# Working one\n",
    "def recur(idx, val, prev_val, l):\n",
    "    #print(idx, l)\n",
    "    if idx==len(s):\n",
    "        if val==target:\n",
    "            res.append(''.join(l))\n",
    "        return\n",
    "    cur_val=0\n",
    "    for i in range(idx,len(s)):\n",
    "        cur_val = cur_val*10 + int(s[i])\n",
    "        if idx==0:\n",
    "            recur(i+1, cur_val, cur_val, l+[str(cur_val)])\n",
    "        else:\n",
    "            recur(i+1, (val-prev_val)+prev_val*cur_val, cur_val, l+['*'+str(cur_val)])\n",
    "            recur(i+1, val+prev_val, cur_val, l+['+'+str(cur_val)])\n",
    "            \n",
    "            recur(i+1, val-prev_val, -cur_val, l+['-'+str(cur_val)])\n",
    "\n",
    "\n",
    "s = '123'\n",
    "res =[]\n",
    "recur(0, 0, 0, [])"
   ]
  },
  {
   "cell_type": "code",
   "execution_count": null,
   "metadata": {},
   "outputs": [],
   "source": []
  },
  {
   "cell_type": "code",
   "execution_count": 286,
   "metadata": {},
   "outputs": [],
   "source": [
    "def addOp(s, vals, vals1):\n",
    "    global results\n",
    "    global results1\n",
    "    if sum(vals)==target:\n",
    "        print(vals1)\n",
    "        results1.append(vals1)\n",
    "    if len(s)==0:\n",
    "        #results.append(vals)\n",
    "        return \n",
    "    for i in range(1,len(s)+1):\n",
    "        #print(i, s, s[i:])\n",
    "        addOp(s[i:], vals+[int(s[:i])], vals1+['+'+s[:i]])\n",
    "        addOp(s[i:], vals+[-int(s[:i])], vals1+['-'+s[:i]])\n",
    "        if len(vals)>0:\n",
    "            addOp(s[i:], vals[:-1]+ [vals[-1]*int(s[:i])], vals1+['*'+s[:i]])\n",
    "            addOp(s[i:], vals[:-1]+ [vals[-1]/int(s[:i])], vals1+['/'+s[:i]])"
   ]
  },
  {
   "cell_type": "code",
   "execution_count": 287,
   "metadata": {
    "scrolled": false
   },
   "outputs": [
    {
     "name": "stdout",
     "output_type": "stream",
     "text": [
      "['+1', '+2', '+3']\n",
      "['+1', '*2', '*3']\n"
     ]
    }
   ],
   "source": [
    "s  ='123'\n",
    "target = 6\n",
    "results = []\n",
    "results1 = []\n",
    "addOp(s, [], [])"
   ]
  },
  {
   "cell_type": "code",
   "execution_count": null,
   "metadata": {},
   "outputs": [],
   "source": []
  },
  {
   "cell_type": "code",
   "execution_count": 289,
   "metadata": {
    "scrolled": true
   },
   "outputs": [
    {
     "data": {
      "text/plain": [
       "['1+2+3', '1*2*3']"
      ]
     },
     "execution_count": 289,
     "metadata": {},
     "output_type": "execute_result"
    }
   ],
   "source": [
    "[''.join(i).strip('+').strip('-') for i in results1]"
   ]
  },
  {
   "cell_type": "code",
   "execution_count": 392,
   "metadata": {},
   "outputs": [],
   "source": [
    "def addOp(s, vals, vals1):\n",
    "    global results\n",
    "    global results1\n",
    "    if sum(vals)==target:\n",
    "        print(vals1)\n",
    "        results1.append(vals1)\n",
    "    if len(s)==0:\n",
    "        #results.append(vals)\n",
    "        return \n",
    "    for i in range(1,len(s)+1):\n",
    "        #print(i, s, s[i:])\n",
    "        addOp(s[i:], vals+[int(s[:i])], vals1+['+'+s[:i]])\n",
    "        addOp(s[i:], vals+[-int(s[:i])], vals1+['-'+s[:i]])\n",
    "        if len(vals)>0:\n",
    "            addOp(s[i:], vals[:-1]+ [vals[-1]*int(s[:i])], vals1+['*'+s[:i]])\n",
    "            addOp(s[i:], vals[:-1]+ [vals[-1]/int(s[:i])], vals1+['/'+s[:i]])\n",
    "\n",
    "s  ='232'\n",
    "target = 8\n",
    "results = []\n",
    "results1 = []\n",
    "addOp(s, [], [])\n",
    "[''.join(i).strip('+').strip('-') for i in results1]"
   ]
  },
  {
   "cell_type": "code",
   "execution_count": 291,
   "metadata": {},
   "outputs": [
    {
     "data": {
      "text/plain": [
       "['2*3+2', '2+3*2']"
      ]
     },
     "execution_count": 291,
     "metadata": {},
     "output_type": "execute_result"
    }
   ],
   "source": [
    "sorted([''.join(i).strip('+').strip('-') for i in results1])"
   ]
  },
  {
   "cell_type": "code",
   "execution_count": 125,
   "metadata": {
    "scrolled": true
   },
   "outputs": [],
   "source": [
    "def recur(idx, val, prev,  li):\n",
    "    if idx==len(s) and sum(li)=="
   ]
  },
  {
   "cell_type": "code",
   "execution_count": 126,
   "metadata": {},
   "outputs": [
    {
     "data": {
      "text/plain": [
       "['1*2*3', '1+2*3']"
      ]
     },
     "execution_count": 126,
     "metadata": {},
     "output_type": "execute_result"
    }
   ],
   "source": [
    "res"
   ]
  },
  {
   "cell_type": "markdown",
   "metadata": {},
   "source": [
    "## Problem - 35\n",
    "\n",
    "https://leetcode.com/problems/stickers-to-spell-word/submissions/"
   ]
  },
  {
   "cell_type": "code",
   "execution_count": null,
   "metadata": {},
   "outputs": [],
   "source": [
    "class Solution:\n",
    "    def minStickers(self, stickers: List[str], target: str) -> int:\n",
    "        from collections import Counter\n",
    "        \n",
    "        it = [set(target).intersection(i) for i in stickers]\n",
    "        it.sort(key=lambda x: len(x))\n",
    "        it = it[::-1]\n",
    "        \n",
    "        sub = []\n",
    "        n = len(it)\n",
    "    \n",
    "        for i in range(0, n-1):\n",
    "            for j in range(i+1, n):\n",
    "                if i not in sub and len(it[j]-it[i])==0:\n",
    "                    sub.append(j)\n",
    "                    \n",
    "        \n",
    "        def IncrementStick(key, val, sticks, default):\n",
    "            m = 1\n",
    "            el = None\n",
    "            for i,st in enumerate(sticks):\n",
    "                if st.get(key) and st.get(key)>m:\n",
    "                    m = st.get(key)\n",
    "                    el = i\n",
    "                    \n",
    "            bal = val - key_sum \n",
    "\n",
    "            default[el] = default[el] + 1\n",
    "            for key in sticks[el].keys():\n",
    "                sticks[el] *= (bal+1)\n",
    "            return sticks, default\n",
    "            \n",
    "        stickers.pop(2)\n",
    "        t = Counter(target)\n",
    "        default = dict(zip(range(0,len(stickers)), [1]*len(stickers)))\n",
    "        print('default - ', default)\n",
    "        \n",
    "        sticks = [Counter(i) for i in stickers]\n",
    "        [[st.pop(key) for key in set(st.keys())-set(t.keys())] for st in sticks]\n",
    "        print(sticks)\n",
    "        \n",
    "        \n",
    "        \n",
    "#         for key, val in t.items():\n",
    "        key = 't'\n",
    "        val = 2\n",
    "        key_sum = sum([st.get(key) for st in sticks if st.get(key)])\n",
    "        \n",
    "        if val - key_sum>0:\n",
    "            sticks, default = IncrementStick(key, val, sticks, default)\n",
    "        print(sticks, default)\n",
    "        \n",
    "        \n",
    "        \n",
    "        \n",
    "        \n",
    "        print('keysum - ', key_sum)\n",
    "        \n",
    "        "
   ]
  },
  {
   "cell_type": "code",
   "execution_count": null,
   "metadata": {},
   "outputs": [],
   "source": []
  },
  {
   "cell_type": "code",
   "execution_count": 1374,
   "metadata": {},
   "outputs": [
    {
     "data": {
      "text/plain": [
       "0"
      ]
     },
     "execution_count": 1374,
     "metadata": {},
     "output_type": "execute_result"
    }
   ],
   "source": [
    "int(ord('b') - ord('a')==-1)"
   ]
  },
  {
   "cell_type": "markdown",
   "metadata": {},
   "source": [
    "## Problem - 36\n",
    "\n",
    "https://leetcode.com/problems/simplify-path/submissions/"
   ]
  },
  {
   "cell_type": "code",
   "execution_count": null,
   "metadata": {},
   "outputs": [],
   "source": [
    "# Logic\n",
    "class Solution:\n",
    "    def simplifyPath(self, path: str) -> str:\n",
    "\n",
    "        # Initialize a stack \n",
    "        stack = []\n",
    "\n",
    "        # Split the input string on \"/\" as the delimiter\n",
    "        # and process each portion one by one\n",
    "        for portion in path.split(\"/\"):\n",
    "\n",
    "            # If the current component is a \"..\", then\n",
    "            # we pop an entry from the stack if it's non-empty\n",
    "            if portion == \"..\":\n",
    "                if stack:\n",
    "                    stack.pop()\n",
    "            elif portion == \".\" or not portion:\n",
    "                # A no-op for a \".\" or an empty string\n",
    "                continue\n",
    "            else:\n",
    "                # Finally, a legitimate directory name, so we add it\n",
    "                # to our stack\n",
    "                stack.append(portion)\n",
    "\n",
    "        # Stich together all the directory names together\n",
    "        final_str = \"/\" + \"/\".join(stack)\n",
    "        return final_str"
   ]
  },
  {
   "cell_type": "code",
   "execution_count": null,
   "metadata": {},
   "outputs": [],
   "source": [
    "# class Solution:\n",
    "#     def groupStrings(self, strings: List[str]) -> List[List[str]]:\n",
    "#         # a = [(i,str(len(i))+ str(int(ord(i[0])- ord(i[1])<0))) if len(i)>1 else (i, str(len(i))+'0') for i in strings]\n",
    "#         a = []\n",
    "#         for i in strings:\n",
    "#             if len(i)>1 and (ord(i[0])-ord(i[1]))<0 and (ord(i[0]) - ord(i[1]))!=-25:\n",
    "#                 a.append((i, str(len(i))+'1'))\n",
    "#             else:\n",
    "#                 a.append((i, str(len(i))+'0'))\n",
    "#         grps = set([i[1] for i in a])\n",
    "#         #print(grps)\n",
    "#         b = [[j[0] for j in a if j[1]==i] for i in grps]\n",
    "#         return sorted(b)\n",
    "     \n",
    "        \n",
    "class Solution(object):\n",
    "    def groupStrings(self, strings):\n",
    "\n",
    "        hm=defaultdict(list)\n",
    "        for s in strings:\n",
    "            t=[]\n",
    "            for i in range(len(s)-1):\n",
    "                t.append((ord(s[i+1])-ord(s[i]))%26)\n",
    "            hm[tuple(t)].append(s)\n",
    "        #print hm\n",
    "        ans=[]\n",
    "        for key in hm:\n",
    "            ans.append(hm[key])\n",
    "        return ans"
   ]
  },
  {
   "cell_type": "markdown",
   "metadata": {},
   "source": [
    "## Graphs\n",
    "\n",
    "https://www.youtube.com/watch?v=a4hXpeHZ_-c&t=392s"
   ]
  },
  {
   "cell_type": "markdown",
   "metadata": {},
   "source": [
    "## Problem - 37\n",
    "\n",
    "https://leetcode.com/problems/leftmost-column-with-at-least-a-one/submissions/\n"
   ]
  },
  {
   "cell_type": "code",
   "execution_count": 402,
   "metadata": {},
   "outputs": [],
   "source": [
    "\n",
    "class Solution:\n",
    "    def leftMostColumnWithOne(self, binaryMatrix: 'BinaryMatrix') -> int:\n",
    "        shape = binaryMatrix.dimensions()\n",
    "        print(shape)\n",
    "        row, col = 0, shape[1]-1\n",
    "        res = -1\n",
    "        while row <shape[0] and col>=0:\n",
    "            print(row, col)\n",
    "            val = binaryMatrix.get(row, col)\n",
    "            if val==1:\n",
    "                res = col\n",
    "                col -=1\n",
    "            else:\n",
    "                row +=1\n",
    "            \n",
    "        return res"
   ]
  },
  {
   "cell_type": "markdown",
   "metadata": {},
   "source": [
    "## Course Schedule\n",
    "https://leetcode.com/problems/course-schedule/"
   ]
  },
  {
   "cell_type": "code",
   "execution_count": 430,
   "metadata": {},
   "outputs": [],
   "source": [
    "class Solution:\n",
    "    def canFinish(self, numCourses: int, prerequisites: List[List[int]]) -> bool:\n",
    "        \n",
    "        def recur(i, label):\n",
    "            if d[i]!=-1:\n",
    "                return False\n",
    "            d[i] = label\n",
    "            for j in cs[i]:\n",
    "                d[j]=label\n",
    "                recur(j, label)\n",
    "            return True\n",
    "        from collections import defaultdict\n",
    "        cs = defaultdict(list)\n",
    "        for g in prerequisites:\n",
    "            cs[g[0]].append(g[1])\n",
    "        d = {i:-1 for i in range(numCourses)}\n",
    "        \n",
    "        for label, i in enumerate(d.keys()):\n",
    "            p = recur(i, label)\n",
    "            if not p:\n",
    "                return False\n",
    "        return True\n"
   ]
  },
  {
   "cell_type": "code",
   "execution_count": 472,
   "metadata": {},
   "outputs": [],
   "source": [
    "numCourses = 4\n",
    "prerequisites = [[1,0],[2,0],[3,1],[3,2]]\n",
    "prerequisites = [[2,1],[1,0]]\n",
    "numCourses = 3\n",
    "numCourses = 20\n",
    "prerequisites = [[0,10],[3,18],[5,5],[6,11],[11,14],[13,1],[15,1],[17,4]]\n"
   ]
  },
  {
   "cell_type": "code",
   "execution_count": 474,
   "metadata": {},
   "outputs": [
    {
     "name": "stdout",
     "output_type": "stream",
     "text": [
      "True\n",
      "True\n",
      "True\n",
      "True\n",
      "True\n",
      "True\n",
      "True\n",
      "True\n"
     ]
    }
   ],
   "source": [
    "def recur(i, label):\n",
    "    if d[i]!=-1:\n",
    "        return False\n",
    "    d[i] = label\n",
    "    for j in cs[i]:\n",
    "        d[j]=label\n",
    "        recur(j, label)\n",
    "    return True\n",
    "\n",
    "\n",
    "pc = Counter(sum(prerequisites, []))\n",
    "prerequisites.sort(key=lambda x: -pc[x[0]])\n",
    "\n",
    "\n",
    "from collections import defaultdict\n",
    "cs = defaultdict(list)\n",
    "for g in prerequisites:\n",
    "    cs[g[0]].append(g[1])\n",
    "\n",
    "d = {i:-1 for i in range(numCourses)}\n",
    "for label, i in enumerate(cs.keys()):\n",
    "    p = recur(i, label)\n",
    "    print(p)"
   ]
  },
  {
   "cell_type": "code",
   "execution_count": 172,
   "metadata": {},
   "outputs": [
    {
     "name": "stdout",
     "output_type": "stream",
     "text": [
      "1 0 [-1, -1, -1]\n",
      "1 1 [1, -1, -1]\n",
      "1 2 [1, 1, -1]\n",
      "1 2 [1, 1, 1]\n"
     ]
    }
   ],
   "source": [
    "from collections import defaultdict\n",
    "d = defaultdict(list)\n",
    "edges = [\n",
    "    [1, 2],\n",
    "    [2],\n",
    "    []]\n",
    "for i in range(len(edges)):\n",
    "    d[i] = edges[i]\n",
    "\n",
    "def recur(p, label, d, fs):\n",
    "    print(label, p, fs)\n",
    "    global flag\n",
    "    if fs[p]==label:\n",
    "        flag=True\n",
    "        return \n",
    "    fs[p] = label\n",
    "    for i in d[p]:\n",
    "        recur(i, label, d, fs)\n",
    "# for label in range(len(edges)):\n",
    "#     fs = [-1 for i in range(len(edges))]\n",
    "#     flag=False\n",
    "#     recur(label, label+1, d, fs)\n",
    "#     print(label)\n",
    "#     if flag:\n",
    "#         print(True)\n",
    "\n",
    "fs = [-1 for i in range(len(edges))]\n",
    "flag=False\n",
    "recur(0, 1, d, fs)"
   ]
  },
  {
   "cell_type": "code",
   "execution_count": 168,
   "metadata": {},
   "outputs": [
    {
     "data": {
      "text/plain": [
       "True"
      ]
     },
     "execution_count": 168,
     "metadata": {},
     "output_type": "execute_result"
    }
   ],
   "source": [
    "fs = [-1 for i in range(len(edges))]\n",
    "flag=False\n",
    "recur(0, 1, d, fs)\n",
    "flag"
   ]
  },
  {
   "cell_type": "code",
   "execution_count": 193,
   "metadata": {},
   "outputs": [],
   "source": [
    "edges= [\n",
    "  [1, 3],\n",
    "  [2, 3, 4],\n",
    "  [0],\n",
    "  [],\n",
    "  [2, 5],\n",
    "  []\n",
    "]\n",
    "# edges = [\n",
    "#     [1, 2],\n",
    "#     [2],\n",
    "#     []]\n",
    "\n",
    "edges = [\n",
    "    [1],\n",
    "    [2, 3, 4, 5, 6, 7],\n",
    "    [],\n",
    "    [2, 7],\n",
    "    [5],\n",
    "    [],\n",
    "    [4],\n",
    "    []]"
   ]
  },
  {
   "cell_type": "code",
   "execution_count": 199,
   "metadata": {},
   "outputs": [
    {
     "name": "stdout",
     "output_type": "stream",
     "text": [
      "defaultdict(<class 'list'>, {1: [0]})\n"
     ]
    }
   ],
   "source": [
    "edges =  [[1,0]]\n",
    "d = defaultdict(list)\n",
    "\n",
    "# for i in range(len(edges)):\n",
    "#     if edges[i]:\n",
    "#         d[i] = edges[i]\n",
    "        \n",
    "d = defaultdict(list)\n",
    "for e in edges:\n",
    "    d[e[0]].append(e[1])\n",
    "        \n",
    "count = 0\n",
    "while len(d.keys())>0:\n",
    "    print(d)\n",
    "    rmkeys = []\n",
    "    for k,v in list(d.items()):\n",
    "        for e in v:\n",
    "            if e not in d.keys():\n",
    "                d[k].remove(e)\n",
    "            if len(d[k])==0:\n",
    "                d.pop(k)\n",
    "                rmkeys.append(k)\n",
    "        #print(k, d)\n",
    "    \n",
    "    if len(rmkeys)==0 and len(d.keys())>0:\n",
    "        count+=1\n",
    "    if count>len(edges):\n",
    "        print('Cycle exists')\n",
    "        break"
   ]
  },
  {
   "cell_type": "markdown",
   "metadata": {},
   "source": [
    "## Number of provinces\n",
    "https://leetcode.com/problems/number-of-provinces/"
   ]
  },
  {
   "cell_type": "code",
   "execution_count": null,
   "metadata": {},
   "outputs": [],
   "source": [
    "class Solution:\n",
    "    def findCircleNum(self, isConnected: List[List[int]]) -> int:\n",
    "        \n",
    "        from collections import Counter, defaultdict\n",
    "        cs = defaultdict(list)\n",
    "        for iD, g in enumerate(isConnected):\n",
    "            for g1, v in enumerate(g):\n",
    "                if v==1:\n",
    "                    cs[iD].append(g1)\n",
    "                    \n",
    "        d = {i:-1 for i in range(len(isConnected))}\n",
    "        def recur(g, label):\n",
    "            if d[g]!=-1:\n",
    "                return\n",
    "            d[g]=label\n",
    "            for p in cs[g]:\n",
    "                recur(p, label)\n",
    "        \n",
    "        for ind, p in enumerate(cs.keys()):\n",
    "            recur(p, ind)\n",
    "        return len(set(d.values()))\n",
    "            "
   ]
  },
  {
   "cell_type": "code",
   "execution_count": null,
   "metadata": {},
   "outputs": [],
   "source": [
    "from collections import defaultdict\n",
    "graph = defaultdict(list)\n",
    "gr = isConnected\n",
    "for i,g in enumerate(gr):\n",
    "    for i1,g1 in enumerate(g):\n",
    "        if i==i1:\n",
    "            continue\n",
    "        if g1==1:\n",
    "            graph[i].append(i1)\n",
    "\n",
    "mp = [0 for i in range(len(gr))]\n",
    "\n",
    "def recur(i, label):\n",
    "    if mp[i]!=0 or i not in graph.keys():\n",
    "        return\n",
    "    mp[i]=label\n",
    "    for j in graph[i]:\n",
    "        recur(j, label)\n",
    "\n",
    "for i in range(len(mp)):\n",
    "    recur(i,i+1)\n",
    "print(mp)\n",
    "return sum([i==0 for i in mp]) + len(set([i for i in mp if i!=0]))"
   ]
  },
  {
   "cell_type": "markdown",
   "metadata": {},
   "source": [
    "## Number of Connected Components\n",
    "https://leetcode.com/problems/number-of-connected-components-in-an-undirected-graph/"
   ]
  },
  {
   "cell_type": "code",
   "execution_count": 77,
   "metadata": {},
   "outputs": [],
   "source": [
    "n = 3\n",
    "edges = [[1,0],[2,1]]\n",
    "from collections import defaultdict\n",
    "d = defaultdict(list)\n",
    "d1 = defaultdict(list)\n",
    "for e in edges:\n",
    "    d[e[0]].append(e[1])\n",
    "    d[e[1]].append(e[0])\n",
    "    \n",
    "def recur(p, label):\n",
    "    if f[p]!=-1 or p not in d.keys():\n",
    "        return\n",
    "    f[p] = label\n",
    "    for e in d[p]:\n",
    "        recur(e, label)\n",
    "f = [-1]*n\n",
    "for i in range(n):\n",
    "    recur(i, i)\n"
   ]
  },
  {
   "cell_type": "code",
   "execution_count": 87,
   "metadata": {},
   "outputs": [],
   "source": [
    "g = [[0,1],[1,2],[2,3],[3,4]]\n",
    "n = 5\n",
    "m = [[0]*n for _ in range(n)]"
   ]
  },
  {
   "cell_type": "code",
   "execution_count": 88,
   "metadata": {},
   "outputs": [],
   "source": [
    "for i,j in g:\n",
    "    m[i][j]=1"
   ]
  },
  {
   "cell_type": "code",
   "execution_count": 89,
   "metadata": {},
   "outputs": [
    {
     "data": {
      "text/plain": [
       "[[0, 1, 0, 0, 0],\n",
       " [0, 0, 1, 0, 0],\n",
       " [0, 0, 0, 1, 0],\n",
       " [0, 0, 0, 0, 1],\n",
       " [0, 0, 0, 0, 0]]"
      ]
     },
     "execution_count": 89,
     "metadata": {},
     "output_type": "execute_result"
    }
   ],
   "source": [
    "m"
   ]
  },
  {
   "cell_type": "markdown",
   "metadata": {},
   "source": [
    "## Is graph bipartatie\n",
    "https://leetcode.com/problems/is-graph-bipartite/submissions/"
   ]
  },
  {
   "cell_type": "code",
   "execution_count": null,
   "metadata": {},
   "outputs": [],
   "source": [
    "# Logic\n",
    "class Solution:\n",
    "    def isBipartite(self, graph: List[List[int]]) -> bool:\n",
    "        n = len(graph)\n",
    "        colors = [-1] *n\n",
    "        colors[0] = 0\n",
    "        for i,e in enumerate(graph):\n",
    "            print(colors)\n",
    "            for nei in e:\n",
    "                if colors[nei] == colors[i] and colors[nei]!=-1:\n",
    "            \n",
    "                    return False\n",
    "                if colors[nei] == -1:                    \n",
    "                    colors[nei] = 1-colors[i]                                  \n",
    "        return True\n",
    "    \n",
    "    \n",
    "# come again\n",
    "graph = [[1,3],[0,2],[1,3],[0,2]]\n",
    "graph = [[1,2,3],[0,2],[0,1,3],[0,2]]\n",
    "\n",
    "dp = [-1]*len(graph)\n",
    "dp[0] = 0\n",
    "n = graph\n",
    "for i, l in enumerate(graph):\n",
    "    for e in l:\n",
    "        \n",
    "        if dp[e]==dp[i] and dp[e]!=-1:\n",
    "            print('False')\n",
    "        \n",
    "        elif dp[e]==-1:\n",
    "            dp[e]=1-dp[i]\n",
    "        print(i, e, dp)"
   ]
  },
  {
   "cell_type": "code",
   "execution_count": 207,
   "metadata": {},
   "outputs": [
    {
     "name": "stdout",
     "output_type": "stream",
     "text": [
      "0 1 [0, 1, -1, -1]\n",
      "0 2 [0, 1, 1, -1]\n",
      "0 3 [0, 1, 1, 1]\n",
      "1 0 [0, 1, 1, 1]\n",
      "False\n",
      "1 2 [0, 1, 1, 1]\n",
      "2 0 [0, 1, 1, 1]\n",
      "False\n",
      "2 1 [0, 1, 1, 1]\n",
      "False\n",
      "2 3 [0, 1, 1, 1]\n",
      "3 0 [0, 1, 1, 1]\n",
      "False\n",
      "3 2 [0, 1, 1, 1]\n"
     ]
    }
   ],
   "source": []
  },
  {
   "cell_type": "code",
   "execution_count": 181,
   "metadata": {},
   "outputs": [],
   "source": [
    "graph = [[0,1],[0,2], [1,3], [1,4], [3,4]]"
   ]
  },
  {
   "cell_type": "code",
   "execution_count": 212,
   "metadata": {},
   "outputs": [
    {
     "name": "stdout",
     "output_type": "stream",
     "text": [
      "False\n",
      "False\n",
      "False\n",
      "False\n"
     ]
    }
   ],
   "source": [
    "graph = [[1,2,3],[0,2],[0,1,3],[0,2]]\n",
    "\n",
    "#graph = [[1,3],[0,2],[1,3],[0,2]]\n",
    "dp = [-1]*len(graph)\n",
    "dp[0] = 0\n",
    "for i, g in enumerate(graph):\n",
    "    for e in g:\n",
    "        if dp[i]==dp[e] and dp[e]!=-1:\n",
    "            print('False')\n",
    "        elif dp[e]==-1:\n",
    "            dp[e] =  1-dp[i]"
   ]
  },
  {
   "cell_type": "code",
   "execution_count": 11,
   "metadata": {},
   "outputs": [],
   "source": [
    "graph = [[1,2,3],[0,2],[0,1,3],[0,2]]"
   ]
  },
  {
   "cell_type": "code",
   "execution_count": 12,
   "metadata": {},
   "outputs": [],
   "source": [
    "d = {i:-1 for i in range(len(graph))}\n",
    "def recur(p, s):\n",
    "    if d[p]!=-1 and d[p]!=s%2:\n",
    "        flag = True\n",
    "        return\n",
    "    if d[p]!=-1:\n",
    "        return\n",
    "    s+=1\n",
    "    d[p] = s%2\n",
    "    for g in graph[p]:\n",
    "        recur(g, s)"
   ]
  },
  {
   "cell_type": "code",
   "execution_count": 13,
   "metadata": {},
   "outputs": [
    {
     "data": {
      "text/plain": [
       "({0: 1, 1: 0, 2: 1, 3: 0}, False)"
      ]
     },
     "execution_count": 13,
     "metadata": {},
     "output_type": "execute_result"
    }
   ],
   "source": [
    "flag =False\n",
    "recur(0, 0)\n",
    "d, flag"
   ]
  },
  {
   "cell_type": "code",
   "execution_count": null,
   "metadata": {},
   "outputs": [],
   "source": []
  },
  {
   "cell_type": "markdown",
   "metadata": {},
   "source": [
    "## Graph with Cheapest Flights\n",
    "\n",
    "https://leetcode.com/problems/cheapest-flights-within-k-stops/"
   ]
  },
  {
   "cell_type": "code",
   "execution_count": null,
   "metadata": {},
   "outputs": [],
   "source": [
    "#come again\n",
    "def findCheapestPrice(self, n: int, flights: List[List[int]], src: int, dst: int, K: int) -> int:\n",
    "\n",
    "    graph = collections.defaultdict(dict)\n",
    "    for s, d, w in flights:\n",
    "        graph[s][d] = w\n",
    "    pq = [(0, src, K+1)]\n",
    "    vis = [0] * n\n",
    "    while pq:\n",
    "        w, x, k = heapq.heappop(pq)\n",
    "        if x == dst:\n",
    "            return w\n",
    "        if vis[x] >= k:\n",
    "            continue\n",
    "        vis[x] = k\n",
    "        for y, dw in graph[x].items():\n",
    "            heapq.heappush(pq, (w+dw, y, k-1))\n",
    "    return -1\n"
   ]
  },
  {
   "cell_type": "code",
   "execution_count": null,
   "metadata": {},
   "outputs": [],
   "source": [
    "from collections import defaultdict\n",
    "graph = defaultdict(list)\n",
    "for f in flights:\n",
    "    graph[f[0]].append(f[1:])\n",
    "\n",
    "k=0\n",
    "def Recur(g, path, d):\n",
    "    print(d)\n",
    "    if d>(k+1):\n",
    "        return\n",
    "    if g[0]==dst:\n",
    "        paths.append(path)\n",
    "        return \n",
    "    for g1 in graph[g[0]]:\n",
    "        Recur(g1, path+g1[1], d+1)\n",
    "paths = []\n",
    "Recur([src, src], 0,0)\n",
    "print(paths)\n",
    "#return min(paths)"
   ]
  },
  {
   "cell_type": "code",
   "execution_count": 2,
   "metadata": {},
   "outputs": [],
   "source": [
    "n = 3\n",
    "flights = [[0,1,100],[1,2,100],[0,2,500]]\n",
    "src = 0\n",
    "dst = 2\n",
    "k = 1"
   ]
  },
  {
   "cell_type": "code",
   "execution_count": 3,
   "metadata": {},
   "outputs": [],
   "source": [
    "def recur(s, p, k1):\n",
    "    if s==dst and k1<=k:\n",
    "        results.append(p)\n",
    "        return\n",
    "    if k1>=k:\n",
    "        return\n",
    "    for f in flights:\n",
    "        if f[0]==s:\n",
    "            recur(f[1], p+f[2], k1+1)\n",
    "results = []\n",
    "for f in flights:\n",
    "    if f[0]==src:\n",
    "        recur(f[1], f[2], 1)"
   ]
  },
  {
   "cell_type": "markdown",
   "metadata": {},
   "source": [
    "https://www.algoexpert.io/questions/Topological%20Sort"
   ]
  },
  {
   "cell_type": "code",
   "execution_count": null,
   "metadata": {},
   "outputs": [],
   "source": [
    "graphs = [\n",
    "  [1, 2],\n",
    "  [1, 3],\n",
    "  [3, 2],\n",
    "  [4, 2],\n",
    "  [4, 3]\n",
    "]\n",
    "\n",
    "from collections import defaultdict\n",
    "d = defaultdict(list)\n",
    "for g in graphs:\n",
    "    d[g[0]].append(g[1])\n",
    "\n",
    "res = []\n",
    "indep = []\n",
    "while len(d.keys())!=0:\t\n",
    "    for i,v in d.items():\n",
    "        for w in v:\n",
    "            if w not in d.keys():\n",
    "                indep.append(w)\n",
    "                d[i].remove(w)\n",
    "    rmkeys = []\t\t\n",
    "    for i,v in d.items():\n",
    "        if len(v)==0:\n",
    "            rmkeys.append(i)\n",
    "    for k in rmkeys:\n",
    "        d.pop(k)\n",
    "    print(rmkeys)\n",
    "te  =[]\n",
    "for i in indep+ rmkeys:\n",
    "    if i not in te:\n",
    "        te.append(i)"
   ]
  },
  {
   "cell_type": "markdown",
   "metadata": {},
   "source": [
    "## Problem - 38\n",
    "\n",
    "https://leetcode.com/problems/clone-graph/submissions/"
   ]
  },
  {
   "cell_type": "code",
   "execution_count": null,
   "metadata": {},
   "outputs": [],
   "source": [
    "\"\"\"\n",
    "# Definition for a Node.\n",
    "class Node:\n",
    "    def __init__(self, val = 0, neighbors = None):\n",
    "        self.val = val\n",
    "        self.neighbors = neighbors if neighbors is not None else []\n",
    "\"\"\"\n",
    "\n",
    "class Solution:\n",
    "    def cloneGraph(self, node: 'Node') -> 'Node':\n",
    "        \n",
    "        self.visited = {}\n",
    "        \n",
    "        if node is None:\n",
    "            return \n",
    "        def dfs(node):\n",
    "            \n",
    "            if node in self.visited:\n",
    "                return self.visited[node]\n",
    "\n",
    "            clone_node = Node(node.val, [])\n",
    "            \n",
    "            self.visited[node] = clone_node\n",
    "\n",
    "            clone_node.neighbors = [dfs(n) for n in node.neighbors]\n",
    "            \n",
    "            return clone_node\n",
    "        \n",
    "        clone_node = dfs(node)\n",
    "        #print()\n",
    "        return clone_node"
   ]
  },
  {
   "cell_type": "markdown",
   "metadata": {},
   "source": [
    "## Problem - 39\n",
    "\n",
    "https://leetcode.com/problems/3sum/"
   ]
  },
  {
   "cell_type": "code",
   "execution_count": 1406,
   "metadata": {},
   "outputs": [],
   "source": [
    "class Solution:\n",
    "    def threeSum(self, nums: List[int]) -> List[List[int]]:\n",
    "        from itertools import combinations\n",
    "#         li1 = [i for i in combinations(range(len(nums)), 3) \n",
    "        \n",
    "        res = []\n",
    "        sets = []\n",
    "        for c  in combinations(range(len(nums)),3):\n",
    "            i,j, k = c\n",
    "            if i!=j and i!=k and j!=k and nums[i]+nums[j]+nums[k]==0:\n",
    "                s = (nums[i],nums[j], nums[k])\n",
    "                if set(s) not in sets:\n",
    "                    sets.append(set(s))\n",
    "                    res.append(s)\n",
    "\n",
    "                    \n",
    "        return res\n",
    "               \n"
   ]
  },
  {
   "cell_type": "code",
   "execution_count": null,
   "metadata": {},
   "outputs": [],
   "source": [
    "# Come again\n",
    "class Solution:\n",
    "    def threeSum(self, nums: List[int]) -> List[List[int]]:\n",
    "        res = []\n",
    "        nums.sort()\n",
    "        for i in range(len(nums)):\n",
    "            if nums[i] > 0:\n",
    "                break\n",
    "            if i == 0 or nums[i - 1] != nums[i]:\n",
    "                self.twoSumII(nums, i, res)\n",
    "        return res\n",
    "\n",
    "    def twoSumII(self, nums: List[int], i: int, res: List[List[int]]):\n",
    "        lo, hi = i + 1, len(nums) - 1\n",
    "        while (lo < hi):\n",
    "            sum = nums[i] + nums[lo] + nums[hi]\n",
    "            if sum < 0:\n",
    "                lo += 1\n",
    "            elif sum > 0:\n",
    "                hi -= 1\n",
    "            else:\n",
    "                res.append([nums[i], nums[lo], nums[hi]])\n",
    "                lo += 1\n",
    "                hi -= 1\n",
    "                while lo < hi and nums[lo] == nums[lo - 1]:\n",
    "                    lo += 1"
   ]
  },
  {
   "cell_type": "markdown",
   "metadata": {},
   "source": [
    "## 3sumclosest\n",
    "https://leetcode.com/problems/3sum-closest/"
   ]
  },
  {
   "cell_type": "code",
   "execution_count": null,
   "metadata": {},
   "outputs": [],
   "source": [
    "# come again - Remember, - binary search to choose\n",
    "# just iterate one value and rest should be binary search, as like permutations\n",
    "def threeSumClosest(self, nums: List[int], target: int) -> int:\n",
    "    nums.sort()\n",
    "    closest = float('inf')\n",
    "    for i in range(len(nums)-2):\n",
    "        if i != 0 and nums[i] == nums[i-1]:\n",
    "            continue\n",
    "\n",
    "        l, r = i + 1, len(nums) - 1\n",
    "        while l < r: \n",
    "            sum_ = nums[i] + nums[l] + nums[r]                \n",
    "            if sum_ < target:\n",
    "                l += 1\n",
    "            elif sum_ > target:\n",
    "                r -= 1\n",
    "            else:\n",
    "                return target\n",
    "            if abs(sum_ - target) < abs(closest - target):\n",
    "                closest = sum_\n",
    "    return closest"
   ]
  },
  {
   "cell_type": "code",
   "execution_count": null,
   "metadata": {},
   "outputs": [],
   "source": [
    "class Solution:\n",
    "    def threeSumClosest(self, nums: List[int], target: int) -> int:\n",
    "        mn=float('inf')\n",
    "        mnsum = float('inf')\n",
    "        from itertools import combinations\n",
    "        for i in combinations(nums,3):\n",
    "            if abs(sum(i)-target) <mn:\n",
    "                mn = abs(sum(i)-target)\n",
    "                mnsum = sum(i)\n",
    "\n",
    "        print(mn)\n",
    "        return mnsum"
   ]
  },
  {
   "cell_type": "code",
   "execution_count": 15,
   "metadata": {},
   "outputs": [],
   "source": [
    "nums = [-1,2,1,-4]\n",
    "target = 1\n"
   ]
  },
  {
   "cell_type": "code",
   "execution_count": null,
   "metadata": {},
   "outputs": [],
   "source": [
    "nums.sort()\n",
    "closest = float('inf')\n",
    "for i in range(len(nums)):\n",
    "    l = i+1\n",
    "    r = len(nums)-1\n",
    "    while l<r:\n",
    "        s = nums[i]+nums[l]+num[r]\n",
    "        if s< target:\n",
    "            l+=1\n",
    "        elif s>target:\n",
    "            r-=1\n",
    "        else: \n",
    "            print('reached return target')\n",
    "        if abs(s-target)< abs(closest-target):\n",
    "            closest = s"
   ]
  },
  {
   "cell_type": "code",
   "execution_count": 19,
   "metadata": {},
   "outputs": [
    {
     "data": {
      "text/plain": [
       "'A'"
      ]
     },
     "execution_count": 19,
     "metadata": {},
     "output_type": "execute_result"
    }
   ],
   "source": [
    "chr(65)"
   ]
  },
  {
   "cell_type": "markdown",
   "metadata": {},
   "source": [
    "## Problem - 41\n",
    "https://leetcode.com/problems/decode-ways/submissions/"
   ]
  },
  {
   "cell_type": "code",
   "execution_count": null,
   "metadata": {},
   "outputs": [],
   "source": [
    "class Solution:\n",
    "    def numDecodings(self, s: str) -> int:\n",
    "        if s=='0':\n",
    "            return 0\n",
    "        if s.startswith('0') and len(s)==2:\n",
    "            return 0\n",
    "        self.dict = dict(zip([str(i) for i  in range(1,27)], [chr(i) for i in range(65, 91)]))\n",
    "        self.dict[''] = ''\n",
    "        self.paths = []\n",
    "         \n",
    "        def dfs(s, path):\n",
    "            if len(s)<=1 or int(s)<=10:\n",
    "                path +=self.dict[s]\n",
    "                self.paths.append(path)\n",
    "                return \n",
    "            \n",
    "            dfs(s[1:], path + self.dict[s[1]])\n",
    "            if s[:2] in self.dict.keys():\n",
    "                dfs(s[2:], path + self.dict[s[:2]])\n",
    "\n",
    "            return \n",
    "        dfs(s, '')\n",
    "        print(self.paths)\n",
    "        return len(self.paths)\n",
    "            "
   ]
  },
  {
   "cell_type": "code",
   "execution_count": 35,
   "metadata": {},
   "outputs": [
    {
     "name": "stdout",
     "output_type": "stream",
     "text": [
      "12 \n",
      " L\n",
      "2 A\n",
      "['L', 'AB']\n"
     ]
    }
   ],
   "source": [
    "\n",
    "def recur(s, r):\n",
    "    print(s, r)\n",
    "    if len(s)==0 or s=='0':\n",
    "        results.append(r)\n",
    "        return\n",
    "    if len(s)<2 and int(s)<=26:\n",
    "        r += chr(int(s)+64)\n",
    "        results.append(r)\n",
    "        return \n",
    "    if int(s[:2])<=26:\n",
    "        recur(s[2:], r+chr(int(s[:2])+64))\n",
    "    if s[0]!='0':\n",
    "        recur(s[1:], r+chr(int(s[0])+64))\n",
    "        \n",
    "s = \"12\"\n",
    "results=[]\n",
    "recur(s, '')\n",
    "print(results)\n"
   ]
  },
  {
   "cell_type": "code",
   "execution_count": 34,
   "metadata": {},
   "outputs": [
    {
     "data": {
      "text/plain": [
       "64"
      ]
     },
     "execution_count": 34,
     "metadata": {},
     "output_type": "execute_result"
    }
   ],
   "source": [
    "ord('@')"
   ]
  },
  {
   "cell_type": "code",
   "execution_count": 24,
   "metadata": {},
   "outputs": [
    {
     "data": {
      "text/plain": [
       "''"
      ]
     },
     "execution_count": 24,
     "metadata": {},
     "output_type": "execute_result"
    }
   ],
   "source": [
    "s[2:]"
   ]
  },
  {
   "cell_type": "code",
   "execution_count": null,
   "metadata": {},
   "outputs": [],
   "source": [
    "dfs(s[1:], path + selfdict[s[1]])"
   ]
  },
  {
   "cell_type": "markdown",
   "metadata": {},
   "source": [
    "## Permutations\n",
    "https://leetcode.com/problems/permutations/"
   ]
  },
  {
   "cell_type": "code",
   "execution_count": null,
   "metadata": {},
   "outputs": [],
   "source": [
    "# Python function to print permutations of a given list\n",
    "# def permutation(lst):\n",
    "#     if len(lst) == 0:\n",
    "#         return []\n",
    "#     if len(lst) == 1:\n",
    "#         return [lst]\n",
    "#     l = [] \n",
    "#     for i in range(len(lst)):\n",
    "#         m = lst[i]\n",
    "#         remLst = lst[:i] + lst[i+1:]\n",
    "#         for p in permutation(remLst):\n",
    "#             l.append([m] + p)\n",
    "#     return l\n",
    "\n",
    "# Remember\n",
    "class Solution:\n",
    "    def permute(self, nums: List[int]) -> List[List[int]]:\n",
    "        \n",
    "        def dfs(nums, first=0):\n",
    "            if first==len(nums):\n",
    "                output.append(nums.copy())\n",
    "            for i in range(first, len(nums)):\n",
    "                nums[first], nums[i] = nums[i], nums[first]\n",
    "                dfs(nums, first+1)\n",
    "                nums[first], nums[i] = nums[i], nums[first]\n",
    "        output= []    \n",
    "        dfs(nums)\n",
    "        #print(output)\n",
    "        return output\n",
    "        \n",
    "\n",
    "# Driver program to test above function\n",
    "data = list('123')\n",
    "for p in permutation(data):\n",
    "    print( p)"
   ]
  },
  {
   "cell_type": "code",
   "execution_count": 38,
   "metadata": {},
   "outputs": [
    {
     "data": {
      "text/plain": [
       "[['1', '2', '3'],\n",
       " ['1', '3', '2'],\n",
       " ['2', '1', '3'],\n",
       " ['2', '3', '1'],\n",
       " ['3', '2', '1'],\n",
       " ['3', '1', '2']]"
      ]
     },
     "execution_count": 38,
     "metadata": {},
     "output_type": "execute_result"
    }
   ],
   "source": [
    "def permute(s, first=0):\n",
    "    if len(s)==first:\n",
    "        res.append(s.copy())\n",
    "    \n",
    "    for i in range(first, len(s)):\n",
    "        s[i], s[first] = s[first], s[i]\n",
    "        permute(s, first+1)\n",
    "        s[i], s[first] = s[first], s[i]\n",
    "res=[]\n",
    "permute(list('123'))\n",
    "res"
   ]
  },
  {
   "cell_type": "markdown",
   "metadata": {},
   "source": [
    "## Problem - 42\n",
    "\n",
    "https://leetcode.com/problems/next-permutation/"
   ]
  },
  {
   "cell_type": "code",
   "execution_count": null,
   "metadata": {},
   "outputs": [],
   "source": [
    "nums = [1,2,3]\n",
    "\n",
    "# Logic\n",
    "# Come again\n",
    "\n",
    "# Practice\n",
    "\n",
    "class Solution:\n",
    "    def nextPermutation(self, nums: List[int]) -> None:\n",
    "        \"\"\"\n",
    "        Do not return anything, modify nums in-place instead.\n",
    "        \"\"\"\n",
    "        \n",
    "        n = len(nums)\n",
    "        i = n - 2\n",
    "        # find X := the first descrease element from the end\n",
    "        while i >= 0 and nums[i+1] <= nums[i]:\n",
    "            i -= 1\n",
    "\n",
    "        if i >= 0:\n",
    "            j = n - 1 \n",
    "            # find Y := the element just great than X\n",
    "            while j >= 0 and nums[j] <= nums[i]:\n",
    "                j -= 1\n",
    "            # Swap X, Y\n",
    "            nums[i], nums[j] = nums[j], nums[i]\n",
    "\n",
    "        # reserve the tail\n",
    "        nums[i+1:] = nums[i+1:][::-1]\n",
    "       "
   ]
  },
  {
   "cell_type": "code",
   "execution_count": 63,
   "metadata": {},
   "outputs": [],
   "source": [
    "nums = [1,3,2]"
   ]
  },
  {
   "cell_type": "code",
   "execution_count": 64,
   "metadata": {},
   "outputs": [],
   "source": [
    "i = len(nums)-2\n",
    "j = len(nums)-1\n",
    "while i>=0 and nums[i+1]>nums[i]:\n",
    "    i-=1"
   ]
  },
  {
   "cell_type": "code",
   "execution_count": 65,
   "metadata": {},
   "outputs": [],
   "source": [
    "if i>0:\n",
    "    while j>=0 and nums[i]>=nums[j]:\n",
    "        j-=1\n",
    "    nums[i], nums[j] = nums[j], nums[i]\n",
    "nums[i+1:] = nums[i+1:][::-1]"
   ]
  },
  {
   "cell_type": "code",
   "execution_count": 66,
   "metadata": {},
   "outputs": [
    {
     "data": {
      "text/plain": [
       "[1, 2, 3]"
      ]
     },
     "execution_count": 66,
     "metadata": {},
     "output_type": "execute_result"
    }
   ],
   "source": [
    "nums"
   ]
  },
  {
   "cell_type": "code",
   "execution_count": null,
   "metadata": {},
   "outputs": [],
   "source": []
  },
  {
   "cell_type": "code",
   "execution_count": 227,
   "metadata": {},
   "outputs": [],
   "source": [
    "i = len(nums)-2\n",
    "j = len(nums)-1\n",
    "while i>=0 and nums[i+1]<nums[i]:\n",
    "    i-=1\n",
    "\n",
    "if i>0:\n",
    "    while j>=0 and nums[j]<=nums[i]:\n",
    "        j-=1\n",
    "    \n",
    "    nums[i], nums[j] = nums[j], nums[i]\n",
    "nums[i+1:] = nums[i+1:][::-1]"
   ]
  },
  {
   "cell_type": "code",
   "execution_count": null,
   "metadata": {},
   "outputs": [],
   "source": []
  },
  {
   "cell_type": "code",
   "execution_count": 66,
   "metadata": {},
   "outputs": [
    {
     "data": {
      "text/plain": [
       "120"
      ]
     },
     "execution_count": 66,
     "metadata": {},
     "output_type": "execute_result"
    }
   ],
   "source": [
    "n"
   ]
  },
  {
   "cell_type": "markdown",
   "metadata": {},
   "source": [
    "## Previous Permutation\n",
    "https://leetcode.com/problems/previous-permutation-with-one-swap/submissions/"
   ]
  },
  {
   "cell_type": "code",
   "execution_count": 92,
   "metadata": {},
   "outputs": [
    {
     "data": {
      "text/plain": [
       "[3, 1, 2]"
      ]
     },
     "execution_count": 92,
     "metadata": {},
     "output_type": "execute_result"
    }
   ],
   "source": [
    "# Practice\n",
    "# Logic\n",
    "# Come again\n",
    "class Solution:\n",
    "    def prevPermOpt1(self, nums: List[int]) -> List[int]:\n",
    "        j = i = len(nums) - 1\n",
    "        while i > 0 and nums[i-1] <= nums[i]:\n",
    "            i -= 1\n",
    "        if i > 0:\n",
    "            while j > i and (nums[i-1] <= nums[j] or nums[j-1] == nums[j]):\n",
    "                j -= 1\n",
    "            nums[i-1], nums[j] = nums[j], nums[i-1]\n",
    "        return nums"
   ]
  },
  {
   "cell_type": "markdown",
   "metadata": {},
   "source": [
    "\n",
    "## Problem - 43\n",
    "\n",
    "https://leetcode.com/problems/minimum-window-substring/solution/"
   ]
  },
  {
   "cell_type": "code",
   "execution_count": 55,
   "metadata": {},
   "outputs": [],
   "source": [
    "\n",
    "from collections import Counter\n",
    "\n",
    "def Condition(t, te):\n",
    "    if len(set(t)-set(te))==0 :\n",
    "        ted = Counter(te)\n",
    "        td = Counter(t)\n",
    "        print(ted, td)\n",
    "        for key in td.keys():\n",
    "            ted[key] -=td[key]\n",
    "        if all([i>=0 for i in ted.values()]):\n",
    "            print(ted)\n",
    "            return True\n",
    "    return False\n",
    "s = \"babb\"\n",
    "t = \"baba\"\n",
    "\n",
    "for i in range(len(t), len(s)):\n",
    "    for j in range(0, len(s)-i+1):\n",
    "        te = s[j:j+i]\n",
    "        print(te, t)\n",
    "        if Condition(t, te):\n",
    "            print(''.join(sorted(te)))\n",
    "            print( te)"
   ]
  },
  {
   "cell_type": "code",
   "execution_count": 73,
   "metadata": {},
   "outputs": [],
   "source": [
    "a = 'BANC'"
   ]
  },
  {
   "cell_type": "code",
   "execution_count": 75,
   "metadata": {},
   "outputs": [],
   "source": [
    "a = Counter(a)\n",
    "b = Counter(t)"
   ]
  },
  {
   "cell_type": "code",
   "execution_count": null,
   "metadata": {},
   "outputs": [],
   "source": [
    "len((set(a)))"
   ]
  },
  {
   "cell_type": "code",
   "execution_count": 78,
   "metadata": {},
   "outputs": [
    {
     "data": {
      "text/plain": [
       "True"
      ]
     },
     "execution_count": 78,
     "metadata": {},
     "output_type": "execute_result"
    }
   ],
   "source": [
    "all([a[k]>=b[k] for k in a.keys()])"
   ]
  },
  {
   "cell_type": "code",
   "execution_count": 71,
   "metadata": {},
   "outputs": [
    {
     "data": {
      "text/plain": [
       "False"
      ]
     },
     "execution_count": 71,
     "metadata": {},
     "output_type": "execute_result"
    }
   ],
   "source": [
    "condition('BANC', t)"
   ]
  },
  {
   "cell_type": "code",
   "execution_count": 80,
   "metadata": {},
   "outputs": [],
   "source": [
    "s = \"ADOBECODEBANC\"\n",
    "t = \"ABC\"\n",
    "from collections import Counter\n",
    "def condition(a,b):\n",
    "    if len(set(b)-set(a))==0:\n",
    "        a = Counter(a)\n",
    "        b = Counter(b)\n",
    "        return all(a[k]>=b[k] for k in a.keys())\n",
    "    return False\n",
    "for j in range(len(t), len(s)):\n",
    "    for i in range(len(s)-len(t)):\n",
    "        te = s[i:i+j]\n",
    "        print(te)\n",
    "        if condition(te, t):\n",
    "            print('got')\n"
   ]
  },
  {
   "cell_type": "markdown",
   "metadata": {},
   "source": [
    "## Problem -44\n",
    "\n",
    "https://leetcode.com/problems/balance-a-binary-search-tree/submissions/"
   ]
  },
  {
   "cell_type": "code",
   "execution_count": null,
   "metadata": {},
   "outputs": [],
   "source": [
    "class Solution:\n",
    "    def balanceBST(self, root: TreeNode) -> TreeNode:\n",
    "        self.stack = []\n",
    "        node = root\n",
    "        def dfs1(node):\n",
    "            if node is None:\n",
    "                return None\n",
    "            self.stack.append(node.val)\n",
    "            dfs1(node.left)\n",
    "            dfs1(node.right)\n",
    "        dfs1(node)    \n",
    "        self.stack.sort()\n",
    "        \n",
    "        print(self.stack)\n",
    "    \n",
    "        def dfs(s):\n",
    "            if not s:\n",
    "                return\n",
    "            node = TreeNode(s[len(s)//2])\n",
    "            node.left = dfs(s[:len(s)//2])\n",
    "            node.right = dfs(s[(len(s)//2)+1:])\n",
    "            return node\n",
    "        node = dfs(self.stack)\n",
    "        return node\n",
    "        # while len(stack)<1:\n",
    "        "
   ]
  },
  {
   "cell_type": "code",
   "execution_count": 1,
   "metadata": {},
   "outputs": [],
   "source": [
    "from itertools import permutations"
   ]
  },
  {
   "cell_type": "code",
   "execution_count": 13,
   "metadata": {},
   "outputs": [
    {
     "data": {
      "text/plain": [
       "120"
      ]
     },
     "execution_count": 13,
     "metadata": {},
     "output_type": "execute_result"
    }
   ],
   "source": [
    "len(list(permutations(a)))"
   ]
  },
  {
   "cell_type": "markdown",
   "metadata": {},
   "source": [
    "## Problem - 45\n",
    "\n",
    "https://leetcode.com/problems/lru-cache/submissions/"
   ]
  },
  {
   "cell_type": "code",
   "execution_count": null,
   "metadata": {},
   "outputs": [],
   "source": [
    "# Come again\n",
    "# Ordered Dict\n",
    "class LRUCache:\n",
    "\n",
    "    def __init__(self, capacity: int):\n",
    "        self.cacheSz = capacity\n",
    "        self.cache = OrderedDict()\n",
    "\n",
    "    def get(self, key: int) -> int:\n",
    "        if key not in self.cache:\n",
    "            return -1\n",
    "\n",
    "        value = self.cache[key]\n",
    "        self.refreshCache(key)\n",
    "\n",
    "        return value\n",
    "\n",
    "    def put(self, key: int, value: int) -> None:\n",
    "        if self.cacheIsFull() and key not in self.cache:\n",
    "            self.cache.popitem(False)\n",
    "        if key in self.cache:\n",
    "            self.refreshCache(key)\n",
    "\n",
    "        self.cache[key] = value\n",
    "\n",
    "    # check if cache if full.\n",
    "    def cacheIsFull(self):\n",
    "        return len(self.cache) == self.cacheSz\n",
    "\n",
    "     # move current key to the end of cache \n",
    "    def refreshCache(self, key):\n",
    "        self.cache.move_to_end(key, True)"
   ]
  },
  {
   "cell_type": "code",
   "execution_count": 82,
   "metadata": {},
   "outputs": [],
   "source": [
    "# get, put, isufull, refreshey"
   ]
  },
  {
   "cell_type": "code",
   "execution_count": null,
   "metadata": {},
   "outputs": [],
   "source": []
  },
  {
   "cell_type": "code",
   "execution_count": null,
   "metadata": {},
   "outputs": [],
   "source": [
    "from collections import OrderedDict\n",
    "class LRUCache:\n",
    "    def __init__(self, stack=[], capacity=0):\n",
    "        self.stack = OrderedDict()\n",
    "        self.capacity = capacity\n",
    "    def get(self, key):\n",
    "        \n",
    "        if key in self.stack.keys():\n",
    "            self.refreshcache(key)\n",
    "            return self.stack.pop(key)\n",
    "        else:\n",
    "            return -1\n",
    "    def put(self, key, val):\n",
    "        if self.capacity==len(self.stack) and key not in self.stack:\n",
    "            self.stack.popitem(False)\n",
    "            print('stack full')\n",
    "        self.stack[key] = val\n",
    "        if key in self.stack:\n",
    "            self.stack.move_to_end(key)\n",
    "\n",
    "    def refreshcache(self, key):\n",
    "        if key in self.stack.keys():\n",
    "            self.stack.move_to_end(key, True)"
   ]
  },
  {
   "cell_type": "code",
   "execution_count": 230,
   "metadata": {},
   "outputs": [],
   "source": [
    "from collections import OrderedDict"
   ]
  },
  {
   "cell_type": "code",
   "execution_count": 231,
   "metadata": {},
   "outputs": [],
   "source": [
    "a = OrderedDict({1:123212, 2:'123213'})"
   ]
  },
  {
   "cell_type": "code",
   "execution_count": 233,
   "metadata": {},
   "outputs": [],
   "source": [
    "a.move_to_end(2)"
   ]
  },
  {
   "cell_type": "markdown",
   "metadata": {},
   "source": [
    "## Problem - 46\n",
    "https://leetcode.com/problems/combination-sum/submissions/\n"
   ]
  },
  {
   "cell_type": "code",
   "execution_count": null,
   "metadata": {},
   "outputs": [],
   "source": [
    "## Logic \n",
    "# Practice\n",
    "# Recursion\n",
    "\n",
    "Input: candidates = [2,3,5], target = 8\n",
    "Output: [[2,2,2,2],[2,3,3],[3,5]]\n",
    "    \n",
    "    \n",
    "self.result = []\n",
    "def dfs(candidates, target, res):\n",
    "    if target == 0:\n",
    "        self.result.append(res)\n",
    "    for i in range(len(candidates)):\n",
    "        candi = candidates[i]\n",
    "        if candi <= target:\n",
    "            dfs(candidates[i : ], target - candi, res + [candi])\n",
    "dfs(candidates, target, [])\n",
    "return self.result\n"
   ]
  },
  {
   "cell_type": "code",
   "execution_count": 104,
   "metadata": {},
   "outputs": [],
   "source": [
    "candidates = [2,3,5]\n",
    "target = 8"
   ]
  },
  {
   "cell_type": "markdown",
   "metadata": {},
   "source": [
    "\n",
    "## Problem - 47\n",
    "\n",
    "https://leetcode.com/problems/combination-sum/submissions/\n"
   ]
  },
  {
   "cell_type": "code",
   "execution_count": null,
   "metadata": {},
   "outputs": [],
   "source": [
    "# Recursion\n",
    "def sovler(arr, res, path):\n",
    "    if len(arr) == 0:\n",
    "        res.append(path)\n",
    "        return\n",
    "\n",
    "    i = 0\n",
    "    a = dic[int(arr[i])]\n",
    "    for j in a:\n",
    "        sovler(arr[i+1:], res, path+j)\n",
    "\n",
    "sovler(digits,res,'')\n",
    "return res\n",
    "\n",
    "\n",
    "\n",
    "\n",
    "## Approach\n",
    "\n",
    "di = dict(zip([str(i) for i in range(2,10)],['abc','def','ghi','jkl','mno','pqrs','tuv','wxyz']))\n",
    "if len(digits)==0:\n",
    "    return []\n",
    "res = ['']\n",
    "for d in digits:\n",
    "    te =[]\n",
    "    for j in di[d]:\n",
    "        for k in res:\n",
    "            te.append(k+j)\n",
    "    res.extend(te)\n",
    "\n",
    "res = [r for r in res if len(r)==len(digits)]\n",
    "return res\n",
    "\n"
   ]
  },
  {
   "cell_type": "markdown",
   "metadata": {},
   "source": [
    "## problem - 48\n",
    "https://leetcode.com/problems/maximum-swap/"
   ]
  },
  {
   "cell_type": "code",
   "execution_count": 87,
   "metadata": {},
   "outputs": [
    {
     "data": {
      "text/plain": [
       "True"
      ]
     },
     "execution_count": 87,
     "metadata": {},
     "output_type": "execute_result"
    }
   ],
   "source": [
    "class Solution:\n",
    "    def maximumSwap(self, num: int) -> int:\n",
    "        \n",
    "        A = list(str(num))\n",
    "        ans = A[:]\n",
    "        \n",
    "        for i in range(len(A)):\n",
    "            for j in range(i, len(A)):\n",
    "                A[i], A[j] = A[j], A[i]\n",
    "                if A >ans:\n",
    "                    ans = A.copy()\n",
    "                A[i], A[j] = A[j], A[i]\n",
    "                \n",
    "        return int(''.join(ans))\n",
    "        \n",
    "        \n",
    "        "
   ]
  },
  {
   "cell_type": "markdown",
   "metadata": {},
   "source": [
    "## Problem - 50\n",
    "\n",
    "https://github.com/donnemartin/interactive-coding-challenges/blob/master/recursion_dynamic/longest_common_subsequence/longest_common_subseq_solution.ipynb"
   ]
  },
  {
   "cell_type": "markdown",
   "metadata": {},
   "source": [
    "https://leetcode.com/problems/longest-substring-with-at-most-k-distinct-characters/"
   ]
  },
  {
   "cell_type": "code",
   "execution_count": 112,
   "metadata": {},
   "outputs": [],
   "source": [
    "\n",
    "str0 = 'ABCDEFGHIJ'\n",
    "str1 = 'FOOBCDBCDE'\n",
    "m = [[None]*len(str0) for i in range(len(str1))]\n",
    "\n",
    "\n",
    "\n",
    "                       str1\n",
    "  -------------------------------------------------\n",
    "  |   |   | A | B | C | D | E | F | G | H | I | J |ds\n",
    "  -------------------------------------------------\n",
    "  |   | 0 | 0 | 0 | 0 | 0 | 0 | 0 | 0 | 0 | 0 | 0 |\n",
    "  | F | 0 | 0 | 0 | 0 | 0 | 0 | 1 | 1 | 1 | 1 | 1 |\n",
    "  | O | 0 | 0 | 0 | 0 | 0 | 0 | 1 | 1 | 1 | 1 | 1 |\n",
    "s | O | 0 | 0 | 0 | 0 | 0 | 0 | 1 | 1 | 1 | 1 | 1 |\n",
    "t | B | 0 | 0 | 1 | 1 | 1 | 1 | 1 | 1 | 1 | 1 | 1 |\n",
    "r | C | 0 | 0 | 1 | 2 | 2 | 2 | 2 | 2 | 2 | 2 | 2 |\n",
    "0 | D | 0 | 0 | 1 | 2 | 3 | 3 | 3 | 3 | 3 | 3 | 3 |\n",
    "  | B | 0 | 0 | 1 | 2 | 3 | 3 | 3 | 3 | 3 | 3 | 3 |\n",
    "  | C | 0 | 0 | 1 | 2 | 3 | 3 | 3 | 3 | 3 | 3 | 3 |\n",
    "  | D | 0 | 0 | 1 | 2 | 3 | 3 | 3 | 3 | 3 | 3 | 3 |\n",
    "  | E | 0 | 0 | 1 | 2 | 3 | 4 | 4 | 4 | 4 | 4 | 4 |\n",
    "  -------------------------------------------------\n"
   ]
  },
  {
   "cell_type": "code",
   "execution_count": 114,
   "metadata": {},
   "outputs": [],
   "source": [
    "for i in range(len(str0)):\n",
    "    for j in range(len(str1)):\n",
    "        if i==0 or j==0:\n",
    "            m[i][j]=0\n",
    "        elif str0[j-1]!=str1[i-1]:\n",
    "            m[i][j] = max(m[i][j-1], m[i-1][j])\n",
    "        else:\n",
    "            m[i][j] = m[i-1][j-1]+1\n",
    "            "
   ]
  },
  {
   "cell_type": "code",
   "execution_count": null,
   "metadata": {},
   "outputs": [],
   "source": [
    "class Solution:\n",
    "    def lengthOfLongestSubstringKDistinct(self, s: str, k: int) -> int:\n",
    "        #s = \"eceba\"\n",
    "        #k = 2\n",
    "        mx = 0\n",
    "        for i in range(len(s)):\n",
    "            for j in range(i+1, len(s)+1):\n",
    "                if (j-i)>mx and len(set(s[i:j]))<=k:\n",
    "                    mx = max(mx,j-i)\n",
    "        return mx\n",
    "    \n",
    "# Input: s = \"eceba\", k = 2\n",
    "# Output: 3\n",
    "# Explanation: The substring is \"ece\" with length 3.\n",
    "# class Solution:\n",
    "\n",
    "#     def lengthOfLongestSubstringKDistinct(self, s: str, k: int) -> int:\n",
    "\n",
    "#         counter = Counter()\n",
    "#         res, i, n = 0, 0, 0\n",
    "#         for j, c in enumerate(s):\n",
    "#             if counter[c] == 0:  # never seen before\n",
    "#                 n += 1\n",
    "#             counter[c] += 1\n",
    "            \n",
    "#             while n > k:\n",
    "#                 counter[s[i]] -= 1\n",
    "#                 if counter[s[i]] == 0:\n",
    "#                     n -= 1  \n",
    "#                 i += 1\n",
    "#             res = max(res, j - i + 1)\n",
    "#         print(res)\n",
    "#         return res"
   ]
  },
  {
   "cell_type": "code",
   "execution_count": 243,
   "metadata": {},
   "outputs": [
    {
     "data": {
      "text/plain": [
       "True"
      ]
     },
     "execution_count": 243,
     "metadata": {},
     "output_type": "execute_result"
    }
   ],
   "source": []
  },
  {
   "cell_type": "code",
   "execution_count": 249,
   "metadata": {},
   "outputs": [
    {
     "name": "stdout",
     "output_type": "stream",
     "text": [
      "0 1 e 1 1\n",
      "0 2 ec 2 2\n",
      "0 3 ece 3 2\n",
      "0 4 eceb 4 3\n",
      "1 2 c 1 1\n",
      "1 3 ce 2 2\n",
      "1 4 ceb 3 3\n",
      "2 3 e 1 1\n",
      "2 4 eb 2 2\n",
      "3 4 b 1 1\n"
     ]
    }
   ],
   "source": [
    "s = \"eceba\"\n",
    "k = 2\n",
    "mx = 1\n",
    "for i in range(len(s)):\n",
    "    for j in range(i+1, len(s)):\n",
    "        print(i,j, s[i:j], j-i, len(set(s[i:j])))\n",
    "        if (j-i)>mx and len(set(s[i:j]))<=k:\n",
    "            mx = max(mx,j-i)"
   ]
  },
  {
   "cell_type": "code",
   "execution_count": 250,
   "metadata": {},
   "outputs": [
    {
     "data": {
      "text/plain": [
       "3"
      ]
     },
     "execution_count": 250,
     "metadata": {},
     "output_type": "execute_result"
    }
   ],
   "source": [
    "mx"
   ]
  },
  {
   "cell_type": "markdown",
   "metadata": {},
   "source": [
    "## Problem - 51\n",
    "https://leetcode.com/problems/is-graph-bipartite/submissions/"
   ]
  },
  {
   "cell_type": "code",
   "execution_count": null,
   "metadata": {},
   "outputs": [],
   "source": [
    "## Connected Points\n",
    "class Solution:\n",
    "    def isBipartite(self, graph: List[List[int]]) -> bool:\n",
    "        n = len(graph)\n",
    "        colors = [-1] *n\n",
    "        colors[0] = 0\n",
    "        for i,e in enumerate(graph):\n",
    "            for nei in e:\n",
    "                if colors[nei] == colors[i] and colors[nei]!=-1:\n",
    "                    return False\n",
    "                if colors[nei] == -1:                    \n",
    "                    colors[nei] = 1-colors[i]                                  \n",
    "        return True"
   ]
  },
  {
   "cell_type": "code",
   "execution_count": 150,
   "metadata": {},
   "outputs": [],
   "source": [
    "graph = [[1,2,3],[0,2],[0,1,3],[0,2]]\n",
    "graph = [[1,3],[0,2],[1,3],[0,2]]"
   ]
  },
  {
   "cell_type": "code",
   "execution_count": 152,
   "metadata": {},
   "outputs": [],
   "source": [
    "graph = [[1,1,0],[0,1,0],[1,1,1]]"
   ]
  },
  {
   "cell_type": "code",
   "execution_count": 153,
   "metadata": {},
   "outputs": [
    {
     "name": "stdout",
     "output_type": "stream",
     "text": [
      "false\n",
      "[0, 1, -1]\n",
      "false\n",
      "[0, 1, -1]\n",
      "[0, 1, -1]\n"
     ]
    }
   ],
   "source": [
    "# Come again\n",
    "n = len(graph)\n",
    "colors = [-1] *n\n",
    "colors[0] = 0\n",
    "for i,e in enumerate(graph):\n",
    "    for nei in e:\n",
    "        if colors[nei] == colors[i] and colors[nei]!=-1:\n",
    "            print(\"false\")\n",
    "        if colors[nei] == -1:                    \n",
    "            colors[nei] = 1-colors[i]    \n",
    "    print(colors)"
   ]
  },
  {
   "cell_type": "code",
   "execution_count": null,
   "metadata": {},
   "outputs": [],
   "source": []
  },
  {
   "cell_type": "code",
   "execution_count": 781,
   "metadata": {},
   "outputs": [],
   "source": [
    "# nodes = list(set(sum(graph,[])))\n",
    "# graph = [sorted(i) for i in graph]\n",
    "\n",
    "# graph = sorted(graph)[::-1]\n",
    "# g = graph[0]       \n",
    "# visited = set(g)\n",
    "# stack = set(g)\n",
    "# while len(stack)>=1:\n",
    "#     p = stack.pop()\n",
    "#     print(p, stack, g)\n",
    "#     for g in graph:\n",
    "#         if len(visited)==len(nodes):\n",
    "#             return False\n",
    "#         if p in g:\n",
    "#             newelements = set(g)- visited - set([p])\n",
    "#             stack.update(newelements)\n",
    "#             print(p, g, stack, newelements, visited)\n",
    "#             visited.update(set(g))\n",
    "\n",
    "\n",
    "# print(visited)\n",
    "# return len(visited)<len(nodes)\n"
   ]
  },
  {
   "cell_type": "markdown",
   "metadata": {},
   "source": [
    "## Problem - 52\n",
    "\n",
    "https://leetcode.com/problems/strobogrammatic-number-ii/"
   ]
  },
  {
   "cell_type": "code",
   "execution_count": null,
   "metadata": {},
   "outputs": [],
   "source": [
    "pairs = (('1', '1'), ('6', '9'), ('8', '8'), ('9', '6'))\n",
    "\n",
    "class Solution:\n",
    "    def findStrobogrammatic(self, n: int) -> List[str]:\n",
    "        def generate(n, full):\n",
    "            if n == 0:\n",
    "                return ['']\n",
    "            if n == 1:\n",
    "                return ['0', '1', '8']\n",
    "            result = []\n",
    "            for mid in generate(n - 2, False):\n",
    "                for l, r in pairs:\n",
    "                    result.append(l + mid + r)\n",
    "                if not full:\n",
    "                    result.append('0' + mid + '0')\n",
    "            return result\n",
    "        return generate(n, True)"
   ]
  },
  {
   "cell_type": "code",
   "execution_count": null,
   "metadata": {},
   "outputs": [],
   "source": [
    "class Solution:\n",
    "    def findStrobogrammatic(self, n: int) -> List[str]:\n",
    "        \n",
    "        rt = dict([('1','1'), ('8','8'), ('9','6'), ('6','9'), ('0','0')])\n",
    "        strbs = ['1','0','6','9','8']\n",
    "        \n",
    "        import itertools\n",
    "        res = []\n",
    "        for co in itertools.product(strbs, repeat=n):\n",
    "            # print(co)\n",
    "            if [rt[i] for i in co][::-1]==list(co) and co[0]!='0':\n",
    "                res.append(''.join(co))\n",
    "    \n",
    "        if n!=1:\n",
    "            res = [r for r in res if int(r) >int('9'*(n-1))]\n",
    "            \n",
    "        print(sorted(res))\n",
    "        return res"
   ]
  },
  {
   "cell_type": "code",
   "execution_count": 100,
   "metadata": {},
   "outputs": [],
   "source": [
    "df = pd.read_excel(r'C:\\Users\\nagak\\Downloads\\smaple_test_data.xlsx')"
   ]
  },
  {
   "cell_type": "markdown",
   "metadata": {},
   "source": [
    "## Time intervals \n",
    "\n",
    "https://leetcode.com/problems/meeting-rooms-ii/submissions/\n"
   ]
  },
  {
   "cell_type": "code",
   "execution_count": 14,
   "metadata": {},
   "outputs": [],
   "source": [
    "# Come again\n",
    "intervals = [[0, 30], [5, 12], [9,16], [18, 20]]\n",
    "intervals.sort(key = lambda x:x[0])\n",
    "ends = [intervals[0][1]]\n",
    "for i in intervals[1:]:\n",
    "    if i[0]>=ends[0]:\n",
    "        ends.pop(0)\n",
    "    ends.append(i[1])\n",
    "    ends.sort()\n",
    "\n"
   ]
  },
  {
   "cell_type": "code",
   "execution_count": null,
   "metadata": {},
   "outputs": [],
   "source": [
    "# Recheck\n",
    "# Check optimal\n",
    "\n",
    "class Solution:\n",
    "    def minMeetingRooms(self, intervals: List[List[int]]) -> int:\n",
    "        timeslots = sum(intervals,[])\n",
    "        mn,mx = min(timeslots), max(timeslots)\n",
    "        interval = [list(range(i[0], i[1])) for i in intervals]\n",
    "        \n",
    "        rooms = 1\n",
    "        for i in range(mn, mx+1):\n",
    "            rooms = max(sum([i in ir for ir in interval]), rooms)\n",
    "        return rooms\n",
    "                \n",
    "                    \n",
    "                \n",
    "            "
   ]
  },
  {
   "cell_type": "code",
   "execution_count": null,
   "metadata": {},
   "outputs": [],
   "source": [
    "class Solution:\n",
    "    def minMeetingRooms(self, intervals: List[List[int]]) -> int:\n",
    "        starts=[]\n",
    "        ends=[]\n",
    "        res=end=0\n",
    "        for i in intervals:\n",
    "            starts.append(i[0])\n",
    "            ends.append(i[1])\n",
    "        starts.sort()\n",
    "        ends.sort()\n",
    "        for i in range(len(intervals)):\n",
    "            if starts[i]<ends[end]:\n",
    "                res+=1\n",
    "            else:\n",
    "                end+=1\n",
    "        return res"
   ]
  },
  {
   "cell_type": "markdown",
   "metadata": {},
   "source": [
    "## Min INTERVALS\n",
    "https://leetcode.com/problems/minimum-number-of-arrows-to-burst-balloons/"
   ]
  },
  {
   "cell_type": "code",
   "execution_count": 217,
   "metadata": {},
   "outputs": [],
   "source": [
    "points = [[10,16],[2,8],[1,6],[7,12]]"
   ]
  },
  {
   "cell_type": "code",
   "execution_count": 227,
   "metadata": {},
   "outputs": [
    {
     "name": "stdout",
     "output_type": "stream",
     "text": [
      "3 2\n",
      "5 4\n",
      "7 6\n"
     ]
    }
   ],
   "source": [
    "points = [[1,2],[3,4],[5,6],[7,8]]\n",
    "points.sort(key=lambda x: x[1])\n",
    "first_end = points[0][1]\n",
    "arrows=1\n",
    "for p in points[1:]:\n",
    "    print(p[0], first_end)\n",
    "    if p[0]> first_end:\n",
    "        arrows+=1\n",
    "        first_end = p[1]\n"
   ]
  },
  {
   "cell_type": "code",
   "execution_count": 228,
   "metadata": {},
   "outputs": [
    {
     "data": {
      "text/plain": [
       "4"
      ]
     },
     "execution_count": 228,
     "metadata": {},
     "output_type": "execute_result"
    }
   ],
   "source": [
    "arrows"
   ]
  },
  {
   "cell_type": "code",
   "execution_count": null,
   "metadata": {},
   "outputs": [],
   "source": [
    "\n",
    "# sort by x_end\n",
    "points.sort(key = lambda x : x[1])\n",
    "\n",
    "arrows = 1\n",
    "first_end = points[0][1]\n",
    "for x_start, x_end in points:\n",
    "    # if the current balloon starts after the end of another one,\n",
    "    # one needs one more arrow\n",
    "    if first_end < x_start:\n",
    "        arrows += 1\n",
    "        first_end = x_end"
   ]
  },
  {
   "cell_type": "markdown",
   "metadata": {},
   "source": [
    "## Problem - 54"
   ]
  },
  {
   "cell_type": "code",
   "execution_count": 145,
   "metadata": {},
   "outputs": [],
   "source": [
    "n = 10\n",
    "k = [[0]*n for _ in range(n)]\n",
    "for i in range(n):\n",
    "    for j in range(n):\n",
    "        k[i][j] = (i,j)\n",
    "        \n",
    "seen= set()\n",
    "vals = []\n",
    "for i in range(round(n/2)):\n",
    "    for j in k[i]:\n",
    "        if j not in seen:\n",
    "            seen.add(j)\n",
    "            vals.append(j)\n",
    "    for j in [j[n-i-1] for j in k]:\n",
    "        if j not in seen:\n",
    "            seen.add(j)\n",
    "            vals.append(j)\n",
    "    for j in reversed(k[n-i-1]):\n",
    "        if j not in seen:\n",
    "            seen.add(j)\n",
    "            vals.append(j)\n",
    "\n",
    "    for j in reversed([j[i] for j in k]):\n",
    "        if j not in seen:\n",
    "            seen.add(j)\n",
    "            vals.append(j)"
   ]
  },
  {
   "cell_type": "code",
   "execution_count": 146,
   "metadata": {},
   "outputs": [],
   "source": [
    "di = dict(zip(range(n**2), vals))\n",
    "for key,i in di.items():\n",
    "    k[i[0]][i[1]]= key"
   ]
  },
  {
   "cell_type": "code",
   "execution_count": 147,
   "metadata": {},
   "outputs": [
    {
     "data": {
      "text/plain": [
       "[[0, 1, 2, 3, 4, 5, 6, 7, 8, 9],\n",
       " [35, 36, 37, 38, 39, 40, 41, 42, 43, 10],\n",
       " [34, 63, 64, 65, 66, 67, 68, 69, 44, 11],\n",
       " [33, 62, 83, 84, 85, 86, 87, 70, 45, 12],\n",
       " [32, 61, 82, 95, 96, 97, 88, 71, 46, 13],\n",
       " [31, 60, 81, 94, 99, 98, 89, 72, 47, 14],\n",
       " [30, 59, 80, 93, 92, 91, 90, 73, 48, 15],\n",
       " [29, 58, 79, 78, 77, 76, 75, 74, 49, 16],\n",
       " [28, 57, 56, 55, 54, 53, 52, 51, 50, 17],\n",
       " [27, 26, 25, 24, 23, 22, 21, 20, 19, 18]]"
      ]
     },
     "execution_count": 147,
     "metadata": {},
     "output_type": "execute_result"
    }
   ],
   "source": [
    "k"
   ]
  },
  {
   "cell_type": "markdown",
   "metadata": {},
   "source": [
    "## Problem - 56\n",
    "https://leetcode.com/problems/find-all-anagrams-in-a-string/"
   ]
  },
  {
   "cell_type": "code",
   "execution_count": null,
   "metadata": {},
   "outputs": [],
   "source": [
    "class Solution:\n",
    "    def findAnagrams(self, s: str, p: str) -> List[int]:\n",
    "        \n",
    "        import itertools\n",
    "        \n",
    "        starts =[]\n",
    "        for l in itertools.permutations(p, len(p)):\n",
    "            for i in range(len(s)-len(p)):\n",
    "                print(''.join(l), s[i:i+len(p)], ''.join(l)==s[i:i+len(p)])\n",
    "                if s[i:i+len(p)]==''.join(l):\n",
    "                    print(''.join(l))\n",
    "                    starts.append(i)\n",
    "                    \n",
    "        print(starts)"
   ]
  },
  {
   "cell_type": "code",
   "execution_count": 41,
   "metadata": {
    "scrolled": true
   },
   "outputs": [],
   "source": [
    "import itertools\n",
    "s = \"cbaebabacd\"\n",
    "p = \"abc\"\n",
    "starts =[]\n",
    "# for l in itertools.permutations(p, len(p)):\n",
    "#     for i in range(len(s)-len(p)):\n",
    "#         #print(''.join(l), s[i:i+len(p)], ''.join(l)==s[i:i+len(p)])\n",
    "#         if s[i:i+len(p)]==''.join(l):\n",
    "#             print(''.join(l))\n",
    "#             starts.append(i)\n",
    "sw = [0]*len(p)\n",
    "anagrams = []\n",
    "for ind, i in enumerate(s):\n",
    "    if i in p:\n",
    "        sw[p.index(i)]=1\n",
    "        if sum(sw)==len(sw):\n",
    "            anagrams.append(ind-len(p)+1)\n",
    "            sw = [0]*len(sw)"
   ]
  },
  {
   "cell_type": "code",
   "execution_count": 42,
   "metadata": {},
   "outputs": [
    {
     "data": {
      "text/plain": [
       "[0, 6]"
      ]
     },
     "execution_count": 42,
     "metadata": {},
     "output_type": "execute_result"
    }
   ],
   "source": [
    "anagrams"
   ]
  },
  {
   "cell_type": "code",
   "execution_count": 46,
   "metadata": {},
   "outputs": [],
   "source": [
    "from collections import Counter\n",
    "a  =Counter(list(s))"
   ]
  },
  {
   "cell_type": "code",
   "execution_count": 47,
   "metadata": {},
   "outputs": [
    {
     "data": {
      "text/plain": [
       "[('b', 3), ('a', 3)]"
      ]
     },
     "execution_count": 47,
     "metadata": {},
     "output_type": "execute_result"
    }
   ],
   "source": [
    "a.most_common(2)"
   ]
  },
  {
   "cell_type": "markdown",
   "metadata": {},
   "source": [
    "https://www.algoexpert.io/questions/Group%20Anagrams"
   ]
  },
  {
   "cell_type": "code",
   "execution_count": null,
   "metadata": {},
   "outputs": [],
   "source": [
    "def groupAnagrams(words):\n",
    "    # Write your code here.\n",
    "    words1 = [''.join(sorted(w)) for w in words]\n",
    "    te = []\n",
    "    for w in words1:\n",
    "        if w not in te:\n",
    "            te.append(w)\n",
    "    words = [[w for w, w1 in zip(words, words1) if w1==grp] for grp in te]\n",
    "    return words"
   ]
  },
  {
   "cell_type": "markdown",
   "metadata": {},
   "source": [
    "## Temperatures\n",
    "https://leetcode.com/problems/daily-temperatures/submissions/"
   ]
  },
  {
   "cell_type": "code",
   "execution_count": 123,
   "metadata": {},
   "outputs": [],
   "source": [
    "class Solution:\n",
    "    def dailyTemperatures(self, T: List[int]) -> List[int]:\n",
    "        res = []\n",
    "        for i in range(len(T)):\n",
    "            j = 0\n",
    "            if any([l>T[i] for l in T[i+1:]]):\n",
    "                for t in T[i+1:]:\n",
    "                    j+=1\n",
    "                    if t>T[i]:\n",
    "                        break\n",
    "                    \n",
    "                res.append(j)\n",
    "            else:\n",
    "                res.append(j)\n",
    "        return res\n",
    "                \n",
    "        \n",
    "\n",
    "# def dailyTemperatures(self, T: List[int]) -> List[int]:\n",
    "#         st = []\n",
    "#         results = [0]*len(T)\n",
    "#         level = 0\n",
    "#         for idx, temp in enumerate(T):\n",
    "#             while st and temp > st[-1][1]:\n",
    "#                 inner_idx =  st.pop()[0]\n",
    "#                 results[inner_idx] = idx - inner_idx\n",
    "#             st.append((idx, temp))\n",
    "#         return results"
   ]
  },
  {
   "cell_type": "code",
   "execution_count": 109,
   "metadata": {
    "scrolled": true
   },
   "outputs": [
    {
     "data": {
      "text/plain": [
       "25"
      ]
     },
     "execution_count": 109,
     "metadata": {},
     "output_type": "execute_result"
    }
   ],
   "source": [
    "nums[len(gap)-1]+k-gap[-1]"
   ]
  },
  {
   "cell_type": "markdown",
   "metadata": {},
   "source": [
    "# Tries"
   ]
  },
  {
   "cell_type": "markdown",
   "metadata": {},
   "source": [
    "## Problem - 57\n",
    "\n",
    "https://leetcode.com/problems/remove-sub-folders-from-the-filesystem/"
   ]
  },
  {
   "cell_type": "code",
   "execution_count": null,
   "metadata": {},
   "outputs": [],
   "source": [
    "class TrieNode:\n",
    "    def __init__(self, val=None, children={}, isleaf=False):\n",
    "        self.val =val\n",
    "        self.children= children\n",
    "        self.isleaf = isleaf\n",
    "def ConstructTrie(path):\n",
    "    if len(path)==0:\n",
    "        return None\n",
    "    \n",
    "    splits = path.split('/')\n",
    "    node = TrieNode(splits[0])\n"
   ]
  },
  {
   "cell_type": "code",
   "execution_count": null,
   "metadata": {},
   "outputs": [],
   "source": [
    "# Practice\n",
    "# Logic\n",
    "class TrieNode:\n",
    "    def __init__(self, val, isleaf=False, children={}):\n",
    "        self.val = val\n",
    "        self.isleaf = isleaf\n",
    "        self.children = {}\n",
    "        \n",
    "class Solution:\n",
    "    def removeSubfolders(self, folder: List[str]) -> List[str]:\n",
    "        \n",
    "        root = TrieNode('#')\n",
    "        for path in folder:\n",
    "            node = root\n",
    "            fs = path.strip('/').split('/')\n",
    "            for i, f in enumerate(fs):\n",
    "                if f not in node.children.keys():\n",
    "                    node.children[f] = TrieNode(f)\n",
    "                \n",
    "                node = node.children[f]\n",
    "                if i==(len(fs)-1):\n",
    "                    node.isleaf=True\n",
    "                    break\n",
    "        \n",
    "        def dfs(node, p):\n",
    "            if node.isleaf:\n",
    "                res.append((p+'/'+node.val)[2:])\n",
    "                return\n",
    "            \n",
    "            for c in node.children.keys():\n",
    "                dfs(node.children[c], p+'/'+node.val)\n",
    "        res = []\n",
    "        dfs(root, '')\n",
    "        print(res)\n",
    "        \n",
    "        return res\n",
    "class TrieNode:\n",
    "    def __init__(self, val: str, isLeaf: bool = False):\n",
    "        self.val = val\n",
    "        self.isLeaf = isLeaf\n",
    "        self.children = {}"
   ]
  },
  {
   "cell_type": "code",
   "execution_count": 1,
   "metadata": {},
   "outputs": [],
   "source": [
    "s = \"dir\\n\\tsubdir1\\n\\t\\tfile1.ext\\n\\t\\tsubsubdir1\\n\\tsubdir2\\n\\t\\tsubsubdir2\\n\\t\\t\\tfile2.ext\""
   ]
  },
  {
   "cell_type": "code",
   "execution_count": 144,
   "metadata": {},
   "outputs": [
    {
     "name": "stdout",
     "output_type": "stream",
     "text": [
      "['', 'a']\n",
      "['', 'a', 'b']\n",
      "['', 'c', 'd']\n",
      "['', 'c', 'd', 'e']\n",
      "['', 'c', 'f']\n"
     ]
    }
   ],
   "source": [
    "for i in [\"/a\",\"/a/b\",\"/c/d\",\"/c/d/e\",\"/c/f\"]:\n",
    "    print(i.split('/'))"
   ]
  },
  {
   "cell_type": "code",
   "execution_count": 26,
   "metadata": {},
   "outputs": [],
   "source": [
    "def deserialize(s):\n",
    "    a = s.split('\\n')[1:]\n",
    "    base = a[0].count('\\t')\n",
    "    b = [int(i.count('\\t')==base) for i in a]\n",
    "    for i in range(1,len(b)):\n",
    "        b[i] = b[i]+b[i-1]\n",
    "\n",
    "    return ['\\n'.join([j for Id, j in zip(b, a) if Id==i]) for i in set(b)]"
   ]
  },
  {
   "cell_type": "code",
   "execution_count": 36,
   "metadata": {},
   "outputs": [
    {
     "data": {
      "text/plain": [
       "['\\tsubdir1\\n\\t\\tfile1.ext\\n\\t\\tsubsubdir1',\n",
       " '\\tsubdir2\\n\\t\\tsubsubdir2\\n\\t\\t\\tfile2.ext']"
      ]
     },
     "execution_count": 36,
     "metadata": {},
     "output_type": "execute_result"
    }
   ],
   "source": []
  },
  {
   "cell_type": "code",
   "execution_count": 112,
   "metadata": {},
   "outputs": [],
   "source": [
    "folder = [\"/a\",\"/a/b\",\"/c/d\",\"/c/d/e\",\"/c/f\"]"
   ]
  },
  {
   "cell_type": "code",
   "execution_count": 113,
   "metadata": {},
   "outputs": [],
   "source": [
    "class TrieNode:\n",
    "    def __init__(self, val, isleaf=False, children={}):\n",
    "        self.val = val\n",
    "        self.isleaf = isleaf\n",
    "        self.children = {}\n",
    "        \n",
    "    \n",
    "\n",
    "root = TrieNode('#')\n",
    "for path in folder:\n",
    "    node = root\n",
    "    for i,f in enumerate(path.split('/')):\n",
    "        if f=='':\n",
    "            continue\n",
    "        if f not in node.children:\n",
    "            node.children[f] = TrieNode(f)\n",
    "        node = node.children[f]\n",
    "        if i==len(path.split('/'))-1:\n",
    "            node.isleaf=True\n",
    "        if node.isleaf:\n",
    "            break\n",
    "            \n",
    "paths = []\n",
    "def dfs(node, path):\n",
    "    if node.isleaf:\n",
    "        path = path+'/'+ node.val\n",
    "        paths.append(path)\n",
    "        return\n",
    "    #print(node.val)\n",
    "    path = path +'/'+node.val\n",
    "    for node in node.children.values():\n",
    "        print(node.val)\n",
    "        dfs(node, path)"
   ]
  },
  {
   "cell_type": "markdown",
   "metadata": {},
   "source": [
    "https://www.algoexpert.io/questions/Multi%20String%20Search"
   ]
  },
  {
   "cell_type": "code",
   "execution_count": 141,
   "metadata": {
    "scrolled": true
   },
   "outputs": [
    {
     "data": {
      "text/plain": [
       "[True, False, True, True, False, True, False]"
      ]
     },
     "execution_count": 141,
     "metadata": {},
     "output_type": "execute_result"
    }
   ],
   "source": [
    "\n",
    "class Trie:\n",
    "    def __init__(self, val, children={}):\n",
    "        self.val = val\n",
    "        self.children = {}\n",
    "    \n",
    "        \n",
    "root = Trie('#')\n",
    "node = root\n",
    "for i in (b):\n",
    "    if i not in node.children:\n",
    "        node.children[i] = Trie(i)\n",
    "        #print('in ', i)\n",
    "    node = node.children[i]\n",
    "\n",
    "def check(node, w):\n",
    "    if len(w)==0:\n",
    "        return True\n",
    "    if w[0] in node.children.keys():\n",
    "        flag = check(node.children[w[0]], w[1:])\n",
    "        return flag\n",
    "    return False\n",
    "        \n",
    "    \n",
    "def dfs(node, w):\n",
    "    if node is None:\n",
    "        return \n",
    "    global flag\n",
    "    if w[0] in node.children.keys():\n",
    "        if check(node, w):\n",
    "            flag=True\n",
    "            return\n",
    "    for ch in node.children.keys():\n",
    "        dfs(node.children[ch], w)\n",
    "res = []\n",
    "for w in s:\n",
    "    flag=False\n",
    "    dfs(root, w)\n",
    "    res.append(flag)\n",
    "res"
   ]
  },
  {
   "cell_type": "markdown",
   "metadata": {},
   "source": [
    "## Check Cycle\n",
    "https://www.algoexpert.io/questions/Single%20Cycle%20Check"
   ]
  },
  {
   "cell_type": "code",
   "execution_count": 162,
   "metadata": {
    "scrolled": true
   },
   "outputs": [],
   "source": [
    "li = [2, 3, 1, -4, -4, 2]\n",
    "# d = {i:-1 for i in range(len(li))}\n",
    "def recur(li, k, r):\n",
    "    if len(r)==len(li):\n",
    "        return r\n",
    "\n",
    "    k = k+li[k]\n",
    "    k = k%len(li)\n",
    "    r = recur(li, k, r+[k])\n",
    "    return r\n",
    "d = recur(li, 0, [])\n",
    "\n",
    "len(set(d))==len(li)\n",
    "li = [10, 11, -6, -23, -2, 3, 88, 908, -26]\n"
   ]
  },
  {
   "cell_type": "code",
   "execution_count": null,
   "metadata": {},
   "outputs": [],
   "source": []
  },
  {
   "cell_type": "markdown",
   "metadata": {},
   "source": [
    "## Problem - 76\n",
    "https://leetcode.com/problems/valid-word-abbreviation/submissions/"
   ]
  },
  {
   "cell_type": "code",
   "execution_count": null,
   "metadata": {},
   "outputs": [],
   "source": [
    "def validWordAbbreviation(self, word: str, abbr: str) -> bool:\n",
    "        \n",
    "        i, j = 0, 0 \n",
    "        \n",
    "        while i < len(word) and j < len(abbr):\n",
    "            if abbr[j].isalpha():\n",
    "                if word[i]!=abbr[j]:\n",
    "                    return False\n",
    "                i += 1\n",
    "                j += 1\n",
    "            else:\n",
    "                if abbr[j]=='0':\n",
    "                    return False                \n",
    "                number=0\n",
    "                while j < len(abbr) and abbr[j].isdigit():\n",
    "                    number = number * 10 + int(abbr[j])\n",
    "                    j += 1\n",
    "                \n",
    "                i += number\n",
    "            \n",
    "        return i==len(word) and j == len(abbr)"
   ]
  },
  {
   "cell_type": "code",
   "execution_count": 174,
   "metadata": {},
   "outputs": [
    {
     "data": {
      "text/plain": [
       "['12', '4']"
      ]
     },
     "execution_count": 174,
     "metadata": {},
     "output_type": "execute_result"
    }
   ],
   "source": [
    "import re\n",
    "a = \"i12iz4n\"\n",
    "re.findall(r'(\\d+)', a)"
   ]
  },
  {
   "cell_type": "code",
   "execution_count": 134,
   "metadata": {},
   "outputs": [],
   "source": [
    "a = \"i12iz4n\"\n",
    "stack  = []\n",
    "te = ''\n",
    "for i in a:\n",
    "    if i.isdigit() and te!='':\n",
    "        te+=i\n",
    "    elif i.isdigit():\n",
    "        te = i\n",
    "    elif not i.isdigit() and te!='':\n",
    "        stack.append(te)\n",
    "        te = ''\n",
    "    else:\n",
    "        stack.append(i)\n",
    "        te=''\n",
    "        "
   ]
  },
  {
   "cell_type": "code",
   "execution_count": 141,
   "metadata": {},
   "outputs": [],
   "source": [
    "nums = sum([int(i) for i in stack if i.isdigit()]"
   ]
  },
  {
   "cell_type": "code",
   "execution_count": 143,
   "metadata": {},
   "outputs": [],
   "source": [
    "s = 'internationalization'"
   ]
  },
  {
   "cell_type": "code",
   "execution_count": 144,
   "metadata": {},
   "outputs": [
    {
     "data": {
      "text/plain": [
       "20"
      ]
     },
     "execution_count": 144,
     "metadata": {},
     "output_type": "execute_result"
    }
   ],
   "source": [
    "len(s)"
   ]
  },
  {
   "cell_type": "markdown",
   "metadata": {},
   "source": [
    "## Ranges Difference Group\n",
    "https://leetcode.com/problems/summary-ranges/"
   ]
  },
  {
   "cell_type": "code",
   "execution_count": 252,
   "metadata": {},
   "outputs": [],
   "source": [
    "# Difference Grouping Best\n",
    "nums = [0,1,2,4,5,7]\n",
    "a =[int((nums[1]-nums[0])>1)]+ [int((nums[i+1]-nums[i])>1) for i in range(len(nums)-1)]\n",
    "for i in range(1,len(a)):\n",
    "    a[i] = a[i]+a[i-1]\n",
    "\n",
    "sets = [[i for iD,i in zip(a, nums) if iD==j]  for j in set(a)]\n",
    "\n",
    "res = []\n",
    "for i in sets:\n",
    "    if len(i)==1:\n",
    "        res.append(str(i[0]))\n",
    "    else:\n",
    "        res.append(str(min(i))+'->'+str(max(i)))"
   ]
  },
  {
   "cell_type": "code",
   "execution_count": null,
   "metadata": {},
   "outputs": [],
   "source": []
  },
  {
   "cell_type": "code",
   "execution_count": 167,
   "metadata": {},
   "outputs": [],
   "source": [
    "nums = [0,1,2,4,5,7]\n",
    "g = []\n",
    "for i in  range(len(nums)-1):\n",
    "    g.append(int((nums[i+1]-nums[i])!=1))\n",
    "g = [int(nums[1]-nums[0]!=1)]+g\n",
    "r =0\n",
    "g1 = []\n",
    "for i in g:\n",
    "    r+=i\n",
    "    g1.append(r)\n",
    "grps = [[i for i,j in zip(nums, g1) if j==grp] for grp in set(g1)]"
   ]
  },
  {
   "cell_type": "code",
   "execution_count": 173,
   "metadata": {},
   "outputs": [],
   "source": []
  },
  {
   "cell_type": "code",
   "execution_count": 174,
   "metadata": {},
   "outputs": [
    {
     "data": {
      "text/plain": [
       "[[0, 1, 2], [4, 5], [7]]"
      ]
     },
     "execution_count": 174,
     "metadata": {},
     "output_type": "execute_result"
    }
   ],
   "source": [
    "grps"
   ]
  },
  {
   "cell_type": "markdown",
   "metadata": {},
   "source": [
    "## Other"
   ]
  },
  {
   "cell_type": "code",
   "execution_count": 95,
   "metadata": {},
   "outputs": [],
   "source": [
    "sentence1 = [\"great\",\"acting\",\"skills\"]\n",
    "sentence2 = [\"fine\",\"drama\",\"talent\"]\n",
    "similarPairs = [[\"great\",\"fine\"],[\"drama\",\"acting\"],[\"skills\",\"talent\"]]\n",
    "\n",
    "sd = dict(similarPairs)\n",
    "sd1 = dict([(i,j) for j,i in similarPairs])\n",
    "\n",
    "sent2 = [sd[i] if i in sd.keys() else sd1[i] for i in sentence2]\n",
    "sentence1.sort()\n",
    "\n",
    "sent2.sort()\n",
    "''.join(sentence1) == ''.join(sent2)"
   ]
  },
  {
   "cell_type": "markdown",
   "metadata": {},
   "source": [
    "## Valid Sqaure\n",
    "\n",
    "https://leetcode.com/problems/valid-perfect-square/"
   ]
  },
  {
   "cell_type": "code",
   "execution_count": null,
   "metadata": {},
   "outputs": [],
   "source": [
    "# Logic\n",
    "# PRactice \n",
    "\n",
    "x = num // 2\n",
    "while x * x > num:\n",
    "    print(x)\n",
    "    x = (x + num // x) // 2\n",
    "#return x * x == num"
   ]
  },
  {
   "cell_type": "code",
   "execution_count": null,
   "metadata": {},
   "outputs": [],
   "source": []
  },
  {
   "cell_type": "code",
   "execution_count": 124,
   "metadata": {
    "scrolled": true
   },
   "outputs": [
    {
     "data": {
      "text/plain": [
       "3"
      ]
     },
     "execution_count": 124,
     "metadata": {},
     "output_type": "execute_result"
    }
   ],
   "source": [
    "num//17"
   ]
  },
  {
   "cell_type": "code",
   "execution_count": 160,
   "metadata": {
    "scrolled": true
   },
   "outputs": [],
   "source": [
    "def combs(li, target, res):\n",
    "    global results\n",
    "    if target==0:\n",
    "        results.append(res)\n",
    "    for i in range(len(li)):\n",
    "        if li[i] <=target:\n",
    "            combs(li, target-li[i], res+str(li[i]))\n",
    "results = []\n",
    "combs([1,2], 7, '')"
   ]
  },
  {
   "cell_type": "code",
   "execution_count": 161,
   "metadata": {},
   "outputs": [
    {
     "data": {
      "text/plain": [
       "['1111111',\n",
       " '111112',\n",
       " '111121',\n",
       " '111211',\n",
       " '11122',\n",
       " '112111',\n",
       " '11212',\n",
       " '11221',\n",
       " '121111',\n",
       " '12112',\n",
       " '12121',\n",
       " '12211',\n",
       " '1222',\n",
       " '211111',\n",
       " '21112',\n",
       " '21121',\n",
       " '21211',\n",
       " '2122',\n",
       " '22111',\n",
       " '2212',\n",
       " '2221']"
      ]
     },
     "execution_count": 161,
     "metadata": {},
     "output_type": "execute_result"
    }
   ],
   "source": [
    "results"
   ]
  },
  {
   "cell_type": "code",
   "execution_count": 46,
   "metadata": {},
   "outputs": [],
   "source": [
    "a = [6,2,3,4]"
   ]
  },
  {
   "cell_type": "code",
   "execution_count": 47,
   "metadata": {},
   "outputs": [],
   "source": [
    "target = 9"
   ]
  },
  {
   "cell_type": "code",
   "execution_count": 48,
   "metadata": {},
   "outputs": [],
   "source": [
    "result = []\n",
    "def dfs(li, res):\n",
    "    if sum(res)==target:\n",
    "        result.append(res)\n",
    "        return\n",
    "    if sum(res)>target:\n",
    "        return\n",
    "    for i in range(len(li)):\n",
    "        dfs(li[:i]+li[i+1:], res+[li[i]])"
   ]
  },
  {
   "cell_type": "code",
   "execution_count": 49,
   "metadata": {},
   "outputs": [],
   "source": [
    "dfs(a, [])"
   ]
  },
  {
   "cell_type": "code",
   "execution_count": 50,
   "metadata": {},
   "outputs": [
    {
     "data": {
      "text/plain": [
       "[[6, 3],\n",
       " [2, 3, 4],\n",
       " [2, 4, 3],\n",
       " [3, 6],\n",
       " [3, 2, 4],\n",
       " [3, 4, 2],\n",
       " [4, 2, 3],\n",
       " [4, 3, 2]]"
      ]
     },
     "execution_count": 50,
     "metadata": {},
     "output_type": "execute_result"
    }
   ],
   "source": [
    "result"
   ]
  },
  {
   "cell_type": "markdown",
   "metadata": {},
   "source": [
    "#  -------------------- Practice -------------------"
   ]
  },
  {
   "cell_type": "code",
   "execution_count": null,
   "metadata": {},
   "outputs": [],
   "source": []
  },
  {
   "cell_type": "code",
   "execution_count": 242,
   "metadata": {},
   "outputs": [],
   "source": []
  },
  {
   "cell_type": "code",
   "execution_count": 244,
   "metadata": {},
   "outputs": [],
   "source": []
  },
  {
   "cell_type": "code",
   "execution_count": 245,
   "metadata": {},
   "outputs": [
    {
     "data": {
      "text/plain": [
       "0"
      ]
     },
     "execution_count": 245,
     "metadata": {},
     "output_type": "execute_result"
    }
   ],
   "source": [
    "n"
   ]
  },
  {
   "cell_type": "code",
   "execution_count": null,
   "metadata": {},
   "outputs": [],
   "source": []
  },
  {
   "cell_type": "code",
   "execution_count": 52,
   "metadata": {},
   "outputs": [],
   "source": [
    "nums = [0,1, 0,0,1,1,0]"
   ]
  },
  {
   "cell_type": "code",
   "execution_count": 53,
   "metadata": {},
   "outputs": [],
   "source": [
    "for i in range(len(nums)):\n",
    "    if nums[i] == 0:\n",
    "        nums[i] = -1"
   ]
  },
  {
   "cell_type": "code",
   "execution_count": 54,
   "metadata": {},
   "outputs": [
    {
     "data": {
      "text/plain": [
       "[-1, 1, -1, -1, 1, 1, -1]"
      ]
     },
     "execution_count": 54,
     "metadata": {},
     "output_type": "execute_result"
    }
   ],
   "source": [
    "nums"
   ]
  },
  {
   "cell_type": "code",
   "execution_count": 55,
   "metadata": {
    "scrolled": true
   },
   "outputs": [
    {
     "name": "stdout",
     "output_type": "stream",
     "text": [
      "0 {0: -1}\n",
      "-1 {0: -1, -1: 0}\n",
      "0 {0: -1, -1: 0}\n",
      "-1 {0: -1, -1: 0}\n",
      "-2 {0: -1, -1: 0, -2: 3}\n",
      "-1 {0: -1, -1: 0, -2: 3}\n",
      "0 {0: -1, -1: 0, -2: 3}\n"
     ]
    }
   ],
   "source": []
  },
  {
   "cell_type": "code",
   "execution_count": null,
   "metadata": {},
   "outputs": [],
   "source": []
  },
  {
   "cell_type": "code",
   "execution_count": 51,
   "metadata": {},
   "outputs": [
    {
     "data": {
      "text/plain": [
       "6"
      ]
     },
     "execution_count": 51,
     "metadata": {},
     "output_type": "execute_result"
    }
   ],
   "source": [
    "max_l"
   ]
  },
  {
   "cell_type": "code",
   "execution_count": 196,
   "metadata": {},
   "outputs": [],
   "source": [
    "def search(nums, target):\n",
    "    start, end = 0, len(nums) - 1\n",
    "    while start <= end:\n",
    "        mid = start + (end - start) // 2\n",
    "        \n",
    "        if nums[mid] == target:\n",
    "            return mid\n",
    "        elif nums[mid] >= nums[start]:\n",
    "            if target >= nums[start] and target < nums[mid]:\n",
    "                end = mid - 1\n",
    "            else:\n",
    "                start = mid + 1\n",
    "        else:\n",
    "            if target <= nums[end] and target > nums[mid]:\n",
    "                start = mid + 1\n",
    "            else:\n",
    "                end = mid - 1\n",
    "    return -1"
   ]
  },
  {
   "cell_type": "code",
   "execution_count": 207,
   "metadata": {},
   "outputs": [],
   "source": [
    "nums = [4,5,6,7,0,1,2]\n",
    "target = 1"
   ]
  },
  {
   "cell_type": "code",
   "execution_count": 303,
   "metadata": {},
   "outputs": [],
   "source": [
    "n = 5\n",
    "k = 6\n",
    "arr = [1, 2, 3, 4, 3]\n",
    "output = 2"
   ]
  },
  {
   "cell_type": "code",
   "execution_count": null,
   "metadata": {},
   "outputs": [],
   "source": [
    "def combs(li, res):\n",
    "    if sum(li)%k==0 and li not in res and len(li)>0:\n",
    "        res.append(li)\n",
    "    if len(li)==0:\n",
    "        return\n",
    "    \n",
    "    for i in range(len(li)):\n",
    "        combs(li[:i]+li[i+1:], res)\n",
    "    return res"
   ]
  },
  {
   "cell_type": "code",
   "execution_count": 316,
   "metadata": {},
   "outputs": [],
   "source": [
    "def combs(li, res):\n",
    "    if len(li)==2 and sum(li)==target and sorted(li) not in res:\n",
    "        res.append(sorted(li))\n",
    "        return res\n",
    "    if len(li)==2:\n",
    "        return res\n",
    "    for i in range(len(li)):\n",
    "        res = combs(li[:i]+li[i+1:], res)\n",
    "    return res"
   ]
  },
  {
   "cell_type": "code",
   "execution_count": 317,
   "metadata": {},
   "outputs": [],
   "source": [
    "res = combs(arr, [])"
   ]
  },
  {
   "cell_type": "code",
   "execution_count": 318,
   "metadata": {},
   "outputs": [
    {
     "data": {
      "text/plain": [
       "[[3, 3], [2, 4]]"
      ]
     },
     "execution_count": 318,
     "metadata": {},
     "output_type": "execute_result"
    }
   ],
   "source": [
    "res"
   ]
  },
  {
   "cell_type": "code",
   "execution_count": 307,
   "metadata": {},
   "outputs": [],
   "source": [
    "# def combs(li, count, res):\n",
    "#     if sum(li)==target and count==0:\n",
    "#         res.append(li)\n",
    "#     for i in range(len(li)):\n",
    "#         combs(li[i:], count-1, res)"
   ]
  },
  {
   "cell_type": "code",
   "execution_count": 308,
   "metadata": {},
   "outputs": [],
   "source": [
    "target=6"
   ]
  },
  {
   "cell_type": "code",
   "execution_count": null,
   "metadata": {},
   "outputs": [],
   "source": []
  },
  {
   "cell_type": "code",
   "execution_count": null,
   "metadata": {},
   "outputs": [],
   "source": []
  },
  {
   "cell_type": "code",
   "execution_count": null,
   "metadata": {},
   "outputs": [],
   "source": []
  },
  {
   "cell_type": "code",
   "execution_count": null,
   "metadata": {},
   "outputs": [],
   "source": []
  },
  {
   "cell_type": "code",
   "execution_count": 399,
   "metadata": {},
   "outputs": [],
   "source": [
    "P = [3, 1, 2]"
   ]
  },
  {
   "cell_type": "code",
   "execution_count": 400,
   "metadata": {},
   "outputs": [],
   "source": [
    "i = len(P)-2\n",
    "j = len(P)-1"
   ]
  },
  {
   "cell_type": "code",
   "execution_count": 403,
   "metadata": {},
   "outputs": [
    {
     "data": {
      "text/plain": [
       "1"
      ]
     },
     "execution_count": 403,
     "metadata": {},
     "output_type": "execute_result"
    }
   ],
   "source": [
    "i"
   ]
  },
  {
   "cell_type": "code",
   "execution_count": 402,
   "metadata": {},
   "outputs": [],
   "source": [
    "while i>=0 and P[i+1]<=P[i]:\n",
    "    i-=1"
   ]
  },
  {
   "cell_type": "code",
   "execution_count": 404,
   "metadata": {},
   "outputs": [],
   "source": [
    "if i>=0:\n",
    "    while j>=0 and P[j]<=P[i]:\n",
    "        j-=1\n",
    "    P[i], P[j] = P[j], P[i]"
   ]
  },
  {
   "cell_type": "code",
   "execution_count": 393,
   "metadata": {},
   "outputs": [],
   "source": [
    "P[i+1:] = P[i+1:][::-1]"
   ]
  },
  {
   "cell_type": "code",
   "execution_count": 394,
   "metadata": {},
   "outputs": [
    {
     "data": {
      "text/plain": [
       "[3, 2, 1]"
      ]
     },
     "execution_count": 394,
     "metadata": {},
     "output_type": "execute_result"
    }
   ],
   "source": [
    "P"
   ]
  },
  {
   "cell_type": "code",
   "execution_count": null,
   "metadata": {},
   "outputs": [],
   "source": [
    "        n = len(nums)\n",
    "        i = n - 2\n",
    "        # find X := the first descrease element from the end\n",
    "        while i >= 0 and nums[i+1] <= nums[i]:\n",
    "            i -= 1\n",
    "\n",
    "        if i >= 0:\n",
    "            j = n - 1 \n",
    "            # find Y := the element just great than X\n",
    "            while j >= 0 and nums[j] <= nums[i]:\n",
    "                j -= 1\n",
    "            # Swap X, Y\n",
    "            nums[i], nums[j] = nums[j], nums[i]\n",
    "\n",
    "        # reserve the tail\n",
    "        nums[i+1:] = nums[i+1:][::-1]\n",
    "       "
   ]
  },
  {
   "cell_type": "code",
   "execution_count": 345,
   "metadata": {},
   "outputs": [
    {
     "data": {
      "text/plain": [
       "[3, 2, 1]"
      ]
     },
     "execution_count": 345,
     "metadata": {},
     "output_type": "execute_result"
    }
   ],
   "source": [
    "P"
   ]
  },
  {
   "cell_type": "markdown",
   "metadata": {},
   "source": [
    "## FaceBook Q\n",
    "https://www.facebookrecruiting.com/portal/coding_practice_question/?problem_id=838749853303393"
   ]
  },
  {
   "cell_type": "code",
   "execution_count": null,
   "metadata": {},
   "outputs": [],
   "source": [
    "# index of the current searching window, starts from 0\n",
    "cur_ix = 0\n",
    "\n",
    "# swap counts\n",
    "count = 0\n",
    "\n",
    "# iterate the loop until the array has been swapped k times or cur_ix reaches the end of the array \n",
    "# increase cur_ix by 1 in each loop\n",
    "# in each loop, we find the min value in the searching window of the array, from cux_ix to cur_ix+upper_limit+1\n",
    "# where upper_limit is the number of swaps left \n",
    "# e.g. [8,9,1,11,3,1] k=3, we search [8,9,1,11] first, find min_val=1, move it to the head (needs 2 swaps), \n",
    "# so array becomes [1,8,9,11,3,1]\n",
    "# now we have k-2= 1 swaps left\n",
    "# then next we search within [8,9], min_val is 8, so we need to swap 0 times\n",
    "# then we search [9, 11], min_val is 9, swap 0 times\n",
    "# then search [11,3], min_val is 3, swap 1 times, array becomes [1,8,9,3,11,1], no swaps left, stop\n",
    "while count < k and cur_ix < len(arr)-1:\n",
    "    # update upper_limit to remaining number of swaps \n",
    "    upper_limit = min(k-count, len(arr)-1-cur_ix) \n",
    "\n",
    "    # find the minimum index from cur_ix to cur_ix+upper_limit+1\n",
    "    # it's also the number of swaps we can make in the current iteration \n",
    "    min_val = min(arr[cur_ix:cur_ix+upper_limit+1])\n",
    "    min_ix = arr[cur_ix:cur_ix+upper_limit+1].index(min_val)\n",
    "\n",
    "    # swap the min_val element min_ix times to move it to the head of the searching window  \n",
    "    # you can write your own swap function to do the min_ix swaps\n",
    "    # or take out the min_val and insert it to the head directly using python's del() and insert() functions\n",
    "    temp = arr[cur_ix + min_ix]\n",
    "    del arr[cur_ix + min_ix]\n",
    "    arr.insert(cur_ix, temp)\n",
    "    count += min_ix\n",
    "\n",
    "    # increase cur_ix by 1\n",
    "    cur_ix += 1\n",
    "\n",
    "return arr"
   ]
  },
  {
   "cell_type": "markdown",
   "metadata": {},
   "source": [
    "# CoderCUP"
   ]
  },
  {
   "cell_type": "markdown",
   "metadata": {},
   "source": [
    "https://www.careercup.com/question?id=5767007794888704"
   ]
  },
  {
   "cell_type": "code",
   "execution_count": 176,
   "metadata": {},
   "outputs": [],
   "source": [
    "a =  [8,3,2, [5,6,[9]],6]"
   ]
  },
  {
   "cell_type": "code",
   "execution_count": 158,
   "metadata": {},
   "outputs": [],
   "source": [
    "def recur(l,d):\n",
    "    for i in range(len(l)):\n",
    "        if isinstance(l[i], list):\n",
    "            l[i] = recur(l[i],d+1)\n",
    "    return d*sum(l)"
   ]
  },
  {
   "cell_type": "code",
   "execution_count": 159,
   "metadata": {},
   "outputs": [
    {
     "data": {
      "text/plain": [
       "95"
      ]
     },
     "execution_count": 159,
     "metadata": {},
     "output_type": "execute_result"
    }
   ],
   "source": [
    "recur(a, 1)"
   ]
  },
  {
   "cell_type": "code",
   "execution_count": 52,
   "metadata": {},
   "outputs": [],
   "source": [
    "n = 153"
   ]
  },
  {
   "cell_type": "code",
   "execution_count": 53,
   "metadata": {},
   "outputs": [
    {
     "name": "stdout",
     "output_type": "stream",
     "text": [
      "15.0\n",
      "1.0\n"
     ]
    }
   ],
   "source": [
    "s = 0\n",
    "while n>1:  \n",
    "    s += (n%10)**3\n",
    "    n -=n%10\n",
    "    n /=10\n",
    "    print(n)"
   ]
  },
  {
   "cell_type": "code",
   "execution_count": 196,
   "metadata": {},
   "outputs": [
    {
     "data": {
      "text/plain": [
       "'0b1'"
      ]
     },
     "execution_count": 196,
     "metadata": {},
     "output_type": "execute_result"
    }
   ],
   "source": [
    "bin(1)"
   ]
  },
  {
   "cell_type": "markdown",
   "metadata": {},
   "source": [
    "https://www.careercup.com/question?id=5630074657701888"
   ]
  },
  {
   "cell_type": "code",
   "execution_count": 60,
   "metadata": {},
   "outputs": [],
   "source": [
    "from math import sqrt\n",
    "\n",
    "def get_closest(points,n):\n",
    "    points = sorted(points, key=lambda a:sqrt(pow(a[0],2)+pow(a[1],2)))\n",
    "    return points[:n]"
   ]
  },
  {
   "cell_type": "code",
   "execution_count": null,
   "metadata": {},
   "outputs": [],
   "source": []
  },
  {
   "cell_type": "markdown",
   "metadata": {},
   "source": [
    "\n",
    "## Passing Yearbooks\n",
    "https://www.facebookrecruiting.com/portal/coding_practice_question/?problem_id=146466059993201"
   ]
  },
  {
   "cell_type": "code",
   "execution_count": 151,
   "metadata": {},
   "outputs": [],
   "source": [
    "n = 2\n",
    "arr = [2, 1]\n"
   ]
  },
  {
   "cell_type": "code",
   "execution_count": 152,
   "metadata": {},
   "outputs": [],
   "source": [
    "d = dict(zip(arr,[[0,0,0]]*n))"
   ]
  },
  {
   "cell_type": "code",
   "execution_count": 153,
   "metadata": {},
   "outputs": [],
   "source": [
    "\n",
    "for ind, i in enumerate(arr):\n",
    "    d[i][0] = arr.index(i)-1\n",
    "    d[i][1] = arr[abs(d[i][0])]\n",
    "    d[i][2] = 1"
   ]
  },
  {
   "cell_type": "code",
   "execution_count": 154,
   "metadata": {},
   "outputs": [
    {
     "data": {
      "text/plain": [
       "[False, True]"
      ]
     },
     "execution_count": 154,
     "metadata": {},
     "output_type": "execute_result"
    }
   ],
   "source": [
    "([key!=v[1] for key, v in d.items()])"
   ]
  },
  {
   "cell_type": "code",
   "execution_count": 155,
   "metadata": {},
   "outputs": [
    {
     "name": "stdout",
     "output_type": "stream",
     "text": [
      "{2: [0, 2, 1], 1: [0, 2, 1]}\n",
      "{2: [-1, 1, 2], 1: [-1, 1, 2]}\n"
     ]
    },
    {
     "ename": "IndexError",
     "evalue": "list index out of range",
     "output_type": "error",
     "traceback": [
      "\u001b[1;31m---------------------------------------------------------------------------\u001b[0m",
      "\u001b[1;31mIndexError\u001b[0m                                Traceback (most recent call last)",
      "\u001b[1;32m<ipython-input-155-19e1ecd3c3f2>\u001b[0m in \u001b[0;36m<module>\u001b[1;34m\u001b[0m\n\u001b[0;32m      4\u001b[0m         \u001b[1;32mif\u001b[0m \u001b[0md\u001b[0m\u001b[1;33m[\u001b[0m\u001b[0mi\u001b[0m\u001b[1;33m]\u001b[0m\u001b[1;33m[\u001b[0m\u001b[1;36m1\u001b[0m\u001b[1;33m]\u001b[0m\u001b[1;33m!=\u001b[0m\u001b[0mi\u001b[0m\u001b[1;33m:\u001b[0m\u001b[1;33m\u001b[0m\u001b[1;33m\u001b[0m\u001b[0m\n\u001b[0;32m      5\u001b[0m             \u001b[0md\u001b[0m\u001b[1;33m[\u001b[0m\u001b[0mi\u001b[0m\u001b[1;33m]\u001b[0m\u001b[1;33m[\u001b[0m\u001b[1;36m0\u001b[0m\u001b[1;33m]\u001b[0m\u001b[1;33m-=\u001b[0m\u001b[1;36m1\u001b[0m\u001b[1;33m\u001b[0m\u001b[1;33m\u001b[0m\u001b[0m\n\u001b[1;32m----> 6\u001b[1;33m             \u001b[0md\u001b[0m\u001b[1;33m[\u001b[0m\u001b[0mi\u001b[0m\u001b[1;33m]\u001b[0m\u001b[1;33m[\u001b[0m\u001b[1;36m1\u001b[0m\u001b[1;33m]\u001b[0m \u001b[1;33m=\u001b[0m \u001b[0marr\u001b[0m\u001b[1;33m[\u001b[0m\u001b[0mabs\u001b[0m\u001b[1;33m(\u001b[0m\u001b[0md\u001b[0m\u001b[1;33m[\u001b[0m\u001b[0mi\u001b[0m\u001b[1;33m]\u001b[0m\u001b[1;33m[\u001b[0m\u001b[1;36m0\u001b[0m\u001b[1;33m]\u001b[0m\u001b[1;33m)\u001b[0m\u001b[1;33m]\u001b[0m\u001b[1;33m\u001b[0m\u001b[1;33m\u001b[0m\u001b[0m\n\u001b[0m\u001b[0;32m      7\u001b[0m             \u001b[0md\u001b[0m\u001b[1;33m[\u001b[0m\u001b[0mi\u001b[0m\u001b[1;33m]\u001b[0m\u001b[1;33m[\u001b[0m\u001b[1;36m2\u001b[0m\u001b[1;33m]\u001b[0m \u001b[1;33m+=\u001b[0m\u001b[1;36m1\u001b[0m\u001b[1;33m\u001b[0m\u001b[1;33m\u001b[0m\u001b[0m\n",
      "\u001b[1;31mIndexError\u001b[0m: list index out of range"
     ]
    }
   ],
   "source": [
    "while any([key!=v[1] for key, v in d.items()]):\n",
    "    print(d)\n",
    "    for i in d.keys():\n",
    "        if d[i][1]!=i:\n",
    "            d[i][0]-=1\n",
    "            d[i][1] = arr[abs(d[i][0])]\n",
    "            d[i][2] +=1"
   ]
  },
  {
   "cell_type": "code",
   "execution_count": 156,
   "metadata": {},
   "outputs": [
    {
     "name": "stdout",
     "output_type": "stream",
     "text": [
      "{0, 1}\n",
      "{0, 1} [2, 2]\n"
     ]
    },
    {
     "data": {
      "text/plain": [
       "[2, 2]"
      ]
     },
     "execution_count": 156,
     "metadata": {},
     "output_type": "execute_result"
    }
   ],
   "source": [
    "# Come again \n",
    "# Checklast\n",
    "# Logic\n",
    "n = 2\n",
    "arr = [2, 1]\n",
    "\n",
    "L = len(arr)\n",
    "res = [0] * L\n",
    "# set of visited students\n",
    "visited = set()\n",
    "for i in range(len(arr)):\n",
    "    #print(visited)\n",
    "    if i not in visited:\n",
    "        j = i\n",
    "        # the students of the same group as student i\n",
    "        group = set([i])\n",
    "        \n",
    "        # keep passing the yearbook until it goes back to i\n",
    "        while arr[j]-1 != i:\n",
    "            j = arr[j]-1\n",
    "            group.add(j)\n",
    "            print(group)\n",
    "            \n",
    "        # update the visited set\n",
    "        visited.update(group)\n",
    "        for k in group:\n",
    "            res[k] = len(group)\n",
    "        print(group, res)\n",
    "res"
   ]
  },
  {
   "cell_type": "markdown",
   "metadata": {},
   "source": [
    "https://www.careercup.com/question?id=5156596605779968"
   ]
  },
  {
   "cell_type": "code",
   "execution_count": 44,
   "metadata": {},
   "outputs": [],
   "source": [
    "def interleave_lists(ar):\n",
    "    result = []\n",
    "    max_length = 0\n",
    "    for i in ar:\n",
    "        max_length = max(max_length,len(i))\n",
    "\n",
    "    for _ in range(max_length):\n",
    "        for i in ar:\n",
    "            if len(i) > 0:\n",
    "                result.append(i.pop(0))\n",
    "    return result"
   ]
  },
  {
   "cell_type": "code",
   "execution_count": 45,
   "metadata": {},
   "outputs": [
    {
     "data": {
      "text/plain": [
       "[-7]"
      ]
     },
     "execution_count": 45,
     "metadata": {},
     "output_type": "execute_result"
    }
   ],
   "source": [
    "interleave_lists(x)"
   ]
  },
  {
   "cell_type": "code",
   "execution_count": 109,
   "metadata": {},
   "outputs": [
    {
     "name": "stdout",
     "output_type": "stream",
     "text": [
      "[1, 5, 5, -3]\n",
      "[2, 6, -4]\n",
      "[3, -5]\n",
      "[-6]\n"
     ]
    }
   ],
   "source": [
    "x = [[1,2,3],[5,6],[5],[-3,-4,-5,-6,-7]]\n",
    "ans=[]\n",
    "\n",
    "for j in range(len(x)):\n",
    "    out=[]\n",
    "    for i in x:\n",
    "        if i:\n",
    "            out.append(i.pop(0))\n",
    "    print(out)\n",
    "    ans.extend(out)\n"
   ]
  },
  {
   "cell_type": "code",
   "execution_count": 43,
   "metadata": {},
   "outputs": [
    {
     "data": {
      "text/plain": [
       "[1, 5, 5, -3, 2, 6, -4, 3, -5, -6]"
      ]
     },
     "execution_count": 43,
     "metadata": {},
     "output_type": "execute_result"
    }
   ],
   "source": [
    "ans"
   ]
  },
  {
   "cell_type": "markdown",
   "metadata": {},
   "source": [
    "## Contiguous array\n",
    "https://www.facebookrecruiting.com/portal/coding_practice_question/?problem_id=226517205173943"
   ]
  },
  {
   "cell_type": "code",
   "execution_count": 99,
   "metadata": {},
   "outputs": [],
   "source": [
    "arr = [3, 4, 1, 6, 2]"
   ]
  },
  {
   "cell_type": "code",
   "execution_count": 100,
   "metadata": {},
   "outputs": [],
   "source": [
    "res1 = []\n",
    "for i in range(len(arr)):\n",
    "    res = 0\n",
    "    for j in range(i, len(arr)):\n",
    "        if arr[j]>arr[i]:\n",
    "            break\n",
    "\n",
    "        res+=1\n",
    "    for j in reversed(range(i+1)):\n",
    "        if arr[j]>arr[i]:\n",
    "            break\n",
    "        res+=1\n",
    "    res1.append(res-1)"
   ]
  },
  {
   "cell_type": "code",
   "execution_count": 101,
   "metadata": {},
   "outputs": [
    {
     "data": {
      "text/plain": [
       "[1, 3, 1, 5, 1]"
      ]
     },
     "execution_count": 101,
     "metadata": {},
     "output_type": "execute_result"
    }
   ],
   "source": [
    "res1"
   ]
  },
  {
   "cell_type": "markdown",
   "metadata": {},
   "source": [
    "## Pair Sums\n",
    "https://www.facebookrecruiting.com/portal/coding_practice_question/?problem_id=840934449713537"
   ]
  },
  {
   "cell_type": "code",
   "execution_count": 103,
   "metadata": {},
   "outputs": [],
   "source": [
    "n = 5\n",
    "k = 6\n",
    "arr = [1, 2, 3, 4, 3]"
   ]
  },
  {
   "cell_type": "code",
   "execution_count": 106,
   "metadata": {},
   "outputs": [],
   "source": [
    "n = 5\n",
    "k = 6\n",
    "arr = [1, 5, 3, 3, 3]"
   ]
  },
  {
   "cell_type": "code",
   "execution_count": 107,
   "metadata": {},
   "outputs": [],
   "source": [
    "res = 0\n",
    "for i in range(n):\n",
    "    for j in range(i+1, n):\n",
    "        if arr[i]+arr[j]==k:\n",
    "            res+=1"
   ]
  },
  {
   "cell_type": "code",
   "execution_count": 108,
   "metadata": {},
   "outputs": [
    {
     "data": {
      "text/plain": [
       "4"
      ]
     },
     "execution_count": 108,
     "metadata": {},
     "output_type": "execute_result"
    }
   ],
   "source": [
    "res"
   ]
  },
  {
   "cell_type": "markdown",
   "metadata": {},
   "source": [
    "## Rotational Cypher \n",
    "https://www.facebookrecruiting.com/portal/coding_practice_question/?problem_id=238827593802550m"
   ]
  },
  {
   "cell_type": "code",
   "execution_count": null,
   "metadata": {},
   "outputs": [],
   "source": [
    "\n",
    "def rotationalCipher(input, rotation_factor):\n",
    "  # Write your code here\n",
    "    smals = list('abcdefghijklmnopqrstuvwxyz')\n",
    "    caps = list('abcdefghijklmnopqrstuvwxyz'.upper())\n",
    "    digits = list('0123456789')\n",
    "    def decrypt(i, rotation_factor, smals):\n",
    "        val = smals.index(i)\n",
    "        rotation_factor = rotation_factor%len(smals)\n",
    "        if val+rotation_factor>=len(smals):\n",
    "            val = val+rotation_factor-len(smals)\n",
    "            #print(smals.index(i), val, len(smals))\n",
    "            return smals[val]\n",
    "        else:\n",
    "            return smals[val+rotation_factor]\n",
    "\n",
    "    res1 = []\n",
    "    for j in input.split('-'):\n",
    "        res = []\n",
    "        for i in j:\n",
    "            if i in smals:\n",
    "                res.append(decrypt(i, rotation_factor, smals))\n",
    "            elif i in caps:\n",
    "                res.append(decrypt(i, rotation_factor, caps))\n",
    "            elif i in digits:\n",
    "                res.append(decrypt(i, rotation_factor, digits))\n",
    "            else:\n",
    "                res.append(i)\n",
    "    #res1.append(res)\n",
    "    res1.append(''.join(res))\n",
    "    print('-'.join(res1))\n",
    "    return '-'.join(res1)\n",
    "\n",
    "\n"
   ]
  },
  {
   "cell_type": "code",
   "execution_count": null,
   "metadata": {},
   "outputs": [],
   "source": []
  },
  {
   "cell_type": "markdown",
   "metadata": {},
   "source": [
    "## Pair sums\n",
    "https://www.facebookrecruiting.com/portal/coding_practice_question/?problem_id=840934449713537"
   ]
  },
  {
   "cell_type": "code",
   "execution_count": 145,
   "metadata": {},
   "outputs": [],
   "source": [
    "n = 5\n",
    "k = 6\n",
    "arr = [1, 2, 3, 4, 3]\n",
    "output = 2"
   ]
  },
  {
   "cell_type": "code",
   "execution_count": 148,
   "metadata": {},
   "outputs": [],
   "source": [
    "# Write your code here\n",
    "res = 0\n",
    "n = len(arr)\n",
    "for i in range(n):\n",
    "    for j in range(i+1, n):\n",
    "        if arr[i]+arr[j]==k:\n",
    "            res+=1"
   ]
  },
  {
   "cell_type": "code",
   "execution_count": null,
   "metadata": {},
   "outputs": [],
   "source": []
  },
  {
   "cell_type": "code",
   "execution_count": null,
   "metadata": {},
   "outputs": [],
   "source": []
  },
  {
   "cell_type": "code",
   "execution_count": 110,
   "metadata": {},
   "outputs": [],
   "source": [
    "s = \"abcd\"\n",
    "t = \"adcb\""
   ]
  },
  {
   "cell_type": "code",
   "execution_count": 112,
   "metadata": {},
   "outputs": [],
   "source": [
    "from itertools import combinations\n",
    "if s==t:\n",
    "    return len(s)-2\n",
    "s_inds = [i for i in range(len(s)) if s[i]!=t[i]]\n",
    "    \n",
    "t = list(t)\n",
    "mx = 0\n",
    "for i,j in combinations(s_inds,2):\n",
    "    t[i], t[j] = t[j], t[i]\n",
    "    mx = max(mx, sum([i1==j1 for i1,j1 in zip(s,t)]))\n",
    "    t[i], t[j] = t[j], t[i]\n",
    "    "
   ]
  },
  {
   "cell_type": "code",
   "execution_count": 115,
   "metadata": {},
   "outputs": [],
   "source": []
  },
  {
   "cell_type": "code",
   "execution_count": 130,
   "metadata": {},
   "outputs": [],
   "source": [
    "s = \"dcbefebce\"\n",
    "t = \"fd\""
   ]
  },
  {
   "cell_type": "code",
   "execution_count": 157,
   "metadata": {},
   "outputs": [],
   "source": [
    "s = \"bfbeadbcbcbfeaaeefcddcccbbbfaaafdbebedddf\"\n",
    "t = \"cbccfafebccdccebdd\""
   ]
  },
  {
   "cell_type": "code",
   "execution_count": 158,
   "metadata": {},
   "outputs": [],
   "source": [
    "if len(s)>len(t):\n",
    "    m = s\n",
    "    n = t\n",
    "else:\n",
    "    m = t\n",
    "    s = s"
   ]
  },
  {
   "cell_type": "code",
   "execution_count": 159,
   "metadata": {},
   "outputs": [],
   "source": [
    "from collections import Counter"
   ]
  },
  {
   "cell_type": "code",
   "execution_count": 160,
   "metadata": {},
   "outputs": [],
   "source": [
    "def check(s,l):\n",
    "    if len(set(s)-set(l))!=0:\n",
    "        return False\n",
    "    l = Counter(l)\n",
    "    s = Counter(s)\n",
    "    return all([l[k]>=s[k] for k in s.keys()])\n",
    "    \n",
    "            "
   ]
  },
  {
   "cell_type": "code",
   "execution_count": 144,
   "metadata": {},
   "outputs": [
    {
     "ename": "TypeError",
     "evalue": "object of type 'float' has no len()",
     "output_type": "error",
     "traceback": [
      "\u001b[1;31m---------------------------------------------------------------------------\u001b[0m",
      "\u001b[1;31mTypeError\u001b[0m                                 Traceback (most recent call last)",
      "\u001b[1;32m<ipython-input-144-214ef09a19f6>\u001b[0m in \u001b[0;36m<module>\u001b[1;34m\u001b[0m\n\u001b[0;32m      1\u001b[0m \u001b[0mlst\u001b[0m \u001b[1;33m=\u001b[0m \u001b[0mfloat\u001b[0m\u001b[1;33m(\u001b[0m\u001b[1;34m'inf'\u001b[0m\u001b[1;33m)\u001b[0m\u001b[1;33m\u001b[0m\u001b[1;33m\u001b[0m\u001b[0m\n\u001b[1;32m----> 2\u001b[1;33m \u001b[1;32mfor\u001b[0m \u001b[0mi\u001b[0m \u001b[1;32min\u001b[0m \u001b[0mrange\u001b[0m\u001b[1;33m(\u001b[0m\u001b[0mlen\u001b[0m\u001b[1;33m(\u001b[0m\u001b[0mm\u001b[0m\u001b[1;33m)\u001b[0m\u001b[1;33m-\u001b[0m\u001b[0mlen\u001b[0m\u001b[1;33m(\u001b[0m\u001b[0mn\u001b[0m\u001b[1;33m)\u001b[0m\u001b[1;33m)\u001b[0m\u001b[1;33m:\u001b[0m\u001b[1;33m\u001b[0m\u001b[1;33m\u001b[0m\u001b[0m\n\u001b[0m\u001b[0;32m      3\u001b[0m     \u001b[1;32mfor\u001b[0m \u001b[0mj\u001b[0m \u001b[1;32min\u001b[0m \u001b[0mrange\u001b[0m\u001b[1;33m(\u001b[0m\u001b[0mlen\u001b[0m\u001b[1;33m(\u001b[0m\u001b[0mn\u001b[0m\u001b[1;33m)\u001b[0m\u001b[1;33m,\u001b[0m \u001b[0mlen\u001b[0m\u001b[1;33m(\u001b[0m\u001b[0mm\u001b[0m\u001b[1;33m)\u001b[0m\u001b[1;33m)\u001b[0m\u001b[1;33m:\u001b[0m\u001b[1;33m\u001b[0m\u001b[1;33m\u001b[0m\u001b[0m\n\u001b[0;32m      4\u001b[0m         \u001b[1;32mif\u001b[0m \u001b[0mcheck\u001b[0m\u001b[1;33m(\u001b[0m\u001b[0mt\u001b[0m\u001b[1;33m,\u001b[0m \u001b[0mm\u001b[0m\u001b[1;33m[\u001b[0m\u001b[0mi\u001b[0m\u001b[1;33m:\u001b[0m\u001b[0mj\u001b[0m\u001b[1;33m]\u001b[0m\u001b[1;33m)\u001b[0m\u001b[1;33m:\u001b[0m\u001b[1;33m\u001b[0m\u001b[1;33m\u001b[0m\u001b[0m\n\u001b[0;32m      5\u001b[0m             \u001b[0mlst\u001b[0m \u001b[1;33m=\u001b[0m \u001b[0mmin\u001b[0m\u001b[1;33m(\u001b[0m\u001b[0mlst\u001b[0m\u001b[1;33m,\u001b[0m \u001b[0mj\u001b[0m\u001b[1;33m-\u001b[0m\u001b[0mi\u001b[0m\u001b[1;33m)\u001b[0m\u001b[1;33m\u001b[0m\u001b[1;33m\u001b[0m\u001b[0m\n",
      "\u001b[1;31mTypeError\u001b[0m: object of type 'float' has no len()"
     ]
    }
   ],
   "source": [
    "lst = float('inf')\n",
    "for i in range(len(m)-len(n)):\n",
    "    for j in range(len(n), len(m)):\n",
    "        if check(t, m[i:j]):\n",
    "            lst = min(lst, j-i)"
   ]
  },
  {
   "cell_type": "code",
   "execution_count": 162,
   "metadata": {},
   "outputs": [
    {
     "data": {
      "text/plain": [
       "inf"
      ]
     },
     "execution_count": 162,
     "metadata": {},
     "output_type": "execute_result"
    }
   ],
   "source": [
    "lst"
   ]
  },
  {
   "cell_type": "markdown",
   "metadata": {},
   "source": [
    "## 3 Product\n",
    "https://www.facebookrecruiting.com/portal/coding_practice_question/?problem_id=510655302929581"
   ]
  },
  {
   "cell_type": "code",
   "execution_count": 140,
   "metadata": {},
   "outputs": [],
   "source": [
    "arr = [1, 2, 3, 4, 5]\n",
    "arr = [2, 4, 7, 1, 5, 3]\n",
    "n  =3"
   ]
  },
  {
   "cell_type": "code",
   "execution_count": 136,
   "metadata": {},
   "outputs": [
    {
     "name": "stdout",
     "output_type": "stream",
     "text": [
      "[2, 4, 7]\n",
      "[2, 4, 7, 1]\n",
      "[2, 4, 7, 1, 5]\n",
      "[2, 4, 7, 1, 5, 3]\n"
     ]
    }
   ],
   "source": [
    "res = [-1]*(n-1)\n",
    "for i in range(len(arr))[n-1:]:\n",
    "    print(arr[:i+1])\n",
    "    te = sorted(arr[:i+1])[-3:]\n",
    "    #print(te)\n",
    "    p = 1\n",
    "    for i in te:\n",
    "        p*=i\n",
    "    res.append(p)"
   ]
  },
  {
   "cell_type": "code",
   "execution_count": 132,
   "metadata": {},
   "outputs": [
    {
     "data": {
      "text/plain": [
       "[-1, -1, 56, 56, 140, 140]"
      ]
     },
     "execution_count": 132,
     "metadata": {},
     "output_type": "execute_result"
    }
   ],
   "source": [
    "res"
   ]
  },
  {
   "cell_type": "markdown",
   "metadata": {},
   "source": [
    "## 3 Equal sum subparts"
   ]
  },
  {
   "cell_type": "code",
   "execution_count": 99,
   "metadata": {},
   "outputs": [],
   "source": [
    "arr = [ 1, 3, 4, 0, 4 ]"
   ]
  },
  {
   "cell_type": "code",
   "execution_count": 100,
   "metadata": {},
   "outputs": [],
   "source": [
    "s = sum(arr)//3"
   ]
  },
  {
   "cell_type": "code",
   "execution_count": 101,
   "metadata": {},
   "outputs": [],
   "source": [
    "r = 0\n",
    "splits = []\n",
    "for ind,i in enumerate(arr):\n",
    "    r+=i\n",
    "    if r==s:\n",
    "        splits.append(ind)\n",
    "        r=0"
   ]
  },
  {
   "cell_type": "markdown",
   "metadata": {},
   "source": [
    "https://www.facebookrecruiting.com/portal/coding_practice_question/?problem_id=513590792640579"
   ]
  },
  {
   "cell_type": "code",
   "execution_count": 261,
   "metadata": {},
   "outputs": [],
   "source": [
    "arr = [2, 1, 7, 4, 2]\n",
    "ate = 0\n",
    "k=3\n",
    "for i in range(k):\n",
    "    mx = arr.index(max(arr))\n",
    "    ate +=max(arr)\n",
    "    arr[mx] = max(arr)//2\n"
   ]
  },
  {
   "cell_type": "code",
   "execution_count": 277,
   "metadata": {},
   "outputs": [],
   "source": [
    "arr = [5, 15, 1, 3]"
   ]
  },
  {
   "cell_type": "code",
   "execution_count": 283,
   "metadata": {},
   "outputs": [
    {
     "name": "stdout",
     "output_type": "stream",
     "text": [
      "[4] 0\n",
      "[4, 5, 7] 1\n"
     ]
    }
   ],
   "source": [
    "\n",
    "def findMedian(arr):\n",
    "  # Write your code here\n",
    "  res = []\n",
    "  for i in range(len(arr)):\n",
    "      mid = (i+1)//2\n",
    "      te = sorted(arr[:i+1])\n",
    "      if (i+1)%2==1:\n",
    "          res.append(te[mid])\n",
    "      else:\n",
    "          res.append(int((te[mid-1]+te[mid])/2))\n",
    "  return res\n",
    "  \n"
   ]
  },
  {
   "cell_type": "code",
   "execution_count": null,
   "metadata": {},
   "outputs": [],
   "source": []
  },
  {
   "cell_type": "markdown",
   "metadata": {},
   "source": [
    "# Swap elements\n",
    "https://www.facebookrecruiting.com/portal/coding_practice_question/?problem_id=838749853303393"
   ]
  },
  {
   "cell_type": "code",
   "execution_count": 4,
   "metadata": {
    "scrolled": true
   },
   "outputs": [],
   "source": [
    "# Come again\n",
    "\n",
    "n, k = 5, 8\n",
    "arr = [7, 6, 9, 2, 1]\n",
    "\n",
    "# n = 3\n",
    "# k = 2\n",
    "# arr = [5, 3, 1]\n",
    "\n",
    "f_ind = 0\n",
    "while k>0:\n",
    "    te = arr[f_ind:f_ind+k+1]\n",
    "    if len(te)==0:\n",
    "        break\n",
    "    ind = te.index(min(te))\n",
    "    \n",
    "    for i in reversed(range(f_ind+1, f_ind+ind+1)):\n",
    "        arr[i], arr[i-1] = arr[i-1], arr[i]\n",
    "    k -= ind\n",
    "    f_ind+=1"
   ]
  },
  {
   "cell_type": "code",
   "execution_count": 5,
   "metadata": {
    "scrolled": true
   },
   "outputs": [
    {
     "data": {
      "text/plain": [
       "[1, 2, 6, 7, 9]"
      ]
     },
     "execution_count": 5,
     "metadata": {},
     "output_type": "execute_result"
    }
   ],
   "source": [
    "arr"
   ]
  },
  {
   "cell_type": "code",
   "execution_count": 214,
   "metadata": {},
   "outputs": [],
   "source": [
    "n, k = 5, 4\n",
    "arr = [7, 6, 9, 2, 1]"
   ]
  },
  {
   "cell_type": "code",
   "execution_count": 215,
   "metadata": {},
   "outputs": [
    {
     "name": "stdout",
     "output_type": "stream",
     "text": [
      "[2, 7, 6, 9, 1] 1\n",
      "[2, 7, 6, 9, 1] 1\n",
      "[2, 7, 6, 9, 1] 1\n",
      "[2, 7, 6, 9, 1] 1\n",
      "[2, 7, 6, 9, 1] 1\n"
     ]
    }
   ],
   "source": [
    "find = 0\n",
    "while k>0 and find<len(arr):\n",
    "    te = arr[find:find+k]\n",
    "    mnInd = te.index(min(te))\n",
    "    for i in reversed(range(find, mnInd+find)):\n",
    "        arr[i], arr[i+1]=arr[i+1], arr[i]\n",
    "        k-=1\n",
    "    find+=1    \n",
    "    print(arr,k)          \n",
    "    \n",
    "    "
   ]
  },
  {
   "cell_type": "markdown",
   "metadata": {},
   "source": [
    "## Seating Arrangements\n",
    "\n",
    "https://www.facebookrecruiting.com/portal/coding_practice_question/?problem_id=2444722699191194"
   ]
  },
  {
   "cell_type": "code",
   "execution_count": 108,
   "metadata": {
    "scrolled": true
   },
   "outputs": [
    {
     "name": "stdout",
     "output_type": "stream",
     "text": [
      "5 deque([5])\n",
      "6 deque([6, 5])\n",
      "8 deque([6, 5, 8])\n",
      "10 deque([10, 6, 5, 8])\n"
     ]
    }
   ],
   "source": [
    "# come again\n",
    "arr = [5, 10, 6, 8]\n",
    "import collections\n",
    "\n",
    "new_arr = collections.deque([])\n",
    "max_dist = 0\n",
    "arr.sort()\n",
    "for i in range(len(arr)):\n",
    "    if i % 2 == 0:\n",
    "        if i > 0:\n",
    "            max_dist = max(max_dist, arr[i] - new_arr[-1])\n",
    "        new_arr.append(arr[i])\n",
    "    else:\n",
    "        max_dist = max(max_dist, arr[i] - new_arr[0])\n",
    "        new_arr.appendleft(arr[i])\n",
    "    print(arr[i],new_arr)\n",
    "        "
   ]
  },
  {
   "cell_type": "code",
   "execution_count": null,
   "metadata": {},
   "outputs": [],
   "source": []
  },
  {
   "cell_type": "code",
   "execution_count": 113,
   "metadata": {},
   "outputs": [],
   "source": [
    "arr = [5, 10, 6, 8]\n",
    "arr.sort()\n",
    "res = []\n",
    "for i in range(len(arr)):\n",
    "    if i%2==0:\n",
    "        res.append(arr[i])\n",
    "    else:\n",
    "        res.insert(0, arr[i])"
   ]
  },
  {
   "cell_type": "code",
   "execution_count": 114,
   "metadata": {},
   "outputs": [
    {
     "name": "stdout",
     "output_type": "stream",
     "text": [
      "2\n",
      "4\n",
      "1\n",
      "3\n"
     ]
    }
   ],
   "source": [
    "for i in range(len(res)):\n",
    "    print(abs(res[i]-res[i-1]))"
   ]
  },
  {
   "cell_type": "code",
   "execution_count": 415,
   "metadata": {},
   "outputs": [],
   "source": [
    "arr.sort()"
   ]
  },
  {
   "cell_type": "markdown",
   "metadata": {},
   "source": [
    "https://www.facebookrecruiting.com/portal/coding_practice_question/?problem_id=192049171861831"
   ]
  },
  {
   "cell_type": "code",
   "execution_count": 449,
   "metadata": {},
   "outputs": [
    {
     "data": {
      "text/plain": [
       "2"
      ]
     },
     "execution_count": 449,
     "metadata": {},
     "output_type": "execute_result"
    }
   ],
   "source": [
    "def getMilestoneDays(revenues, milestones):\n",
    "  # Write your code here\n",
    "  for i in range(1, len(revenues)):\n",
    "    revenues[i] = revenues[i-1]+revenues[i]\n",
    "  res = []\n",
    "  for m in milestones:\n",
    "    te = min([i for i,r in enumerate(revenues) if r>=m])\n",
    "    res.append(te+1)\n",
    "  return res\n",
    "       "
   ]
  },
  {
   "cell_type": "code",
   "execution_count": 216,
   "metadata": {},
   "outputs": [],
   "source": [
    "revenues = [10, 20, 30, 40, 50, 60, 70, 80, 90, 100]\n",
    "r =0\n",
    "for i in range(len(revenues)):\n",
    "    r+=revenues[i]\n",
    "    revenues[i] = r\n",
    "milestones = [100, 200, 500]"
   ]
  },
  {
   "cell_type": "code",
   "execution_count": 218,
   "metadata": {},
   "outputs": [],
   "source": [
    "def Search(m, lo, hi):\n",
    "    while lo<hi:\n",
    "        mid = (lo+hi)//2\n",
    "        if revenues[mid]>m:\n",
    "            hi = mid\n",
    "        else:\n",
    "            lo = mid+1\n",
    "    return mid"
   ]
  },
  {
   "cell_type": "code",
   "execution_count": 224,
   "metadata": {},
   "outputs": [
    {
     "data": {
      "text/plain": [
       "9"
      ]
     },
     "execution_count": 224,
     "metadata": {},
     "output_type": "execute_result"
    }
   ],
   "source": [
    "Search(500, 0, len(revenues))"
   ]
  },
  {
   "cell_type": "code",
   "execution_count": 226,
   "metadata": {},
   "outputs": [
    {
     "data": {
      "text/plain": [
       "550"
      ]
     },
     "execution_count": 226,
     "metadata": {},
     "output_type": "execute_result"
    }
   ],
   "source": [
    "revenues[9]"
   ]
  },
  {
   "cell_type": "code",
   "execution_count": 458,
   "metadata": {},
   "outputs": [
    {
     "data": {
      "text/plain": [
       "8.522878745280337"
      ]
     },
     "execution_count": 458,
     "metadata": {},
     "output_type": "execute_result"
    }
   ],
   "source": [
    "math.log10((10**9)/3/)"
   ]
  },
  {
   "cell_type": "markdown",
   "metadata": {},
   "source": [
    "## Binary Search\n",
    "\n",
    "https://www.facebookrecruiting.com/portal/coding_practice_question/?problem_id=951929261870357"
   ]
  },
  {
   "cell_type": "code",
   "execution_count": 89,
   "metadata": {},
   "outputs": [],
   "source": [
    "growth_rates = [1.1, 1.2, 1.3]\n",
    "import math\n",
    "start = math.ceil(math.log10((10**9) / len(growth_rates)) / math.log10(max(growth_rates)))\n",
    "end = math.ceil(math.log10((10**9) / len(growth_rates)) / math.log10(min(growth_rates)))"
   ]
  },
  {
   "cell_type": "code",
   "execution_count": null,
   "metadata": {
    "scrolled": true
   },
   "outputs": [],
   "source": [
    "  start = math.ceil(math.log10(10**9/len(growthRates))/max(growthRates))\n",
    "  end = math.ceil(math.log10(10**9/len(growthRates))/min(growthRates))\n",
    "  \n",
    "  while start<end:\n",
    "    \n",
    "    mid = (start+end)//2\n",
    "    l1 = sum([g**mid for g in growthRates])\n",
    "    l2 = sum([g**(mid+1) for g in growthRates])\n",
    "    if l1<10**9 and l2>10**9:\n",
    "        print(mid+1)\n",
    "      #return mid+1\n",
    "    if l1>10**9:\n",
    "      end = mid-1\n",
    "    else:\n",
    "      start = mid\n",
    "  \n",
    "  return start"
   ]
  },
  {
   "cell_type": "code",
   "execution_count": null,
   "metadata": {},
   "outputs": [],
   "source": []
  },
  {
   "cell_type": "code",
   "execution_count": 106,
   "metadata": {},
   "outputs": [],
   "source": [
    "growth_rates = [1.1, 1.2, 1.3]"
   ]
  },
  {
   "cell_type": "code",
   "execution_count": 107,
   "metadata": {},
   "outputs": [],
   "source": [
    "start = math.log10((10**9)/len(growth_rates))/math.log10(max(growth_rates))\n",
    "end = math.log10((10**9)/len(growth_rates))/math.log10(min(growth_rates))"
   ]
  },
  {
   "cell_type": "code",
   "execution_count": 112,
   "metadata": {},
   "outputs": [
    {
     "name": "stdout",
     "output_type": "stream",
     "text": [
      "reached 78.0\n"
     ]
    }
   ],
   "source": [
    "\n",
    "while start<end:\n",
    "    m = (start+end)//2\n",
    "    l1 = sum([g**m for g in growth_rates])\n",
    "    l2 = sum([g**(m+1) for g in growth_rates])\n",
    "\n",
    "    if l1<(10**9) and l2>(10**9):\n",
    "        print('reached', m)\n",
    "        break\n",
    "    \n",
    "    if l1<10**9:\n",
    "        start = m\n",
    "    else:\n",
    "        end = m-1\n",
    "    "
   ]
  },
  {
   "cell_type": "code",
   "execution_count": null,
   "metadata": {},
   "outputs": [],
   "source": []
  },
  {
   "cell_type": "markdown",
   "metadata": {},
   "source": [
    "## Contiguous Array\n",
    "https://www.facebookrecruiting.com/portal/coding_practice_question/?problem_id=226517205173943"
   ]
  },
  {
   "cell_type": "code",
   "execution_count": 85,
   "metadata": {},
   "outputs": [],
   "source": [
    "\n",
    "def count_subarrays(arr):\n",
    "  # Write your code here\n",
    "    res1 = []\n",
    "    for i in range(len(arr)):\n",
    "        res = 0\n",
    "        for j in range(i, len(arr)):\n",
    "            if arr[j]>arr[i]:\n",
    "                break\n",
    "            res+=1\n",
    "        for j in reversed(range(i+1)):\n",
    "            if arr[j]>arr[i]:\n",
    "                break\n",
    "            res+=1\n",
    "        res1.append(res-1)\n",
    "    return res1\n",
    "arr = [3, 4, 1, 6, 2]"
   ]
  },
  {
   "cell_type": "code",
   "execution_count": 87,
   "metadata": {},
   "outputs": [
    {
     "data": {
      "text/plain": [
       "[1, 3, 1, 5, 1]"
      ]
     },
     "execution_count": 87,
     "metadata": {},
     "output_type": "execute_result"
    }
   ],
   "source": [
    "count_subarrays(arr)"
   ]
  },
  {
   "cell_type": "code",
   "execution_count": 86,
   "metadata": {},
   "outputs": [
    {
     "data": {
      "text/plain": [
       "[1, 3, 1]"
      ]
     },
     "execution_count": 86,
     "metadata": {},
     "output_type": "execute_result"
    }
   ],
   "source": [
    "count_subarrays([0,1,0])"
   ]
  },
  {
   "cell_type": "code",
   "execution_count": 84,
   "metadata": {},
   "outputs": [
    {
     "name": "stdout",
     "output_type": "stream",
     "text": [
      "{(})\n",
      "{ []\n",
      "( ['{']\n",
      "} ['{', '(']\n",
      "False\n",
      ") ['{', '(']\n"
     ]
    }
   ],
   "source": [
    "d = {']':'['  ,\n",
    "   ')':'(',\n",
    "   '}':'{'}\n",
    "s = '{(})'\n",
    "st = []\n",
    "print(s)\n",
    "for i in s:\n",
    "    print(i, st)\n",
    "    \n",
    "    if i not in d.keys():\n",
    "        st.append(i)\n",
    "        \n",
    "    elif st[-1]==d[i]:\n",
    "        st.pop()\n",
    "    else:\n",
    "        print('False')\n"
   ]
  },
  {
   "cell_type": "code",
   "execution_count": 26,
   "metadata": {},
   "outputs": [],
   "source": [
    "n = 6\n",
    "arr = [1, 2, 2, 3, 4, 5]\n",
    "x = 5"
   ]
  },
  {
   "cell_type": "markdown",
   "metadata": {},
   "source": [
    "## Validate stack\n",
    "https://leetcode.com/problems/validate-stack-sequences/"
   ]
  },
  {
   "cell_type": "code",
   "execution_count": null,
   "metadata": {},
   "outputs": [],
   "source": [
    "# res = []\n",
    "# a = arr.copy()\n",
    "# while len(a)>0:\n",
    "#     te = []\n",
    "#     for i in range(x):\n",
    "#         if len(a)>0:\n",
    "#             te.append(a.pop(0))\n",
    "#             print('temp', te)\n",
    "#     if max(te) in arr:\n",
    "#         res.append(arr.index(max(te))+1)\n",
    "#         a = [arr.index(max(te))+1] + [i-1 for i in te if i>0 and i!=max(te)]\n",
    "#     print(res, te, a)\n",
    "\n",
    "\n"
   ]
  },
  {
   "cell_type": "code",
   "execution_count": 130,
   "metadata": {},
   "outputs": [
    {
     "name": "stdout",
     "output_type": "stream",
     "text": [
      "[1] 3 1 [4, 5, 3, 2, 1] 0\n",
      "[1, 2] 3 2 [4, 5, 3, 2, 1] 0\n",
      "[1, 2, 3] 3 3 [4, 5, 3, 2, 1] 0\n",
      "[1, 2, 3, 4] 3 4 [4, 5, 3, 2, 1] 0\n",
      "[1, 2, 3, 5] 3 5 [4, 5, 3, 2, 1] 1\n"
     ]
    }
   ],
   "source": [
    "# come again\n",
    "pushed = [1,2,3,4,5]\n",
    "popped = [4,5,3,2,1]\n",
    "\n",
    "stack = []\n",
    "j = 0\n",
    "for i in pushed:\n",
    "    stack.append(i)\n",
    "    while stack and stack[-1]==popped[0]:\n",
    "        stack.pop()\n",
    "        popped.pop(0)"
   ]
  },
  {
   "cell_type": "code",
   "execution_count": null,
   "metadata": {},
   "outputs": [],
   "source": []
  },
  {
   "cell_type": "code",
   "execution_count": 78,
   "metadata": {},
   "outputs": [],
   "source": [
    "pushed = [1,2,3,4,5]\n",
    "popped = [4,5,3,2,1]"
   ]
  },
  {
   "cell_type": "code",
   "execution_count": 79,
   "metadata": {},
   "outputs": [],
   "source": [
    "stack = []\n",
    "for i in pushed:\n",
    "    stack.append(i)\n",
    "    while stack and stack[-1]==popped[0]:\n",
    "        stack.pop()\n",
    "        popped.pop(0)"
   ]
  },
  {
   "cell_type": "code",
   "execution_count": null,
   "metadata": {},
   "outputs": [],
   "source": []
  },
  {
   "cell_type": "code",
   "execution_count": 131,
   "metadata": {
    "scrolled": true
   },
   "outputs": [],
   "source": []
  },
  {
   "cell_type": "code",
   "execution_count": 133,
   "metadata": {},
   "outputs": [],
   "source": [
    "s = [\"abcd\",\"cbad\",\"bacd\"]\n",
    "s = [\"abcd\", \"acbd\", \"adcb\", \"cdba\", \"bcda\", \"badc\"]"
   ]
  },
  {
   "cell_type": "code",
   "execution_count": 142,
   "metadata": {
    "scrolled": true
   },
   "outputs": [
    {
     "name": "stdout",
     "output_type": "stream",
     "text": [
      "2 0\n",
      "2 0\n",
      "2 0\n",
      "2 0\n"
     ]
    }
   ],
   "source": [
    "res = []\n",
    "for i in range(len(s)-1):\n",
    "    for j in range(len(s)-1):\n",
    "        if i==j: continue\n",
    "        a,b = s[i], s[i+1]\n",
    "        #print(a, b, a[::2], b[::2], a[1::2], b[1::2])\n",
    "        \n",
    "        #print(a,b)\n",
    "        r = [x==y for x,y in zip(a,b)]\n",
    "        e =0\n",
    "        for k in range(0,len(a),2):\n",
    "            e+=r[k]\n",
    "        o = 0\n",
    "        for k in range(1,len(a),2):\n",
    "            o+=r[k]\n",
    "        \n",
    "        if not (e>0 and o>0) and (e==2 or o==2):\n",
    "            print(e,o)\n",
    "            res.append(i)\n",
    "            res.append(j)"
   ]
  },
  {
   "cell_type": "code",
   "execution_count": null,
   "metadata": {},
   "outputs": [],
   "source": []
  },
  {
   "cell_type": "code",
   "execution_count": 12,
   "metadata": {},
   "outputs": [
    {
     "name": "stdout",
     "output_type": "stream",
     "text": [
      "[((('a', 1), ('c', 1)), (('b', 1), ('d', 1))), ((('a', 1), ('b', 1)), (('c', 1), ('d', 1))), ((('a', 1), ('c', 1)), (('d', 1), ('b', 1))), ((('c', 1), ('b', 1)), (('d', 1), ('a', 1))), ((('b', 1), ('d', 1)), (('c', 1), ('a', 1))), ((('b', 1), ('d', 1)), (('a', 1), ('c', 1)))]\n",
      "0\n"
     ]
    }
   ],
   "source": [
    "from collections import Counter\n",
    "def count(arr):\n",
    "    fs = [(tuple(Counter(x[::2]).items()), (tuple(Counter(x[1::2]).items()))) for x in arr]\n",
    "    print(fs)\n",
    "    return sum(z for (x,z) in Counter(fs).items() if z>1)\n",
    "    \n",
    "#print(count([\"abcd\",\"cbad\",\"bacd\"]))\n",
    "print( count([\"abcd\", \"acbd\", \"adcb\", \"cdba\",\"bcda\", \"badc\"]))"
   ]
  },
  {
   "cell_type": "code",
   "execution_count": 7,
   "metadata": {
    "scrolled": true
   },
   "outputs": [
    {
     "name": "stdout",
     "output_type": "stream",
     "text": [
      "abcd abcd\n"
     ]
    },
    {
     "ename": "TypeError",
     "evalue": "list indices must be integers or slices, not str",
     "output_type": "error",
     "traceback": [
      "\u001b[1;31m---------------------------------------------------------------------------\u001b[0m",
      "\u001b[1;31mTypeError\u001b[0m                                 Traceback (most recent call last)",
      "\u001b[1;32m<ipython-input-7-b65918ac1710>\u001b[0m in \u001b[0;36m<module>\u001b[1;34m\u001b[0m\n\u001b[0;32m      1\u001b[0m \u001b[1;32mfor\u001b[0m \u001b[0mi\u001b[0m \u001b[1;32min\u001b[0m \u001b[0mrange\u001b[0m\u001b[1;33m(\u001b[0m\u001b[0mlen\u001b[0m\u001b[1;33m(\u001b[0m\u001b[0ma\u001b[0m\u001b[1;33m)\u001b[0m\u001b[1;33m)\u001b[0m\u001b[1;33m:\u001b[0m\u001b[1;33m\u001b[0m\u001b[1;33m\u001b[0m\u001b[0m\n\u001b[0;32m      2\u001b[0m     \u001b[1;32mfor\u001b[0m \u001b[0mj\u001b[0m \u001b[1;32min\u001b[0m \u001b[0mrange\u001b[0m\u001b[1;33m(\u001b[0m\u001b[0mi\u001b[0m\u001b[1;33m,\u001b[0m \u001b[0mlen\u001b[0m\u001b[1;33m(\u001b[0m\u001b[0ma\u001b[0m\u001b[1;33m)\u001b[0m\u001b[1;33m)\u001b[0m\u001b[1;33m:\u001b[0m\u001b[1;33m\u001b[0m\u001b[1;33m\u001b[0m\u001b[0m\n\u001b[1;32m----> 3\u001b[1;33m         \u001b[0mi\u001b[0m\u001b[1;33m,\u001b[0m\u001b[0mj\u001b[0m \u001b[1;33m=\u001b[0m \u001b[0ma\u001b[0m\u001b[1;33m[\u001b[0m\u001b[0mi\u001b[0m\u001b[1;33m]\u001b[0m\u001b[1;33m,\u001b[0m\u001b[0ma\u001b[0m\u001b[1;33m[\u001b[0m\u001b[0mj\u001b[0m\u001b[1;33m]\u001b[0m\u001b[1;33m\u001b[0m\u001b[1;33m\u001b[0m\u001b[0m\n\u001b[0m\u001b[0;32m      4\u001b[0m         \u001b[0mprint\u001b[0m\u001b[1;33m(\u001b[0m\u001b[0mi\u001b[0m\u001b[1;33m,\u001b[0m\u001b[0mj\u001b[0m\u001b[1;33m)\u001b[0m\u001b[1;33m\u001b[0m\u001b[1;33m\u001b[0m\u001b[0m\n",
      "\u001b[1;31mTypeError\u001b[0m: list indices must be integers or slices, not str"
     ]
    }
   ],
   "source": [
    "for i in range(len(a)-1):\n",
    "    for j in range(i, len(a)):\n",
    "        i,j = a[i],a[j]\n",
    "        print(i,j)"
   ]
  },
  {
   "cell_type": "markdown",
   "metadata": {},
   "source": [
    "https://www.careercup.com/question?id=5634222671790080"
   ]
  },
  {
   "cell_type": "code",
   "execution_count": 54,
   "metadata": {},
   "outputs": [],
   "source": [
    "input_str = '123'\n",
    "# input_str = '1'\n",
    "\n",
    "d = {\n",
    "    '1' : ['A', 'B', 'C'],\n",
    "    '2' : ['D', 'E'],\n",
    "    '12' : ['X'],\n",
    "    '3' : ['P', 'Q']\n",
    "}"
   ]
  },
  {
   "cell_type": "code",
   "execution_count": 73,
   "metadata": {},
   "outputs": [],
   "source": [
    "def recur(s, res):\n",
    "    #print(res)\n",
    "    global results\n",
    "    if len(s)==0:\n",
    "        results.append(res)\n",
    "        return \n",
    "    for i in range(1, len(s)+1):\n",
    "        if s[:i] in d.keys():\n",
    "            for j in d[s[:i]]:\n",
    "                recur(s[i:], res+j)\n",
    "    return results"
   ]
  },
  {
   "cell_type": "code",
   "execution_count": 74,
   "metadata": {},
   "outputs": [
    {
     "data": {
      "text/plain": [
       "['ADP',\n",
       " 'ADQ',\n",
       " 'AEP',\n",
       " 'AEQ',\n",
       " 'BDP',\n",
       " 'BDQ',\n",
       " 'BEP',\n",
       " 'BEQ',\n",
       " 'CDP',\n",
       " 'CDQ',\n",
       " 'CEP',\n",
       " 'CEQ',\n",
       " 'XP',\n",
       " 'XQ']"
      ]
     },
     "execution_count": 74,
     "metadata": {},
     "output_type": "execute_result"
    }
   ],
   "source": [
    "results= []\n",
    "recur(input_str, '')"
   ]
  },
  {
   "cell_type": "code",
   "execution_count": 116,
   "metadata": {},
   "outputs": [],
   "source": [
    "recur('123',0)"
   ]
  },
  {
   "cell_type": "markdown",
   "metadata": {},
   "source": [
    "## Smallest Sub array O(n) approach \n",
    "\n",
    "https://www.careercup.com/question?id=5454247129776128"
   ]
  },
  {
   "cell_type": "code",
   "execution_count": 170,
   "metadata": {},
   "outputs": [
    {
     "name": "stdout",
     "output_type": "stream",
     "text": [
      "0\n",
      "5\n",
      "9\n",
      "1\n",
      "3 12 1 4\n",
      "3 8 2 3\n"
     ]
    },
    {
     "data": {
      "text/plain": [
       "3"
      ]
     },
     "execution_count": 170,
     "metadata": {},
     "output_type": "execute_result"
    }
   ],
   "source": [
    "# Come again\n",
    "\n",
    "\n",
    "\n",
    "# smallesSubarray sum \n",
    "nums,target = [5,4,-8,16],10\n",
    "#print('Smallest subarray {} '.format(smallestSubarray(nums,target)))\n",
    "\n",
    "\n",
    "curr_sum, start, min_len = 0,0, float('inf')\n",
    "\n",
    "for idx, num in enumerate(nums):\n",
    "    print(curr_sum)\n",
    "    if curr_sum + num >=target:\n",
    "        curr_sum += num\n",
    "        while curr_sum >=target and start<=idx:\n",
    "            min_len = min(min_len, idx-start+1)\n",
    "            curr_sum, start = curr_sum-nums[start], start+1\n",
    "            print(idx, curr_sum, start, min_len)\n",
    "    else:\n",
    "        curr_sum += num\n",
    "\n",
    "min_len"
   ]
  },
  {
   "cell_type": "code",
   "execution_count": null,
   "metadata": {},
   "outputs": [],
   "source": []
  },
  {
   "cell_type": "code",
   "execution_count": 129,
   "metadata": {},
   "outputs": [
    {
     "name": "stdout",
     "output_type": "stream",
     "text": [
      "{1: 0}\n",
      "{1: 0, 3: 1}\n",
      "{1: 0, 3: 1, 5: 2}\n",
      "{1: 0, 3: 1, 5: 2, 7: 3}\n",
      "{1: 0, 3: 1, 5: 2, 7: 3, 14: 4}\n",
      "{1: 0, 3: 1, 5: 2, 7: 3, 14: 4, 12: 5}\n",
      "{1: 0, 3: 1, 5: 2, 7: 3, 14: 4, 12: 5, 15: 6}\n",
      "{1: 0, 3: 1, 5: 2, 7: 3, 14: 4, 12: 5, 15: 6, 2: 7}\n",
      "{1: 0, 3: 1, 5: 2, 7: 3, 14: 4, 12: 5, 15: 6, 2: 7}\n",
      "Max distance 7\n",
      "7\n"
     ]
    }
   ],
   "source": [
    "\n",
    "#largeArrayDiff\n",
    "nums = [1,3,5,7,14,12,15,2,3]\n",
    "    \n",
    "\n",
    "\n",
    "dic, max_dis = dict(), -1\n",
    "\n",
    "for idx, num in enumerate(nums):\n",
    "    if num-1 in dic:\n",
    "        max_dis = max(max_dis,idx-dic[num-1])\n",
    "    if num not in dic:\n",
    "        dic[num]=idx\n",
    "    print(dic)\n",
    "print('Max distance {}'.format(max_dis))\n",
    "print(max_dis)\n"
   ]
  },
  {
   "cell_type": "markdown",
   "metadata": {},
   "source": [
    "## Combination sum"
   ]
  },
  {
   "cell_type": "code",
   "execution_count": 175,
   "metadata": {},
   "outputs": [],
   "source": [
    "# Dynamic Programming\n",
    "def combs(li, res):\n",
    "    if sum(res)>=k:\n",
    "        if sum(res)==k and sorted(res) not in results:\n",
    "            results.append(sorted(res))\n",
    "        return\n",
    "    for i in range(len(li)):\n",
    "        combs(li[i:], res+[li[i]])"
   ]
  },
  {
   "cell_type": "code",
   "execution_count": 176,
   "metadata": {},
   "outputs": [
    {
     "data": {
      "text/plain": [
       "[[2, 2, 2, 2, 2], [2, 2, 3, 3], [2, 2, 6]]"
      ]
     },
     "execution_count": 176,
     "metadata": {},
     "output_type": "execute_result"
    }
   ],
   "source": [
    "nums = [2, 3, 6]\n",
    "k = 10\n",
    "results = []\n",
    "combs(nums, [])\n",
    "results"
   ]
  },
  {
   "cell_type": "markdown",
   "metadata": {},
   "source": [
    "## Sort the arrays"
   ]
  },
  {
   "cell_type": "code",
   "execution_count": 177,
   "metadata": {},
   "outputs": [],
   "source": [
    "arr1 = [1,2,3,4, 4,7,9]\n",
    "arr2 = [3,4, 5,6,8,10]"
   ]
  },
  {
   "cell_type": "code",
   "execution_count": 181,
   "metadata": {},
   "outputs": [],
   "source": [
    "i,j = 0,0\n",
    "# a,b = arr1[0], arr2[0]\n",
    "res = []\n",
    "while i<len(arr1) and j<len(arr2):\n",
    "    \n",
    "    a = arr1[i]\n",
    "    b = arr2[j]\n",
    "    if a>b:\n",
    "        res.append(b)\n",
    "        j+=1\n",
    "    elif a<b:\n",
    "        res.append(a)\n",
    "        i+=1\n",
    "    elif a==b:\n",
    "        i+=1\n"
   ]
  },
  {
   "cell_type": "markdown",
   "metadata": {},
   "source": [
    "## Add Sum of Strings"
   ]
  },
  {
   "cell_type": "code",
   "execution_count": 230,
   "metadata": {},
   "outputs": [],
   "source": [
    "a = '654154154151454545415415454'  \n",
    "b = '63516561563156316545145146514654' \n",
    "a = a[::-1]\n",
    "b = b[::-1]\n",
    "res =0"
   ]
  },
  {
   "cell_type": "code",
   "execution_count": 232,
   "metadata": {},
   "outputs": [
    {
     "data": {
      "text/plain": [
       "41549622603955309777243716069997997007620439937711509062916"
      ]
     },
     "execution_count": 232,
     "metadata": {},
     "output_type": "execute_result"
    }
   ],
   "source": [
    "for i, a1 in enumerate(a):\n",
    "    for j, b1 in enumerate(b):\n",
    "        res += int(a1)*int(b1)*(10**(i+j))\n",
    "res"
   ]
  },
  {
   "cell_type": "code",
   "execution_count": 23,
   "metadata": {},
   "outputs": [
    {
     "data": {
      "text/plain": [
       "41549622603955309777243716069997997007620439937711509062916"
      ]
     },
     "execution_count": 23,
     "metadata": {},
     "output_type": "execute_result"
    }
   ],
   "source": [
    "res =0\n",
    "for ind, i in enumerate(a):\n",
    "    for ind1, j in enumerate(b):\n",
    "        res += int(i)*int(j)*10**(ind1+ind)\n",
    "res"
   ]
  },
  {
   "cell_type": "markdown",
   "metadata": {},
   "source": [
    "## Some \n",
    "https://www.careercup.com/question?id=5106209647493120"
   ]
  },
  {
   "cell_type": "markdown",
   "metadata": {},
   "source": [
    "## Lottery Number with 7 digits and less than 59"
   ]
  },
  {
   "cell_type": "code",
   "execution_count": 65,
   "metadata": {},
   "outputs": [],
   "source": [
    "def check(li, s):\n",
    "    global flag\n",
    "    if len(li)>0 and not 1<=int(li[-1])<=59:\n",
    "        return\n",
    "    if len(s)==0 and len(li)==7:\n",
    "        flag = True\n",
    "        return \n",
    "    if len(li)>7:\n",
    "        return\n",
    "    \n",
    "    if len(s)>0:\n",
    "        check(li+[s[-1:]], s[:-1])\n",
    "    if len(s)>1:\n",
    "        check(li+[s[-2:]], s[:-2])\n"
   ]
  },
  {
   "cell_type": "code",
   "execution_count": 59,
   "metadata": {},
   "outputs": [],
   "source": [
    "flag = False"
   ]
  },
  {
   "cell_type": "code",
   "execution_count": 62,
   "metadata": {},
   "outputs": [],
   "source": [
    "s = '4938532894754'\n",
    "check([], s)"
   ]
  },
  {
   "cell_type": "code",
   "execution_count": null,
   "metadata": {},
   "outputs": [],
   "source": []
  },
  {
   "cell_type": "markdown",
   "metadata": {},
   "source": [
    "## Prime multiplicatoin"
   ]
  },
  {
   "cell_type": "code",
   "execution_count": 7,
   "metadata": {},
   "outputs": [],
   "source": [
    "primes = [2, 3, 5, 7, 11, 13, 17, 19, 23]\n",
    "\n",
    "def computeFactors(n):\n",
    "    if n in primes: return [n]\n",
    "    factors = []\n",
    "    for prime in primes:\n",
    "        while (n % prime) == 0:\n",
    "            factors.append(prime)\n",
    "            n /= prime\n",
    "        if n == 1:\n",
    "            break\n",
    "    return factors"
   ]
  },
  {
   "cell_type": "code",
   "execution_count": 48,
   "metadata": {},
   "outputs": [],
   "source": [
    "def comb(li, bal, res):\n",
    "    global flag\n",
    "    \n",
    "    if flag and int(bal)==1:\n",
    "        flag= False\n",
    "        return res\n",
    "    print(flag, int(bal)==1, res, bal)\n",
    "    for i in range(len(li)):\n",
    "        if bal%li[i]==0:\n",
    "            bal/=li[i]\n",
    "            comb(li, bal, res+[li[i]])\n",
    "        \n",
    "    return res\n",
    "    "
   ]
  },
  {
   "cell_type": "code",
   "execution_count": 49,
   "metadata": {
    "scrolled": false
   },
   "outputs": [
    {
     "name": "stdout",
     "output_type": "stream",
     "text": [
      "True False [] 90\n",
      "True False [2] 45.0\n",
      "True False [2, 3] 15.0\n",
      "True False [2, 3, 3] 5.0\n",
      "False True [2, 3, 5] 1.0\n",
      "False False [2, 5] 3.0\n",
      "False True [2, 5, 3] 1.0\n",
      "False False [3] 15.0\n",
      "False False [3, 3] 5.0\n",
      "False True [3, 3, 5] 1.0\n",
      "False True [3, 5] 1.0\n",
      "False False [5] 3.0\n",
      "False True [5, 3] 1.0\n"
     ]
    },
    {
     "data": {
      "text/plain": [
       "[]"
      ]
     },
     "execution_count": 49,
     "metadata": {},
     "output_type": "execute_result"
    }
   ],
   "source": [
    "flag = True\n",
    "comb(primes, 90, [])"
   ]
  },
  {
   "cell_type": "code",
   "execution_count": 88,
   "metadata": {
    "scrolled": true
   },
   "outputs": [
    {
     "data": {
      "text/plain": [
       "[2, 3, 3, 5]"
      ]
     },
     "execution_count": 88,
     "metadata": {},
     "output_type": "execute_result"
    }
   ],
   "source": [
    "computeFactors(90)"
   ]
  },
  {
   "cell_type": "code",
   "execution_count": null,
   "metadata": {},
   "outputs": [],
   "source": [
    "primes = [2,3,5,7,11,13,17,19,23]"
   ]
  },
  {
   "cell_type": "markdown",
   "metadata": {},
   "source": [
    "https://www.careercup.com/question?id=5069947735638016"
   ]
  },
  {
   "cell_type": "code",
   "execution_count": null,
   "metadata": {},
   "outputs": [],
   "source": [
    "# sort and arrange in odd and even order - enough\n",
    "def rearrange(input_vector):\n",
    "    \n",
    "    input_vector.sort()\n",
    "    heap = input_vector\n",
    "    for x in range(int(len(input_vector) / 2)): # This has cost n / 2\n",
    "        median = heap.pop()\n",
    "    print(median)\n",
    "        \n",
    "    # The rest of the code has cost n, so the total cost of the function\n",
    "    # is 3n + n/2 which is O(n)\n",
    "    solution = [ 0 ] * len(input_vector)\n",
    "    even = 1\n",
    "    odd = 0\n",
    "    for v in input_vector:\n",
    "        print(solution, v, odd, even)\n",
    "        if v < median:\n",
    "            solution[odd] = v\n",
    "            odd += 2\n",
    "        else:\n",
    "            solution[even] = v\n",
    "            even += 2\n",
    "\n",
    "    return solution\n",
    "rearrange([5,2,3,4,1])"
   ]
  },
  {
   "cell_type": "markdown",
   "metadata": {},
   "source": [
    "\n",
    "## String Permutations"
   ]
  },
  {
   "cell_type": "code",
   "execution_count": 216,
   "metadata": {},
   "outputs": [],
   "source": [
    "# Come again\n",
    "def permute(s, li):\n",
    "    if len(s)==0:\n",
    "        return  li\n",
    "    if s[-1].isdigit():\n",
    "        li =  [s[-1]+i for i in li]\n",
    "        s = s[:-1]\n",
    "    li = [s[-1].upper()+i for i in li] + [s[-1].lower()+i for i in li]\n",
    "    li = permute(s[:-1], li)\n",
    "    return li"
   ]
  },
  {
   "cell_type": "code",
   "execution_count": 217,
   "metadata": {},
   "outputs": [
    {
     "data": {
      "text/plain": [
       "['A1B', 'A1b', 'a1B', 'a1b']"
      ]
     },
     "execution_count": 217,
     "metadata": {},
     "output_type": "execute_result"
    }
   ],
   "source": [
    "permute('a1b',[''])"
   ]
  },
  {
   "cell_type": "code",
   "execution_count": 5,
   "metadata": {},
   "outputs": [],
   "source": [
    "s = 'a1b'\n",
    "res = ['']\n",
    "for c in s:\n",
    "    if c.isdigit():\n",
    "        res = [c1+c for c1 in res]\n",
    "    else:\n",
    "        res = [c1+c.lower() for c1 in res] + [c1+c.upper() for c1 in res]"
   ]
  },
  {
   "cell_type": "code",
   "execution_count": 6,
   "metadata": {},
   "outputs": [
    {
     "data": {
      "text/plain": [
       "['a1b', 'A1b', 'a1B', 'A1B']"
      ]
     },
     "execution_count": 6,
     "metadata": {},
     "output_type": "execute_result"
    }
   ],
   "source": [
    "res"
   ]
  },
  {
   "cell_type": "markdown",
   "metadata": {},
   "source": [
    "# Algo Expert"
   ]
  },
  {
   "cell_type": "markdown",
   "metadata": {},
   "source": [
    "## 2 pair\n",
    "https://www.algoexpert.io/questions/Smallest%20Difference"
   ]
  },
  {
   "cell_type": "code",
   "execution_count": null,
   "metadata": {},
   "outputs": [],
   "source": [
    "def smallestDifference(a, b):\n",
    "    # Write your code here.\n",
    "    a.sort()\n",
    "    b.sort()\n",
    "    i = 0\n",
    "    j = 0\n",
    "    c = float('inf')\n",
    "    pair = []\n",
    "    while i<len(a) and j<len(b):\n",
    "        diff = abs(a[i]-b[j])\n",
    "        if diff<c:\n",
    "            c = diff\n",
    "            pair = [a[i],b[j]]\n",
    "            if c==0:\n",
    "                return pair\n",
    "        if a[i]>b[j]:\n",
    "            j+=1\n",
    "        else:\n",
    "            i+=1\n",
    "    return pair\n"
   ]
  },
  {
   "cell_type": "markdown",
   "metadata": {},
   "source": [
    "https://www.algoexpert.io/questions/Move%20Element%20To%20End"
   ]
  },
  {
   "cell_type": "code",
   "execution_count": 28,
   "metadata": {},
   "outputs": [],
   "source": [
    "a = [2, 1, 2, 2,2, 3, 4, 2]\n",
    "m = 2"
   ]
  },
  {
   "cell_type": "code",
   "execution_count": 29,
   "metadata": {},
   "outputs": [
    {
     "name": "stdout",
     "output_type": "stream",
     "text": [
      "reached  [4, 1, 3, 2, 2, 2, 2, 2]\n",
      "reached  [4, 1, 2, 2, 2, 2, 2, 3]\n",
      "reached  [4, 3, 2, 2, 2, 2, 2, 1]\n"
     ]
    }
   ],
   "source": [
    "for i in range(len(a)-1,-1, -1):\n",
    "    if a[i]!=2:\n",
    "        mc= -1\n",
    "        for j in reversed(range(i+1)):\n",
    "            if a[j]==m:\n",
    "                mc = j\n",
    "        if mc==-1:\n",
    "            print('reached ',a)\n",
    "        a[i], a[mc] = a[mc], a[i]"
   ]
  },
  {
   "cell_type": "markdown",
   "metadata": {},
   "source": [
    "https://www.algoexpert.io/questions/Monotonic%20Array"
   ]
  },
  {
   "cell_type": "code",
   "execution_count": 46,
   "metadata": {},
   "outputs": [],
   "source": [
    "a = [-1, -5, -10, -1100, -1100, -1101, -1102, -9001]\n",
    "a = [1, 2, 0]\n",
    "a = [1, 1, 2, 3, 4, 5, 5, 5, 6, 7, 8, 8, 9, 10, 11]"
   ]
  },
  {
   "cell_type": "code",
   "execution_count": null,
   "metadata": {},
   "outputs": [],
   "source": [
    "def isMonotonic(a):\n",
    "    # Write your code here.\n",
    "    m = set([])\n",
    "    for i in range(len(a)-1):\n",
    "        if a[i]==a[i+1]: continue\n",
    "        m.add(int(a[i]>=a[i+1]))\n",
    "        if len(m)>1:\n",
    "            return False\n",
    "    return True\n"
   ]
  },
  {
   "cell_type": "code",
   "execution_count": null,
   "metadata": {},
   "outputs": [],
   "source": []
  },
  {
   "cell_type": "code",
   "execution_count": 17,
   "metadata": {},
   "outputs": [],
   "source": [
    "nums = [5, 1, 4, 2]\n",
    "length = len(nums)\n",
    "L, R = [0]*length, [0]*length\n",
    "L[0] = 1\n",
    "R[-1] = 1\n",
    "for i in range(1,length):\n",
    "    L[i] = L[i-1]*nums[i-1]\n",
    "for i in reversed(range(length-1)):\n",
    "    R[i] = R[i+1]*nums[i+1]\n",
    "\n",
    "res = [i*j for i, j in zip(L,R)]"
   ]
  },
  {
   "cell_type": "code",
   "execution_count": 18,
   "metadata": {},
   "outputs": [
    {
     "data": {
      "text/plain": [
       "([1, 5, 5, 20], [8, 8, 2, 1])"
      ]
     },
     "execution_count": 18,
     "metadata": {},
     "output_type": "execute_result"
    }
   ],
   "source": [
    "L,R"
   ]
  },
  {
   "cell_type": "code",
   "execution_count": 88,
   "metadata": {},
   "outputs": [],
   "source": [
    "l = [1] +nums[:-1]\n",
    "r = nums[1:] + [1]"
   ]
  },
  {
   "cell_type": "code",
   "execution_count": 89,
   "metadata": {},
   "outputs": [],
   "source": [
    "for i in range(1, len(l)):\n",
    "    l[i] = l[i]*l[i-1]\n",
    "for i in range(len(r)-2, -1, -1):\n",
    "    r[i] = r[i]*r[i+1]\n",
    "[i*j for i,j in zip(l,r)]"
   ]
  },
  {
   "cell_type": "code",
   "execution_count": 63,
   "metadata": {},
   "outputs": [
    {
     "data": {
      "text/plain": [
       "[8, 8, 2, 1]"
      ]
     },
     "execution_count": 63,
     "metadata": {},
     "output_type": "execute_result"
    }
   ],
   "source": [
    "R"
   ]
  },
  {
   "cell_type": "markdown",
   "metadata": {},
   "source": [
    "https://www.algoexpert.io/questions/Find%20Kth%20Largest%20Value%20In%20BST"
   ]
  },
  {
   "cell_type": "code",
   "execution_count": null,
   "metadata": {},
   "outputs": [],
   "source": [
    "\n",
    "def findKthLargestValueInBst(tree, k):\n",
    "    # Write your code here.\n",
    "    def dfs(node, l):\n",
    "        if node is None:\n",
    "            return l\n",
    "        if node.value>l[0]:\n",
    "            l.append(node.value)\n",
    "            l.sort()\n",
    "            if len(l)>k:\n",
    "                l.pop(0)\n",
    "        l = dfs(node.left, l)\n",
    "        l = dfs(node.right, l)\n",
    "        return l\n",
    "    l = dfs(tree, [-1])\n",
    "    return l[0]"
   ]
  },
  {
   "cell_type": "markdown",
   "metadata": {},
   "source": [
    "https://www.algoexpert.io/questions/First%20Duplicate%20Value"
   ]
  },
  {
   "cell_type": "code",
   "execution_count": 90,
   "metadata": {},
   "outputs": [],
   "source": [
    "def firstDuplicateValue(a):\n",
    "    # Write your code here.\n",
    "    te = []\n",
    "    for i in a:\n",
    "        if i in te:\n",
    "            return i\n",
    "        te.append(i)\n",
    "    return -1\n"
   ]
  },
  {
   "cell_type": "markdown",
   "metadata": {},
   "source": [
    "https://www.algoexpert.io/questions/Subarray%20Sort"
   ]
  },
  {
   "cell_type": "code",
   "execution_count": 13,
   "metadata": {},
   "outputs": [
    {
     "data": {
      "text/plain": [
       "[[-1, 4, 6, 7], [1, 2, 6, 7]]"
      ]
     },
     "execution_count": 13,
     "metadata": {},
     "output_type": "execute_result"
    }
   ],
   "source": [
    "array = [7, 6, 4, -1, 1, 2]\n",
    "targetSum = 16\n",
    "a\n",
    "# Write your code here.\n",
    "def recur(li, t, res):\n",
    "    if t==0 and len(res)==4 and sorted(res) not in results:\n",
    "        results.append(sorted(res))\n",
    "        return\n",
    "    for i in range(len(li)):\n",
    "        if t-li[i]>=0:\n",
    "            recur(li[:i]+li[i+1:], t-li[i], res+[li[i]])\n",
    "results = []\n",
    "\n",
    "recur(array, targetSum, [])\n",
    "results"
   ]
  },
  {
   "cell_type": "code",
   "execution_count": 3,
   "metadata": {},
   "outputs": [
    {
     "data": {
      "text/plain": [
       "[7, 6, 4, 1, 2]"
      ]
     },
     "execution_count": 3,
     "metadata": {},
     "output_type": "execute_result"
    }
   ],
   "source": [
    "array = [7, 6, 4, -1, 1, 2]\n",
    "array[:3]+array[4:]"
   ]
  },
  {
   "cell_type": "code",
   "execution_count": 32,
   "metadata": {},
   "outputs": [],
   "source": [
    "a = [1, 11, 3, 0, 15, 5, 2, 4, 10, 7, 12, 6]"
   ]
  },
  {
   "cell_type": "code",
   "execution_count": 33,
   "metadata": {},
   "outputs": [],
   "source": [
    "a.sort()\n",
    "b= [int(a[0]-a[1]==0)]\n",
    "for i in range(1, len(a)):\n",
    "    b.append(int(a[i]!=a[i-1]+1))\n",
    "for i in range(1, len(b)):\n",
    "    b[i] = b[i]+b[i-1]\n",
    "    \n",
    "from collections import Counter\n",
    "k = Counter(b)\n",
    "k = k.most_common(1)[0]\n",
    "\n",
    "c = [i for i,j in zip(a,b) if j==k[0]]\n",
    "[min(c), max(c)]"
   ]
  },
  {
   "cell_type": "code",
   "execution_count": 45,
   "metadata": {},
   "outputs": [],
   "source": []
  },
  {
   "cell_type": "code",
   "execution_count": 4,
   "metadata": {},
   "outputs": [],
   "source": [
    "a = [1,2,3]"
   ]
  },
  {
   "cell_type": "code",
   "execution_count": 13,
   "metadata": {},
   "outputs": [],
   "source": [
    "def recur(li, r):\n",
    "    if sorted(r) not in res:\n",
    "        res.append(sorted(r))\n",
    "    for i in range(len(li)):\n",
    "        recur(li[:i]+li[i+1:], [li[i]]+r)"
   ]
  },
  {
   "cell_type": "code",
   "execution_count": 14,
   "metadata": {},
   "outputs": [],
   "source": [
    "res = []\n",
    "recur(a, [])"
   ]
  },
  {
   "cell_type": "code",
   "execution_count": 12,
   "metadata": {},
   "outputs": [
    {
     "data": {
      "text/plain": [
       "[[], [1], [1, 2], [1, 2, 3], [1, 3], [2], [2, 3], [3]]"
      ]
     },
     "execution_count": 12,
     "metadata": {},
     "output_type": "execute_result"
    }
   ],
   "source": [
    "res"
   ]
  },
  {
   "cell_type": "code",
   "execution_count": null,
   "metadata": {},
   "outputs": [],
   "source": []
  },
  {
   "cell_type": "code",
   "execution_count": 30,
   "metadata": {},
   "outputs": [
    {
     "data": {
      "text/plain": [
       "('algoexpert', '-dream-job', '-algodream-expertjob')"
      ]
     },
     "execution_count": 30,
     "metadata": {},
     "output_type": "execute_result"
    }
   ],
   "source": [
    "a = \"algoexpert\"\n",
    "b = \"your-dream-job\"\n",
    "c =\"your-algodream-expertjob\"\n",
    "if b[0]==c[0]:\n",
    "    for i in range(len(b)):\n",
    "        if b[i+1]==c[i+1]:\n",
    "            continue\n",
    "        break\n",
    "a, b[i:], c[i:]"
   ]
  },
  {
   "cell_type": "code",
   "execution_count": 33,
   "metadata": {
    "scrolled": true
   },
   "outputs": [
    {
     "name": "stdout",
     "output_type": "stream",
     "text": [
      "algoexpert your-dream-job your-algodream-expertjob\n",
      "algoexpert dream-job algodream-expertjob\n",
      "expert dream-job dream-expertjob\n",
      "expert job expertjob\n",
      " job job\n",
      "  \n",
      " b b\n",
      "  \n",
      " b b\n",
      "  \n",
      " b b\n",
      "  \n",
      " b b\n",
      "  \n",
      " b b\n",
      "  \n",
      " b b\n",
      "  \n",
      " b b\n",
      "  \n",
      " b b\n",
      "  \n",
      " b b\n",
      "  \n",
      " b b\n",
      "  \n",
      " b b\n",
      "  \n",
      " b b\n",
      "  \n",
      " b b\n",
      "  \n",
      " b b\n",
      "  \n",
      " b b\n",
      "  \n",
      " b b\n",
      "  \n",
      " b b\n",
      "  \n",
      " b b\n",
      "  \n",
      " b b\n",
      "  \n",
      " b b\n",
      "  \n",
      " b b\n",
      "  \n",
      " b b\n",
      "  \n",
      " b b\n",
      "  \n",
      " b b\n",
      "  \n",
      " b b\n",
      "  \n",
      " b b\n",
      "  \n",
      " b b\n",
      "  \n",
      " b b\n",
      "  \n",
      " b b\n",
      "  \n",
      " b b\n",
      "  \n",
      " b b\n",
      "  \n",
      " b b\n",
      "  \n",
      " b b\n",
      "  \n",
      " b b\n",
      "  \n",
      " b b\n",
      "  \n",
      " b b\n",
      "  \n",
      " b b\n",
      "  \n",
      " b b\n",
      "  \n",
      " b b\n",
      "  \n",
      " b b\n",
      "  \n",
      " b b\n",
      "  \n",
      " b b\n",
      "  \n",
      " b b\n",
      "  \n",
      " b b\n",
      "  \n",
      " b b\n",
      "  \n",
      " b b\n",
      "  \n",
      " b b\n",
      "  \n",
      " b b\n",
      "  \n",
      " b b\n",
      "  \n",
      " b b\n",
      "  \n",
      " b b\n",
      "  \n",
      " b b\n",
      "  \n",
      " b b\n",
      "  \n",
      " b b\n",
      "  \n",
      " b b\n",
      "  \n",
      " b b\n",
      "  \n",
      " b b\n",
      "  \n",
      " b b\n",
      "  \n",
      " b b\n",
      "  \n",
      " b b\n",
      "  \n",
      " b b\n",
      "  \n",
      " b b\n",
      "  \n",
      " b b\n",
      "  \n",
      " b b\n",
      "  \n",
      " b b\n",
      "  \n",
      " b b\n",
      "  \n",
      " b b\n",
      "  \n",
      " b b\n",
      "  \n",
      " b b\n",
      "  \n",
      " b b\n",
      "  \n",
      " b b\n",
      "  \n",
      " b b\n",
      "  \n",
      " b b\n",
      "  \n",
      " b b\n",
      "  \n",
      " b b\n",
      "  \n",
      " b b\n",
      "  \n",
      " b b\n",
      "  \n",
      " b b\n",
      "  \n",
      " b b\n",
      "  \n",
      " b b\n",
      "  \n",
      " b b\n",
      "  \n",
      " b b\n",
      "  \n",
      " b b\n",
      "  \n",
      " b b\n",
      "  \n",
      " b b\n",
      "  \n",
      " b b\n",
      "  \n",
      " b b\n",
      "  \n",
      " b b\n",
      "  \n",
      " b b\n",
      "  \n",
      " b b\n",
      "  \n",
      " b b\n",
      "  \n",
      " b b\n",
      "  \n",
      " b b\n",
      "  \n",
      " b b\n",
      "  \n",
      " b b\n",
      "  \n",
      " b b\n",
      "  \n",
      " b b\n",
      "  \n",
      " b b\n",
      "  \n",
      " b b\n",
      "  \n",
      " b b\n",
      "  \n",
      " b b\n",
      "  \n",
      " b b\n",
      "  \n",
      " b b\n",
      "  \n",
      " b b\n",
      "  \n",
      " b b\n",
      "  \n",
      " b b\n",
      "  \n",
      " b b\n",
      "  \n",
      " b b\n",
      "  \n",
      " b b\n",
      "  \n",
      " b b\n",
      "  \n",
      " b b\n",
      "  \n",
      " b b\n",
      "  \n",
      " b b\n",
      "  \n",
      " b b\n",
      "  \n",
      " b b\n",
      "  \n",
      " b b\n",
      "  \n",
      " b b\n",
      "  \n",
      " b b\n",
      "  \n",
      " b b\n",
      "  \n",
      " b b\n",
      "  \n",
      " b b\n",
      "  \n",
      " b b\n",
      "  \n",
      " b b\n",
      "  \n",
      " b b\n",
      "  \n",
      " b b\n",
      "  \n",
      " b b\n",
      "  \n",
      " b b\n",
      "  \n",
      " b b\n",
      "  \n",
      " b b\n",
      "  \n",
      " b b\n",
      "  \n",
      " b b\n",
      "  \n",
      " b b\n",
      "  \n",
      " b b\n",
      "  \n",
      " b b\n",
      "  \n",
      " b b\n",
      "  \n",
      " b b\n",
      "  \n",
      " b b\n",
      "  \n",
      " b b\n",
      "  \n",
      " b b\n",
      "  \n",
      " b b\n",
      "  \n",
      " b b\n",
      "  \n",
      " b b\n",
      "  \n",
      " b b\n",
      "  \n",
      " b b\n",
      "  \n",
      " b b\n",
      "  \n",
      " b b\n",
      "  \n",
      " b b\n",
      "  \n",
      " b b\n",
      "  \n",
      " b b\n",
      "  \n",
      " b b\n",
      "  \n",
      " b b\n",
      "  \n",
      " b b\n",
      "  \n",
      " b b\n",
      "  \n",
      " b b\n",
      "  \n",
      " b b\n",
      "  \n",
      " b b\n",
      "  \n",
      " b b\n",
      "  \n",
      " b b\n",
      "  \n",
      " b b\n",
      "  \n",
      " b b\n",
      "  \n",
      " b b\n",
      "  \n",
      " b b\n",
      "  \n",
      " b b\n",
      "  \n",
      " b b\n",
      "  \n",
      " b b\n",
      "  \n",
      " b b\n",
      "  \n",
      " b b\n",
      "  \n",
      " b b\n",
      "  \n",
      " b b\n",
      "  \n",
      " b b\n",
      "  \n",
      " b b\n",
      "  \n",
      " b b\n",
      "  \n",
      " b b\n",
      "  \n",
      " b b\n",
      "  \n",
      " b b\n",
      "  \n",
      " b b\n",
      "  \n",
      " b b\n",
      "  \n",
      " b b\n",
      "  \n",
      " b b\n",
      "  \n",
      " b b\n",
      "  \n",
      " b b\n",
      "  \n",
      " b b\n",
      "  \n",
      " b b\n",
      "  \n",
      " b b\n",
      "  \n",
      " b b\n",
      "  \n",
      " b b\n",
      "  \n",
      " b b\n",
      "  \n",
      " b b\n",
      "  \n",
      " b b\n",
      "  \n",
      " b b\n",
      "  \n",
      " b b\n",
      "  \n",
      " b b\n",
      "  \n",
      " b b\n",
      "  \n",
      " b b\n",
      "  \n",
      " b b\n",
      "  \n",
      " b b\n",
      "  \n",
      " b b\n",
      "  \n",
      " b b\n",
      "  \n",
      " b b\n",
      "  \n",
      " b b\n",
      "  \n",
      " b b\n",
      "  \n",
      " b b\n",
      "  \n",
      " b b\n",
      "  \n",
      " b b\n",
      "  \n",
      " b b\n",
      "  \n",
      " b b\n",
      "  \n",
      " b b\n",
      "  \n",
      " b b\n",
      "  \n",
      " b b\n",
      "  \n",
      " b b\n",
      "  \n",
      " b b\n",
      "  \n",
      " b b\n",
      "  \n",
      " b b\n",
      "  \n",
      " b b\n",
      "  \n",
      " b b\n",
      "  \n",
      " b b\n",
      "  \n",
      " b b\n",
      "  \n",
      " b b\n",
      "  \n",
      " b b\n",
      "  \n",
      " b b\n",
      "  \n",
      " b b\n",
      "  \n",
      " b b\n",
      "  \n",
      " b b\n",
      "  \n",
      " b b\n",
      "  \n",
      " b b\n",
      "  \n",
      " b b\n",
      "  \n",
      " b b\n",
      "  \n",
      " b b\n",
      "  \n",
      " b b\n",
      "  \n",
      " b b\n",
      "  \n",
      " b b\n",
      "  \n",
      " b b\n",
      "  \n",
      " b b\n",
      "  \n",
      " b b\n",
      "  \n",
      " b b\n",
      "  \n",
      " b b\n",
      "  \n",
      " b b\n",
      "  \n",
      " b b\n",
      "  \n",
      " b b\n",
      "  \n",
      " b b\n",
      "  \n",
      " b b\n",
      "  \n",
      " b b\n",
      "  \n",
      " b b\n",
      "  \n",
      " b b\n",
      "  \n",
      " b b\n",
      "  \n",
      " b b\n",
      "  \n",
      " b b\n",
      "  \n",
      " b b\n",
      "  \n",
      " b b\n",
      "  \n",
      " b b\n",
      "  \n",
      " b b\n",
      "  \n",
      " b b\n",
      "  \n",
      " b b\n",
      "  \n",
      " b b\n",
      "  \n",
      " b b\n",
      "  \n",
      " b b\n",
      "  \n",
      " b b\n",
      "  \n",
      " b b\n",
      "  \n",
      " b b\n",
      "  \n",
      " b b\n",
      "  \n",
      " b b\n",
      "  \n",
      " b b\n",
      "  \n",
      " b b\n",
      "  \n",
      " b b\n",
      "  \n",
      " b b\n",
      "  \n",
      " b b\n",
      "  \n",
      " b b\n",
      "  \n",
      " b b\n",
      "  \n",
      " b b\n",
      "  \n",
      " b b\n",
      "  \n",
      " b b\n",
      "  \n",
      " b b\n",
      "  \n",
      " b b\n",
      "  \n",
      " b b\n",
      "  \n",
      " b b\n",
      "  \n",
      " b b\n",
      "  \n",
      " b b\n",
      "  \n",
      " b b\n",
      "  \n",
      " b b\n",
      "  \n",
      " b b\n",
      "  \n",
      " b b\n",
      "  \n",
      " b b\n",
      "  \n",
      " b b\n",
      "  \n",
      " b b\n",
      "  \n",
      " b b\n",
      "  \n",
      " b b\n",
      "  \n",
      " b b\n",
      "  \n",
      " b b\n",
      "  \n",
      " b b\n",
      "  \n",
      " b b\n",
      "  \n",
      " b b\n",
      "  \n",
      " b b\n",
      "  \n",
      " b b\n",
      "  \n",
      " b b\n",
      "  \n",
      " b b\n",
      "  \n",
      " b b\n",
      "  \n",
      " b b\n",
      "  \n",
      " b b\n",
      "  \n",
      " b b\n",
      "  \n",
      " b b\n",
      "  \n",
      " b b\n",
      "  \n",
      " b b\n",
      "  \n",
      " b b\n",
      "  \n",
      " b b\n",
      "  \n",
      " b b\n",
      "  \n",
      " b b\n",
      "  \n",
      " b b\n",
      "  \n",
      " b b\n",
      "  \n",
      " b b\n",
      "  \n",
      " b b\n",
      "  \n",
      " b b\n",
      "  \n",
      " b b\n",
      "  \n",
      " b b\n",
      "  \n",
      " b b\n",
      "  \n",
      " b b\n",
      "  \n",
      " b b\n",
      "  \n",
      " b b\n",
      "  \n",
      " b b\n",
      "  \n",
      " b b\n",
      "  \n",
      " b b\n",
      "  \n",
      " b b\n",
      "  \n",
      " b b\n",
      "  \n",
      " b b\n",
      "  \n",
      " b b\n",
      "  \n",
      " b b\n",
      "  \n",
      " b b\n",
      "  \n",
      " b b\n",
      "  \n",
      " b b\n",
      "  \n",
      " b b\n",
      "  \n",
      " b b\n",
      "  \n",
      " b b\n",
      "  \n",
      " b b\n",
      "  \n",
      " b b\n",
      "  \n",
      " b b\n",
      "  \n",
      " b b\n",
      "  \n",
      " b b\n",
      "  \n",
      " b b\n",
      "  \n",
      " b b\n",
      "  \n",
      " b b\n",
      "  \n",
      " b b\n",
      "  \n",
      " b b\n",
      "  \n",
      " b b\n",
      "  \n",
      " b b\n",
      "  \n",
      " b b\n",
      "  \n",
      " b b\n",
      "  \n",
      " b b\n",
      "  \n",
      " b b\n",
      "  \n",
      " b b\n",
      "  \n",
      " b b\n",
      "  \n",
      " b b\n",
      "  \n",
      " b b\n",
      "  \n",
      " b b\n",
      "  \n",
      " b b\n",
      "  \n",
      " b b\n",
      "  \n",
      " b b\n",
      "  \n",
      " b b\n",
      "  \n",
      " b b\n",
      "  \n",
      " b b\n",
      "  \n",
      " b b\n",
      "  \n",
      " b b\n",
      "  \n",
      " b b\n",
      "  \n",
      " b b\n",
      "  \n",
      " b b\n",
      "  \n",
      " b b\n",
      "  \n",
      " b b\n",
      "  \n",
      " b b\n",
      "  \n",
      " b b\n",
      "  \n",
      " b b\n",
      "  \n",
      " b b\n",
      "  \n",
      " b b\n",
      "  \n",
      " b b\n",
      "  \n",
      " b b\n",
      "  \n",
      " b b\n",
      "  \n",
      " b b\n",
      "  \n",
      " b b\n",
      "  \n",
      " b b\n",
      "  \n",
      " b b\n",
      "  \n",
      " b b\n",
      "  \n",
      " b b\n",
      "  \n",
      " b b\n",
      "  \n",
      " b b\n",
      "  \n",
      " b b\n",
      "  \n",
      " b b\n",
      "  \n",
      " b b\n",
      "  \n",
      " b b\n",
      "  \n",
      " b b\n",
      "  \n",
      " b b\n",
      "  \n",
      " b b\n",
      "  \n",
      " b b\n",
      "  \n",
      " b b\n",
      "  \n",
      " b b\n",
      "  \n",
      " b b\n",
      "  \n",
      " b b\n",
      "  \n",
      " b b\n",
      "  \n",
      " b b\n",
      "  \n",
      " b b\n",
      "  \n",
      " b b\n",
      "  \n",
      " b b\n",
      "  \n",
      " b b\n",
      "  \n",
      " b b\n",
      "  \n",
      " b b\n",
      "  \n",
      " b b\n",
      "  \n",
      " b b\n",
      "  \n",
      " b b\n",
      "  \n",
      " b b\n",
      "  \n",
      " b b\n",
      "  \n",
      " b b\n",
      "  \n",
      " b b\n",
      "  \n",
      " b b\n",
      "  \n",
      " b b\n",
      "  \n",
      " b b\n",
      "  \n",
      " b b\n",
      "  \n",
      " b b\n",
      "  \n",
      " b b\n",
      "  \n",
      " b b\n",
      "  \n",
      " b b\n",
      "  \n",
      " b b\n",
      "  \n",
      " b b\n",
      "  \n",
      " b b\n",
      "  \n",
      " b b\n",
      "  \n",
      " b b\n",
      "  \n",
      " b b\n",
      "  \n",
      " b b\n",
      "  \n",
      " b b\n",
      "  \n",
      " b b\n",
      "  \n",
      " b b\n",
      "  \n",
      " b b\n",
      "  \n",
      " b b\n",
      "  \n",
      " b b\n",
      "  \n",
      " b b\n",
      "  \n",
      " b b\n",
      "  \n",
      " b b\n",
      "  \n",
      " b b\n",
      "  \n",
      " b b\n",
      "  \n",
      " b b\n",
      "  \n",
      " b b\n",
      "  \n",
      " b b\n",
      "  \n",
      " b b\n",
      "  \n",
      " b b\n",
      "  \n",
      " b b\n",
      "  \n",
      " b b\n",
      "  \n",
      " b b\n",
      "  \n",
      " b b\n",
      "  \n",
      " b b\n",
      "  \n",
      " b b\n",
      "  \n",
      " b b\n",
      "  \n",
      " b b\n",
      "  \n",
      " b b\n",
      "  \n",
      " b b\n",
      "  \n",
      " b b\n",
      "  \n",
      " b b\n",
      "  \n",
      " b b\n",
      "  \n",
      " b b\n",
      "  \n",
      " b b\n",
      "  \n",
      " b b\n",
      "  \n",
      " b b\n",
      "  \n",
      " b b\n",
      "  \n",
      " b b\n",
      "  \n",
      " b b\n",
      "  \n",
      " b b\n",
      "  \n",
      " b b\n",
      "  \n",
      " b b\n",
      "  \n",
      " b b\n",
      "  \n",
      " b b\n",
      "  \n",
      " b b\n",
      "  \n",
      " b b\n",
      "  \n",
      " b b\n",
      "  \n",
      " b b\n",
      "  \n",
      " b b\n",
      "  \n",
      " b b\n",
      "  \n",
      " b b\n",
      "  \n",
      " b b\n",
      "  \n",
      " b b\n",
      "  \n",
      " b b\n",
      "  \n",
      " b b\n",
      "  \n",
      " b b\n",
      "  \n",
      " b b\n",
      "  \n",
      " b b\n",
      "  \n",
      " b b\n",
      "  \n",
      " b b\n",
      "  \n",
      " b b\n",
      "  \n",
      " b b\n",
      "  \n",
      " b b\n",
      "  \n",
      " b b\n",
      "  \n",
      " b b\n",
      "  \n",
      " b b\n",
      "  \n",
      " b b\n",
      "  \n",
      " b b\n",
      "  \n",
      " b b\n",
      "  \n",
      " b b\n",
      "  \n",
      " b b\n",
      "  \n",
      " b b\n",
      "  \n",
      " b b\n",
      "  \n",
      " b b\n",
      "  \n",
      " b b\n",
      "  \n",
      " b b\n",
      "  \n",
      " b b\n",
      "  \n",
      " b b\n",
      "  \n",
      " b b\n",
      "  \n",
      " b b\n",
      "  \n",
      " b b\n",
      "  \n",
      " b b\n",
      "  \n",
      " b b\n",
      "  \n",
      " b b\n",
      "  \n",
      " b b\n",
      "  \n",
      " b b\n",
      "  \n",
      " b b\n",
      "  \n",
      " b b\n",
      "  \n",
      " b b\n",
      "  \n",
      " b b\n",
      "  \n",
      " b b\n",
      "  \n",
      " b b\n",
      "  \n",
      " b b\n",
      "  \n",
      " b b\n",
      "  \n",
      " b b\n",
      "  \n",
      " b b\n",
      "  \n",
      " b b\n",
      "  \n",
      " b b\n",
      "  \n",
      " b b\n",
      "  \n",
      " b b\n",
      "  \n",
      " b b\n",
      "  \n",
      " b b\n",
      "  \n",
      " b b\n",
      "  \n",
      " b b\n",
      "  \n",
      " b b\n",
      "  \n",
      " b b\n",
      "  \n",
      " b b\n",
      "  \n",
      " b b\n",
      "  \n",
      " b b\n",
      "  \n",
      " b b\n",
      "  \n",
      " b b\n",
      "  \n",
      " b b\n",
      "  \n",
      " b b\n",
      "  \n",
      " b b\n",
      "  \n",
      " b b\n",
      "  \n",
      " b b\n",
      "  \n",
      " b b\n",
      "  \n",
      " b b\n",
      "  \n",
      " b b\n",
      "  \n",
      " b b\n",
      "  \n",
      " b b\n",
      "  \n",
      " b b\n",
      "  \n",
      " b b\n",
      "  \n",
      " b b\n",
      "  \n",
      " b b\n",
      "  \n",
      " b b\n",
      "  \n",
      " b b\n",
      "  \n",
      " b b\n",
      "  \n",
      " b b\n",
      "  \n",
      " b b\n",
      "  \n",
      " b b\n",
      "  \n",
      " b b\n",
      "  \n",
      " b b\n",
      "  \n",
      " b b\n",
      "  \n",
      " b b\n",
      "  \n",
      " b b\n",
      "  \n",
      " b b\n",
      "  \n",
      " b b\n",
      "  \n",
      " b b\n",
      "  \n",
      " b b\n",
      "  \n",
      " b b\n",
      "  \n",
      " b b\n",
      "  \n",
      " b b\n",
      "  \n",
      " b b\n",
      "  \n",
      " b b\n",
      "  \n",
      " b b\n",
      "  \n",
      " b b\n",
      "  \n",
      " b b\n",
      "  \n",
      " b b\n",
      "  \n",
      " b b\n",
      "  \n",
      " b b\n",
      "  \n",
      " b b\n",
      "  \n",
      " b b\n",
      "  \n",
      " b b\n",
      "  \n",
      " b b\n",
      "  \n",
      " b b\n",
      "  \n",
      " b b\n",
      "  \n",
      " b b\n",
      "  \n",
      " b b\n",
      "  \n",
      " b b\n",
      "  \n",
      " b b\n",
      "  \n",
      " b b\n",
      "  \n",
      " b b\n",
      "  \n",
      " b b\n",
      "  \n",
      " b b\n",
      "  \n",
      " b b\n",
      "  \n",
      " b b\n",
      "  \n",
      " b b\n",
      "  \n",
      " b b\n",
      "  \n",
      " b b\n",
      "  \n",
      " b b\n",
      "  \n",
      " b b\n",
      "  \n",
      " b b\n",
      "  \n",
      " b b\n",
      "  \n",
      " b b\n",
      "  \n",
      " b b\n",
      "  \n",
      " b b\n",
      "  \n",
      " b b\n",
      "  \n",
      " b b\n",
      "  \n",
      " b b\n",
      "  \n",
      " b b\n",
      "  \n",
      " b b\n",
      "  \n",
      " b b\n",
      "  \n",
      " b b\n",
      "  \n",
      " b b\n",
      "  \n",
      " b b\n",
      "  \n",
      " b b\n",
      "  \n",
      " b b\n",
      "  \n",
      " b b\n",
      "  \n",
      " b b\n",
      "  \n",
      " b b\n",
      "  \n",
      " b b\n",
      "  \n",
      " b b\n",
      "  \n",
      " b b\n",
      "  \n",
      " b b\n",
      "  \n",
      " b b\n",
      "  \n",
      " b b\n",
      "  \n",
      " b b\n",
      "  \n",
      " b b\n",
      "  \n",
      " b b\n",
      "  \n",
      " b b\n",
      "  \n",
      " b b\n",
      "  \n",
      " b b\n",
      "  \n",
      " b b\n",
      "  \n",
      " b b\n",
      "  \n",
      " b b\n",
      "  \n",
      " b b\n",
      "  \n",
      " b b\n",
      "  \n",
      " b b\n",
      "  \n",
      " b b\n",
      "  \n",
      " b b\n",
      "  \n",
      " b b\n",
      "  \n",
      " b b\n",
      "  \n",
      " b b\n",
      "  \n",
      " b b\n",
      "  \n",
      " b b\n",
      "  \n",
      " b b\n",
      "  \n",
      " b b\n",
      "  \n",
      " b b\n",
      "  \n",
      " b b\n",
      "  \n",
      " b b\n",
      "  \n",
      " b b\n",
      "  \n",
      " b b\n",
      "  \n",
      " b b\n",
      "  \n",
      " b b\n",
      "  \n",
      " b b\n",
      "  \n",
      " b b\n",
      "  \n",
      " b b\n",
      "  \n",
      " b b\n",
      "  \n",
      " b b\n",
      "  \n",
      " b b\n",
      "  \n",
      " b b\n",
      "  \n",
      " b b\n",
      "  \n",
      " b b\n",
      "  \n",
      " b b\n",
      "  \n",
      " b b\n",
      "  \n",
      " b b\n",
      "  \n",
      " b b\n",
      "  \n",
      " b b\n",
      "  \n",
      " b b\n",
      "  \n",
      " b b\n",
      "  \n",
      " b b\n",
      "  \n",
      " b b\n",
      "  \n",
      " b b\n",
      "  \n",
      " b b\n",
      "  \n",
      " b b\n",
      "  \n",
      " b b\n",
      "  \n",
      " b b\n",
      "  \n",
      " b b\n",
      "  \n",
      " b b\n",
      "  \n",
      " b b\n",
      "  \n",
      " b b\n",
      "  \n",
      " b b\n",
      "  \n",
      " b b\n",
      "  \n",
      " b b\n",
      "  \n",
      " b b\n",
      "  \n",
      " b b\n",
      "  \n",
      " b b\n",
      "  \n",
      " b b\n",
      "  \n",
      " b b\n",
      "  \n",
      " b b\n",
      "  \n",
      " b b\n",
      "  \n",
      " b b\n",
      "  \n",
      " b b\n",
      "  \n",
      " b b\n",
      "  \n",
      " b b\n",
      "  \n",
      " b b\n",
      "  \n",
      " b b\n",
      "  \n",
      " b b\n",
      "  \n",
      " b b\n",
      "  \n",
      " b b\n",
      "  \n",
      " b b\n",
      "  \n",
      " b b\n",
      "  \n",
      " b b\n",
      "  \n",
      " b b\n",
      "  \n",
      " b b\n",
      "  \n",
      " b b\n",
      "  \n",
      " b b\n",
      "  \n",
      " b b\n",
      "  \n",
      " b b\n",
      "  \n",
      " b b\n",
      "  \n",
      " b b\n",
      "  \n",
      " b b\n",
      "  \n",
      " b b\n",
      "  \n",
      " b b\n",
      "  \n",
      " b b\n",
      "  \n",
      " b b\n",
      "  \n",
      " b b\n",
      "  \n",
      " b b\n",
      "  \n",
      " b b\n",
      "  \n",
      " b b\n",
      "  \n",
      " b b\n",
      "  \n",
      " b b\n",
      "  \n",
      " b b\n",
      "  \n",
      " b b\n",
      "  \n",
      " b b\n",
      "  \n",
      " b b\n",
      "  \n",
      " b b\n",
      "  \n",
      " b b\n",
      "  \n",
      " b b\n",
      "  \n",
      " b b\n",
      "  \n",
      " b b\n",
      "  \n",
      " b b\n",
      "  \n",
      " b b\n",
      "  \n",
      " b b\n",
      "  \n",
      " b b\n",
      "  \n",
      " b b\n",
      "  \n",
      " b b\n",
      "  \n",
      " b b\n",
      "  \n",
      " b b\n",
      "  \n",
      " b b\n",
      "  \n",
      " b b\n",
      "  \n",
      " b b\n",
      "  \n",
      " b b\n",
      "  \n",
      " b b\n",
      "  \n",
      " b b\n",
      "  \n",
      " b b\n",
      "  \n",
      " b b\n",
      "  \n",
      " b b\n",
      "  \n",
      " b b\n",
      "  \n",
      " b b\n",
      "  \n",
      " b b\n",
      "  \n",
      " b b\n",
      "  \n",
      " b b\n",
      "  \n",
      " b b\n",
      "  \n",
      " b b\n",
      "  \n",
      " b b\n",
      "  \n",
      " b b\n",
      "  \n",
      " b b\n",
      "  \n",
      " b b\n",
      "  \n",
      " b b\n",
      "  \n",
      " b b\n",
      "  \n",
      " b b\n",
      "  \n",
      " b b\n",
      "  \n",
      " b b\n",
      "  \n",
      " b b\n",
      "  \n",
      " b b\n",
      "  \n",
      " b b\n",
      "  \n",
      " b b\n",
      "  \n",
      " b b\n",
      "  \n",
      " b b\n",
      "  \n",
      " b b\n",
      "  \n",
      " b b\n",
      "  \n",
      " b b\n",
      "  \n",
      " b b\n",
      "  \n",
      " b b\n",
      "  \n",
      " b b\n",
      "  \n",
      " b b\n",
      "  \n",
      " b b\n",
      "  \n",
      " b b\n",
      "  \n",
      " b b\n",
      "  \n",
      " b b\n",
      "  \n",
      " b b\n",
      "  \n",
      " b b\n",
      "  \n",
      " b b\n",
      "  \n",
      " b b\n",
      "  \n",
      " b b\n",
      "  \n",
      " b b\n",
      "  \n",
      " b b\n",
      "  \n",
      " b b\n",
      "  \n",
      " b b\n",
      "  \n",
      " b b\n",
      "  \n",
      " b b\n",
      "  \n",
      " b b\n",
      "  \n",
      " b b\n",
      "  \n",
      " b b\n",
      "  \n",
      " b b\n",
      "  \n",
      " b b\n",
      "  \n",
      " b b\n",
      "  \n",
      " b b\n",
      "  \n",
      " b b\n",
      "  \n",
      " b b\n",
      "  \n",
      " b b\n",
      "  \n",
      " b b\n",
      "  \n",
      " b b\n",
      "  \n",
      " b b\n",
      "  \n",
      " b b\n",
      "  \n",
      " b b\n",
      "  \n",
      " b b\n",
      "  \n",
      " b b\n",
      "  \n",
      " b b\n",
      "  \n",
      " b b\n",
      "  \n",
      " b b\n",
      "  \n",
      " b b\n",
      "  \n",
      " b b\n",
      "  \n",
      " b b\n",
      "  \n",
      " b b\n",
      "  \n",
      " b b\n",
      "  \n",
      " b b\n",
      "  \n",
      " b b\n",
      "  \n",
      " b b\n",
      "  \n",
      " b b\n",
      "  \n",
      " b b\n",
      "  \n",
      " b b\n",
      "  \n",
      " b b\n",
      "  \n",
      " b b\n",
      "  \n",
      " b b\n",
      "  \n",
      " b b\n",
      "  \n",
      " b b\n",
      "  \n",
      " b b\n",
      "  \n",
      " b b\n",
      "  \n",
      " b b\n",
      "  \n",
      " b b\n",
      "  \n",
      " b b\n",
      "  \n",
      " b b\n",
      "  \n",
      " b b\n",
      "  \n",
      " b b\n",
      "  \n",
      " b b\n",
      "  \n",
      " b b\n",
      "  \n",
      " b b\n",
      "  \n",
      " b b\n",
      "  \n",
      " b b\n",
      "  \n",
      " b b\n",
      "  \n",
      " b b\n",
      "  \n",
      " b b\n",
      "  \n",
      " b b\n",
      "  \n",
      " b b\n",
      "  \n",
      " b b\n",
      "  \n",
      " b b\n",
      "  \n",
      " b b\n",
      "  \n",
      " b b\n",
      "  \n",
      " b b\n",
      "  \n",
      " b b\n",
      "  \n",
      " b b\n",
      "  \n",
      " b b\n",
      "  \n",
      " b b\n",
      "  \n",
      " b b\n",
      "  \n",
      " b b\n",
      "  \n",
      " b b\n",
      "  \n",
      " b b\n",
      "  \n",
      " b b\n",
      "  \n",
      " b b\n",
      "  \n",
      " b b\n",
      "  \n",
      " b b\n",
      "  \n",
      " b b\n",
      "  \n",
      " b b\n",
      "  \n",
      " b b\n",
      "  \n",
      " b b\n",
      "  \n",
      " b b\n",
      "  \n",
      " b b\n",
      "  \n",
      " b b\n",
      "  \n",
      " b b\n",
      "  \n",
      " b b\n",
      "  \n",
      " b b\n",
      "  \n",
      " b b\n",
      "  \n",
      " b b\n",
      "  \n",
      " b b\n",
      "  \n",
      " b b\n",
      "  \n",
      " b b\n",
      "  \n",
      " b b\n",
      "  \n",
      " b b\n",
      "  \n",
      " b b\n",
      "  \n",
      " b b\n",
      "  \n",
      " b b\n",
      "  \n",
      " b b\n",
      "  \n",
      " b b\n",
      "  \n",
      " b b\n",
      "  \n",
      " b b\n",
      "  \n",
      " b b\n",
      "  \n",
      " b b\n",
      "  \n",
      " b b\n",
      "  \n",
      " b b\n",
      "  \n",
      " b b\n",
      "  \n",
      " b b\n",
      "  \n",
      " b b\n",
      "  \n",
      " b b\n",
      "  \n",
      " b b\n",
      "  \n",
      " b b\n",
      "  \n",
      " b b\n",
      "  \n",
      " b b\n",
      "  \n",
      " b b\n",
      "  \n",
      " b b\n",
      "  \n",
      " b b\n",
      "  \n",
      " b b\n",
      "  \n",
      " b b\n",
      "  \n",
      " b b\n",
      "  \n",
      " b b\n",
      "  \n",
      " b b\n",
      "  \n",
      " b b\n",
      "  \n",
      " b b\n",
      "  \n",
      " b b\n",
      "  \n",
      " b b\n",
      "  \n",
      " b b\n",
      "  \n",
      " b b\n",
      "  \n",
      " b b\n",
      "  \n",
      " b b\n",
      "  \n",
      " b b\n",
      "  \n",
      " b b\n",
      "  \n",
      " b b\n",
      "  \n",
      " b b\n",
      "  \n",
      " b b\n",
      "  \n",
      " b b\n",
      "  \n",
      " b b\n",
      "  \n",
      " b b\n",
      "  \n",
      " b b\n",
      "  \n",
      " b b\n",
      "  \n",
      " b b\n",
      "  \n",
      " b b\n",
      "  \n",
      " b b\n",
      "  \n",
      " b b\n",
      "  \n",
      " b b\n",
      "  \n",
      " b b\n",
      "  \n",
      " b b\n",
      "  \n",
      " b b\n",
      "  \n",
      " b b\n",
      "  \n",
      " b b\n",
      "  \n",
      " b b\n",
      "  \n",
      " b b\n",
      "  \n",
      " b b\n",
      "  \n",
      " b b\n",
      "  \n",
      " b b\n",
      "  \n",
      " b b\n",
      "  \n",
      " b b\n",
      "  \n",
      " b b\n",
      "  \n",
      " b b\n",
      "  \n",
      " b b\n",
      "  \n",
      " b b\n",
      "  \n",
      " b b\n",
      "  \n",
      " b b\n",
      "  \n",
      " b b\n",
      "  \n",
      " b b\n",
      "  \n",
      " b b\n",
      "  \n",
      " b b\n",
      "  \n",
      " b b\n",
      "  \n",
      " b b\n",
      "  \n",
      " b b\n",
      "  \n",
      " b b\n",
      "  \n",
      " b b\n",
      "  \n",
      " b b\n",
      "  \n",
      " b b\n",
      "  \n",
      " b b\n",
      "  \n",
      " b b\n",
      "  \n",
      " b b\n",
      "  \n",
      " b b\n",
      "  \n",
      " b b\n",
      "  \n",
      " b b\n",
      "  \n",
      " b b\n",
      "  \n",
      " b b\n",
      "  \n",
      " b b\n",
      "  \n",
      " b b\n",
      "  \n",
      " b b\n",
      "  \n",
      " b b\n",
      "  \n",
      " b b\n",
      "  \n",
      " b b\n",
      "  \n",
      " b b\n",
      "  \n",
      " b b\n",
      "  \n",
      " b b\n",
      "  \n",
      " b b\n",
      "  \n",
      " b b\n",
      "  \n",
      " b b\n",
      "  \n",
      " b b\n",
      "  \n",
      " b b\n",
      "  \n",
      " b b\n",
      "  \n",
      " b b\n",
      "  \n",
      " b b\n",
      "  \n",
      " b b\n",
      "  \n",
      " b b\n",
      "  \n",
      " b b\n",
      "  \n",
      " b b\n",
      "  \n",
      " b b\n",
      "  \n",
      " b b\n",
      "  \n",
      " b b\n",
      "  \n",
      " b b\n",
      "  \n",
      " b b\n",
      "  \n",
      " b b\n",
      "  \n",
      " b b\n",
      "  \n",
      " b b\n",
      "  \n",
      " b b\n",
      "  \n",
      " b b\n",
      "  \n",
      " b b\n",
      "  \n",
      " b b\n",
      "  \n",
      " b b\n",
      "  \n",
      " b b\n",
      "  \n",
      " b b\n",
      "  \n",
      " b b\n",
      "  \n",
      " b b\n",
      "  \n",
      " b b\n",
      "  \n",
      " b b\n",
      "  \n",
      " b b\n",
      "  \n",
      " b b\n",
      "  \n",
      " b b\n",
      "  \n",
      " b b\n",
      "  \n",
      " b b\n",
      "  \n",
      " b b\n",
      "  \n",
      " b b\n",
      "  \n",
      " b b\n",
      "  \n",
      " b b\n",
      "  \n",
      " b b\n",
      "  \n",
      " b b\n",
      "  \n",
      " b b\n",
      "  \n",
      " b b\n",
      "  \n",
      " b b\n",
      "  \n",
      " b b\n",
      "  \n",
      " b b\n",
      "  \n",
      " b b\n",
      "  \n",
      " b b\n",
      "  \n",
      " b b\n",
      "  \n",
      " b b\n",
      "  \n",
      " b b\n",
      "  \n",
      " b b\n",
      "  \n",
      " b b\n",
      "  \n",
      " b b\n",
      "  \n",
      " b b\n",
      "  \n",
      " b b\n",
      "  \n",
      " b b\n",
      "  \n",
      " b b\n",
      "  \n",
      " b b\n",
      "  \n",
      " b b\n",
      "  \n",
      " b b\n",
      "  \n",
      " b b\n",
      "  \n",
      " b b\n",
      "  \n",
      " b b\n",
      "  \n",
      " b b\n",
      "  \n",
      " b b\n",
      "  \n",
      " b b\n",
      "  \n",
      " b b\n",
      "  \n",
      " b b\n",
      "  \n",
      " b b\n",
      "  \n",
      " b b\n",
      "  \n",
      " b b\n",
      "  \n",
      " b b\n",
      "  \n",
      " b b\n",
      "  \n",
      " b b\n",
      "  \n",
      " b b\n",
      "  \n",
      " b b\n",
      "  \n",
      " b b\n",
      "  \n",
      " b b\n",
      "  \n",
      " b b\n",
      "  \n",
      " b b\n",
      "  \n",
      " b b\n",
      "  \n",
      " b b\n",
      "  \n",
      " b b\n",
      "  \n",
      " b b\n",
      "  \n",
      " b b\n",
      "  \n",
      " b b\n",
      "  \n",
      " b b\n",
      "  \n",
      " b b\n",
      "  \n",
      " b b\n",
      "  \n",
      " b b\n",
      "  \n",
      " b b\n",
      "  \n",
      " b b\n",
      "  \n",
      " b b\n",
      "  \n",
      " b b\n",
      "  \n",
      " b b\n",
      "  \n",
      " b b\n",
      "  \n",
      " b b\n",
      "  \n",
      " b b\n",
      "  \n",
      " b b\n",
      "  \n",
      " b b\n",
      "  \n",
      " b b\n",
      "  \n",
      " b b\n",
      "  \n",
      " b b\n",
      "  \n",
      " b b\n",
      "  \n",
      " b b\n",
      "  \n",
      " b b\n",
      "  \n",
      " b b\n",
      "  \n",
      " b b\n",
      "  \n",
      " b b\n",
      "  \n",
      " b b\n",
      "  \n",
      " b b\n",
      "  \n",
      " b b\n",
      "  \n",
      " b b\n",
      "  \n",
      " b b\n",
      "  \n",
      " b b\n",
      "  \n",
      " b b\n",
      "  \n",
      " b b\n",
      "  \n",
      " b b\n",
      "  \n",
      " b b\n",
      "  \n",
      " b b\n",
      "  \n",
      " b b\n",
      "  \n",
      " b b\n",
      "  \n",
      " b b\n",
      "  \n",
      " b b\n",
      "  \n",
      " b b\n",
      "  \n",
      " b b\n",
      "  \n",
      " b b\n",
      "  \n",
      " b b\n",
      "  \n",
      " b b\n",
      "  \n",
      " b b\n",
      "  \n",
      " b b\n",
      "  \n",
      " b b\n",
      "  \n",
      " b b\n",
      "  \n",
      " b b\n",
      "  \n",
      " b b\n",
      "  \n",
      " b b\n",
      "  \n",
      " b b\n",
      "  \n",
      " b b\n",
      "  \n",
      " b b\n",
      "  \n",
      " b b\n",
      "  \n",
      " b b\n",
      "  \n",
      " b b\n",
      "  \n",
      " b b\n",
      "  \n",
      " b b\n",
      "  \n",
      " b b\n",
      "  \n",
      " b b\n",
      "  \n",
      " b b\n",
      "  \n",
      " b b\n",
      "  \n",
      " b b\n",
      "  \n",
      " b b\n",
      "  \n",
      " b b\n",
      "  \n",
      " b b\n",
      "  \n",
      " b b\n",
      "  \n",
      " b b\n",
      "  \n",
      " b b\n",
      "  \n",
      " b b\n",
      "  \n",
      " b b\n",
      "  \n",
      " b b\n",
      "  \n",
      " b b\n",
      "  \n",
      " b b\n",
      "  \n",
      " b b\n",
      "  \n",
      " b b\n",
      "  \n",
      " b b\n",
      "  \n",
      " b b\n",
      "  \n",
      " b b\n",
      "  \n",
      " b b\n",
      "  \n",
      " b b\n",
      "  \n",
      " b b\n",
      "  \n",
      " b b\n",
      "  \n",
      " b b\n",
      "  \n",
      " b b\n",
      "  \n",
      " b b\n",
      "  \n",
      " b b\n",
      "  \n",
      " b b\n"
     ]
    },
    {
     "name": "stdout",
     "output_type": "stream",
     "text": [
      "  \n",
      " b b\n",
      "  \n",
      " b b\n",
      "  \n",
      " b b\n",
      "  \n",
      " b b\n",
      "  \n",
      " b b\n",
      "  \n",
      " b b\n",
      "  \n",
      " b b\n",
      "  \n",
      " b b\n",
      "  \n",
      " b b\n",
      "  \n",
      " b b\n",
      "  \n",
      " b b\n",
      "  \n",
      " b b\n",
      "  \n",
      " b b\n",
      "  \n",
      " b b\n",
      "  \n",
      " b b\n",
      "  \n",
      " b b\n",
      "  \n",
      " b b\n",
      "  \n",
      " b b\n",
      "  \n",
      " b b\n",
      "  \n",
      " b b\n",
      "  \n",
      " b b\n",
      "  \n",
      " b b\n",
      "  \n",
      " b b\n",
      "  \n",
      " b b\n",
      "  \n",
      " b b\n",
      "  \n",
      " b b\n",
      "  \n",
      " b b\n",
      "  \n",
      " b b\n",
      "  \n",
      " b b\n",
      "  \n",
      " b b\n",
      "  \n",
      " b b\n",
      "  \n",
      " b b\n",
      "  \n",
      " b b\n",
      "  \n",
      " b b\n",
      "  \n",
      " b b\n",
      "  \n",
      " b b\n",
      "  \n",
      " b b\n",
      "  \n",
      " b b\n",
      "  \n",
      " b b\n",
      "  \n",
      " b b\n",
      "  \n",
      " b b\n",
      "  \n",
      " b b\n",
      "  \n",
      " b b\n",
      "  \n",
      " b b\n",
      "  \n",
      " b b\n",
      "  \n",
      " b b\n",
      "  \n",
      " b b\n",
      "  \n",
      " b b\n",
      "  \n",
      " b b\n",
      "  \n",
      " b b\n",
      "  \n",
      " b b\n",
      "  \n",
      " b b\n",
      "  \n",
      " b b\n",
      "  \n",
      " b b\n",
      "  \n",
      " b b\n",
      "  \n",
      " b b\n",
      "  \n",
      " b b\n",
      "  \n",
      " b b\n",
      "  \n",
      " b b\n",
      "  \n",
      " b b\n",
      "  \n",
      " b b\n",
      "  \n",
      " b b\n",
      "  \n",
      " b b\n",
      "  \n",
      " b b\n",
      "  \n",
      " b b\n",
      "  \n",
      " b b\n",
      "  \n",
      " b b\n",
      "  \n",
      " b b\n",
      "  \n",
      " b b\n",
      "  \n",
      " b b\n",
      "  \n",
      " b b\n",
      "  \n",
      " b b\n",
      "  \n",
      " b b\n",
      "  \n",
      " b b\n",
      "  \n",
      " b b\n",
      "  \n",
      " b b\n",
      "  \n",
      " b b\n",
      "  \n",
      " b b\n",
      "  \n",
      " b b\n",
      "  \n",
      " b b\n",
      "  \n",
      " b b\n",
      "  \n",
      " b b\n",
      "  \n",
      " b b\n",
      "  \n",
      " b b\n",
      "  \n",
      " b b\n",
      "  \n",
      " b b\n",
      "  \n",
      " b b\n",
      "  \n",
      " b b\n",
      "  \n",
      " b b\n",
      "  \n",
      " b b\n",
      "  \n",
      " b b\n",
      "  \n",
      " b b\n",
      "  \n",
      " b b\n",
      "  \n",
      " b b\n",
      "  \n",
      " b b\n",
      "  \n",
      " b b\n",
      "  \n",
      " b b\n",
      "  \n",
      " b b\n",
      "  \n",
      " b b\n",
      "  \n",
      " b b\n",
      "  \n",
      " b b\n",
      "  \n",
      " b b\n",
      "  \n",
      " b b\n",
      "  \n",
      " b b\n",
      "  \n",
      " b b\n",
      "  \n",
      " b b\n",
      "  \n",
      " b b\n",
      "  \n",
      " b b\n",
      "  \n",
      " b b\n",
      "  \n",
      " b b\n",
      "  \n",
      " b b\n",
      "  \n",
      " b b\n",
      "  \n",
      " b b\n",
      "  \n",
      " b b\n",
      "  \n",
      " b b\n",
      "  \n",
      " b b\n",
      "  \n",
      " b b\n",
      "  \n",
      " b b\n",
      "  \n",
      " b b\n",
      "  \n",
      " b b\n",
      "  \n",
      " b b\n",
      "  \n",
      " b b\n",
      "  \n",
      " b b\n",
      "  \n",
      " b b\n",
      "  \n",
      " b b\n",
      "  \n",
      " b b\n",
      "  \n",
      " b b\n",
      "  \n",
      " b b\n",
      "  \n",
      " b b\n",
      "  \n",
      " b b\n",
      "  \n",
      " b b\n",
      "  \n",
      " b b\n",
      "  \n",
      " b b\n",
      "  \n",
      " b b\n",
      "  \n",
      " b b\n",
      "  \n",
      " b b\n",
      "  \n",
      " b b\n",
      "  \n",
      " b b\n",
      "  \n",
      " b b\n",
      "  \n",
      " b b\n",
      "  \n",
      " b b\n",
      "  \n",
      " b b\n",
      "  \n",
      " b b\n",
      "  \n",
      " b b\n",
      "  \n",
      " b b\n",
      "  \n",
      " b b\n",
      "  \n",
      " b b\n",
      "  \n",
      " b b\n",
      "  \n",
      " b b\n",
      "  \n",
      " b b\n",
      "  \n",
      " b b\n",
      "  \n",
      " b b\n",
      "  \n",
      " b b\n",
      "  \n",
      " b b\n",
      "  \n",
      " b b\n",
      "  \n",
      " b b\n",
      "  \n",
      " b b\n",
      "  \n",
      " b b\n",
      "  \n",
      " b b\n",
      "  \n",
      " b b\n",
      "  \n",
      " b b\n",
      "  \n",
      " b b\n",
      "  \n",
      " b b\n",
      "  \n",
      " b b\n",
      "  \n",
      " b b\n",
      "  \n",
      " b b\n",
      "  \n",
      " b b\n",
      "  \n",
      " b b\n",
      "  \n",
      " b b\n",
      "  \n",
      " b b\n",
      "  \n",
      " b b\n",
      "  \n",
      " b b\n",
      "  \n",
      " b b\n",
      "  \n",
      " b b\n",
      "  \n",
      " b b\n",
      "  \n",
      " b b\n",
      "  \n",
      " b b\n",
      "  \n",
      " b b\n",
      "  \n",
      " b b\n",
      "  \n",
      " b b\n",
      "  \n",
      " b b\n",
      "  \n",
      " b b\n",
      "  \n",
      " b b\n",
      "  \n",
      " b b\n",
      "  \n",
      " b b\n",
      "  \n",
      " b b\n",
      "  \n",
      " b b\n",
      "  \n",
      " b b\n",
      "  \n",
      " b b\n",
      "  \n",
      " b b\n",
      "  \n",
      " b b\n",
      "  \n",
      " b b\n",
      "  \n",
      " b b\n",
      "  \n",
      " b b\n",
      "  \n",
      " b b\n",
      "  \n",
      " b b\n",
      "  \n",
      " b b\n",
      "  \n",
      " b b\n",
      "  \n",
      " b b\n",
      "  \n",
      " b b\n",
      "  \n",
      " b b\n",
      "  \n",
      " b b\n",
      "  \n",
      " b b\n",
      "  \n",
      " b b\n",
      "  \n",
      " b b\n",
      "  \n",
      " b b\n",
      "  \n",
      " b b\n",
      "  \n",
      " b b\n",
      "  \n",
      " b b\n",
      "  \n",
      " b b\n",
      "  \n",
      " b b\n",
      "  \n",
      " b b\n",
      "  \n",
      " b b\n",
      "  \n",
      " b b\n",
      "  \n",
      " b b\n",
      "  \n",
      " b b\n",
      "  \n",
      " b b\n",
      "  \n",
      " b b\n",
      "  \n",
      " b b\n",
      "  \n",
      " b b\n",
      "  \n",
      " b b\n",
      "  \n",
      " b b\n",
      "  \n",
      " b b\n",
      "  \n",
      " b b\n",
      "  \n",
      " b b\n",
      "  \n",
      " b b\n",
      "  \n",
      " b b\n",
      "  \n",
      " b b\n",
      "  \n",
      " b b\n",
      "  \n",
      " b b\n",
      "  \n",
      " b b\n",
      "  \n",
      " b b\n",
      "  \n",
      " b b\n",
      "  \n",
      " b b\n",
      "  \n",
      " b b\n",
      "  \n",
      " b b\n",
      "  \n",
      " b b\n",
      "  \n",
      " b b\n",
      "  \n",
      " b b\n",
      "  \n",
      " b b\n",
      "  \n",
      " b b\n",
      "  \n",
      " b b\n",
      "  \n",
      " b b\n",
      "  \n",
      " b b\n",
      "  \n",
      " b b\n",
      "  \n",
      " b b\n",
      "  \n",
      " b b\n",
      "  \n",
      " b b\n",
      "  \n",
      " b b\n",
      "  \n",
      " b b\n",
      "  \n",
      " b b\n",
      "  \n",
      " b b\n",
      "  \n",
      " b b\n",
      "  \n",
      " b b\n",
      "  \n",
      " b b\n",
      "  \n",
      " b b\n",
      "  \n",
      " b b\n",
      "  \n",
      " b b\n",
      "  \n",
      " b b\n",
      "  \n",
      " b b\n",
      "  \n",
      " b b\n",
      "  \n",
      " b b\n",
      "  \n",
      " b b\n",
      "  \n",
      " b b\n",
      "  \n",
      " b b\n",
      "  \n",
      " b b\n",
      "  \n",
      " b b\n",
      "  \n",
      " b b\n",
      "  \n",
      " b b\n",
      "  \n",
      " b b\n",
      "  \n",
      " b b\n",
      "  \n",
      " b b\n",
      "  \n",
      " b b\n",
      "  \n",
      " b b\n",
      "  \n",
      " b b\n",
      "  \n",
      " b b\n",
      "  \n",
      " b b\n",
      "  \n",
      " b b\n",
      "  \n",
      " b b\n",
      "  \n",
      " b b\n",
      "  \n",
      " b b\n",
      "  \n",
      " b b\n",
      "  \n",
      " b b\n",
      "  \n",
      " b b\n",
      "  \n",
      " b b\n",
      "  \n",
      " b b\n",
      "  \n",
      " b b\n",
      "  \n",
      " b b\n",
      "  \n",
      " b b\n",
      "  \n",
      " b b\n",
      "  \n",
      " b b\n",
      "  \n",
      " b b\n",
      "  \n",
      " b b\n",
      "  \n",
      " b b\n",
      "  \n",
      " b b\n",
      "  \n",
      " b b\n",
      "  \n",
      " b b\n",
      "  \n",
      " b b\n",
      "  \n",
      " b b\n",
      "  \n",
      " b b\n",
      "  \n",
      " b b\n",
      "  \n",
      " b b\n",
      "  \n",
      " b b\n",
      "  \n",
      " b b\n",
      "  \n",
      " b b\n",
      "  \n",
      " b b\n",
      "  \n",
      " b b\n",
      "  \n",
      " b b\n",
      "  \n",
      " b b\n",
      "  \n",
      " b b\n",
      "  \n",
      " b b\n",
      "  \n",
      " b b\n",
      "  \n",
      " b b\n",
      "  \n",
      " b b\n",
      "  \n",
      " b b\n",
      "  \n",
      " b b\n",
      "  \n",
      " b b\n",
      "  \n",
      " b b\n",
      "  \n",
      " b b\n",
      "  \n",
      " b b\n",
      "  \n",
      " b b\n",
      "  \n",
      " b b\n",
      "  \n",
      " b b\n",
      "  \n",
      " b b\n",
      "  \n",
      " b b\n",
      "  \n",
      " b b\n",
      "  \n",
      " b b\n",
      "  \n",
      " b b\n",
      "  \n",
      " b b\n",
      "  \n",
      " b b\n",
      "  \n",
      " b b\n",
      "  \n",
      " b b\n",
      "  \n",
      " b b\n",
      "  \n",
      " b b\n",
      "  \n",
      " b b\n",
      "  \n",
      " b b\n",
      "  \n",
      " b b\n",
      "  \n",
      " b b\n",
      "  \n",
      " b b\n",
      "  \n",
      " b b\n",
      "  \n",
      " b b\n",
      "  \n",
      " b b\n",
      "  \n",
      " b b\n",
      "  \n",
      " b b\n",
      "  \n",
      " b b\n",
      "  \n",
      " b b\n",
      "  \n",
      " b b\n",
      "  \n",
      " b b\n",
      "  \n",
      " b b\n",
      "  \n",
      " b b\n",
      "  \n",
      " b b\n",
      "  \n",
      " b b\n",
      "  \n",
      " b b\n",
      "  \n",
      " b b\n",
      "  \n",
      " b b\n",
      "  \n",
      " b b\n",
      "  \n",
      " b b\n",
      "  \n",
      " b b\n",
      "  \n",
      " b b\n",
      "  \n",
      " b b\n",
      "  \n",
      " b b\n",
      "  \n",
      " b b\n",
      "  \n",
      " b b\n",
      "  \n",
      " b b\n",
      "  \n",
      " b b\n",
      "  \n",
      " b b\n",
      "  \n",
      " b b\n",
      "  \n",
      " b b\n",
      "  \n",
      " b b\n",
      "  \n",
      " b b\n",
      "  \n",
      " b b\n",
      "  \n",
      " b b\n",
      "  \n",
      " b b\n",
      "  \n",
      " b b\n",
      "  \n",
      " b b\n",
      "  \n",
      " b b\n",
      "  \n",
      " b b\n",
      "  \n",
      " b b\n",
      "  \n",
      " b b\n",
      "  \n",
      " b b\n",
      "  \n",
      " b b\n",
      "  \n",
      " b b\n",
      "  \n",
      " b b\n",
      "  \n",
      " b b\n",
      "  \n",
      " b b\n",
      "  \n",
      " b b\n",
      "  \n",
      " b b\n",
      "  \n",
      " b b\n",
      "  \n",
      " b b\n",
      "  \n",
      " b b\n",
      "  \n",
      " b b\n",
      "  \n",
      " b b\n",
      "  \n",
      " b b\n",
      "  \n",
      " b b\n",
      "  \n",
      " b b\n",
      "  \n",
      " b b\n",
      "  \n",
      " b b\n",
      "  \n",
      " b b\n",
      "  \n",
      " b b\n",
      "  \n",
      " b b\n",
      "  \n",
      " b b\n",
      "  \n",
      " b b\n",
      "  \n",
      " b b\n",
      "  \n",
      " b b\n",
      "  \n",
      " b b\n",
      "  \n",
      " b b\n",
      "  \n",
      " b b\n",
      "  \n",
      " b b\n",
      "  \n",
      " b b\n",
      "  \n",
      " b b\n",
      "  \n",
      " b b\n",
      "  \n",
      " b b\n",
      "  \n",
      " b b\n",
      "  \n",
      " b b\n",
      "  \n",
      " b b\n",
      "  \n",
      " b b\n",
      "  \n",
      " b b\n",
      "  \n",
      " b b\n",
      "  \n",
      " b b\n",
      "  \n",
      " b b\n",
      "  \n",
      " b b\n",
      "  \n",
      " b b\n",
      "  \n",
      " b b\n",
      "  \n",
      " b b\n",
      "  \n",
      " b b\n",
      "  \n",
      " b b\n",
      "  \n",
      " b b\n",
      "  \n",
      " b b\n",
      "  \n",
      " b b\n",
      "  \n",
      " b b\n",
      "  \n",
      " b b\n",
      "  \n",
      " b b\n",
      "  \n",
      " b b\n",
      "  \n",
      " b b\n",
      "  \n",
      " b b\n",
      "  \n",
      " b b\n",
      "  \n",
      " b b\n",
      "  \n",
      " b b\n",
      "  \n",
      " b b\n",
      "  \n",
      " b b\n",
      "  \n",
      " b b\n",
      "  \n",
      " b b\n",
      "  \n",
      " b b\n",
      "  \n",
      " b b\n",
      "  \n",
      " b b\n",
      "  \n",
      " b b\n",
      "  \n",
      " b b\n",
      "  \n",
      " b b\n",
      "  \n",
      " b b\n",
      "  \n",
      " b b\n",
      "  \n",
      " b b\n",
      "  \n",
      " b b\n",
      "  \n",
      " b b\n",
      "  \n",
      " b b\n",
      "  \n",
      " b b\n",
      "  \n",
      " b b\n",
      "  \n",
      " b b\n",
      "  \n",
      " b b\n",
      "  \n",
      " b b\n",
      "  \n",
      " b b\n",
      "  \n",
      " b b\n",
      "  \n",
      " b b\n",
      "  \n",
      " b b\n",
      "  \n",
      " b b\n",
      "  \n",
      " b b\n",
      "  \n",
      " b b\n",
      "  \n",
      " b b\n",
      "  \n",
      " b b\n",
      "  \n",
      " b b\n",
      "  \n",
      " b b\n",
      "  \n",
      " b b\n",
      "  \n",
      " b b\n",
      "  \n",
      " b b\n",
      "  \n",
      " b b\n",
      "  \n",
      " b b\n",
      "  \n",
      " b b\n",
      "  \n",
      " b b\n",
      "  \n",
      " b b\n",
      "  \n",
      " b b\n",
      "  \n",
      " b b\n",
      "  \n",
      " b b\n",
      "  \n",
      " b b\n",
      "  \n",
      " b b\n",
      "  \n",
      " b b\n",
      "  \n",
      " b b\n",
      "  \n",
      " b b\n",
      "  \n",
      " b b\n",
      "  \n",
      " b b\n",
      "  \n",
      " b b\n",
      "  \n",
      " b b\n",
      "  \n",
      " b b\n",
      "  \n",
      " b b\n",
      "  \n",
      " b b\n",
      "  \n",
      " b b\n",
      "  \n",
      " b b\n",
      "  \n",
      " b b\n",
      "  \n",
      " b b\n",
      "  \n",
      " b b\n",
      "  \n",
      " b b\n",
      "  \n",
      " b b\n",
      "  \n",
      " b b\n",
      "  \n",
      " b b\n",
      "  \n",
      " b b\n",
      "  \n",
      " b b\n",
      "  \n",
      " b b\n",
      "  \n",
      " b b\n",
      "  \n",
      " b b\n",
      "  \n",
      " b b\n",
      "  \n",
      " b b\n",
      "  \n",
      " b b\n",
      "  \n",
      " b b\n",
      "  \n",
      " b b\n",
      "  \n",
      " b b\n",
      "  \n",
      " b b\n",
      "  \n",
      " b b\n",
      "  \n",
      " b b\n",
      "  \n",
      " b b\n",
      "  \n",
      " b b\n",
      "  \n",
      " b b\n",
      "  \n",
      " b b\n",
      "  \n",
      " b b\n",
      "  \n",
      " b b\n",
      "  \n",
      " b b\n",
      "  \n",
      " b b\n",
      "  \n",
      " b b\n",
      "  \n",
      " b b\n",
      "  \n",
      " b b\n",
      "  \n",
      " b b\n",
      "  \n",
      " b b\n",
      "  \n",
      " b b\n",
      "  \n",
      " b b\n",
      "  \n",
      " b b\n",
      "  \n",
      " b b\n",
      "  \n",
      " b b\n",
      "  \n",
      " b b\n",
      "  \n",
      " b b\n",
      "  \n",
      " b b\n",
      "  \n",
      " b b\n",
      "  \n",
      " b b\n",
      "  \n",
      " b b\n",
      "  \n",
      " b b\n",
      "  \n",
      " b b\n",
      "  \n",
      " b b\n",
      "  \n",
      " b b\n",
      "  \n",
      " b b\n",
      "  \n",
      " b b\n",
      "  \n",
      " b b\n",
      "  \n",
      " b b\n",
      "  \n",
      " b b\n",
      "  \n",
      " b b\n",
      "  \n",
      " b b\n",
      "  \n",
      " b b\n",
      "  \n",
      " b b\n",
      "  \n",
      " b b\n",
      "  \n",
      " b b\n",
      "  \n",
      " b b\n",
      "  \n",
      " b b\n",
      "  \n",
      " b b\n",
      "  \n",
      " b b\n",
      "  \n",
      " b b\n",
      "  \n",
      " b b\n",
      "  \n",
      " b b\n",
      "  \n",
      " b b\n",
      "  \n",
      " b b\n",
      "  \n",
      " b b\n",
      "  \n",
      " b b\n",
      "  \n",
      " b b\n",
      "  \n",
      " b b\n",
      "  \n",
      " b b\n",
      "  \n",
      " b b\n",
      "  \n",
      " b b\n",
      "  \n",
      " b b\n",
      "  \n",
      " b b\n",
      "  \n",
      " b b\n",
      "  \n",
      " b b\n",
      "  \n",
      " b b\n",
      "  \n",
      " b b\n",
      "  \n",
      " b b\n",
      "  \n",
      " b b\n",
      "  \n",
      " b b\n",
      "  \n",
      " b b\n",
      "  \n",
      " b b\n",
      "  \n",
      " b b\n",
      "  \n",
      " b b\n",
      "  \n",
      " b b\n",
      "  \n",
      " b b\n",
      "  \n",
      " b b\n",
      "  \n",
      " b b\n",
      "  \n",
      " b b\n",
      "  \n",
      " b b\n",
      "  \n",
      " b b\n",
      "  \n",
      " b b\n",
      "  \n",
      " b b\n",
      "  \n",
      " b b\n",
      "  \n",
      " b b\n",
      "  \n",
      " b b\n",
      "  \n",
      " b b\n",
      "  \n",
      " b b\n",
      "  \n",
      " b b\n",
      "  \n",
      " b b\n",
      "  \n",
      " b b\n",
      "  \n",
      " b b\n",
      "  \n",
      " b b\n",
      "  \n",
      " b b\n",
      "  \n",
      " b b\n",
      "  \n",
      " b b\n",
      "  \n",
      " b b\n",
      "  \n",
      " b b\n",
      "  \n",
      " b b\n",
      "  \n",
      " b b\n",
      "  \n",
      " b b\n",
      "  \n",
      " b b\n",
      "  \n",
      " b b\n",
      "  \n",
      " b b\n",
      "  \n",
      " b b\n",
      "  \n",
      " b b\n",
      "  \n",
      " b b\n",
      "  \n",
      " b b\n",
      "  \n",
      " b b\n",
      "  \n",
      " b b\n",
      "  \n",
      " b b\n",
      "  \n",
      " b b\n",
      "  \n",
      " b b\n",
      "  \n",
      " b b\n",
      "  \n",
      " b b\n",
      "  \n",
      " b b\n",
      "  \n",
      " b b\n",
      "  \n",
      " b b\n",
      "  \n",
      " b b\n",
      "  \n",
      " b b\n",
      "  \n",
      " b b\n",
      "  \n",
      " b b\n",
      "  \n",
      " b b\n",
      "  \n",
      " b b\n",
      "  \n",
      " b b\n",
      "  \n",
      " b b\n",
      "  \n",
      " b b\n",
      "  \n",
      " b b\n",
      "  \n",
      " b b\n",
      "  \n",
      " b b\n",
      "  \n",
      " b b\n",
      "  \n",
      " b b\n",
      "  \n",
      " b b\n",
      "  \n",
      " b b\n",
      "  \n",
      " b b\n",
      "  \n",
      " b b\n",
      "  \n",
      " b b\n",
      "  \n",
      " b b\n",
      "  \n",
      " b b\n",
      "  \n",
      " b b\n",
      "  \n",
      " b b\n",
      "  \n",
      " b b\n",
      "  \n",
      " b b\n",
      "  \n",
      " b b\n",
      "  \n",
      " b b\n",
      "  \n",
      " b b\n",
      "  \n",
      " b b\n",
      "  \n",
      " b b\n",
      "  \n",
      " b b\n",
      "  \n",
      " b b\n",
      "  \n",
      " b b\n",
      "  \n",
      " b b\n",
      "  \n",
      " b b\n",
      "  \n",
      " b b\n",
      "  \n",
      " b b\n",
      "  \n",
      " b b\n",
      "  \n",
      " b b\n",
      "  \n",
      " b b\n",
      "  \n",
      " b b\n",
      "  \n",
      " b b\n",
      "  \n",
      " b b\n",
      "  \n",
      " b b\n",
      "  \n",
      " b b\n",
      "  \n",
      " b b\n",
      "  \n",
      " b b\n",
      "  \n",
      " b b\n",
      "  \n",
      " b b\n",
      "  \n",
      " b b\n",
      "  \n",
      " b b\n",
      "  \n",
      " b b\n",
      "  \n",
      " b b\n",
      "  \n",
      " b b\n",
      "  \n",
      " b b\n",
      "  \n",
      " b b\n",
      "  \n",
      " b b\n",
      "  \n",
      " b b\n",
      "  \n",
      " b b\n",
      "  \n",
      " b b\n",
      "  \n",
      " b b\n",
      "  \n",
      " b b\n",
      "  \n",
      " b b\n",
      "  \n",
      " b b\n",
      "  \n",
      " b b\n",
      "  \n",
      " b b\n",
      "  \n",
      " b b\n",
      "  \n",
      " b b\n",
      "  \n",
      " b b\n",
      "  \n",
      " b b\n",
      "  \n",
      " b b\n",
      "  \n",
      " b b\n",
      "  \n",
      " b b\n",
      "  \n",
      " b b\n",
      "  \n",
      " b b\n",
      "  \n",
      " b b\n",
      "  \n",
      " b b\n",
      "  \n",
      " b b\n",
      "  \n",
      " b b\n",
      "  \n",
      " b b\n",
      "  \n",
      " b b\n",
      "  \n",
      " b b\n",
      "  \n",
      " b b\n",
      "  \n",
      " b b\n",
      "  \n",
      " b b\n",
      "  \n",
      " b b\n",
      "  \n",
      " b b\n",
      "  \n",
      " b b\n",
      "  \n",
      " b b\n",
      "  \n",
      " b b\n",
      "  \n",
      " b b\n",
      "  \n",
      " b b\n",
      "  \n",
      " b b\n",
      "  \n",
      " b b\n",
      "  \n",
      " b b\n",
      "  \n",
      " b b\n",
      "  \n",
      " b b\n",
      "  \n",
      " b b\n",
      "  \n",
      " b b\n",
      "  \n",
      " b b\n",
      "  \n",
      " b b\n",
      "  \n",
      " b b\n",
      "  \n",
      " b b\n",
      "  \n",
      " b b\n",
      "  \n",
      " b b\n",
      "  \n",
      " b b\n",
      "  \n",
      " b b\n",
      "  \n",
      " b b\n",
      "  \n",
      " b b\n",
      "  \n",
      " b b\n",
      "  \n",
      " b b\n",
      "  \n",
      " b b\n",
      "  \n",
      " b b\n",
      "  \n",
      " b b\n",
      "  \n",
      " b b\n",
      "  \n",
      " b b\n",
      "  \n",
      " b b\n",
      "  \n",
      " b b\n",
      "  \n",
      " b b\n",
      "  \n",
      " b b\n",
      "  \n",
      " b b\n",
      "  \n",
      " b b\n",
      "  \n",
      " b b\n",
      "  \n",
      " b b\n",
      "  \n",
      " b b\n",
      "  \n",
      " b b\n",
      "  \n",
      " b b\n",
      "  \n",
      " b b\n",
      "  \n",
      " b b\n",
      "  \n",
      " b b\n",
      "  \n",
      " b b\n",
      "  \n",
      " b b\n",
      "  \n",
      " b b\n",
      "  \n",
      " b b\n",
      "  \n",
      " b b\n",
      "  \n",
      " b b\n",
      "  \n",
      " b b\n",
      "  \n",
      " b b\n",
      "  \n",
      " b b\n",
      "  \n",
      " b b\n",
      "  \n",
      " b b\n",
      "  \n",
      " b b\n",
      "  \n",
      " b b\n",
      "  \n",
      " b b\n",
      "  \n",
      " b b\n",
      "  \n",
      " b b\n",
      "  \n",
      " b b\n",
      "  \n",
      " b b\n",
      "  \n",
      " b b\n",
      "  \n",
      " b b\n",
      "  \n",
      " b b\n",
      "  \n",
      " b b\n",
      "  \n",
      " b b\n",
      "  \n",
      " b b\n",
      "  \n",
      " b b\n",
      "  \n",
      " b b\n",
      "  \n",
      " b b\n",
      "  \n",
      " b b\n",
      "  \n",
      " b b\n",
      "  \n",
      " b b\n",
      "  \n",
      " b b\n",
      "  \n",
      " b b\n",
      "  \n",
      " b b\n",
      "  \n",
      " b b\n",
      "  \n",
      " b b\n",
      "  \n",
      " b b\n",
      "  \n",
      " b b\n",
      "  \n",
      " b b\n",
      "  \n",
      " b b\n",
      "  \n",
      " b b\n",
      "  \n",
      " b b\n",
      "  \n",
      " b b\n",
      "  \n",
      " b b\n",
      "  \n",
      " b b\n",
      "  \n",
      " b b\n",
      "  \n",
      " b b\n",
      "  \n",
      " b b\n",
      "  \n",
      " b b\n",
      "  \n",
      " b b\n",
      "  \n",
      " b b\n",
      "  \n",
      " b b\n",
      "  \n",
      " b b\n",
      "  \n",
      " b b\n",
      "  \n",
      " b b\n",
      "  \n",
      " b b\n",
      "  \n",
      " b b\n",
      "  \n",
      " b b\n",
      "  \n",
      " b b\n",
      "  \n",
      " b b\n",
      "  \n",
      " b b\n",
      "  \n",
      " b b\n",
      "  \n",
      " b b\n",
      "  \n",
      " b b\n",
      "  \n",
      " b b\n",
      "  \n",
      " b b\n",
      "  \n",
      " b b\n",
      "  \n",
      " b b\n",
      "  \n",
      " b b\n",
      "  \n",
      " b b\n",
      "  \n",
      " b b\n",
      "  \n",
      " b b\n",
      "  \n",
      " b b\n",
      "  \n",
      " b b\n",
      "  \n",
      " b b\n",
      "  \n",
      " b b\n",
      "  \n",
      " b b\n",
      "  \n",
      " b b\n",
      "  \n",
      " b b\n",
      "  \n",
      " b b\n",
      "  \n",
      " b b\n",
      "  \n",
      " b b\n",
      "  \n",
      " b b\n",
      "  \n",
      " b b\n",
      "  \n",
      " b b\n",
      "  \n",
      " b b\n",
      "  \n",
      " b b\n",
      "  \n",
      " b b\n",
      "  \n",
      " b b\n",
      "  \n",
      " b b\n",
      "  \n",
      " b b\n",
      "  \n",
      " b b\n",
      "  \n",
      " b b\n",
      "  \n",
      " b b\n",
      "  \n",
      " b b\n",
      "  \n",
      " b b\n",
      "  \n",
      " b b\n",
      "  \n",
      " b b\n",
      "  \n",
      " b b\n",
      "  \n",
      " b b\n",
      "  \n",
      " b b\n",
      "  \n",
      " b b\n",
      "  \n",
      " b b\n",
      "  \n",
      " b b\n",
      "  \n",
      " b b\n",
      "  \n",
      " b b\n",
      "  \n",
      " b b\n",
      "  \n",
      " b b\n",
      "  \n",
      " b b\n",
      "  \n",
      " b b\n",
      "  \n",
      " b b\n",
      "  \n",
      " b b\n",
      "  \n",
      " b b\n",
      "  \n",
      " b b\n",
      "  \n",
      " b b\n",
      "  \n",
      " b b\n",
      "  \n",
      " b b\n",
      "  \n",
      " b b\n",
      "  \n",
      " b b\n",
      "  \n",
      " b b\n",
      "  \n",
      " b b\n",
      "  \n",
      " b b\n",
      "  \n",
      " b b\n",
      "  \n",
      " b b\n",
      "  \n",
      " b b\n",
      "  \n",
      " b b\n",
      "  \n",
      " b b\n",
      "  \n",
      " b b\n",
      "  \n",
      " b b\n",
      "  \n",
      " b b\n",
      "  \n",
      " b b\n",
      "  \n",
      " b b\n",
      "  \n",
      " b b\n",
      "  \n",
      " b b\n",
      "  \n",
      " b b\n",
      "  \n",
      " b b\n",
      "  \n",
      " b b\n",
      "  \n",
      " b b\n",
      "  \n",
      " b b\n",
      "  \n",
      " b b\n",
      "  \n",
      " b b\n",
      "  \n",
      " b b\n",
      "  \n",
      " b b\n",
      "  \n",
      " b b\n",
      "  \n",
      " b b\n",
      "  \n",
      " b b\n",
      "  \n",
      " b b\n",
      "  \n",
      " b b\n",
      "  \n",
      " b b\n",
      "  \n",
      " b b\n",
      "  \n",
      " b b\n",
      "  \n",
      " b b\n",
      "  \n",
      " b b\n",
      "  \n",
      " b b\n",
      "  \n",
      " b b\n",
      "  \n",
      " b b\n",
      "  \n",
      " b b\n",
      "  \n",
      " b b\n",
      "  \n",
      " b b\n",
      "  \n",
      " b b\n",
      "  \n",
      " b b\n",
      "  \n",
      " b b\n",
      "  \n",
      " b b\n",
      "  \n",
      " b b\n",
      "  \n",
      " b b\n",
      "  \n",
      " b b\n",
      "  \n",
      " b b\n",
      "  \n",
      " b b\n",
      "  \n",
      " b b\n",
      "  \n",
      " b b\n",
      "  \n",
      " b b\n",
      "  \n",
      " b b\n",
      "  \n",
      " b b\n",
      "  \n",
      " b b\n",
      "  \n",
      " b b\n",
      "  \n",
      " b b\n",
      "  \n",
      " b b\n",
      "  \n",
      " b b\n",
      "  \n",
      " b b\n",
      "  \n",
      " b b\n",
      "  \n",
      " b b\n",
      "  \n",
      " b b\n",
      "  \n",
      " b b\n",
      "  \n",
      " b b\n",
      "  \n",
      " b b\n",
      "  \n",
      " b b\n",
      "  \n",
      " b b\n",
      "  \n",
      " b b\n",
      "  \n",
      " b b\n",
      "  \n",
      " b b\n",
      "  \n",
      " b b\n",
      "  \n",
      " b b\n",
      "  \n",
      " b b\n",
      "  \n",
      " b b\n",
      "  \n",
      " b b\n",
      "  \n",
      " b b\n",
      "  \n",
      " b b\n",
      "  \n",
      " b b\n",
      "  \n",
      " b b\n",
      "  \n",
      " b b\n",
      "  \n",
      " b b\n",
      "  \n",
      " b b\n",
      "  \n",
      " b b\n",
      "  \n",
      " b b\n",
      "  \n",
      " b b\n",
      "  \n",
      " b b\n",
      "  \n",
      " b b\n",
      "  \n",
      " b b\n",
      "  \n",
      " b b\n",
      "  \n",
      " b b\n",
      "  \n",
      " b b\n",
      "  \n",
      " b b\n",
      "  \n",
      " b b\n",
      "  \n",
      " b b\n",
      "  \n",
      " b b\n",
      "  \n",
      " b b\n",
      "  \n",
      " b b\n",
      "  \n",
      " b b\n",
      "  \n",
      " b b\n",
      "  \n",
      " b b\n",
      "  \n",
      " b b\n",
      "  \n",
      " b b\n",
      "  \n",
      " b b\n",
      "  \n",
      " b b\n",
      "  \n",
      " b b\n",
      "  \n",
      " b b\n",
      "  \n",
      " b b\n",
      "  \n",
      " b b\n",
      "  \n",
      " b b\n",
      "  \n",
      " b b\n",
      "  \n",
      " b b\n",
      "  \n",
      " b b\n",
      "  \n",
      " b b\n",
      "  \n",
      " b b\n",
      "  \n",
      " b b\n",
      "  \n",
      " b b\n",
      "  \n",
      " b b\n",
      "  \n",
      " b b\n",
      "  \n",
      " b b\n",
      "  \n",
      " b b\n",
      "  \n",
      " b b\n",
      "  \n",
      " b b\n",
      "  \n",
      " b b\n",
      "  \n",
      " b b\n",
      "  \n",
      " b b\n",
      "  \n",
      " b b\n",
      "  \n",
      " b b\n",
      "  \n",
      " b b\n",
      "  \n",
      " b b\n",
      "  \n",
      " b b\n",
      "  \n",
      " b b\n",
      "  \n",
      " b b\n",
      "  \n",
      " b b\n",
      "  \n",
      " b b\n",
      "  \n",
      " b b\n",
      "  \n",
      " b b\n",
      "  \n",
      " b b\n",
      "  \n",
      " b b\n",
      "  \n",
      " b b\n",
      "  \n",
      " b b\n",
      "  \n",
      " b b\n",
      "  \n",
      " b b\n",
      "  \n",
      " b b\n",
      "  \n",
      " b b\n",
      "  \n",
      " b b\n",
      "  \n",
      " b b\n",
      "  \n",
      " b b\n",
      "  \n",
      " b b\n",
      "  \n",
      " b b\n",
      "  \n",
      " b b\n",
      "  \n",
      " b b\n",
      "  \n",
      " b b\n",
      "  \n",
      " b b\n",
      "  \n",
      " b b\n",
      "  \n",
      " b b\n",
      "  \n",
      " b b\n",
      "  \n",
      " b b\n",
      "  \n",
      " b b\n",
      "  \n",
      " b b\n",
      "  \n",
      " b b\n",
      "  \n",
      " b b\n",
      "  \n",
      " b b\n",
      "  \n",
      " b b\n",
      "  \n",
      " b b\n",
      "  \n",
      " b b\n",
      "  \n",
      " b b\n",
      "  \n",
      " b b\n",
      "  \n",
      " b b\n",
      "  \n",
      " b b\n",
      "  \n",
      " b b\n",
      "  \n",
      " b b\n",
      "  \n",
      " b b\n",
      "  \n",
      " b b\n",
      "  \n",
      " b b\n",
      "  \n",
      " b b\n",
      "  \n",
      " b b\n",
      "  \n",
      " b b\n",
      "  \n",
      " b b\n",
      "  \n",
      " b b\n",
      "  \n",
      " b b\n",
      "  \n",
      " b b\n",
      "  \n",
      " b b\n",
      "  \n",
      " b b\n",
      "  \n",
      " b b\n",
      "  \n",
      " b b\n",
      "  \n",
      " b b\n",
      "  \n",
      " b b\n",
      "  \n",
      " b b\n",
      "  \n",
      " b b\n",
      "  \n",
      " b b\n",
      "  \n",
      " b b\n",
      "  \n",
      " b b\n",
      "  \n",
      " b b\n",
      "  \n",
      " b b\n",
      "  \n",
      " b b\n",
      "  \n",
      " b b\n",
      "  \n",
      " b b\n",
      "  \n",
      " b b\n",
      "  \n",
      " b b\n",
      "  \n",
      " b b\n",
      "  \n",
      " b b\n",
      "  \n",
      " b b\n",
      "  \n",
      " b b\n",
      "  \n",
      " b b\n",
      "  \n",
      " b b\n",
      "  \n",
      " b b\n",
      "  \n",
      " b b\n",
      "  \n",
      " b b\n",
      "  \n",
      " b b\n",
      "  \n",
      " b b\n",
      "  \n",
      " b b\n",
      "  \n",
      " b b\n",
      "  \n",
      " b b\n",
      "  \n",
      " b b\n",
      "  \n",
      " b b\n",
      "  \n",
      " b b\n",
      "  \n",
      " b b\n",
      "  \n",
      " b b\n",
      "  \n",
      " b b\n",
      "  \n",
      " b b\n",
      "  \n",
      " b b\n",
      "  \n",
      " b b\n",
      "  \n",
      " b b\n",
      "  \n",
      " b b\n",
      "  \n",
      " b b\n",
      "  \n",
      " b b\n",
      "  \n",
      " b b\n",
      "  \n",
      " b b\n",
      "  \n",
      " b b\n",
      "  \n",
      " b b\n",
      "  \n",
      " b b\n",
      "  \n",
      " b b\n",
      "  \n",
      " b b\n",
      "  \n",
      " b b\n",
      "  \n",
      " b b\n",
      "  \n",
      " b b\n",
      "  \n",
      " b b\n",
      "  \n",
      " b b\n",
      "  \n",
      " b b\n",
      "  \n",
      " b b\n",
      "  \n",
      " b b\n",
      "  \n",
      " b b\n",
      "  \n",
      " b b\n",
      "  \n",
      " b b\n",
      "  \n",
      " b b\n",
      "  \n",
      " b b\n",
      "  \n",
      " b b\n",
      "  \n",
      " b b\n",
      "  \n",
      " b b\n",
      "  \n",
      " b b\n",
      "  \n",
      " b b\n",
      "  \n",
      " b b\n",
      "  \n",
      " b b\n",
      "  \n",
      " b b\n",
      "  \n",
      " b b\n",
      "  \n",
      " b b\n",
      "  \n",
      " b b\n",
      "  \n",
      " b b\n",
      "  \n",
      " b b\n",
      "  \n",
      " b b\n",
      "  \n",
      " b b\n",
      "  \n",
      " b b\n",
      "  \n",
      " b b\n",
      "  \n",
      " b b\n",
      "  \n",
      " b b\n",
      "  \n",
      " b b\n",
      "  \n",
      " b b\n",
      "  \n",
      " b b\n",
      "  \n",
      " b b\n",
      "  \n",
      " b b\n",
      "  \n",
      " b b\n",
      "  \n",
      " b b\n",
      "  \n",
      " b b\n",
      "  \n",
      " b b\n",
      "  \n",
      " b b\n",
      "  \n",
      " b b\n",
      "  \n",
      " b b\n",
      "  \n",
      " b b\n",
      "  \n",
      " b b\n",
      "  \n",
      " b b\n",
      "  \n",
      " b b\n",
      "  \n",
      " b b\n",
      "  \n",
      " b b\n",
      "  \n",
      " b b\n",
      "  \n",
      " b b\n",
      "  \n",
      " b b\n",
      "  \n",
      " b b\n",
      "  \n",
      " b b\n",
      "  \n",
      " b b\n",
      "  \n"
     ]
    },
    {
     "name": "stdout",
     "output_type": "stream",
     "text": [
      " b b\n",
      "  \n",
      " b b\n",
      "  \n",
      " b b\n",
      "  \n",
      " b b\n",
      "  \n",
      " b b\n",
      "  \n",
      " b b\n",
      "  \n",
      " b b\n",
      "  \n",
      " b b\n",
      "  \n",
      " b b\n",
      "  \n",
      " b b\n",
      "  \n",
      " b b\n",
      "  \n",
      " b b\n",
      "  \n",
      " b b\n",
      "  \n",
      " b b\n",
      "  \n",
      " b b\n",
      "  \n",
      " b b\n",
      "  \n",
      " b b\n",
      "  \n",
      " b b\n",
      "  \n",
      " b b\n",
      "  \n",
      " b b\n",
      "  \n",
      " b b\n",
      "  \n",
      " b b\n",
      "  \n",
      " b b\n",
      "  \n",
      " b b\n",
      "  \n",
      " b b\n",
      "  \n",
      " b b\n",
      "  \n",
      " b b\n",
      "  \n",
      " b b\n",
      "  \n",
      " b b\n",
      "  \n",
      " b b\n",
      "  \n",
      " b b\n",
      "  \n",
      " b b\n",
      "  \n",
      " b b\n",
      "  \n",
      " b b\n",
      "  \n",
      " b b\n",
      "  \n",
      " b b\n",
      "  \n",
      " b b\n",
      "  \n",
      " b b\n",
      "  \n",
      " b b\n",
      "  \n",
      " b b\n",
      "  \n",
      " b b\n",
      "  \n",
      " b b\n",
      "  \n",
      " b b\n",
      "  \n",
      " b b\n",
      "  \n",
      " b b\n",
      "  \n",
      " b b\n",
      "  \n",
      " b b\n",
      "  \n",
      " b b\n",
      "  \n",
      " b b\n",
      "  \n",
      " b b\n",
      "  \n",
      " b b\n",
      "  \n",
      " b b\n",
      "  \n",
      " b b\n",
      "  \n",
      " b b\n",
      "  \n",
      " b b\n",
      "  \n",
      " b b\n",
      "  \n",
      " b b\n",
      "  \n",
      " b b\n",
      "  \n",
      " b b\n",
      "  \n",
      " b b\n",
      "  \n",
      " b b\n",
      "  \n",
      " b b\n",
      "  \n",
      " b b\n",
      "  \n",
      " b b\n",
      "  \n",
      " b b\n",
      "  \n",
      " b b\n",
      "  \n",
      " b b\n",
      "  \n",
      " b b\n",
      "  \n",
      " b b\n",
      "  \n",
      " b b\n",
      "  \n",
      " b b\n",
      "  \n",
      " b b\n",
      "  \n",
      " b b\n",
      "  \n",
      " b b\n",
      "  \n",
      " b b\n",
      "  \n",
      " b b\n",
      "  \n",
      " b b\n",
      "  \n",
      " b b\n",
      "  \n",
      " b b\n",
      "  \n",
      " b b\n",
      "  \n",
      " b b\n",
      "  \n",
      " b b\n",
      "  \n",
      " b b\n",
      "  \n",
      " b b\n",
      "  \n",
      " b b\n",
      "  \n",
      " b b\n",
      "  \n",
      " b b\n",
      "  \n",
      " b b\n",
      "  \n",
      " b b\n",
      "  \n",
      " b b\n",
      "  \n",
      " b b\n",
      "  \n",
      " b b\n",
      "  \n",
      " b b\n",
      "  \n",
      " b b\n",
      "  \n",
      " b b\n",
      "  \n",
      " b b\n",
      "  \n",
      " b b\n",
      "  \n",
      " b b\n",
      "  \n",
      " b b\n",
      "  \n",
      " b b\n",
      "  \n",
      " b b\n",
      "  \n",
      " b b\n",
      "  \n",
      " b b\n",
      "  \n",
      " b b\n",
      "  \n",
      " b b\n",
      "  \n",
      " b b\n",
      "  \n",
      " b b\n",
      "  \n",
      " b b\n",
      "  \n",
      " b b\n",
      "  \n",
      " b b\n",
      "  \n",
      " b b\n",
      "  \n",
      " b b\n",
      "  \n",
      " b b\n",
      "  \n",
      " b b\n",
      "  \n",
      " b b\n",
      "  \n",
      " b b\n",
      "  \n",
      " b b\n",
      "  \n",
      " b b\n",
      "  \n",
      " b b\n",
      "  \n",
      " b b\n",
      "  \n",
      " b b\n",
      "  \n",
      " b b\n",
      "  \n",
      " b b\n",
      "  \n",
      " b b\n",
      "  \n",
      " b b\n",
      "  \n",
      " b b\n",
      "  \n",
      " b b\n",
      "  \n",
      " b b\n",
      "  \n",
      " b b\n",
      "  \n",
      " b b\n",
      "  \n",
      " b b\n",
      "  \n",
      " b b\n",
      "  \n",
      " b b\n",
      "  \n",
      " b b\n",
      "  \n",
      " b b\n",
      "  \n",
      " b b\n",
      "  \n",
      " b b\n",
      "  \n",
      " b b\n",
      "  \n",
      " b b\n",
      "  \n",
      " b b\n",
      "  \n",
      " b b\n",
      "  \n",
      " b b\n",
      "  \n",
      " b b\n",
      "  \n",
      " b b\n",
      "  \n",
      " b b\n",
      "  \n",
      " b b\n",
      "  \n",
      " b b\n",
      "  \n",
      " b b\n",
      "  \n",
      " b b\n",
      "  \n",
      " b b\n",
      "  \n",
      " b b\n",
      "  \n",
      " b b\n",
      "  \n",
      " b b\n",
      "  \n",
      " b b\n",
      "  \n",
      " b b\n",
      "  \n",
      " b b\n",
      "  \n",
      " b b\n",
      "  \n",
      " b b\n",
      "  \n",
      " b b\n",
      "  \n",
      " b b\n",
      "  \n",
      " b b\n",
      "  \n",
      " b b\n",
      "  \n",
      " b b\n",
      "  \n",
      " b b\n",
      "  \n",
      " b b\n",
      "  \n",
      " b b\n",
      "  \n",
      " b b\n",
      "  \n",
      " b b\n",
      "  \n",
      " b b\n",
      "  \n",
      " b b\n",
      "  \n",
      " b b\n",
      "  \n",
      " b b\n",
      "  \n",
      " b b\n",
      "  \n",
      " b b\n",
      "  \n",
      " b b\n",
      "  \n",
      " b b\n",
      "  \n",
      " b b\n",
      "  \n",
      " b b\n",
      "  \n",
      " b b\n",
      "  \n",
      " b b\n",
      "  \n",
      " b b\n",
      "  \n",
      " b b\n",
      "  \n",
      " b b\n",
      "  \n",
      " b b\n",
      "  \n",
      " b b\n",
      "  \n",
      " b b\n",
      "  \n",
      " b b\n",
      "  \n",
      " b b\n",
      "  \n",
      " b b\n",
      "  \n",
      " b b\n",
      "  \n",
      " b b\n",
      "  \n",
      " b b\n",
      "  \n",
      " b b\n",
      "  \n",
      " b b\n",
      "  \n",
      " b b\n",
      "  \n",
      " b b\n",
      "  \n",
      " b b\n",
      "  \n",
      " b b\n",
      "  \n",
      " b b\n",
      "  \n",
      " b b\n",
      "  \n",
      " b b\n",
      "  \n",
      " b b\n",
      "  \n",
      " b b\n",
      "  \n",
      " b b\n",
      "  \n",
      " b b\n",
      "  \n",
      " b b\n",
      "  \n",
      " b b\n",
      "  \n",
      " b b\n",
      "  \n",
      " b b\n",
      "  \n",
      " b b\n",
      "  \n",
      " b b\n",
      "  \n",
      " b b\n",
      "  \n",
      " b b\n",
      "  \n",
      " b b\n",
      "  \n",
      " b b\n",
      "  \n",
      " b b\n",
      "  \n",
      " b b\n",
      "  \n",
      " b b\n",
      "  \n",
      " b b\n",
      "  \n",
      " b b\n",
      "  \n",
      " b b\n",
      "  \n",
      " b b\n",
      "  \n",
      " b b\n",
      "  \n",
      " b b\n",
      "  \n",
      " b b\n",
      "  \n",
      " b b\n",
      "  \n",
      " b b\n",
      "  \n",
      " b b\n",
      "  \n",
      " b b\n",
      "  \n",
      " b b\n",
      "  \n",
      " b b\n",
      "  \n",
      " b b\n",
      "  \n",
      " b b\n",
      "  \n",
      " b b\n",
      "  \n",
      " b b\n",
      "  \n",
      " b b\n",
      "  \n",
      " b b\n",
      "  \n",
      " b b\n",
      "  \n",
      " b b\n",
      "  \n",
      " b b\n",
      "  \n",
      " b b\n",
      "  \n",
      " b b\n",
      "  \n",
      " b b\n",
      "  \n",
      " b b\n",
      "  \n",
      " b b\n",
      "  \n",
      " b b\n",
      "  \n",
      " b b\n",
      "  \n",
      " b b\n",
      "  \n",
      " b b\n",
      "  \n",
      " b b\n",
      "  \n",
      " b b\n",
      "  \n",
      " b b\n",
      "  \n",
      " b b\n",
      "  \n",
      " b b\n",
      "  \n",
      " b b\n",
      "  \n",
      " b b\n",
      "  \n",
      " b b\n",
      "  \n",
      " b b\n",
      "  \n",
      " b b\n",
      "  \n",
      " b b\n",
      "  \n",
      " b b\n",
      "  \n",
      " b b\n",
      "  \n",
      " b b\n",
      "  \n",
      " b b\n",
      "  \n",
      " b b\n",
      "  \n",
      " b b\n",
      "  \n",
      " b b\n",
      "  \n",
      " b b\n",
      "  \n",
      " b b\n",
      "  \n",
      " b b\n",
      "  \n",
      " b b\n",
      "  \n",
      " b b\n",
      "  \n",
      " b b\n",
      "  \n",
      " b b\n",
      "  \n",
      " b b\n",
      "  \n",
      " b b\n",
      "  \n",
      " b b\n",
      "  \n",
      " b b\n",
      "  \n",
      " b b\n",
      "  \n",
      " b b\n",
      "  \n",
      " b b\n",
      "  \n",
      " b b\n",
      "  \n",
      " b b\n",
      "  \n",
      " b b\n",
      "  \n",
      " b b\n",
      "  \n",
      " b b\n",
      "  \n",
      " b b\n",
      "  \n",
      " b b\n",
      "  \n",
      " b b\n",
      "  \n",
      " b b\n",
      "  \n",
      " b b\n",
      "  \n",
      " b b\n",
      "  \n",
      " b b\n",
      "  \n",
      " b b\n",
      "  \n",
      " b b\n",
      "  \n",
      " b b\n",
      "  \n",
      " b b\n",
      "  \n",
      " b b\n",
      "  \n",
      " b b\n",
      "  \n",
      " b b\n",
      "  \n",
      " b b\n",
      "  \n",
      " b b\n",
      "  \n",
      " b b\n",
      "  \n",
      " b b\n",
      "  \n",
      " b b\n",
      "  \n",
      " b b\n",
      "  \n",
      " b b\n",
      "  \n",
      " b b\n",
      "  \n",
      " b b\n",
      "  \n",
      " b b\n",
      "  \n",
      " b b\n",
      "  \n",
      " b b\n",
      "  \n",
      " b b\n",
      "  \n",
      " b b\n",
      "  \n",
      " b b\n",
      "  \n",
      " b b\n",
      "  \n",
      " b b\n",
      "  \n",
      " b b\n",
      "  \n",
      " b b\n",
      "  \n",
      " b b\n",
      "  \n",
      " b b\n",
      "  \n",
      " b b\n",
      "  \n",
      " b b\n",
      "  \n",
      " b b\n",
      "  \n",
      " b b\n",
      "  \n",
      " b b\n",
      "  \n",
      " b b\n",
      "  \n",
      " b b\n",
      "  \n",
      " b b\n",
      "  \n",
      " b b\n",
      "  \n",
      " b b\n",
      "  \n",
      " b b\n",
      "  \n",
      " b b\n",
      "  \n",
      " b b\n",
      "  \n",
      " b b\n",
      "  \n",
      " b b\n",
      "  \n",
      " b b\n",
      "  \n",
      " b b\n",
      "  \n",
      " b b\n",
      "  \n",
      " b b\n",
      "  \n",
      " b b\n",
      "  \n",
      " b b\n",
      "  \n",
      " b b\n",
      "  \n",
      " b b\n",
      "  \n",
      " b b\n",
      "  \n",
      " b b\n",
      "  \n",
      " b b\n",
      "  \n",
      " b b\n",
      "  \n",
      " b b\n",
      "  \n",
      " b b\n",
      "  \n",
      " b b\n",
      "  \n",
      " b b\n",
      "  \n",
      " b b\n",
      "  \n",
      " b b\n",
      "  \n",
      " b b\n",
      "  \n",
      " b b\n",
      "  \n",
      " b b\n",
      "  \n",
      " b b\n",
      "  \n",
      " b b\n",
      "  \n",
      " b b\n",
      "  \n",
      " b b\n",
      "  \n",
      " b b\n",
      "  \n",
      " b b\n",
      "  \n",
      " b b\n",
      "  \n",
      " b b\n",
      "  \n",
      " b b\n",
      "  \n",
      " b b\n",
      "  \n",
      " b b\n",
      "  \n",
      " b b\n",
      "  \n",
      " b b\n",
      "  \n",
      " b b\n",
      "  \n",
      " b b\n",
      "  \n",
      " b b\n",
      "  \n",
      " b b\n",
      "  \n",
      " b b\n",
      "  \n",
      " b b\n",
      "  \n",
      " b b\n",
      "  \n",
      " b b\n",
      "  \n",
      " b b\n",
      "  \n",
      " b b\n",
      "  \n",
      " b b\n",
      "  \n",
      " b b\n",
      "  \n",
      " b b\n",
      "  \n",
      " b b\n",
      "  \n",
      " b b\n",
      "  \n",
      " b b\n",
      "  \n",
      " b b\n",
      "  \n",
      " b b\n",
      "  \n",
      " b b\n",
      "  \n",
      " b b\n",
      "  \n",
      " b b\n",
      "  \n",
      " b b\n",
      "  \n",
      " b b\n",
      "  \n",
      " b b\n",
      "  \n",
      " b b\n",
      "  \n",
      " b b\n",
      "  \n",
      " b b\n",
      "  \n",
      " b b\n",
      "  \n",
      " b b\n",
      "  \n",
      " b b\n",
      "  \n",
      " b b\n",
      "  \n",
      " b b\n",
      "  \n",
      " b b\n",
      "  \n",
      " b b\n",
      "  \n",
      " b b\n",
      "  \n",
      " b b\n",
      "  \n",
      " b b\n",
      "  \n",
      " b b\n",
      "  \n",
      " b b\n",
      "  \n",
      " b b\n",
      "  \n",
      " b b\n",
      "  \n",
      " b b\n",
      "  \n",
      " b b\n",
      "  \n",
      " b b\n",
      "  \n",
      " b b\n",
      "  \n",
      " b b\n",
      "  \n",
      " b b\n",
      "  \n",
      " b b\n",
      "  \n",
      " b b\n",
      "  \n",
      " b b\n",
      "  \n",
      " b b\n",
      "  \n",
      " b b\n",
      "  \n",
      " b b\n",
      "  \n",
      " b b\n",
      "  \n",
      " b b\n",
      "  \n",
      " b b\n",
      "  \n",
      " b b\n",
      "  \n",
      " b b\n",
      "  \n",
      " b b\n",
      "  \n",
      " b b\n",
      "  \n",
      " b b\n",
      "  \n",
      " b b\n",
      "  \n",
      " b b\n",
      "  \n",
      " b b\n",
      "  \n",
      " b b\n",
      "  \n",
      " b b\n",
      "  \n",
      " b b\n",
      "  \n",
      " b b\n",
      "  \n",
      " b b\n",
      "  \n",
      " b b\n",
      "  \n",
      " b b\n",
      "  \n",
      " b b\n",
      "  \n",
      " b b\n",
      "  \n",
      " b b\n",
      "  \n",
      " b b\n",
      "  \n",
      " b b\n",
      "  \n",
      " b b\n",
      "  \n",
      " b b\n",
      "  \n",
      " b b\n",
      "  \n",
      " b b\n",
      "  \n",
      " b b\n",
      "  \n",
      " b b\n",
      "  \n",
      " b b\n",
      "  \n",
      " b b\n",
      "  \n",
      " b b\n",
      "  \n",
      " b b\n",
      "  \n",
      " b b\n",
      "  \n",
      " b b\n",
      "  \n",
      " b b\n",
      "  \n",
      " b b\n",
      "  \n",
      " b b\n",
      "  \n",
      " b b\n",
      "  \n",
      " b b\n",
      "  \n",
      " b b\n",
      "  \n",
      " b b\n",
      "  \n",
      " b b\n",
      "  \n",
      " b b\n",
      "  \n",
      " b b\n",
      "  \n",
      " b b\n",
      "  \n",
      " b b\n",
      "  \n",
      " b b\n",
      "  \n",
      " b b\n",
      "  \n",
      " b b\n",
      "  \n",
      " b b\n",
      "  \n",
      " b b\n",
      "  \n",
      " b b\n",
      "  \n",
      " b b\n",
      "  \n",
      " b b\n",
      "  \n",
      " b b\n",
      "  \n",
      " b b\n",
      "  \n",
      " b b\n",
      "  \n",
      " b b\n",
      "  \n",
      " b b\n",
      "  \n",
      " b b\n",
      "  \n",
      " b b\n",
      "  \n",
      " b b\n",
      "  \n",
      " b b\n",
      "  \n",
      " b b\n",
      "  \n",
      " b b\n",
      "  \n",
      " b b\n",
      "  \n",
      " b b\n",
      "  \n",
      " b b\n",
      "  \n",
      " b b\n",
      "  \n",
      " b b\n",
      "  \n",
      " b b\n",
      "  \n",
      " b b\n",
      "  \n",
      " b b\n",
      "  \n",
      " b b\n",
      "  \n",
      " b b\n",
      "  \n",
      " b b\n",
      "  \n",
      " b b\n",
      "  \n",
      " b b\n",
      "  \n",
      " b b\n",
      "  \n",
      " b b\n",
      "  \n",
      " b b\n",
      "  \n",
      " b b\n",
      "  \n",
      " b b\n",
      "  \n",
      " b b\n",
      "  \n",
      " b b\n",
      "  \n",
      " b b\n",
      "  \n",
      " b b\n",
      "  \n",
      " b b\n",
      "  \n",
      " b b\n",
      "  \n",
      " b b\n",
      "  \n",
      " b b\n",
      "  \n",
      " b b\n",
      "  \n",
      " b b\n",
      "  \n",
      " b b\n",
      "  \n",
      " b b\n",
      "  \n",
      " b b\n",
      "  \n",
      " b b\n",
      "  \n",
      " b b\n",
      "  \n",
      " b b\n",
      "  \n",
      " b b\n",
      "  \n",
      " b b\n",
      "  \n",
      " b b\n",
      "  \n",
      " b b\n",
      "  \n",
      " b b\n",
      "  \n",
      " b b\n",
      "  \n",
      " b b\n",
      "  \n",
      " b b\n",
      "  \n",
      " b b\n",
      "  \n",
      " b b\n",
      "  \n",
      " b b\n",
      "  \n",
      " b b\n",
      "  \n",
      " b b\n",
      "  \n",
      " b b\n",
      "  \n",
      " b b\n",
      "  \n",
      " b b\n",
      "  \n",
      " b b\n",
      "  \n",
      " b b\n",
      "  \n",
      " b b\n",
      "  \n",
      " b b\n",
      "  \n",
      " b b\n",
      "  \n",
      " b b\n",
      "  \n",
      " b b\n",
      "  \n",
      " b b\n",
      "  \n",
      " b b\n",
      "  \n",
      " b b\n",
      "  \n",
      " b b\n",
      "  \n",
      " b b\n",
      "  \n",
      " b b\n",
      "  \n",
      " b b\n",
      "  \n",
      " b b\n",
      "  \n",
      " b b\n",
      "  \n",
      " b b\n",
      "  \n",
      " b b\n",
      "  \n",
      " b b\n",
      "  \n",
      " b b\n",
      "  \n",
      " b b\n",
      "  \n",
      " b b\n",
      "  \n",
      " b b\n",
      "  \n",
      " b b\n",
      "  \n",
      " b b\n",
      "  \n",
      " b b\n",
      "  \n",
      " b b\n",
      "  \n",
      " b b\n",
      "  \n",
      " b b\n",
      "  \n",
      " b b\n",
      "  \n",
      " b b\n",
      "  \n",
      " b b\n",
      "  \n",
      " b b\n",
      "  \n",
      " b b\n",
      "  \n",
      " b b\n",
      "  \n",
      " b b\n",
      "  \n",
      " b b\n",
      "  \n",
      " b b\n",
      "  \n",
      " b b\n",
      "  \n",
      " b b\n",
      "  \n",
      " b b\n",
      "  \n",
      " b b\n",
      "  \n",
      " b b\n",
      "  \n",
      " b b\n",
      "  \n",
      " b b\n",
      "  \n",
      " b b\n",
      "  \n",
      " b b\n",
      "  \n",
      " b b\n",
      "  \n",
      " b b\n",
      "  \n",
      " b b\n",
      "  \n",
      " b b\n",
      "  \n",
      " b b\n",
      "  \n",
      " b b\n",
      "  \n",
      " b b\n",
      "  \n",
      " b b\n",
      "  \n",
      " b b\n",
      "  \n",
      " b b\n",
      "  \n",
      " b b\n",
      "  \n",
      " b b\n",
      "  \n",
      " b b\n",
      "  \n",
      " b b\n",
      "  \n",
      " b b\n",
      "  \n",
      " b b\n",
      "  \n",
      " b b\n",
      "  \n",
      " b b\n",
      "  \n",
      " b b\n",
      "  \n",
      " b b\n",
      "  \n",
      " b b\n",
      "  \n",
      " b b\n",
      "  \n",
      " b b\n",
      "  \n",
      " b b\n",
      "  \n",
      " b b\n",
      "  \n",
      " b b\n",
      "  \n",
      " b b\n",
      "  \n",
      " b b\n",
      "  \n",
      " b b\n",
      "  \n",
      " b b\n",
      "  \n",
      " b b\n",
      "  \n",
      " b b\n",
      "  \n",
      " b b\n",
      "  \n",
      " b b\n",
      "  \n",
      " b b\n",
      "  \n",
      " b b\n",
      "  \n",
      " b b\n",
      "  \n",
      " b b\n",
      "  \n",
      " b b\n",
      "  \n",
      " b b\n",
      "  \n",
      " b b\n",
      "  \n",
      " b b\n",
      "  \n",
      " b b\n",
      "  \n",
      " b b\n",
      "  \n",
      " b b\n",
      "  \n",
      " b b\n",
      "  \n",
      " b b\n",
      "  \n",
      " b b\n",
      "  \n",
      " b b\n",
      "  \n",
      " b b\n",
      "  \n",
      " b b\n",
      "  \n",
      " b b\n",
      "  \n",
      " b b\n",
      "  \n",
      " b b\n",
      "  \n",
      " b b\n",
      "  \n",
      " b b\n",
      "  \n",
      " b b\n"
     ]
    },
    {
     "ename": "RecursionError",
     "evalue": "maximum recursion depth exceeded while calling a Python object",
     "output_type": "error",
     "traceback": [
      "\u001b[1;31m---------------------------------------------------------------------------\u001b[0m",
      "\u001b[1;31mRecursionError\u001b[0m                            Traceback (most recent call last)",
      "\u001b[1;32m<ipython-input-33-f4b07f766b92>\u001b[0m in \u001b[0;36m<module>\u001b[1;34m\u001b[0m\n\u001b[0;32m     27\u001b[0m         \u001b[0mprint\u001b[0m\u001b[1;33m(\u001b[0m\u001b[0ma\u001b[0m\u001b[1;33m,\u001b[0m\u001b[0mb\u001b[0m\u001b[1;33m,\u001b[0m\u001b[0mc\u001b[0m \u001b[1;33m)\u001b[0m\u001b[1;33m\u001b[0m\u001b[1;33m\u001b[0m\u001b[0m\n\u001b[0;32m     28\u001b[0m \u001b[0mres\u001b[0m \u001b[1;33m=\u001b[0m \u001b[1;32mFalse\u001b[0m\u001b[1;33m\u001b[0m\u001b[1;33m\u001b[0m\u001b[0m\n\u001b[1;32m---> 29\u001b[1;33m \u001b[0mrecur\u001b[0m\u001b[1;33m(\u001b[0m\u001b[0ma\u001b[0m\u001b[1;33m,\u001b[0m\u001b[0mb\u001b[0m\u001b[1;33m,\u001b[0m\u001b[0mc\u001b[0m\u001b[1;33m)\u001b[0m\u001b[1;33m\u001b[0m\u001b[1;33m\u001b[0m\u001b[0m\n\u001b[0m\u001b[0;32m     30\u001b[0m \u001b[0mres\u001b[0m\u001b[1;33m\u001b[0m\u001b[1;33m\u001b[0m\u001b[0m\n",
      "\u001b[1;32m<ipython-input-33-f4b07f766b92>\u001b[0m in \u001b[0;36mrecur\u001b[1;34m(a, b, c)\u001b[0m\n\u001b[0;32m     23\u001b[0m                 \u001b[1;32mcontinue\u001b[0m\u001b[1;33m\u001b[0m\u001b[1;33m\u001b[0m\u001b[0m\n\u001b[0;32m     24\u001b[0m             \u001b[1;32mbreak\u001b[0m\u001b[1;33m\u001b[0m\u001b[1;33m\u001b[0m\u001b[0m\n\u001b[1;32m---> 25\u001b[1;33m         \u001b[0mrecur\u001b[0m\u001b[1;33m(\u001b[0m\u001b[0ma\u001b[0m\u001b[1;33m,\u001b[0m \u001b[0mb\u001b[0m\u001b[1;33m[\u001b[0m\u001b[0mi\u001b[0m\u001b[1;33m:\u001b[0m\u001b[1;33m]\u001b[0m\u001b[1;33m,\u001b[0m \u001b[0mc\u001b[0m\u001b[1;33m[\u001b[0m\u001b[0mi\u001b[0m\u001b[1;33m:\u001b[0m\u001b[1;33m]\u001b[0m\u001b[1;33m)\u001b[0m\u001b[1;33m\u001b[0m\u001b[1;33m\u001b[0m\u001b[0m\n\u001b[0m\u001b[0;32m     26\u001b[0m     \u001b[1;32melse\u001b[0m\u001b[1;33m:\u001b[0m\u001b[1;33m\u001b[0m\u001b[1;33m\u001b[0m\u001b[0m\n\u001b[0;32m     27\u001b[0m         \u001b[0mprint\u001b[0m\u001b[1;33m(\u001b[0m\u001b[0ma\u001b[0m\u001b[1;33m,\u001b[0m\u001b[0mb\u001b[0m\u001b[1;33m,\u001b[0m\u001b[0mc\u001b[0m \u001b[1;33m)\u001b[0m\u001b[1;33m\u001b[0m\u001b[1;33m\u001b[0m\u001b[0m\n",
      "\u001b[1;32m<ipython-input-33-f4b07f766b92>\u001b[0m in \u001b[0;36mrecur\u001b[1;34m(a, b, c)\u001b[0m\n\u001b[0;32m     15\u001b[0m                 \u001b[1;32mcontinue\u001b[0m\u001b[1;33m\u001b[0m\u001b[1;33m\u001b[0m\u001b[0m\n\u001b[0;32m     16\u001b[0m             \u001b[1;32mbreak\u001b[0m\u001b[1;33m\u001b[0m\u001b[1;33m\u001b[0m\u001b[0m\n\u001b[1;32m---> 17\u001b[1;33m         \u001b[0mrecur\u001b[0m\u001b[1;33m(\u001b[0m\u001b[0ma\u001b[0m\u001b[1;33m[\u001b[0m\u001b[0mi\u001b[0m\u001b[1;33m:\u001b[0m\u001b[1;33m]\u001b[0m\u001b[1;33m,\u001b[0m \u001b[0mb\u001b[0m\u001b[1;33m,\u001b[0m \u001b[0mc\u001b[0m\u001b[1;33m[\u001b[0m\u001b[0mi\u001b[0m\u001b[1;33m:\u001b[0m\u001b[1;33m]\u001b[0m\u001b[1;33m)\u001b[0m\u001b[1;33m\u001b[0m\u001b[1;33m\u001b[0m\u001b[0m\n\u001b[0m\u001b[0;32m     18\u001b[0m     \u001b[1;32melif\u001b[0m \u001b[0mb\u001b[0m \u001b[1;32mand\u001b[0m \u001b[0mb\u001b[0m\u001b[1;33m[\u001b[0m\u001b[1;36m0\u001b[0m\u001b[1;33m]\u001b[0m\u001b[1;33m==\u001b[0m\u001b[0mc\u001b[0m\u001b[1;33m[\u001b[0m\u001b[1;36m0\u001b[0m\u001b[1;33m]\u001b[0m\u001b[1;33m:\u001b[0m\u001b[1;33m\u001b[0m\u001b[1;33m\u001b[0m\u001b[0m\n\u001b[0;32m     19\u001b[0m         \u001b[1;32mif\u001b[0m \u001b[0mb\u001b[0m\u001b[1;33m==\u001b[0m\u001b[0mc\u001b[0m\u001b[1;33m[\u001b[0m\u001b[1;33m:\u001b[0m\u001b[0mlen\u001b[0m\u001b[1;33m(\u001b[0m\u001b[0mb\u001b[0m\u001b[1;33m)\u001b[0m\u001b[1;33m]\u001b[0m\u001b[1;33m:\u001b[0m\u001b[1;33m\u001b[0m\u001b[1;33m\u001b[0m\u001b[0m\n",
      "\u001b[1;32m<ipython-input-33-f4b07f766b92>\u001b[0m in \u001b[0;36mrecur\u001b[1;34m(a, b, c)\u001b[0m\n\u001b[0;32m     23\u001b[0m                 \u001b[1;32mcontinue\u001b[0m\u001b[1;33m\u001b[0m\u001b[1;33m\u001b[0m\u001b[0m\n\u001b[0;32m     24\u001b[0m             \u001b[1;32mbreak\u001b[0m\u001b[1;33m\u001b[0m\u001b[1;33m\u001b[0m\u001b[0m\n\u001b[1;32m---> 25\u001b[1;33m         \u001b[0mrecur\u001b[0m\u001b[1;33m(\u001b[0m\u001b[0ma\u001b[0m\u001b[1;33m,\u001b[0m \u001b[0mb\u001b[0m\u001b[1;33m[\u001b[0m\u001b[0mi\u001b[0m\u001b[1;33m:\u001b[0m\u001b[1;33m]\u001b[0m\u001b[1;33m,\u001b[0m \u001b[0mc\u001b[0m\u001b[1;33m[\u001b[0m\u001b[0mi\u001b[0m\u001b[1;33m:\u001b[0m\u001b[1;33m]\u001b[0m\u001b[1;33m)\u001b[0m\u001b[1;33m\u001b[0m\u001b[1;33m\u001b[0m\u001b[0m\n\u001b[0m\u001b[0;32m     26\u001b[0m     \u001b[1;32melse\u001b[0m\u001b[1;33m:\u001b[0m\u001b[1;33m\u001b[0m\u001b[1;33m\u001b[0m\u001b[0m\n\u001b[0;32m     27\u001b[0m         \u001b[0mprint\u001b[0m\u001b[1;33m(\u001b[0m\u001b[0ma\u001b[0m\u001b[1;33m,\u001b[0m\u001b[0mb\u001b[0m\u001b[1;33m,\u001b[0m\u001b[0mc\u001b[0m \u001b[1;33m)\u001b[0m\u001b[1;33m\u001b[0m\u001b[1;33m\u001b[0m\u001b[0m\n",
      "\u001b[1;32m<ipython-input-33-f4b07f766b92>\u001b[0m in \u001b[0;36mrecur\u001b[1;34m(a, b, c)\u001b[0m\n\u001b[0;32m     10\u001b[0m     \u001b[1;32mif\u001b[0m \u001b[0ma\u001b[0m \u001b[1;32mand\u001b[0m \u001b[0ma\u001b[0m\u001b[1;33m[\u001b[0m\u001b[1;36m0\u001b[0m\u001b[1;33m]\u001b[0m\u001b[1;33m==\u001b[0m\u001b[0mc\u001b[0m\u001b[1;33m[\u001b[0m\u001b[1;36m0\u001b[0m\u001b[1;33m]\u001b[0m\u001b[1;33m:\u001b[0m\u001b[1;33m\u001b[0m\u001b[1;33m\u001b[0m\u001b[0m\n\u001b[0;32m     11\u001b[0m         \u001b[1;32mif\u001b[0m \u001b[0ma\u001b[0m\u001b[1;33m==\u001b[0m\u001b[0mc\u001b[0m\u001b[1;33m[\u001b[0m\u001b[1;33m:\u001b[0m\u001b[0mlen\u001b[0m\u001b[1;33m(\u001b[0m\u001b[0ma\u001b[0m\u001b[1;33m)\u001b[0m\u001b[1;33m]\u001b[0m\u001b[1;33m:\u001b[0m\u001b[1;33m\u001b[0m\u001b[1;33m\u001b[0m\u001b[0m\n\u001b[1;32m---> 12\u001b[1;33m             \u001b[0mrecur\u001b[0m\u001b[1;33m(\u001b[0m\u001b[0ma\u001b[0m\u001b[1;33m[\u001b[0m\u001b[0mlen\u001b[0m\u001b[1;33m(\u001b[0m\u001b[0ma\u001b[0m\u001b[1;33m)\u001b[0m\u001b[1;33m:\u001b[0m\u001b[1;33m]\u001b[0m\u001b[1;33m,\u001b[0m \u001b[0mb\u001b[0m\u001b[1;33m,\u001b[0m \u001b[0mc\u001b[0m\u001b[1;33m[\u001b[0m\u001b[0mlen\u001b[0m\u001b[1;33m(\u001b[0m\u001b[0ma\u001b[0m\u001b[1;33m)\u001b[0m\u001b[1;33m:\u001b[0m\u001b[1;33m]\u001b[0m\u001b[1;33m)\u001b[0m\u001b[1;33m\u001b[0m\u001b[1;33m\u001b[0m\u001b[0m\n\u001b[0m\u001b[0;32m     13\u001b[0m         \u001b[1;32mfor\u001b[0m \u001b[0mi\u001b[0m \u001b[1;32min\u001b[0m \u001b[0mrange\u001b[0m\u001b[1;33m(\u001b[0m\u001b[0mlen\u001b[0m\u001b[1;33m(\u001b[0m\u001b[0ma\u001b[0m\u001b[1;33m)\u001b[0m\u001b[1;33m)\u001b[0m\u001b[1;33m:\u001b[0m\u001b[1;33m\u001b[0m\u001b[1;33m\u001b[0m\u001b[0m\n\u001b[0;32m     14\u001b[0m             \u001b[1;32mif\u001b[0m \u001b[0ma\u001b[0m\u001b[1;33m[\u001b[0m\u001b[0mi\u001b[0m\u001b[1;33m]\u001b[0m\u001b[1;33m==\u001b[0m\u001b[0mc\u001b[0m\u001b[1;33m[\u001b[0m\u001b[0mi\u001b[0m\u001b[1;33m]\u001b[0m\u001b[1;33m:\u001b[0m\u001b[1;33m\u001b[0m\u001b[1;33m\u001b[0m\u001b[0m\n",
      "\u001b[1;32m<ipython-input-33-f4b07f766b92>\u001b[0m in \u001b[0;36mrecur\u001b[1;34m(a, b, c)\u001b[0m\n\u001b[0;32m     23\u001b[0m                 \u001b[1;32mcontinue\u001b[0m\u001b[1;33m\u001b[0m\u001b[1;33m\u001b[0m\u001b[0m\n\u001b[0;32m     24\u001b[0m             \u001b[1;32mbreak\u001b[0m\u001b[1;33m\u001b[0m\u001b[1;33m\u001b[0m\u001b[0m\n\u001b[1;32m---> 25\u001b[1;33m         \u001b[0mrecur\u001b[0m\u001b[1;33m(\u001b[0m\u001b[0ma\u001b[0m\u001b[1;33m,\u001b[0m \u001b[0mb\u001b[0m\u001b[1;33m[\u001b[0m\u001b[0mi\u001b[0m\u001b[1;33m:\u001b[0m\u001b[1;33m]\u001b[0m\u001b[1;33m,\u001b[0m \u001b[0mc\u001b[0m\u001b[1;33m[\u001b[0m\u001b[0mi\u001b[0m\u001b[1;33m:\u001b[0m\u001b[1;33m]\u001b[0m\u001b[1;33m)\u001b[0m\u001b[1;33m\u001b[0m\u001b[1;33m\u001b[0m\u001b[0m\n\u001b[0m\u001b[0;32m     26\u001b[0m     \u001b[1;32melse\u001b[0m\u001b[1;33m:\u001b[0m\u001b[1;33m\u001b[0m\u001b[1;33m\u001b[0m\u001b[0m\n\u001b[0;32m     27\u001b[0m         \u001b[0mprint\u001b[0m\u001b[1;33m(\u001b[0m\u001b[0ma\u001b[0m\u001b[1;33m,\u001b[0m\u001b[0mb\u001b[0m\u001b[1;33m,\u001b[0m\u001b[0mc\u001b[0m \u001b[1;33m)\u001b[0m\u001b[1;33m\u001b[0m\u001b[1;33m\u001b[0m\u001b[0m\n",
      "... last 1 frames repeated, from the frame below ...\n",
      "\u001b[1;32m<ipython-input-33-f4b07f766b92>\u001b[0m in \u001b[0;36mrecur\u001b[1;34m(a, b, c)\u001b[0m\n\u001b[0;32m     23\u001b[0m                 \u001b[1;32mcontinue\u001b[0m\u001b[1;33m\u001b[0m\u001b[1;33m\u001b[0m\u001b[0m\n\u001b[0;32m     24\u001b[0m             \u001b[1;32mbreak\u001b[0m\u001b[1;33m\u001b[0m\u001b[1;33m\u001b[0m\u001b[0m\n\u001b[1;32m---> 25\u001b[1;33m         \u001b[0mrecur\u001b[0m\u001b[1;33m(\u001b[0m\u001b[0ma\u001b[0m\u001b[1;33m,\u001b[0m \u001b[0mb\u001b[0m\u001b[1;33m[\u001b[0m\u001b[0mi\u001b[0m\u001b[1;33m:\u001b[0m\u001b[1;33m]\u001b[0m\u001b[1;33m,\u001b[0m \u001b[0mc\u001b[0m\u001b[1;33m[\u001b[0m\u001b[0mi\u001b[0m\u001b[1;33m:\u001b[0m\u001b[1;33m]\u001b[0m\u001b[1;33m)\u001b[0m\u001b[1;33m\u001b[0m\u001b[1;33m\u001b[0m\u001b[0m\n\u001b[0m\u001b[0;32m     26\u001b[0m     \u001b[1;32melse\u001b[0m\u001b[1;33m:\u001b[0m\u001b[1;33m\u001b[0m\u001b[1;33m\u001b[0m\u001b[0m\n\u001b[0;32m     27\u001b[0m         \u001b[0mprint\u001b[0m\u001b[1;33m(\u001b[0m\u001b[0ma\u001b[0m\u001b[1;33m,\u001b[0m\u001b[0mb\u001b[0m\u001b[1;33m,\u001b[0m\u001b[0mc\u001b[0m \u001b[1;33m)\u001b[0m\u001b[1;33m\u001b[0m\u001b[1;33m\u001b[0m\u001b[0m\n",
      "\u001b[1;31mRecursionError\u001b[0m: maximum recursion depth exceeded while calling a Python object"
     ]
    }
   ],
   "source": [
    "a = \"algoexpert\"\n",
    "b = \"your-dream-job\"\n",
    "c =\"your-algodream-expertjob\"\n",
    "def recur(a, b, c):\n",
    "    print(a,b,c)\n",
    "    if len(a)==0 and len(b)==0 and len(c)==0:\n",
    "        ans=True\n",
    "        return\n",
    "    \n",
    "    if a and a[0]==c[0]:\n",
    "        if a==c[:len(a)]:\n",
    "            recur(a[len(a):], b, c[len(a):])\n",
    "        for i in range(len(a)):\n",
    "            if a[i]==c[i]:\n",
    "                continue\n",
    "            break\n",
    "        recur(a[i:], b, c[i:])\n",
    "    elif b and b[0]==c[0]:\n",
    "        if b==c[:len(b)]:\n",
    "            recur(a, b[len(b):], c[len(b):])\n",
    "        for i in range(len(b)):\n",
    "            if b[i]==c[i]:\n",
    "                continue\n",
    "            break\n",
    "        recur(a, b[i:], c[i:])\n",
    "    else:\n",
    "        print(a,b,c )\n",
    "res = False\n",
    "recur(a,b,c)\n",
    "res"
   ]
  },
  {
   "cell_type": "code",
   "execution_count": null,
   "metadata": {},
   "outputs": [],
   "source": []
  }
 ],
 "metadata": {
  "kernelspec": {
   "display_name": "Python 3",
   "language": "python",
   "name": "python3"
  },
  "language_info": {
   "codemirror_mode": {
    "name": "ipython",
    "version": 3
   },
   "file_extension": ".py",
   "mimetype": "text/x-python",
   "name": "python",
   "nbconvert_exporter": "python",
   "pygments_lexer": "ipython3",
   "version": "3.8.5"
  }
 },
 "nbformat": 4,
 "nbformat_minor": 4
}
